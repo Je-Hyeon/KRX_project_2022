{
 "cells": [
  {
   "attachments": {},
   "cell_type": "markdown",
   "metadata": {},
   "source": [
    "# 라이브러리를 사용해서 클러스터링을 해보자\n",
    "\n",
    "read_data_from_folder"
   ]
  },
  {
   "cell_type": "code",
   "execution_count": 1,
   "metadata": {},
   "outputs": [],
   "source": [
    "import os\n",
    "import numpy as np\n",
    "import pandas as pd \n",
    "from krx_fr.preprocess import tools, scaler\n",
    "from krx_fr.cluster.kmeans import MyKmeans"
   ]
  },
  {
   "cell_type": "code",
   "execution_count": 2,
   "metadata": {},
   "outputs": [],
   "source": [
    "kind_data = tools.read_data_from_folder(\"C:\\\\Jehyeon\\\\2022_Winter_KRX프로젝트\\\\Code\\\\Use_data\\\\KIND\\\\\")\n",
    "financial_data = tools.read_data_from_folder(\"C:\\\\Jehyeon\\\\2022_Winter_KRX프로젝트\\\\Code\\\\Use_data\\\\재무\\\\\")\n",
    "\n",
    "kind_data = tools.dict_data_preprocess(kind_data, function=np.sum, window_size='Y',fillna=True)\n",
    "financial_data = tools.dict_data_preprocess(financial_data, function=np.mean, window_size='Y',fillna=False)"
   ]
  },
  {
   "cell_type": "code",
   "execution_count": 3,
   "metadata": {},
   "outputs": [
    {
     "name": "stdout",
     "output_type": "stream",
     "text": [
      "21\n"
     ]
    },
    {
     "data": {
      "text/plain": [
       "Index(['BW금액_전체시장', 'CB금액_전체시장', '불성실공시법인지정카운트_전체시장', '상호변경카운트_전체시장',\n",
       "       '업종변경카운트_전체시장', '자기주식처분결정금액_전체시장', '조회공시요구카운트_전체시장', '최대주주변경카운트_전체시장',\n",
       "       '타법인주식및출자증권취득결정금액_전체시장', '투자주의카운트_전체시장', '투자환기종목지정카운트_전체시장',\n",
       "       '특수관계인에대한자금대여금액_전체시장', '당기순이익', '매출채권', '매출총이익', '영업이익', '영업현금흐름',\n",
       "       '차입금의존도', '총자본', '최대주주비율', '판매 및 관리비'],\n",
       "      dtype='object')"
      ]
     },
     "execution_count": 3,
     "metadata": {},
     "output_type": "execute_result"
    }
   ],
   "source": [
    "concat_data = tools.dict_data_concat(kind_data,financial_data, dropna=False)\n",
    "\n",
    "print(len(concat_data[\"2012-01-01\"].columns))\n",
    "concat_data[\"2012-01-01\"].columns"
   ]
  },
  {
   "cell_type": "code",
   "execution_count": 4,
   "metadata": {},
   "outputs": [
    {
     "data": {
      "text/plain": [
       "Index(['BW금액_전체시장+CB금액_전체시장', '불성실공시법인지정카운트_전체시장', '상호변경카운트_전체시장',\n",
       "       '업종변경카운트_전체시장', '자기주식처분결정금액_전체시장', '조회공시요구카운트_전체시장', '최대주주변경카운트_전체시장',\n",
       "       '타법인주식및출자증권취득결정금액_전체시장', '투자주의카운트_전체시장', '투자환기종목지정카운트_전체시장',\n",
       "       '특수관계인에대한자금대여금액_전체시장', '당기순이익', '매출채권', '매출총이익', '영업이익', '영업현금흐름',\n",
       "       '차입금의존도', '총자본', '최대주주비율', '판매 및 관리비'],\n",
       "      dtype='object')"
      ]
     },
     "execution_count": 4,
     "metadata": {},
     "output_type": "execute_result"
    }
   ],
   "source": [
    "plus_data = tools.dict_data_plus(concat_data, plus_one=\"BW금액_전체시장\",plus_two=\"CB금액_전체시장\", return_origianl=False)\n",
    "\n",
    "plus_data[\"2012-01-01\"].columns"
   ]
  },
  {
   "cell_type": "code",
   "execution_count": 5,
   "metadata": {},
   "outputs": [
    {
     "data": {
      "text/plain": [
       "Index(['상호변경카운트_전체시장+업종변경카운트_전체시장', 'BW금액_전체시장+CB금액_전체시장', '불성실공시법인지정카운트_전체시장',\n",
       "       '자기주식처분결정금액_전체시장', '조회공시요구카운트_전체시장', '최대주주변경카운트_전체시장',\n",
       "       '타법인주식및출자증권취득결정금액_전체시장', '투자주의카운트_전체시장', '투자환기종목지정카운트_전체시장',\n",
       "       '특수관계인에대한자금대여금액_전체시장', '당기순이익', '매출채권', '매출총이익', '영업이익', '영업현금흐름',\n",
       "       '차입금의존도', '총자본', '최대주주비율', '판매 및 관리비'],\n",
       "      dtype='object')"
      ]
     },
     "execution_count": 5,
     "metadata": {},
     "output_type": "execute_result"
    }
   ],
   "source": [
    "plus_data2 = tools.dict_data_plus(plus_data, plus_one=\"상호변경카운트_전체시장\",plus_two=\"업종변경카운트_전체시장\", return_origianl=False)\n",
    "plus_data2[\"2012-01-01\"].columns"
   ]
  },
  {
   "cell_type": "code",
   "execution_count": 6,
   "metadata": {},
   "outputs": [
    {
     "data": {
      "text/plain": [
       "Index(['타법인주식및출자증권취득결정금액_전체시장+특수관계인에대한자금대여금액_전체시장',\n",
       "       '상호변경카운트_전체시장+업종변경카운트_전체시장', 'BW금액_전체시장+CB금액_전체시장', '불성실공시법인지정카운트_전체시장',\n",
       "       '자기주식처분결정금액_전체시장', '조회공시요구카운트_전체시장', '최대주주변경카운트_전체시장', '투자주의카운트_전체시장',\n",
       "       '투자환기종목지정카운트_전체시장', '당기순이익', '매출채권', '매출총이익', '영업이익', '영업현금흐름',\n",
       "       '차입금의존도', '총자본', '최대주주비율', '판매 및 관리비'],\n",
       "      dtype='object')"
      ]
     },
     "execution_count": 6,
     "metadata": {},
     "output_type": "execute_result"
    }
   ],
   "source": [
    "plus_data3 = tools.dict_data_plus(plus_data2, plus_one=\"타법인주식및출자증권취득결정금액_전체시장\",plus_two=\"특수관계인에대한자금대여금액_전체시장\", return_origianl=False)\n",
    "plus_data3[\"2012-01-01\"].columns"
   ]
  },
  {
   "cell_type": "code",
   "execution_count": 7,
   "metadata": {},
   "outputs": [
    {
     "data": {
      "text/plain": [
       "Index(['투자환기종목지정카운트_전체시장+투자주의카운트_전체시장',\n",
       "       '타법인주식및출자증권취득결정금액_전체시장+특수관계인에대한자금대여금액_전체시장',\n",
       "       '상호변경카운트_전체시장+업종변경카운트_전체시장', 'BW금액_전체시장+CB금액_전체시장', '불성실공시법인지정카운트_전체시장',\n",
       "       '자기주식처분결정금액_전체시장', '조회공시요구카운트_전체시장', '최대주주변경카운트_전체시장', '당기순이익', '매출채권',\n",
       "       '매출총이익', '영업이익', '영업현금흐름', '차입금의존도', '총자본', '최대주주비율', '판매 및 관리비'],\n",
       "      dtype='object')"
      ]
     },
     "execution_count": 7,
     "metadata": {},
     "output_type": "execute_result"
    }
   ],
   "source": [
    "plus_data4 = tools.dict_data_plus(plus_data3, plus_one=\"투자환기종목지정카운트_전체시장\",plus_two=\"투자주의카운트_전체시장\", return_origianl=False)\n",
    "plus_data4[\"2012-01-01\"].columns"
   ]
  },
  {
   "cell_type": "code",
   "execution_count": 8,
   "metadata": {},
   "outputs": [
    {
     "data": {
      "text/plain": [
       "Index(['조회공시요구카운트_전체시장+최대주주변경카운트_전체시장',\n",
       "       '타법인주식및출자증권취득결정금액_전체시장+특수관계인에대한자금대여금액_전체시장',\n",
       "       '상호변경카운트_전체시장+업종변경카운트_전체시장', 'BW금액_전체시장+CB금액_전체시장', '불성실공시법인지정카운트_전체시장',\n",
       "       '자기주식처분결정금액_전체시장', '투자주의카운트_전체시장', '투자환기종목지정카운트_전체시장', '당기순이익', '매출채권',\n",
       "       '매출총이익', '영업이익', '영업현금흐름', '차입금의존도', '총자본', '최대주주비율', '판매 및 관리비'],\n",
       "      dtype='object')"
      ]
     },
     "execution_count": 8,
     "metadata": {},
     "output_type": "execute_result"
    }
   ],
   "source": [
    "plus_data4 = tools.dict_data_plus(plus_data3, plus_one=\"조회공시요구카운트_전체시장\",plus_two=\"최대주주변경카운트_전체시장\", return_origianl=False)\n",
    "plus_data4[\"2012-01-01\"].columns"
   ]
  },
  {
   "cell_type": "code",
   "execution_count": 9,
   "metadata": {},
   "outputs": [
    {
     "name": "stdout",
     "output_type": "stream",
     "text": [
      "16\n"
     ]
    },
    {
     "data": {
      "text/plain": [
       "Index(['타법인주식및출자증권취득결정금액_전체시장+특수관계인에대한자금대여금액_전체시장/총자본',\n",
       "       'BW금액_전체시장+CB금액_전체시장/총자본', '자기주식처분결정금액_전체시장/총자본', '당기순이익/총자본',\n",
       "       '매출채권/총자본', '매출총이익/총자본', '영업이익/총자본', '영업현금흐름/총자본', '판매 및 관리비/총자본',\n",
       "       '조회공시요구카운트_전체시장+최대주주변경카운트_전체시장', '상호변경카운트_전체시장+업종변경카운트_전체시장',\n",
       "       '불성실공시법인지정카운트_전체시장', '투자주의카운트_전체시장', '투자환기종목지정카운트_전체시장', '차입금의존도',\n",
       "       '최대주주비율'],\n",
       "      dtype='object')"
      ]
     },
     "execution_count": 9,
     "metadata": {},
     "output_type": "execute_result"
    }
   ],
   "source": [
    "divide_data = tools.dict_data_divide(plus_data4,divide_what=[\"타법인주식및출자증권취득결정금액_전체시장+특수관계인에대한자금대여금액_전체시장\",\n",
    "                                                \"BW금액_전체시장+CB금액_전체시장\", \"자기주식처분결정금액_전체시장\",\"당기순이익\",\"매출채권\",\"매출총이익\",\n",
    "                                                \"영업이익\",\"영업현금흐름\",\"판매 및 관리비\"], divide_into=\"총자본\", return_origianl=False)\n",
    "print(len(divide_data[\"2012-01-01\"].columns))\n",
    "divide_data[\"2012-01-01\"].columns"
   ]
  },
  {
   "cell_type": "code",
   "execution_count": 10,
   "metadata": {},
   "outputs": [
    {
     "name": "stderr",
     "output_type": "stream",
     "text": [
      "c:\\Jehyeon\\2022_Winter_KRX프로젝트\\Code\\krx_fr\\preprocess\\scaler.py:13: RuntimeWarning: Mean of empty slice\n",
      "  result = np.apply_along_axis(lambda arr: (arr - np.nanmean(arr))/np.nanstd(arr), 1, df_value)\n",
      "c:\\Users\\user\\anaconda3\\lib\\site-packages\\numpy\\lib\\nanfunctions.py:1670: RuntimeWarning: Degrees of freedom <= 0 for slice.\n",
      "  var = nanvar(a, axis=axis, dtype=dtype, out=out, ddof=ddof,\n",
      "c:\\Jehyeon\\2022_Winter_KRX프로젝트\\Code\\krx_fr\\preprocess\\scaler.py:13: RuntimeWarning: invalid value encountered in true_divide\n",
      "  result = np.apply_along_axis(lambda arr: (arr - np.nanmean(arr))/np.nanstd(arr), 1, df_value)\n",
      "c:\\Jehyeon\\2022_Winter_KRX프로젝트\\Code\\krx_fr\\preprocess\\scaler.py:13: RuntimeWarning: invalid value encountered in subtract\n",
      "  result = np.apply_along_axis(lambda arr: (arr - np.nanmean(arr))/np.nanstd(arr), 1, df_value)\n",
      "c:\\Users\\user\\anaconda3\\lib\\site-packages\\numpy\\lib\\nanfunctions.py:1545: RuntimeWarning: invalid value encountered in subtract\n",
      "  np.subtract(arr, avg, out=arr, casting='unsafe')\n"
     ]
    }
   ],
   "source": [
    "scaled_data = tools.dict_data_scale(divide_data, scaler=scaler.zscore)\n",
    "drop_data = tools.dict_data_drop(scaled_data, dropna=True)"
   ]
  },
  {
   "cell_type": "code",
   "execution_count": 11,
   "metadata": {},
   "outputs": [
    {
     "data": {
      "text/plain": [
       "(2377, 16)"
      ]
     },
     "execution_count": 11,
     "metadata": {},
     "output_type": "execute_result"
    }
   ],
   "source": [
    "drop_data[\"2022-01-01\"].shape"
   ]
  },
  {
   "cell_type": "code",
   "execution_count": 12,
   "metadata": {},
   "outputs": [],
   "source": [
    "# 클러스터링 할 sample data 하나 생성\n",
    "sample_2022 = drop_data[\"2022-01-01\"]\n",
    "company = drop_data[\"2022-01-01\"].index.to_list()"
   ]
  },
  {
   "cell_type": "code",
   "execution_count": 13,
   "metadata": {},
   "outputs": [
    {
     "data": {
      "text/plain": [
       "2    823\n",
       "4    738\n",
       "0    378\n",
       "3    257\n",
       "1    181\n",
       "Name: 클러스터, dtype: int64"
      ]
     },
     "execution_count": 13,
     "metadata": {},
     "output_type": "execute_result"
    }
   ],
   "source": [
    "from sklearn.cluster import KMeans\n",
    "\n",
    "kmeans = KMeans(n_clusters=5, n_init=100, max_iter=10000)\n",
    "kmeans.fit(sample_2022)\n",
    "\n",
    "cluster_df = pd.DataFrame(data=np.c_[company,kmeans.labels_], columns=[\"기업공시코드\",\"클러스터\"])\n",
    "cluster_df[\"클러스터\"].value_counts()"
   ]
  },
  {
   "attachments": {},
   "cell_type": "markdown",
   "metadata": {},
   "source": [
    "거리요소로 분해하기 위해선 kmeans를 써주는 게 중요하다"
   ]
  },
  {
   "attachments": {},
   "cell_type": "markdown",
   "metadata": {},
   "source": [
    "## 클러스터링 라이브러리"
   ]
  },
  {
   "cell_type": "code",
   "execution_count": 17,
   "metadata": {},
   "outputs": [
    {
     "name": "stderr",
     "output_type": "stream",
     "text": [
      "100%|██████████| 20/20 [00:15<00:00,  1.32it/s]\n"
     ]
    },
    {
     "data": {
      "text/plain": [
       "{0: [0,\n",
       "  0.5518901302950544,\n",
       "  0.5888882711525222,\n",
       "  0.5618740790327029,\n",
       "  0.5418921404186987,\n",
       "  0.5311726927104595,\n",
       "  0.5485951410646267,\n",
       "  0.5162719741964659,\n",
       "  0.507300126076062,\n",
       "  0.5044632003649314],\n",
       " 1: [0,\n",
       "  0.5518901302950544,\n",
       "  0.5888882711525222,\n",
       "  0.5370445718340469,\n",
       "  0.573317799210901,\n",
       "  0.5573101373486369,\n",
       "  0.5293109387316581,\n",
       "  0.5105378840163827,\n",
       "  0.5123064944725721,\n",
       "  0.5050919004565142],\n",
       " 2: [0,\n",
       "  0.5518901302950544,\n",
       "  0.5888882711525222,\n",
       "  0.5618740790327029,\n",
       "  0.5732772709162091,\n",
       "  0.5573101373486369,\n",
       "  0.5287791931994238,\n",
       "  0.5183317895095423,\n",
       "  0.5046078167099174,\n",
       "  0.5046919381449974],\n",
       " 3: [0,\n",
       "  0.33065697632777435,\n",
       "  0.5888882711525222,\n",
       "  0.5618740790327029,\n",
       "  0.5418921404186987,\n",
       "  0.5307163450817598,\n",
       "  0.5265886555944703,\n",
       "  0.5199807741501105,\n",
       "  0.5024002588997707,\n",
       "  0.4859376020706227],\n",
       " 4: [0,\n",
       "  0.33060222591168376,\n",
       "  0.49808625013047875,\n",
       "  0.5618740790327029,\n",
       "  0.5403973140961191,\n",
       "  0.529092586678677,\n",
       "  0.5242187118496824,\n",
       "  0.5064444026432404,\n",
       "  0.4981475969014184,\n",
       "  0.4858880319743613],\n",
       " 5: [0,\n",
       "  0.5518901302950544,\n",
       "  0.4981324210545034,\n",
       "  0.5618740790327029,\n",
       "  0.5403973140961191,\n",
       "  0.5281804489160944,\n",
       "  0.49233022744337046,\n",
       "  0.5431470516767328,\n",
       "  0.5138803122093355,\n",
       "  0.5047181395843162],\n",
       " 6: [0,\n",
       "  0.5518901302950544,\n",
       "  0.4748190226203555,\n",
       "  0.5618740790327029,\n",
       "  0.5414166329631205,\n",
       "  0.5583692603028452,\n",
       "  0.5293109387316581,\n",
       "  0.5105378840163827,\n",
       "  0.499418890864993,\n",
       "  0.4995754413626263],\n",
       " 7: [0,\n",
       "  0.33060222591168376,\n",
       "  0.4981324210545034,\n",
       "  0.5618740790327029,\n",
       "  0.5404959182107522,\n",
       "  0.5045563018225839,\n",
       "  0.527269477524519,\n",
       "  0.51768753780565,\n",
       "  0.498275389313126,\n",
       "  0.48725826096190566],\n",
       " 8: [0,\n",
       "  0.5518901302950544,\n",
       "  0.4981324210545034,\n",
       "  0.5618740790327029,\n",
       "  0.5404959182107522,\n",
       "  0.5044649785539776,\n",
       "  0.4940423292774368,\n",
       "  0.5183610248808059,\n",
       "  0.5032711457564699,\n",
       "  0.48766756786561993],\n",
       " 9: [0,\n",
       "  0.5518901302950544,\n",
       "  0.4981324210545034,\n",
       "  0.5618740790327029,\n",
       "  0.5404959182107522,\n",
       "  0.528274885440505,\n",
       "  0.4924386585055386,\n",
       "  0.5175678543659366,\n",
       "  0.5024002588997707,\n",
       "  0.497926660197753],\n",
       " 10: [0,\n",
       "  0.33065697632777435,\n",
       "  0.49808625013047875,\n",
       "  0.5618265864152557,\n",
       "  0.5418921404186987,\n",
       "  0.5586382275424622,\n",
       "  0.5485951410646267,\n",
       "  0.4762745966033128,\n",
       "  0.4720626823590947,\n",
       "  0.4987431397326024],\n",
       " 11: [0,\n",
       "  0.33065697632777435,\n",
       "  0.49808625013047875,\n",
       "  0.5618265864152557,\n",
       "  0.5493564894863339,\n",
       "  0.528274885440505,\n",
       "  0.5252598500960205,\n",
       "  0.49165660171972153,\n",
       "  0.5153049610934227,\n",
       "  0.5032186908931554],\n",
       " 12: [0,\n",
       "  0.5518901302950544,\n",
       "  0.4981324210545034,\n",
       "  0.5618740790327029,\n",
       "  0.5732548888542539,\n",
       "  0.5586382275424622,\n",
       "  0.5575911014991488,\n",
       "  0.5064444026432404,\n",
       "  0.4981475969014184,\n",
       "  0.48746225082645467],\n",
       " 13: [0,\n",
       "  0.5518901302950544,\n",
       "  0.4981324210545034,\n",
       "  0.5618740790327029,\n",
       "  0.5404959182107522,\n",
       "  0.5284240767267321,\n",
       "  0.49334041366914577,\n",
       "  0.5160294633707266,\n",
       "  0.49534502062034896,\n",
       "  0.4953504810598109],\n",
       " 14: [0,\n",
       "  0.33065697632777435,\n",
       "  0.4981324210545034,\n",
       "  0.5618740790327029,\n",
       "  0.5404959182107522,\n",
       "  0.5078519272855637,\n",
       "  0.4957152777045134,\n",
       "  0.5181773677531007,\n",
       "  0.5184285865872004,\n",
       "  0.5172137834191245],\n",
       " 15: [0,\n",
       "  0.5518901302950544,\n",
       "  0.4981324210545034,\n",
       "  0.5618740790327029,\n",
       "  0.549404019820487,\n",
       "  0.5284240767267321,\n",
       "  0.5460614112752018,\n",
       "  0.515989194317741,\n",
       "  0.5145772833320492,\n",
       "  0.4953504810598109],\n",
       " 16: [0,\n",
       "  0.5518901302950544,\n",
       "  0.4981324210545034,\n",
       "  0.5618265864152557,\n",
       "  0.5404959182107522,\n",
       "  0.528274885440505,\n",
       "  0.5460938075797382,\n",
       "  0.49343486170434797,\n",
       "  0.5162957440539847,\n",
       "  0.4987431397326024],\n",
       " 17: [0,\n",
       "  0.5518901302950544,\n",
       "  0.4981324210545034,\n",
       "  0.5618740790327029,\n",
       "  0.5418921404186987,\n",
       "  0.5298082655395528,\n",
       "  0.49233022744337046,\n",
       "  0.5064444026432404,\n",
       "  0.4981475969014184,\n",
       "  0.5040018216783585],\n",
       " 18: [0,\n",
       "  0.5518901302950544,\n",
       "  0.4981324210545034,\n",
       "  0.5618740790327029,\n",
       "  0.5404959182107522,\n",
       "  0.5045733384153412,\n",
       "  0.4924386585055386,\n",
       "  0.5160294633707266,\n",
       "  0.5145289056862242,\n",
       "  0.5180532197746311],\n",
       " 19: [0,\n",
       "  0.5518901302950544,\n",
       "  0.4981324210545034,\n",
       "  0.5618265864152557,\n",
       "  0.5404959182107522,\n",
       "  0.5284240767267321,\n",
       "  0.49334041366914577,\n",
       "  0.5064444026432404,\n",
       "  0.4981475969014184,\n",
       "  0.48547299084550244]}"
      ]
     },
     "execution_count": 17,
     "metadata": {},
     "output_type": "execute_result"
    }
   ],
   "source": [
    "cluster_model = MyKmeans(sample_2022)\n",
    "cluster_model.set_params()\n",
    "cluster_model.find_optimal_k(max_k=10, max_sample=20, optimize_method=\"silhouette\")\n",
    "#cluster_model.run_kmean(5,)\n",
    "#cluster_model."
   ]
  },
  {
   "cell_type": "code",
   "execution_count": null,
   "metadata": {},
   "outputs": [
    {
     "name": "stderr",
     "output_type": "stream",
     "text": [
      "100%|██████████| 20/20 [00:01<00:00, 12.04it/s]\n"
     ]
    },
    {
     "data": {
      "text/plain": [
       "{0: 0.5418921404186987,\n",
       " 1: 0.573317799210901,\n",
       " 2: 0.5732772709162091,\n",
       " 3: 0.5418921404186987,\n",
       " 4: 0.5403973140961191,\n",
       " 5: 0.5403973140961191,\n",
       " 6: 0.5414166329631205,\n",
       " 7: 0.5404959182107522,\n",
       " 8: 0.5404959182107522,\n",
       " 9: 0.5404959182107522,\n",
       " 10: 0.5418921404186987,\n",
       " 11: 0.5493564894863339,\n",
       " 12: 0.5732548888542539,\n",
       " 13: 0.5404959182107522,\n",
       " 14: 0.5404959182107522,\n",
       " 15: 0.549404019820487,\n",
       " 16: 0.5404959182107522,\n",
       " 17: 0.5418921404186987,\n",
       " 18: 0.5404959182107522,\n",
       " 19: 0.5404959182107522}"
      ]
     },
     "execution_count": 36,
     "metadata": {},
     "output_type": "execute_result"
    }
   ],
   "source": [
    "cluster_model.find_optimal_initp(5,20, \"silhouette\")"
   ]
  },
  {
   "cell_type": "code",
   "execution_count": null,
   "metadata": {},
   "outputs": [],
   "source": []
  },
  {
   "cell_type": "code",
   "execution_count": null,
   "metadata": {},
   "outputs": [
    {
     "name": "stdout",
     "output_type": "stream",
     "text": [
      "[0.         0.48551471 0.515111   0.56062311 0.54661788 0.53153899\n",
      " 0.51918253 0.51128965 0.50414971 0.49834144]\n",
      "최고 점수의 인덱스는:  3\n"
     ]
    }
   ],
   "source": [
    "for i, score_list in dict_sil.items():\n",
    "    if i == 0:\n",
    "        start_ar = np.array(score_list)\n",
    "    elif i ==1:\n",
    "        concat_ar = np.c_[start_ar, score_list]\n",
    "    else:\n",
    "        concat_ar = np.c_[concat_ar,score_list]\n",
    "\n",
    "mean_ar = concat_ar.mean(axis=1)\n",
    "print(mean_ar)\n",
    "print(\"최고 점수의 인덱스는: \", mean_ar.argmax())"
   ]
  },
  {
   "cell_type": "code",
   "execution_count": null,
   "metadata": {},
   "outputs": [
    {
     "data": {
      "text/plain": [
       "[0,\n",
       " 0.5518901302950544,\n",
       " 0.5888882711525222,\n",
       " 0.5370445718340469,\n",
       " 0.573317799210901,\n",
       " 0.5573101373486369,\n",
       " 0.5293109387316581,\n",
       " 0.5105378840163827,\n",
       " 0.5123064944725721,\n",
       " 0.5050919004565142]"
      ]
     },
     "execution_count": 22,
     "metadata": {},
     "output_type": "execute_result"
    }
   ],
   "source": [
    "for i, score in dict_sil.items():\n",
    "    ar = np.array(score)\n",
    "    print(\"{}번째 최대값의 인덱스는 \")"
   ]
  },
  {
   "cell_type": "code",
   "execution_count": null,
   "metadata": {},
   "outputs": [],
   "source": []
  },
  {
   "cell_type": "code",
   "execution_count": null,
   "metadata": {},
   "outputs": [],
   "source": [
    "test = MyKmeans.distance_decomposition(kmeans)"
   ]
  },
  {
   "cell_type": "code",
   "execution_count": null,
   "metadata": {},
   "outputs": [
    {
     "data": {
      "text/plain": [
       "[0.6668528410397786,\n",
       " 0.0008690480988289008,\n",
       " 6.673538921012515e-05,\n",
       " 1.2994694344781883e-06,\n",
       " 3.296120591985147e-05,\n",
       " 6.590893668155292e-06,\n",
       " 1.8312188375844254e-06,\n",
       " 1.7630444151529172e-06,\n",
       " 6.821542310798444e-06,\n",
       " 4.4774230437950196e-06,\n",
       " 2.561066364851693e-06,\n",
       " 1.5368876639715797e-06,\n",
       " 1.5078327512786041e-05,\n",
       " 4.431034598799839e-06,\n",
       " 0.13871026077989826,\n",
       " 0.19342176257851362]"
      ]
     },
     "execution_count": 17,
     "metadata": {},
     "output_type": "execute_result"
    }
   ],
   "source": [
    "test[0][1]"
   ]
  },
  {
   "cell_type": "code",
   "execution_count": null,
   "metadata": {},
   "outputs": [],
   "source": [
    "MyKmeans.visualize(sample_2022,kmeans)"
   ]
  },
  {
   "cell_type": "code",
   "execution_count": null,
   "metadata": {},
   "outputs": [
    {
     "data": {
      "text/plain": [
       "0    682\n",
       "2    641\n",
       "4    586\n",
       "3    263\n",
       "1    205\n",
       "Name: 클러스터, dtype: int64"
      ]
     },
     "execution_count": 15,
     "metadata": {},
     "output_type": "execute_result"
    }
   ],
   "source": [
    "# 클러스터링을 해보자\n",
    "from sklearn.cluster import AgglomerativeClustering\n",
    "\n",
    "agg = AgglomerativeClustering(n_clusters=5)\n",
    "agg.fit(sample_2022)\n",
    "\n",
    "clus = pd.DataFrame(np.c_[company,agg.labels_], columns= [\"기업공시코드\",\"클러스터\"])\n",
    "clus[\"클러스터\"].value_counts()"
   ]
  },
  {
   "cell_type": "code",
   "execution_count": null,
   "metadata": {},
   "outputs": [
    {
     "data": {
      "text/plain": [
       "0    823\n",
       "4    738\n",
       "1    378\n",
       "3    257\n",
       "2    181\n",
       "Name: 클러스터, dtype: int64"
      ]
     },
     "execution_count": 16,
     "metadata": {},
     "output_type": "execute_result"
    }
   ],
   "source": [
    "from sklearn.cluster import KMeans\n",
    "\n",
    "kmeans = KMeans(n_clusters=5, n_init=100, max_iter=10000)\n",
    "kmeans.fit(sample_2022)\n",
    "\n",
    "cluster_df = pd.DataFrame(data=np.c_[company,kmeans.labels_], columns=[\"기업공시코드\",\"클러스터\"])\n",
    "cluster_df[\"클러스터\"].value_counts()"
   ]
  },
  {
   "cell_type": "code",
   "execution_count": null,
   "metadata": {},
   "outputs": [
    {
     "data": {
      "text/plain": [
       "0     1805\n",
       "-1     336\n",
       "1      126\n",
       "2      110\n",
       "Name: 클러스터, dtype: int64"
      ]
     },
     "execution_count": 17,
     "metadata": {},
     "output_type": "execute_result"
    }
   ],
   "source": [
    "from sklearn.cluster import DBSCAN\n",
    "\n",
    "db = DBSCAN(min_samples=40, n_jobs=-1)\n",
    "db.fit(sample_2022)\n",
    "\n",
    "label_db = db.labels_\n",
    "cluster_db = pd.DataFrame(data=np.c_[company, label_db], columns=[\"기업공시코드\",\"클러스터\"])\n",
    "cluster_db[\"클러스터\"].value_counts()"
   ]
  },
  {
   "cell_type": "code",
   "execution_count": null,
   "metadata": {},
   "outputs": [],
   "source": []
  }
 ],
 "metadata": {
  "kernelspec": {
   "display_name": "base",
   "language": "python",
   "name": "python3"
  },
  "language_info": {
   "codemirror_mode": {
    "name": "ipython",
    "version": 3
   },
   "file_extension": ".py",
   "mimetype": "text/x-python",
   "name": "python",
   "nbconvert_exporter": "python",
   "pygments_lexer": "ipython3",
   "version": "3.9.12 (main, Apr  4 2022, 05:22:27) [MSC v.1916 64 bit (AMD64)]"
  },
  "orig_nbformat": 4,
  "vscode": {
   "interpreter": {
    "hash": "a077222d77dfe082b8f1dd562ad70e458ac2ab76993a0b248ab0476e32e9e8dd"
   }
  }
 },
 "nbformat": 4,
 "nbformat_minor": 2
}
