{
 "cells": [
  {
   "cell_type": "code",
   "execution_count": 1,
   "metadata": {},
   "outputs": [],
   "source": [
    "import os\n",
    "import numpy as np\n",
    "import pandas as pd \n",
    "from krx_fr.preprocess import tools, scaler\n",
    "from krx_fr.cluster import evaluate\n",
    "from krx_fr.cluster.optimize import Optimizer\n",
    "from krx_fr.cluster.kmeans import MyKmeans"
   ]
  },
  {
   "cell_type": "code",
   "execution_count": 2,
   "metadata": {},
   "outputs": [
    {
     "data": {
      "text/plain": [
       "'6호모델_Q_k3'"
      ]
     },
     "execution_count": 2,
     "metadata": {},
     "output_type": "execute_result"
    }
   ],
   "source": [
    "model = \"6호모델\"\n",
    "\n",
    "# 윈도우는 Y로 고정\n",
    "window_size = \"Y\"\n",
    "\n",
    "# 어떻게 윈도우를 밀건지\n",
    "freq = \"Q\"\n",
    "\n",
    "# 클러스터 수\n",
    "num_k = 3\n",
    "\n",
    "# 사용할 스케일러\n",
    "sca = scaler.new_rank\n",
    "sc = \"new_rank\"\n",
    "\n",
    "kospi_listed = tools.load_json(\"..\\\\final_data\\\\코스피_구성종목.json\")\n",
    "kosdaq_listed = tools.load_json(\"..\\\\final_data\\\\코스닥_구성종목.json\")\n",
    "together_listed = tools.aggregate_listed_code(kospi_listed, kosdaq_listed)\n",
    "\n",
    "# 모델명\n",
    "model_name = \"{}_{}_k{}\".format(model, freq, num_k)\n",
    "model_name"
   ]
  },
  {
   "cell_type": "code",
   "execution_count": 3,
   "metadata": {},
   "outputs": [],
   "source": [
    "# 퐅더에서 row_data 불러오기\n",
    "kind_data = tools.read_data_from_folder(\"C:\\\\Jehyeon\\\\2022_Winter_KRX\\\\KRX\\\\final_data\\\\KIND\\\\\")\n",
    "financial_data = tools.read_data_from_folder(\"C:\\\\Jehyeon\\\\2022_Winter_KRX\\\\KRX\\\\final_data\\\\재무\\\\\")\n",
    "\n",
    "# 최대주주비율은 1달 단위의 pct_change\n",
    "financial_data2 = tools.dict_data_calculate_pct(financial_data.copy(), name=\"최대주주비율\", return_original=True)\n",
    "\n",
    "# label_data 불러오기\n",
    "label_data_war = pd.read_csv(\"C:\\\\Jehyeon\\\\2022_Winter_KRX\\\\KRX\\\\final_data\\\\label\\\\투자주의환기종목지정카운트.csv\", index_col=0)\n",
    "label_data_man= pd.read_csv(\"C:\\\\Jehyeon\\\\2022_Winter_KRX\\\\KRX\\\\final_data\\\\label\\\\관리종목카운트.csv\", index_col=0)\n",
    "label_data_emb = pd.read_csv(\"C:\\\\Jehyeon\\\\2022_Winter_KRX\\\\KRX\\\\final_data\\\\label\\\\횡령배임혐의발생카운트.csv\", index_col=0)"
   ]
  },
  {
   "cell_type": "code",
   "execution_count": 4,
   "metadata": {},
   "outputs": [],
   "source": [
    "financial_data2[\"결산기간_주가변동률\"] = financial_data2[\"결산기간_주가변동률\"].fillna(0)"
   ]
  },
  {
   "cell_type": "code",
   "execution_count": 5,
   "metadata": {},
   "outputs": [],
   "source": [
    "# 레이블 데이터 shift시켜주기\n",
    "label_data_man_shift = tools.shift_label_data(label_data_man.copy(),shift_size='Y')\n",
    "label_data_war_shift = tools.shift_label_data(label_data_war.copy(),shift_size='Y')\n",
    "label_data_emb_shift = tools.shift_label_data(label_data_emb.copy(),shift_size='Y')\n",
    "\n",
    "label_data_pp1 = tools.dict_data_preprocess_upgrade(label_data_man_shift.copy(), np.sum, \"Y\", rolling_size=freq)\n",
    "label_data_pp_man = tools.dict_data_scale(label_data_pp1.copy(), scaler.zero_one)\n",
    "\n",
    "label_data_pp2 = tools.dict_data_preprocess_upgrade(label_data_war_shift.copy(), np.sum, \"Y\", rolling_size=freq)\n",
    "label_data_pp_war = tools.dict_data_scale(label_data_pp2.copy(), scaler.zero_one)\n",
    "\n",
    "label_data_pp3 = tools.dict_data_preprocess_upgrade(label_data_emb_shift.copy(), np.sum, \"Y\", rolling_size=freq)\n",
    "label_data_pp_emb = tools.dict_data_scale(label_data_pp3.copy(), scaler.zero_one)"
   ]
  },
  {
   "cell_type": "code",
   "execution_count": 6,
   "metadata": {},
   "outputs": [],
   "source": [
    "# 데이터처리 sum / mean\n",
    "kind_data2 = tools.dict_data_preprocess_upgrade(kind_data.copy(), function=np.sum, window_size=window_size,rolling_size=freq, fillna=True)\n",
    "financial_data3 = tools.dict_data_preprocess_upgrade(financial_data2.copy(), function=np.mean, window_size=window_size, rolling_size=freq,fillna=False)"
   ]
  },
  {
   "cell_type": "code",
   "execution_count": 7,
   "metadata": {},
   "outputs": [],
   "source": [
    "# 재무데이터와 공시데이터 합치기\n",
    "concat_data = tools.dict_data_merge(kind_data2.copy(),financial_data3.copy(), dropna=False)"
   ]
  },
  {
   "cell_type": "code",
   "execution_count": 8,
   "metadata": {},
   "outputs": [],
   "source": [
    "list_data = tools.dict_data_match_listed_upgrade(concat_data.copy(), together_listed.copy(), rolling_size=freq)"
   ]
  },
  {
   "cell_type": "code",
   "execution_count": 9,
   "metadata": {},
   "outputs": [
    {
     "data": {
      "text/plain": [
       "Index(['BW금액+CB금액', '경영권분쟁소송', '불성실공시법인지정카운트', '상호변경카운트', '업종변경카운트', '유상증자금액',\n",
       "       '조회공시요구카운트', '최대주주변경을수반하는주식담보제공금액', '최대주주변경을수반하는주식양수도금액', '최대주주변경카운트',\n",
       "       '타법인주식및출자증권취득결정금액', '특수관계인에대한자금대여금액', '결산기간_거래량증가', '결산기간_주가변동률',\n",
       "       '당기순이익', '매출채권', '매출총이익', '영업이익', '영업현금흐름', '차입금의존도', '총자본', '최대주주비율',\n",
       "       '판매 및 관리비', '최대주주비율_변동성'],\n",
       "      dtype='object')"
      ]
     },
     "execution_count": 9,
     "metadata": {},
     "output_type": "execute_result"
    }
   ],
   "source": [
    "# 컬럼을 더할 경우\n",
    "concat_together1 = tools.dict_data_plus(list_data.copy(),\n",
    "                                  plus_one=\"BW금액\"\n",
    "                                 ,plus_two=\"CB금액\", return_origianl=False)\n",
    "\n",
    "#\n",
    "concat_together1[\"2012-01\"].columns"
   ]
  },
  {
   "cell_type": "code",
   "execution_count": 10,
   "metadata": {},
   "outputs": [
    {
     "data": {
      "text/plain": [
       "Index(['BW금액+CB금액+유상증자금액', '경영권분쟁소송', '불성실공시법인지정카운트', '상호변경카운트', '업종변경카운트',\n",
       "       '조회공시요구카운트', '최대주주변경을수반하는주식담보제공금액', '최대주주변경을수반하는주식양수도금액', '최대주주변경카운트',\n",
       "       '타법인주식및출자증권취득결정금액', '특수관계인에대한자금대여금액', '결산기간_거래량증가', '결산기간_주가변동률',\n",
       "       '당기순이익', '매출채권', '매출총이익', '영업이익', '영업현금흐름', '차입금의존도', '총자본', '최대주주비율',\n",
       "       '판매 및 관리비', '최대주주비율_변동성'],\n",
       "      dtype='object')"
      ]
     },
     "execution_count": 10,
     "metadata": {},
     "output_type": "execute_result"
    }
   ],
   "source": [
    "concat_together2 = tools.dict_data_plus(concat_together1, \n",
    "                                  plus_one=\"BW금액+CB금액\"\n",
    "                                 ,plus_two=\"유상증자금액\", return_origianl=False)\n",
    "#concat_kospi2 = tools.dict_data_plus(concat_kospi1, \n",
    "#                                  plus_one=\"상호변경카운트_전체시장\"\n",
    "#                                 ,plus_two=\"업종변경카운트_전체시장\", return_origianl=False)\n",
    "#concat_kosdaq2 = tools.dict_data_plus(concat_kosdaq1, \n",
    "#                                  plus_one=\"상호변경카운트_전체시장\"\n",
    "#                                 ,plus_two=\"업종변경카운트_전체시장\", return_origianl=False)\n",
    "concat_together2[\"2012-01\"].columns"
   ]
  },
  {
   "cell_type": "code",
   "execution_count": 11,
   "metadata": {},
   "outputs": [
    {
     "data": {
      "text/plain": [
       "Index(['최대주주변경을수반하는주식담보제공금액+최대주주변경을수반하는주식양수도금액', 'BW금액+CB금액+유상증자금액', '경영권분쟁소송',\n",
       "       '불성실공시법인지정카운트', '상호변경카운트', '업종변경카운트', '조회공시요구카운트', '최대주주변경카운트',\n",
       "       '타법인주식및출자증권취득결정금액', '특수관계인에대한자금대여금액', '결산기간_거래량증가', '결산기간_주가변동률',\n",
       "       '당기순이익', '매출채권', '매출총이익', '영업이익', '영업현금흐름', '차입금의존도', '총자본', '최대주주비율',\n",
       "       '판매 및 관리비', '최대주주비율_변동성'],\n",
       "      dtype='object')"
      ]
     },
     "execution_count": 11,
     "metadata": {},
     "output_type": "execute_result"
    }
   ],
   "source": [
    "concat_together3 = tools.dict_data_plus(concat_together2, \n",
    "                                  plus_one=\"최대주주변경을수반하는주식담보제공금액\"\n",
    "                                 ,plus_two=\"최대주주변경을수반하는주식양수도금액\", return_origianl=False)\n",
    "#concat_kospi3 = tools.dict_data_plus(concat_kospi2, \n",
    "#                                  plus_one=\"최대주주변경을수반하는주식담보제공금액_전체시장\"\n",
    "#                                 ,plus_two=\"최대주주변경을수반하는주식양수도금액_전체시장\", return_origianl=False)\n",
    "#concat_kosdaq3 = tools.dict_data_plus(concat_kosdaq2, \n",
    "#                                  plus_one=\"최대주주변경을수반하는주식담보제공금액_전체시장\"\n",
    "#                                 ,plus_two=\"최대주주변경을수반하는주식양수도금액_전체시장\", return_origianl=False)\n",
    "#\n",
    "concat_together3[\"2012-01\"].columns"
   ]
  },
  {
   "cell_type": "code",
   "execution_count": 12,
   "metadata": {},
   "outputs": [
    {
     "data": {
      "text/plain": [
       "Index(['타법인주식및출자증권취득결정금액+특수관계인에대한자금대여금액',\n",
       "       '최대주주변경을수반하는주식담보제공금액+최대주주변경을수반하는주식양수도금액', 'BW금액+CB금액+유상증자금액', '경영권분쟁소송',\n",
       "       '불성실공시법인지정카운트', '상호변경카운트', '업종변경카운트', '조회공시요구카운트', '최대주주변경카운트',\n",
       "       '결산기간_거래량증가', '결산기간_주가변동률', '당기순이익', '매출채권', '매출총이익', '영업이익', '영업현금흐름',\n",
       "       '차입금의존도', '총자본', '최대주주비율', '판매 및 관리비', '최대주주비율_변동성'],\n",
       "      dtype='object')"
      ]
     },
     "execution_count": 12,
     "metadata": {},
     "output_type": "execute_result"
    }
   ],
   "source": [
    "concat_together4 = tools.dict_data_plus(concat_together3, \n",
    "                                  plus_one=\"타법인주식및출자증권취득결정금액\"\n",
    "                                 ,plus_two=\"특수관계인에대한자금대여금액\", return_origianl=False)\n",
    "#concat_kospi4 = tools.dict_data_plus(concat_kospi3, \n",
    "#                                  plus_one=\"자기주식처분결정금액_전체시장\"\n",
    "#                                 ,plus_two=\"특수관계인에대한자금대여금액_전체시장\", return_origianl=False)\n",
    "#concat_kosdaq4 = tools.dict_data_plus(concat_kosdaq3, \n",
    "#                                  plus_one=\"자기주식처분결정금액_전체시장\"\n",
    "#                                 ,plus_two=\"특수관계인에대한자금대여금액_전체시장\", return_origianl=False)\n",
    "concat_together4[\"2012-01\"].columns"
   ]
  },
  {
   "cell_type": "code",
   "execution_count": 13,
   "metadata": {},
   "outputs": [
    {
     "data": {
      "text/plain": [
       "Index(['상호변경카운트+업종변경카운트', '타법인주식및출자증권취득결정금액+특수관계인에대한자금대여금액',\n",
       "       '최대주주변경을수반하는주식담보제공금액+최대주주변경을수반하는주식양수도금액', 'BW금액+CB금액+유상증자금액', '경영권분쟁소송',\n",
       "       '불성실공시법인지정카운트', '조회공시요구카운트', '최대주주변경카운트', '결산기간_거래량증가', '결산기간_주가변동률',\n",
       "       '당기순이익', '매출채권', '매출총이익', '영업이익', '영업현금흐름', '차입금의존도', '총자본', '최대주주비율',\n",
       "       '판매 및 관리비', '최대주주비율_변동성'],\n",
       "      dtype='object')"
      ]
     },
     "execution_count": 13,
     "metadata": {},
     "output_type": "execute_result"
    }
   ],
   "source": [
    "concat_together5 = tools.dict_data_plus(concat_together4,\n",
    "                                  plus_one=\"상호변경카운트\"\n",
    "                                 ,plus_two=\"업종변경카운트\", return_origianl=False)\n",
    "#concat_kospi5 = tools.dict_data_plus(concat_kospi4,\n",
    "#                                  plus_one=\"불성실공시법인지정카운트_전체시장\"\n",
    "#                                 ,plus_two=\"조회공시요구카운트_전체시장\", return_origianl=False)\n",
    "#concat_kosdaq5 = tools.dict_data_plus(concat_kosdaq4,\n",
    "#                                  plus_one=\"불성실공시법인지정카운트_전체시장\"\n",
    "#                                 ,plus_two=\"조회공시요구카운트_전체시장\", return_origianl=False)\n",
    "concat_together5[\"2012-01\"].columns"
   ]
  },
  {
   "cell_type": "code",
   "execution_count": 14,
   "metadata": {},
   "outputs": [
    {
     "data": {
      "text/plain": [
       "Index(['경영권분쟁소송+최대주주변경카운트', '상호변경카운트+업종변경카운트',\n",
       "       '타법인주식및출자증권취득결정금액+특수관계인에대한자금대여금액',\n",
       "       '최대주주변경을수반하는주식담보제공금액+최대주주변경을수반하는주식양수도금액', 'BW금액+CB금액+유상증자금액',\n",
       "       '불성실공시법인지정카운트', '조회공시요구카운트', '결산기간_거래량증가', '결산기간_주가변동률', '당기순이익',\n",
       "       '매출채권', '매출총이익', '영업이익', '영업현금흐름', '차입금의존도', '총자본', '최대주주비율',\n",
       "       '판매 및 관리비', '최대주주비율_변동성'],\n",
       "      dtype='object')"
      ]
     },
     "execution_count": 14,
     "metadata": {},
     "output_type": "execute_result"
    }
   ],
   "source": [
    "concat_together6 = tools.dict_data_plus(concat_together5,\n",
    "                                  plus_one=\"경영권분쟁소송\"\n",
    "                                 ,plus_two=\"최대주주변경카운트\", return_origianl=False)\n",
    "#concat_kospi6 = tools.dict_data_plus(concat_kospi5,\n",
    "#                                  plus_one=\"경영권분쟁소송_전체시장\"\n",
    "#                                 ,plus_two=\"최대주주변경카운트_전체시장\", return_origianl=False)\n",
    "#concat_kosdaq6 = tools.dict_data_plus(concat_kosdaq5,\n",
    "#                                  plus_one=\"경영권분쟁소송_전체시장\"\n",
    "#                                 ,plus_two=\"최대주주변경카운트_전체시장\", return_origianl=False)\n",
    "concat_together6[\"2012-01\"].columns"
   ]
  },
  {
   "cell_type": "code",
   "execution_count": 15,
   "metadata": {},
   "outputs": [
    {
     "data": {
      "text/plain": [
       "Index(['경영권분쟁소송+최대주주변경카운트+불성실공시법인지정카운트', '상호변경카운트+업종변경카운트',\n",
       "       '타법인주식및출자증권취득결정금액+특수관계인에대한자금대여금액',\n",
       "       '최대주주변경을수반하는주식담보제공금액+최대주주변경을수반하는주식양수도금액', 'BW금액+CB금액+유상증자금액',\n",
       "       '조회공시요구카운트', '결산기간_거래량증가', '결산기간_주가변동률', '당기순이익', '매출채권', '매출총이익',\n",
       "       '영업이익', '영업현금흐름', '차입금의존도', '총자본', '최대주주비율', '판매 및 관리비', '최대주주비율_변동성'],\n",
       "      dtype='object')"
      ]
     },
     "execution_count": 15,
     "metadata": {},
     "output_type": "execute_result"
    }
   ],
   "source": [
    "concat_together7 = tools.dict_data_plus(concat_together6,\n",
    "                                  plus_one=\"경영권분쟁소송+최대주주변경카운트\"\n",
    "                                 ,plus_two=\"불성실공시법인지정카운트\", return_origianl=False)\n",
    "#concat_kospi7 = tools.dict_data_plus(concat_kospi6,\n",
    "#                                  plus_one=\"BW금액_전체시장+CB금액_전체시장\"\n",
    "#                                 ,plus_two=\"유상증자금액_전체시장\", return_origianl=False)\n",
    "#concat_kosdaq7 = tools.dict_data_plus(concat_kosdaq6,\n",
    "#                                  plus_one=\"BW금액_전체시장+CB금액_전체시장\"\n",
    "#                                 ,plus_two=\"유상증자금액_전체시장\", return_origianl=False)\n",
    "concat_together7[\"2012-01\"].columns"
   ]
  },
  {
   "cell_type": "code",
   "execution_count": 16,
   "metadata": {},
   "outputs": [
    {
     "data": {
      "text/plain": [
       "Index(['경영권분쟁소송+최대주주변경카운트+불성실공시법인지정카운트+조회공시요구카운트', '상호변경카운트+업종변경카운트',\n",
       "       '타법인주식및출자증권취득결정금액+특수관계인에대한자금대여금액',\n",
       "       '최대주주변경을수반하는주식담보제공금액+최대주주변경을수반하는주식양수도금액', 'BW금액+CB금액+유상증자금액',\n",
       "       '결산기간_거래량증가', '결산기간_주가변동률', '당기순이익', '매출채권', '매출총이익', '영업이익', '영업현금흐름',\n",
       "       '차입금의존도', '총자본', '최대주주비율', '판매 및 관리비', '최대주주비율_변동성'],\n",
       "      dtype='object')"
      ]
     },
     "execution_count": 16,
     "metadata": {},
     "output_type": "execute_result"
    }
   ],
   "source": [
    "concat_together8 = tools.dict_data_plus(concat_together7,\n",
    "                                  plus_one=\"경영권분쟁소송+최대주주변경카운트+불성실공시법인지정카운트\"\n",
    "                                 ,plus_two=\"조회공시요구카운트\", return_origianl=False)\n",
    "#concat_kospi8 = tools.dict_data_plus(concat_kospi7,\n",
    "#                                  plus_one=\"경영권분쟁소송_전체시장+최대주주변경카운트_전체시장\"\n",
    "#                                 ,plus_two=\"상호변경카운트_전체시장+업종변경카운트_전체시장\", return_origianl=False)\n",
    "#concat_kosdaq8 = tools.dict_data_plus(concat_kosdaq7,\n",
    "#                                  plus_one=\"경영권분쟁소송_전체시장+최대주주변경카운트_전체시장\"\n",
    "#                                 ,plus_two=\"상호변경카운트_전체시장+업종변경카운트_전체시장\", return_origianl=False)\n",
    "concat_together8[\"2012-01\"].columns"
   ]
  },
  {
   "cell_type": "code",
   "execution_count": 17,
   "metadata": {},
   "outputs": [
    {
     "data": {
      "text/plain": [
       "Index(['경영권분쟁소송+최대주주변경카운트+불성실공시법인지정카운트+조회공시요구카운트+상호변경카운트+업종변경카운트',\n",
       "       '타법인주식및출자증권취득결정금액+특수관계인에대한자금대여금액',\n",
       "       '최대주주변경을수반하는주식담보제공금액+최대주주변경을수반하는주식양수도금액', 'BW금액+CB금액+유상증자금액',\n",
       "       '결산기간_거래량증가', '결산기간_주가변동률', '당기순이익', '매출채권', '매출총이익', '영업이익', '영업현금흐름',\n",
       "       '차입금의존도', '총자본', '최대주주비율', '판매 및 관리비', '최대주주비율_변동성'],\n",
       "      dtype='object')"
      ]
     },
     "execution_count": 17,
     "metadata": {},
     "output_type": "execute_result"
    }
   ],
   "source": [
    "concat_together9 = tools.dict_data_plus(concat_together8,\n",
    "                                  plus_one=\"경영권분쟁소송+최대주주변경카운트+불성실공시법인지정카운트+조회공시요구카운트\"\n",
    "                                 ,plus_two=\"상호변경카운트+업종변경카운트\", return_origianl=False)\n",
    "concat_together9[\"2012-01\"].columns"
   ]
  },
  {
   "cell_type": "code",
   "execution_count": 18,
   "metadata": {},
   "outputs": [
    {
     "data": {
      "text/plain": [
       "Index(['최대주주변경을수반하는주식담보제공금액+최대주주변경을수반하는주식양수도금액+타법인주식및출자증권취득결정금액+특수관계인에대한자금대여금액',\n",
       "       '경영권분쟁소송+최대주주변경카운트+불성실공시법인지정카운트+조회공시요구카운트+상호변경카운트+업종변경카운트',\n",
       "       'BW금액+CB금액+유상증자금액', '결산기간_거래량증가', '결산기간_주가변동률', '당기순이익', '매출채권',\n",
       "       '매출총이익', '영업이익', '영업현금흐름', '차입금의존도', '총자본', '최대주주비율', '판매 및 관리비',\n",
       "       '최대주주비율_변동성'],\n",
       "      dtype='object')"
      ]
     },
     "execution_count": 18,
     "metadata": {},
     "output_type": "execute_result"
    }
   ],
   "source": [
    "concat_together10 = tools.dict_data_plus(concat_together9,\n",
    "                                  plus_one=\"최대주주변경을수반하는주식담보제공금액+최대주주변경을수반하는주식양수도금액\"\n",
    "                                 ,plus_two=\"타법인주식및출자증권취득결정금액+특수관계인에대한자금대여금액\", return_origianl=False)\n",
    "concat_together10[\"2012-01\"].columns"
   ]
  },
  {
   "cell_type": "code",
   "execution_count": 19,
   "metadata": {},
   "outputs": [
    {
     "name": "stdout",
     "output_type": "stream",
     "text": [
      "(14,)\n"
     ]
    },
    {
     "data": {
      "text/plain": [
       "Index(['최대주주변경을수반하는주식담보제공금액+최대주주변경을수반하는주식양수도금액+타법인주식및출자증권취득결정금액+특수관계인에대한자금대여금액+BW금액+CB금액+유상증자금액',\n",
       "       '경영권분쟁소송+최대주주변경카운트+불성실공시법인지정카운트+조회공시요구카운트+상호변경카운트+업종변경카운트',\n",
       "       '결산기간_거래량증가', '결산기간_주가변동률', '당기순이익', '매출채권', '매출총이익', '영업이익', '영업현금흐름',\n",
       "       '차입금의존도', '총자본', '최대주주비율', '판매 및 관리비', '최대주주비율_변동성'],\n",
       "      dtype='object')"
      ]
     },
     "execution_count": 19,
     "metadata": {},
     "output_type": "execute_result"
    }
   ],
   "source": [
    "concat_together11 = tools.dict_data_plus(concat_together10,\n",
    "                                  plus_one=\"최대주주변경을수반하는주식담보제공금액+최대주주변경을수반하는주식양수도금액+타법인주식및출자증권취득결정금액+특수관계인에대한자금대여금액\"\n",
    "                                 ,plus_two=\"BW금액+CB금액+유상증자금액\", return_origianl=False)\n",
    "print(concat_together11[\"2012-01\"].columns.shape)\n",
    "concat_together11[\"2012-01\"].columns"
   ]
  },
  {
   "cell_type": "code",
   "execution_count": 20,
   "metadata": {},
   "outputs": [
    {
     "data": {
      "text/plain": [
       "Index(['최대주주변경을수반하는주식담보제공금액+최대주주변경을수반하는주식양수도금액+타법인주식및출자증권취득결정금액+특수관계인에대한자금대여금액+BW금액+CB금액+유상증자금액/총자본',\n",
       "       '당기순이익/총자본', '매출채권/총자본', '매출총이익/총자본', '영업이익/총자본', '영업현금흐름/총자본',\n",
       "       '판매 및 관리비/총자본',\n",
       "       '최대주주변경을수반하는주식담보제공금액+최대주주변경을수반하는주식양수도금액+타법인주식및출자증권취득결정금액+특수관계인에대한자금대여금액+BW금액+CB금액+유상증자금액',\n",
       "       '경영권분쟁소송+최대주주변경카운트+불성실공시법인지정카운트+조회공시요구카운트+상호변경카운트+업종변경카운트',\n",
       "       '결산기간_거래량증가', '결산기간_주가변동률', '당기순이익', '매출채권', '매출총이익', '영업이익', '영업현금흐름',\n",
       "       '차입금의존도', '총자본', '최대주주비율', '판매 및 관리비', '최대주주비율_변동성'],\n",
       "      dtype='object')"
      ]
     },
     "execution_count": 20,
     "metadata": {},
     "output_type": "execute_result"
    }
   ],
   "source": [
    "divide_what = ['최대주주변경을수반하는주식담보제공금액+최대주주변경을수반하는주식양수도금액+타법인주식및출자증권취득결정금액+특수관계인에대한자금대여금액+BW금액+CB금액+유상증자금액',\n",
    "        '당기순이익', '매출채권', '매출총이익', '영업이익', '영업현금흐름','판매 및 관리비']\n",
    "\n",
    "divide_together = tools.dict_data_divide(concat_together11.copy(), divide_what=divide_what, \n",
    "                                         divide_into=\"총자본\", return_origianl=True)\n",
    "\n",
    "divide_together[\"2012-01\"].columns"
   ]
  },
  {
   "cell_type": "code",
   "execution_count": 21,
   "metadata": {},
   "outputs": [
    {
     "name": "stdout",
     "output_type": "stream",
     "text": [
      "14\n"
     ]
    },
    {
     "data": {
      "text/plain": [
       "Index(['최대주주변경을수반하는주식담보제공금액+최대주주변경을수반하는주식양수도금액+타법인주식및출자증권취득결정금액+특수관계인에대한자금대여금액+BW금액+CB금액+유상증자금액/총자본',\n",
       "       '당기순이익/총자본', '매출채권/총자본', '매출총이익/총자본', '영업이익/총자본', '영업현금흐름/총자본',\n",
       "       '판매 및 관리비/총자본',\n",
       "       '경영권분쟁소송+최대주주변경카운트+불성실공시법인지정카운트+조회공시요구카운트+상호변경카운트+업종변경카운트',\n",
       "       '결산기간_거래량증가', '결산기간_주가변동률', '차입금의존도', '총자본', '최대주주비율', '최대주주비율_변동성'],\n",
       "      dtype='object')"
      ]
     },
     "execution_count": 21,
     "metadata": {},
     "output_type": "execute_result"
    }
   ],
   "source": [
    "drop_together1 = tools.dict_data_drop(divide_together.copy(), \n",
    "                                      drop_col=['최대주주변경을수반하는주식담보제공금액+최대주주변경을수반하는주식양수도금액+타법인주식및출자증권취득결정금액+특수관계인에대한자금대여금액+BW금액+CB금액+유상증자금액',\n",
    "                                                '당기순이익', '매출채권', '매출총이익', '영업이익','영업현금흐름',\"판매 및 관리비\"], dropna=False)\n",
    "print(len(drop_together1[\"2012-01\"].columns))\n",
    "drop_together1[\"2012-01\"].columns"
   ]
  },
  {
   "cell_type": "code",
   "execution_count": 22,
   "metadata": {},
   "outputs": [
    {
     "data": {
      "text/plain": [
       "Index(['최대주주변경을수반하는주식담보제공금액+최대주주변경을수반하는주식양수도금액+타법인주식및출자증권취득결정금액+특수관계인에대한자금대여금액+BW금액+CB금액+유상증자금액/총자본',\n",
       "       '당기순이익/총자본', '매출채권/총자본', '매출총이익/총자본', '영업이익/총자본', '영업현금흐름/총자본',\n",
       "       '판매 및 관리비/총자본',\n",
       "       '경영권분쟁소송+최대주주변경카운트+불성실공시법인지정카운트+조회공시요구카운트+상호변경카운트+업종변경카운트',\n",
       "       '결산기간_거래량증가', '결산기간_주가변동률', '차입금의존도', '총자본', '최대주주비율', '최대주주비율_변동성'],\n",
       "      dtype='object')"
      ]
     },
     "execution_count": 22,
     "metadata": {},
     "output_type": "execute_result"
    }
   ],
   "source": [
    "drop_togehter = tools.dict_data_drop(drop_together1.copy(), dropna=True)\n",
    "scaled_together = tools.dict_data_scale(drop_togehter.copy(), scaler=sca)\n",
    "\n",
    "scaled_together[\"2012-01\"].columns"
   ]
  },
  {
   "cell_type": "code",
   "execution_count": 23,
   "metadata": {},
   "outputs": [
    {
     "name": "stderr",
     "output_type": "stream",
     "text": [
      "100%|██████████| 100/100 [00:05<00:00, 19.46it/s]\n",
      "100%|██████████| 100/100 [00:05<00:00, 17.94it/s]\n",
      "100%|██████████| 100/100 [00:05<00:00, 18.84it/s]\n",
      "100%|██████████| 100/100 [00:05<00:00, 19.71it/s]\n",
      "100%|██████████| 100/100 [00:04<00:00, 20.44it/s]\n",
      "100%|██████████| 100/100 [00:04<00:00, 20.26it/s]\n",
      "100%|██████████| 100/100 [00:04<00:00, 20.12it/s]\n",
      "100%|██████████| 100/100 [00:04<00:00, 20.57it/s]\n",
      "100%|██████████| 100/100 [00:04<00:00, 20.07it/s]\n",
      "100%|██████████| 100/100 [00:04<00:00, 20.26it/s]\n",
      "100%|██████████| 100/100 [00:04<00:00, 20.28it/s]\n",
      "100%|██████████| 100/100 [00:05<00:00, 19.97it/s]\n",
      "100%|██████████| 100/100 [00:05<00:00, 19.76it/s]\n",
      "100%|██████████| 100/100 [00:05<00:00, 19.31it/s]\n",
      "100%|██████████| 100/100 [00:05<00:00, 18.51it/s]\n",
      "100%|██████████| 100/100 [00:05<00:00, 18.28it/s]\n",
      "100%|██████████| 100/100 [00:05<00:00, 18.21it/s]\n",
      "100%|██████████| 100/100 [00:05<00:00, 17.86it/s]\n",
      "100%|██████████| 100/100 [00:05<00:00, 17.40it/s]\n",
      "100%|██████████| 100/100 [00:05<00:00, 17.06it/s]\n",
      "100%|██████████| 100/100 [00:05<00:00, 17.08it/s]\n",
      "100%|██████████| 100/100 [00:05<00:00, 16.89it/s]\n",
      "100%|██████████| 100/100 [00:06<00:00, 16.45it/s]\n",
      "100%|██████████| 100/100 [00:06<00:00, 16.29it/s]\n",
      "100%|██████████| 100/100 [00:06<00:00, 16.12it/s]\n",
      "100%|██████████| 100/100 [00:06<00:00, 15.75it/s]\n",
      "100%|██████████| 100/100 [00:06<00:00, 15.68it/s]\n",
      "100%|██████████| 100/100 [00:06<00:00, 15.23it/s]\n",
      "100%|██████████| 100/100 [00:06<00:00, 15.55it/s]\n",
      "100%|██████████| 100/100 [00:06<00:00, 15.03it/s]\n",
      "100%|██████████| 100/100 [00:06<00:00, 15.12it/s]\n",
      "100%|██████████| 100/100 [00:06<00:00, 14.90it/s]\n",
      "100%|██████████| 100/100 [00:06<00:00, 14.53it/s]\n",
      "100%|██████████| 100/100 [00:06<00:00, 14.62it/s]\n",
      "100%|██████████| 100/100 [00:07<00:00, 14.20it/s]\n",
      "100%|██████████| 100/100 [00:07<00:00, 14.16it/s]\n",
      "100%|██████████| 100/100 [00:07<00:00, 13.80it/s]\n",
      "100%|██████████| 100/100 [00:07<00:00, 13.60it/s]\n",
      "100%|██████████| 100/100 [00:07<00:00, 13.33it/s]\n",
      "100%|██████████| 100/100 [00:07<00:00, 13.30it/s]\n",
      "100%|██████████| 100/100 [00:07<00:00, 13.35it/s]\n",
      "100%|██████████| 100/100 [00:07<00:00, 13.14it/s]\n",
      "100%|██████████| 100/100 [00:07<00:00, 13.34it/s]\n"
     ]
    },
    {
     "data": {
      "text/plain": [
       "{'2012-01': {'num_of_cluseer': 3,\n",
       "  'random_state': 80,\n",
       "  'model': KMeans(max_iter=500, n_clusters=3, n_init=1, random_state=80)},\n",
       " '2012-04': {'num_of_cluseer': 3,\n",
       "  'random_state': 36,\n",
       "  'model': KMeans(max_iter=500, n_clusters=3, n_init=1, random_state=36)},\n",
       " '2012-07': {'num_of_cluseer': 3,\n",
       "  'random_state': 4,\n",
       "  'model': KMeans(max_iter=500, n_clusters=3, n_init=1, random_state=4)},\n",
       " '2012-10': {'num_of_cluseer': 3,\n",
       "  'random_state': 40,\n",
       "  'model': KMeans(max_iter=500, n_clusters=3, n_init=1, random_state=40)},\n",
       " '2013-01': {'num_of_cluseer': 3,\n",
       "  'random_state': 5,\n",
       "  'model': KMeans(max_iter=500, n_clusters=3, n_init=1, random_state=5)},\n",
       " '2013-04': {'num_of_cluseer': 3,\n",
       "  'random_state': 7,\n",
       "  'model': KMeans(max_iter=500, n_clusters=3, n_init=1, random_state=7)},\n",
       " '2013-07': {'num_of_cluseer': 3,\n",
       "  'random_state': 26,\n",
       "  'model': KMeans(max_iter=500, n_clusters=3, n_init=1, random_state=26)},\n",
       " '2013-10': {'num_of_cluseer': 3,\n",
       "  'random_state': 16,\n",
       "  'model': KMeans(max_iter=500, n_clusters=3, n_init=1, random_state=16)},\n",
       " '2014-01': {'num_of_cluseer': 3,\n",
       "  'random_state': 91,\n",
       "  'model': KMeans(max_iter=500, n_clusters=3, n_init=1, random_state=91)},\n",
       " '2014-04': {'num_of_cluseer': 3,\n",
       "  'random_state': 18,\n",
       "  'model': KMeans(max_iter=500, n_clusters=3, n_init=1, random_state=18)},\n",
       " '2014-07': {'num_of_cluseer': 3,\n",
       "  'random_state': 34,\n",
       "  'model': KMeans(max_iter=500, n_clusters=3, n_init=1, random_state=34)},\n",
       " '2014-10': {'num_of_cluseer': 3,\n",
       "  'random_state': 16,\n",
       "  'model': KMeans(max_iter=500, n_clusters=3, n_init=1, random_state=16)},\n",
       " '2015-01': {'num_of_cluseer': 3,\n",
       "  'random_state': 4,\n",
       "  'model': KMeans(max_iter=500, n_clusters=3, n_init=1, random_state=4)},\n",
       " '2015-04': {'num_of_cluseer': 3,\n",
       "  'random_state': 24,\n",
       "  'model': KMeans(max_iter=500, n_clusters=3, n_init=1, random_state=24)},\n",
       " '2015-07': {'num_of_cluseer': 3,\n",
       "  'random_state': 13,\n",
       "  'model': KMeans(max_iter=500, n_clusters=3, n_init=1, random_state=13)},\n",
       " '2015-10': {'num_of_cluseer': 3,\n",
       "  'random_state': 25,\n",
       "  'model': KMeans(max_iter=500, n_clusters=3, n_init=1, random_state=25)},\n",
       " '2016-01': {'num_of_cluseer': 3,\n",
       "  'random_state': 24,\n",
       "  'model': KMeans(max_iter=500, n_clusters=3, n_init=1, random_state=24)},\n",
       " '2016-04': {'num_of_cluseer': 3,\n",
       "  'random_state': 3,\n",
       "  'model': KMeans(max_iter=500, n_clusters=3, n_init=1, random_state=3)},\n",
       " '2016-07': {'num_of_cluseer': 3,\n",
       "  'random_state': 14,\n",
       "  'model': KMeans(max_iter=500, n_clusters=3, n_init=1, random_state=14)},\n",
       " '2016-10': {'num_of_cluseer': 3,\n",
       "  'random_state': 87,\n",
       "  'model': KMeans(max_iter=500, n_clusters=3, n_init=1, random_state=87)},\n",
       " '2017-01': {'num_of_cluseer': 3,\n",
       "  'random_state': 14,\n",
       "  'model': KMeans(max_iter=500, n_clusters=3, n_init=1, random_state=14)},\n",
       " '2017-04': {'num_of_cluseer': 3,\n",
       "  'random_state': 61,\n",
       "  'model': KMeans(max_iter=500, n_clusters=3, n_init=1, random_state=61)},\n",
       " '2017-07': {'num_of_cluseer': 3,\n",
       "  'random_state': 39,\n",
       "  'model': KMeans(max_iter=500, n_clusters=3, n_init=1, random_state=39)},\n",
       " '2017-10': {'num_of_cluseer': 3,\n",
       "  'random_state': 2,\n",
       "  'model': KMeans(max_iter=500, n_clusters=3, n_init=1, random_state=2)},\n",
       " '2018-01': {'num_of_cluseer': 3,\n",
       "  'random_state': 3,\n",
       "  'model': KMeans(max_iter=500, n_clusters=3, n_init=1, random_state=3)},\n",
       " '2018-04': {'num_of_cluseer': 3,\n",
       "  'random_state': 58,\n",
       "  'model': KMeans(max_iter=500, n_clusters=3, n_init=1, random_state=58)},\n",
       " '2018-07': {'num_of_cluseer': 3,\n",
       "  'random_state': 0,\n",
       "  'model': KMeans(max_iter=500, n_clusters=3, n_init=1, random_state=0)},\n",
       " '2018-10': {'num_of_cluseer': 3,\n",
       "  'random_state': 33,\n",
       "  'model': KMeans(max_iter=500, n_clusters=3, n_init=1, random_state=33)},\n",
       " '2019-01': {'num_of_cluseer': 3,\n",
       "  'random_state': 20,\n",
       "  'model': KMeans(max_iter=500, n_clusters=3, n_init=1, random_state=20)},\n",
       " '2019-04': {'num_of_cluseer': 3,\n",
       "  'random_state': 68,\n",
       "  'model': KMeans(max_iter=500, n_clusters=3, n_init=1, random_state=68)},\n",
       " '2019-07': {'num_of_cluseer': 3,\n",
       "  'random_state': 25,\n",
       "  'model': KMeans(max_iter=500, n_clusters=3, n_init=1, random_state=25)},\n",
       " '2019-10': {'num_of_cluseer': 3,\n",
       "  'random_state': 89,\n",
       "  'model': KMeans(max_iter=500, n_clusters=3, n_init=1, random_state=89)},\n",
       " '2020-01': {'num_of_cluseer': 3,\n",
       "  'random_state': 13,\n",
       "  'model': KMeans(max_iter=500, n_clusters=3, n_init=1, random_state=13)},\n",
       " '2020-04': {'num_of_cluseer': 3,\n",
       "  'random_state': 56,\n",
       "  'model': KMeans(max_iter=500, n_clusters=3, n_init=1, random_state=56)},\n",
       " '2020-07': {'num_of_cluseer': 3,\n",
       "  'random_state': 44,\n",
       "  'model': KMeans(max_iter=500, n_clusters=3, n_init=1, random_state=44)},\n",
       " '2020-10': {'num_of_cluseer': 3,\n",
       "  'random_state': 24,\n",
       "  'model': KMeans(max_iter=500, n_clusters=3, n_init=1, random_state=24)},\n",
       " '2021-01': {'num_of_cluseer': 3,\n",
       "  'random_state': 11,\n",
       "  'model': KMeans(max_iter=500, n_clusters=3, n_init=1, random_state=11)},\n",
       " '2021-04': {'num_of_cluseer': 3,\n",
       "  'random_state': 61,\n",
       "  'model': KMeans(max_iter=500, n_clusters=3, n_init=1, random_state=61)},\n",
       " '2021-07': {'num_of_cluseer': 3,\n",
       "  'random_state': 75,\n",
       "  'model': KMeans(max_iter=500, n_clusters=3, n_init=1, random_state=75)},\n",
       " '2021-10': {'num_of_cluseer': 3,\n",
       "  'random_state': 92,\n",
       "  'model': KMeans(max_iter=500, n_clusters=3, n_init=1, random_state=92)},\n",
       " '2022-01': {'num_of_cluseer': 3,\n",
       "  'random_state': 68,\n",
       "  'model': KMeans(max_iter=500, n_clusters=3, n_init=1, random_state=68)},\n",
       " '2022-04': {'num_of_cluseer': 3,\n",
       "  'random_state': 28,\n",
       "  'model': KMeans(max_iter=500, n_clusters=3, n_init=1, random_state=28)},\n",
       " '2022-07': {'num_of_cluseer': 3,\n",
       "  'random_state': 9,\n",
       "  'model': KMeans(max_iter=500, n_clusters=3, n_init=1, random_state=9)}}"
      ]
     },
     "execution_count": 23,
     "metadata": {},
     "output_type": "execute_result"
    }
   ],
   "source": [
    "model_save_dict = evaluate.run_iter_kmeans(num_k, max_sample=100, raw_data=scaled_together.copy())\n",
    "model_save_dict"
   ]
  },
  {
   "attachments": {},
   "cell_type": "markdown",
   "metadata": {},
   "source": [
    "## 모델기록\n"
   ]
  },
  {
   "cell_type": "code",
   "execution_count": 24,
   "metadata": {},
   "outputs": [
    {
     "name": "stdout",
     "output_type": "stream",
     "text": [
      "905.0\n",
      "417.0\n"
     ]
    },
    {
     "data": {
      "text/html": [
       "<div>\n",
       "<style scoped>\n",
       "    .dataframe tbody tr th:only-of-type {\n",
       "        vertical-align: middle;\n",
       "    }\n",
       "\n",
       "    .dataframe tbody tr th {\n",
       "        vertical-align: top;\n",
       "    }\n",
       "\n",
       "    .dataframe thead th {\n",
       "        text-align: right;\n",
       "    }\n",
       "</style>\n",
       "<table border=\"1\" class=\"dataframe\">\n",
       "  <thead>\n",
       "    <tr style=\"text-align: right;\">\n",
       "      <th></th>\n",
       "      <th>2012-01</th>\n",
       "      <th>2012-04</th>\n",
       "      <th>2012-07</th>\n",
       "      <th>2012-10</th>\n",
       "      <th>2013-01</th>\n",
       "      <th>2013-04</th>\n",
       "      <th>2013-07</th>\n",
       "      <th>2013-10</th>\n",
       "      <th>2014-01</th>\n",
       "      <th>2014-04</th>\n",
       "      <th>...</th>\n",
       "      <th>2020-04</th>\n",
       "      <th>2020-07</th>\n",
       "      <th>2020-10</th>\n",
       "      <th>2021-01</th>\n",
       "      <th>2021-04</th>\n",
       "      <th>2021-07</th>\n",
       "      <th>2021-10</th>\n",
       "      <th>2022-01</th>\n",
       "      <th>2022-04</th>\n",
       "      <th>2022-07</th>\n",
       "    </tr>\n",
       "  </thead>\n",
       "  <tbody>\n",
       "    <tr>\n",
       "      <th>0</th>\n",
       "      <td>417.0</td>\n",
       "      <td>600.0</td>\n",
       "      <td>630.0</td>\n",
       "      <td>543.0</td>\n",
       "      <td>485.0</td>\n",
       "      <td>446.0</td>\n",
       "      <td>622.0</td>\n",
       "      <td>484.0</td>\n",
       "      <td>560.0</td>\n",
       "      <td>441.0</td>\n",
       "      <td>...</td>\n",
       "      <td>472.0</td>\n",
       "      <td>666.0</td>\n",
       "      <td>769.0</td>\n",
       "      <td>628.0</td>\n",
       "      <td>646.0</td>\n",
       "      <td>679.0</td>\n",
       "      <td>795.0</td>\n",
       "      <td>598.0</td>\n",
       "      <td>833.0</td>\n",
       "      <td>847.0</td>\n",
       "    </tr>\n",
       "    <tr>\n",
       "      <th>1</th>\n",
       "      <td>560.0</td>\n",
       "      <td>442.0</td>\n",
       "      <td>521.0</td>\n",
       "      <td>631.0</td>\n",
       "      <td>596.0</td>\n",
       "      <td>632.0</td>\n",
       "      <td>450.0</td>\n",
       "      <td>534.0</td>\n",
       "      <td>625.0</td>\n",
       "      <td>583.0</td>\n",
       "      <td>...</td>\n",
       "      <td>905.0</td>\n",
       "      <td>583.0</td>\n",
       "      <td>603.0</td>\n",
       "      <td>735.0</td>\n",
       "      <td>512.0</td>\n",
       "      <td>599.0</td>\n",
       "      <td>582.0</td>\n",
       "      <td>678.0</td>\n",
       "      <td>556.0</td>\n",
       "      <td>675.0</td>\n",
       "    </tr>\n",
       "    <tr>\n",
       "      <th>2</th>\n",
       "      <td>617.0</td>\n",
       "      <td>562.0</td>\n",
       "      <td>456.0</td>\n",
       "      <td>434.0</td>\n",
       "      <td>524.0</td>\n",
       "      <td>527.0</td>\n",
       "      <td>528.0</td>\n",
       "      <td>598.0</td>\n",
       "      <td>433.0</td>\n",
       "      <td>594.0</td>\n",
       "      <td>...</td>\n",
       "      <td>599.0</td>\n",
       "      <td>750.0</td>\n",
       "      <td>642.0</td>\n",
       "      <td>662.0</td>\n",
       "      <td>885.0</td>\n",
       "      <td>778.0</td>\n",
       "      <td>678.0</td>\n",
       "      <td>780.0</td>\n",
       "      <td>658.0</td>\n",
       "      <td>517.0</td>\n",
       "    </tr>\n",
       "    <tr>\n",
       "      <th>기업수</th>\n",
       "      <td>1594.0</td>\n",
       "      <td>1604.0</td>\n",
       "      <td>1607.0</td>\n",
       "      <td>1608.0</td>\n",
       "      <td>1605.0</td>\n",
       "      <td>1605.0</td>\n",
       "      <td>1600.0</td>\n",
       "      <td>1616.0</td>\n",
       "      <td>1618.0</td>\n",
       "      <td>1618.0</td>\n",
       "      <td>...</td>\n",
       "      <td>1976.0</td>\n",
       "      <td>1999.0</td>\n",
       "      <td>2014.0</td>\n",
       "      <td>2025.0</td>\n",
       "      <td>2043.0</td>\n",
       "      <td>2056.0</td>\n",
       "      <td>2055.0</td>\n",
       "      <td>2056.0</td>\n",
       "      <td>2047.0</td>\n",
       "      <td>2039.0</td>\n",
       "    </tr>\n",
       "  </tbody>\n",
       "</table>\n",
       "<p>4 rows × 43 columns</p>\n",
       "</div>"
      ],
      "text/plain": [
       "     2012-01  2012-04  2012-07  2012-10  2013-01  2013-04  2013-07  2013-10  \\\n",
       "0      417.0    600.0    630.0    543.0    485.0    446.0    622.0    484.0   \n",
       "1      560.0    442.0    521.0    631.0    596.0    632.0    450.0    534.0   \n",
       "2      617.0    562.0    456.0    434.0    524.0    527.0    528.0    598.0   \n",
       "기업수   1594.0   1604.0   1607.0   1608.0   1605.0   1605.0   1600.0   1616.0   \n",
       "\n",
       "     2014-01  2014-04  ...  2020-04  2020-07  2020-10  2021-01  2021-04  \\\n",
       "0      560.0    441.0  ...    472.0    666.0    769.0    628.0    646.0   \n",
       "1      625.0    583.0  ...    905.0    583.0    603.0    735.0    512.0   \n",
       "2      433.0    594.0  ...    599.0    750.0    642.0    662.0    885.0   \n",
       "기업수   1618.0   1618.0  ...   1976.0   1999.0   2014.0   2025.0   2043.0   \n",
       "\n",
       "     2021-07  2021-10  2022-01  2022-04  2022-07  \n",
       "0      679.0    795.0    598.0    833.0    847.0  \n",
       "1      599.0    582.0    678.0    556.0    675.0  \n",
       "2      778.0    678.0    780.0    658.0    517.0  \n",
       "기업수   2056.0   2055.0   2056.0   2047.0   2039.0  \n",
       "\n",
       "[4 rows x 43 columns]"
      ]
     },
     "execution_count": 24,
     "metadata": {},
     "output_type": "execute_result"
    }
   ],
   "source": [
    "size =evaluate.eval_cluster_size(model_save_dict)\n",
    "size.to_csv(\"{}_클러스터사이즈.csv\".format(model_name))\n",
    "\n",
    "print(size.iloc[:-1,:].max().max())\n",
    "print(size.iloc[:-1,:].min().min())\n",
    "size"
   ]
  },
  {
   "cell_type": "code",
   "execution_count": 25,
   "metadata": {},
   "outputs": [],
   "source": [
    "eval_one, eval_one_original = evaluate.eval_cluster_result(model_save_dict, raw_data = scaled_together, label_data=label_data_pp_man, freq=freq)\n",
    "eval_one.to_csv(\"{}_관리종목.csv\".format(model_name))\n",
    "eval_one_original.to_csv(\"{}_관리종목전체대비.csv\".format(model_name))"
   ]
  },
  {
   "cell_type": "code",
   "execution_count": 26,
   "metadata": {},
   "outputs": [],
   "source": [
    "eval_two,eval_two_original = evaluate.eval_cluster_result(model_save_dict, raw_data = scaled_together, label_data=label_data_pp_war, freq=freq)\n",
    "eval_two.to_csv(\"{}_투자환기종목.csv\".format(model_name))\n",
    "eval_two_original.to_csv(\"{}_투자환기종목전체대비.csv\".format(model_name))"
   ]
  },
  {
   "cell_type": "code",
   "execution_count": 27,
   "metadata": {},
   "outputs": [],
   "source": [
    "# 횡령인 경우\n",
    "eval_three, eval_three_original = evaluate.eval_cluster_result(model_save_dict, raw_data = scaled_together, label_data=label_data_pp_emb, freq=freq)\n",
    "eval_three.to_csv(\"{}_횡령배임혐의.csv\".format(model_name))\n",
    "eval_three_original.to_csv(\"{}_횡령배임혐의전체대비.csv\".format(model_name))"
   ]
  },
  {
   "cell_type": "code",
   "execution_count": 28,
   "metadata": {},
   "outputs": [
    {
     "name": "stdout",
     "output_type": "stream",
     "text": [
      "0.8350718566098636\n",
      "1.0\n"
     ]
    },
    {
     "data": {
      "text/plain": [
       "0.10524870134211034"
      ]
     },
     "execution_count": 28,
     "metadata": {},
     "output_type": "execute_result"
    }
   ],
   "source": [
    "print(evaluate.calculate_catch_probability(eval_one, eval_two, None))#, eval_three)\n",
    "print(evaluate.calculate_match_probability(eval_one, eval_two,None))# eval_three)\n",
    "evaluate.calculate_catch_probability(eval_one_original, eval_two_original, None)#eval_three_original)"
   ]
  },
  {
   "cell_type": "code",
   "execution_count": 29,
   "metadata": {},
   "outputs": [
    {
     "data": {
      "text/plain": [
       "영업이익/총자본                                                                                       0.185541\n",
       "당기순이익/총자본                                                                                      0.185217\n",
       "총자본                                                                                            0.101143\n",
       "매출총이익/총자본                                                                                      0.099257\n",
       "영업현금흐름/총자본                                                                                     0.091843\n",
       "판매 및 관리비/총자본                                                                                   0.087657\n",
       "최대주주비율                                                                                         0.074836\n",
       "차입금의존도                                                                                         0.045825\n",
       "최대주주변경을수반하는주식담보제공금액+최대주주변경을수반하는주식양수도금액+타법인주식및출자증권취득결정금액+특수관계인에대한자금대여금액+BW금액+CB금액+유상증자금액/총자본    0.042647\n",
       "매출채권/총자본                                                                                       0.033873\n",
       "경영권분쟁소송+최대주주변경카운트+불성실공시법인지정카운트+조회공시요구카운트+상호변경카운트+업종변경카운트                                       0.020824\n",
       "결산기간_주가변동률                                                                                     0.018847\n",
       "최대주주비율_변동성                                                                                     0.009387\n",
       "결산기간_거래량증가                                                                                     0.003104\n",
       "dtype: float64"
      ]
     },
     "execution_count": 29,
     "metadata": {},
     "output_type": "execute_result"
    }
   ],
   "source": [
    "def pct(df):\n",
    "    return df / np.sum(df)\n",
    "\n",
    "dist = evaluate.eval_cluster_distance(eval_one, scaled_together, model_save_dict)\n",
    "dist = dist.apply(pct, axis=1)\n",
    "dist2= dist.mean(axis=0).sort_values(ascending=False)\n",
    "\n",
    "dist.to_csv(\"{}_거리분해.csv\".format(model_name))\n",
    "dist2.to_csv(\"{}_거리분해평균.csv\".format(model_name))\n",
    "\n",
    "dist2"
   ]
  },
  {
   "cell_type": "code",
   "execution_count": 30,
   "metadata": {},
   "outputs": [
    {
     "name": "stderr",
     "output_type": "stream",
     "text": [
      "c:\\Jehyeon\\2022_Winter_KRX\\KRX\\Model\\krx_fr\\cluster\\optimize.py:263: RuntimeWarning: invalid value encountered in double_scalars\n",
      "  cluster_accuracy[key] = cluster_accuracy[key]/value_sum\n",
      "c:\\Jehyeon\\2022_Winter_KRX\\KRX\\Model\\krx_fr\\cluster\\optimize.py:263: RuntimeWarning: invalid value encountered in double_scalars\n",
      "  cluster_accuracy[key] = cluster_accuracy[key]/value_sum\n",
      "c:\\Jehyeon\\2022_Winter_KRX\\KRX\\Model\\krx_fr\\cluster\\optimize.py:263: RuntimeWarning: invalid value encountered in double_scalars\n",
      "  cluster_accuracy[key] = cluster_accuracy[key]/value_sum\n"
     ]
    },
    {
     "data": {
      "text/html": [
       "<div>\n",
       "<style scoped>\n",
       "    .dataframe tbody tr th:only-of-type {\n",
       "        vertical-align: middle;\n",
       "    }\n",
       "\n",
       "    .dataframe tbody tr th {\n",
       "        vertical-align: top;\n",
       "    }\n",
       "\n",
       "    .dataframe thead th {\n",
       "        text-align: right;\n",
       "    }\n",
       "</style>\n",
       "<table border=\"1\" class=\"dataframe\">\n",
       "  <thead>\n",
       "    <tr style=\"text-align: right;\">\n",
       "      <th></th>\n",
       "      <th>2012-04예측</th>\n",
       "      <th>2012-07예측</th>\n",
       "      <th>2012-10예측</th>\n",
       "      <th>2013-01예측</th>\n",
       "      <th>2013-04예측</th>\n",
       "      <th>2013-07예측</th>\n",
       "      <th>2013-10예측</th>\n",
       "      <th>2014-01예측</th>\n",
       "      <th>2014-04예측</th>\n",
       "      <th>2014-07예측</th>\n",
       "      <th>...</th>\n",
       "      <th>2019-07예측</th>\n",
       "      <th>2019-10예측</th>\n",
       "      <th>2020-01예측</th>\n",
       "      <th>2020-04예측</th>\n",
       "      <th>2020-07예측</th>\n",
       "      <th>2020-10예측</th>\n",
       "      <th>2021-01예측</th>\n",
       "      <th>2021-04예측</th>\n",
       "      <th>2021-07예측</th>\n",
       "      <th>2021-10예측</th>\n",
       "    </tr>\n",
       "  </thead>\n",
       "  <tbody>\n",
       "    <tr>\n",
       "      <th>0</th>\n",
       "      <td>0.714286</td>\n",
       "      <td>0.75</td>\n",
       "      <td>0.750000</td>\n",
       "      <td>0.057143</td>\n",
       "      <td>0.909091</td>\n",
       "      <td>0.973684</td>\n",
       "      <td>0.023810</td>\n",
       "      <td>0.930233</td>\n",
       "      <td>0.765957</td>\n",
       "      <td>0.860465</td>\n",
       "      <td>...</td>\n",
       "      <td>0.838384</td>\n",
       "      <td>0.129412</td>\n",
       "      <td>0.816092</td>\n",
       "      <td>0.035294</td>\n",
       "      <td>0.179487</td>\n",
       "      <td>0.112676</td>\n",
       "      <td>0.138462</td>\n",
       "      <td>0.717949</td>\n",
       "      <td>0.6</td>\n",
       "      <td>0.0</td>\n",
       "    </tr>\n",
       "    <tr>\n",
       "      <th>1</th>\n",
       "      <td>0.160714</td>\n",
       "      <td>0.25</td>\n",
       "      <td>0.027778</td>\n",
       "      <td>0.057143</td>\n",
       "      <td>0.090909</td>\n",
       "      <td>0.000000</td>\n",
       "      <td>0.952381</td>\n",
       "      <td>0.046512</td>\n",
       "      <td>0.021277</td>\n",
       "      <td>0.069767</td>\n",
       "      <td>...</td>\n",
       "      <td>0.101010</td>\n",
       "      <td>0.058824</td>\n",
       "      <td>0.103448</td>\n",
       "      <td>0.835294</td>\n",
       "      <td>0.051282</td>\n",
       "      <td>0.802817</td>\n",
       "      <td>0.753846</td>\n",
       "      <td>0.102564</td>\n",
       "      <td>0.3</td>\n",
       "      <td>0.5</td>\n",
       "    </tr>\n",
       "    <tr>\n",
       "      <th>2</th>\n",
       "      <td>0.125000</td>\n",
       "      <td>0.00</td>\n",
       "      <td>0.222222</td>\n",
       "      <td>0.885714</td>\n",
       "      <td>0.000000</td>\n",
       "      <td>0.026316</td>\n",
       "      <td>0.023810</td>\n",
       "      <td>0.023256</td>\n",
       "      <td>0.212766</td>\n",
       "      <td>0.069767</td>\n",
       "      <td>...</td>\n",
       "      <td>0.060606</td>\n",
       "      <td>0.811765</td>\n",
       "      <td>0.080460</td>\n",
       "      <td>0.129412</td>\n",
       "      <td>0.769231</td>\n",
       "      <td>0.084507</td>\n",
       "      <td>0.107692</td>\n",
       "      <td>0.179487</td>\n",
       "      <td>0.1</td>\n",
       "      <td>0.5</td>\n",
       "    </tr>\n",
       "  </tbody>\n",
       "</table>\n",
       "<p>3 rows × 39 columns</p>\n",
       "</div>"
      ],
      "text/plain": [
       "   2012-04예측  2012-07예측  2012-10예측  2013-01예측  2013-04예측  2013-07예측  \\\n",
       "0   0.714286       0.75   0.750000   0.057143   0.909091   0.973684   \n",
       "1   0.160714       0.25   0.027778   0.057143   0.090909   0.000000   \n",
       "2   0.125000       0.00   0.222222   0.885714   0.000000   0.026316   \n",
       "\n",
       "   2013-10예측  2014-01예측  2014-04예측  2014-07예측  ...  2019-07예측  2019-10예측  \\\n",
       "0   0.023810   0.930233   0.765957   0.860465  ...   0.838384   0.129412   \n",
       "1   0.952381   0.046512   0.021277   0.069767  ...   0.101010   0.058824   \n",
       "2   0.023810   0.023256   0.212766   0.069767  ...   0.060606   0.811765   \n",
       "\n",
       "   2020-01예측  2020-04예측  2020-07예측  2020-10예측  2021-01예측  2021-04예측  \\\n",
       "0   0.816092   0.035294   0.179487   0.112676   0.138462   0.717949   \n",
       "1   0.103448   0.835294   0.051282   0.802817   0.753846   0.102564   \n",
       "2   0.080460   0.129412   0.769231   0.084507   0.107692   0.179487   \n",
       "\n",
       "   2021-07예측  2021-10예측  \n",
       "0        0.6        0.0  \n",
       "1        0.3        0.5  \n",
       "2        0.1        0.5  \n",
       "\n",
       "[3 rows x 39 columns]"
      ]
     },
     "execution_count": 30,
     "metadata": {},
     "output_type": "execute_result"
    }
   ],
   "source": [
    "pre, pre_original = evaluate.predict_cluster_result(model_save_dict, scaled_together,label_data_pp_man, \"2012-01\", freq=freq)\n",
    "pre"
   ]
  },
  {
   "cell_type": "code",
   "execution_count": 31,
   "metadata": {},
   "outputs": [
    {
     "name": "stderr",
     "output_type": "stream",
     "text": [
      "c:\\Jehyeon\\2022_Winter_KRX\\KRX\\Model\\krx_fr\\cluster\\optimize.py:263: RuntimeWarning: invalid value encountered in double_scalars\n",
      "  cluster_accuracy[key] = cluster_accuracy[key]/value_sum\n",
      "c:\\Jehyeon\\2022_Winter_KRX\\KRX\\Model\\krx_fr\\cluster\\optimize.py:263: RuntimeWarning: invalid value encountered in double_scalars\n",
      "  cluster_accuracy[key] = cluster_accuracy[key]/value_sum\n",
      "c:\\Jehyeon\\2022_Winter_KRX\\KRX\\Model\\krx_fr\\cluster\\optimize.py:263: RuntimeWarning: invalid value encountered in double_scalars\n",
      "  cluster_accuracy[key] = cluster_accuracy[key]/value_sum\n"
     ]
    },
    {
     "data": {
      "text/html": [
       "<div>\n",
       "<style scoped>\n",
       "    .dataframe tbody tr th:only-of-type {\n",
       "        vertical-align: middle;\n",
       "    }\n",
       "\n",
       "    .dataframe tbody tr th {\n",
       "        vertical-align: top;\n",
       "    }\n",
       "\n",
       "    .dataframe thead th {\n",
       "        text-align: right;\n",
       "    }\n",
       "</style>\n",
       "<table border=\"1\" class=\"dataframe\">\n",
       "  <thead>\n",
       "    <tr style=\"text-align: right;\">\n",
       "      <th></th>\n",
       "      <th>2012-04예측</th>\n",
       "      <th>2012-07예측</th>\n",
       "      <th>2012-10예측</th>\n",
       "      <th>2013-01예측</th>\n",
       "      <th>2013-04예측</th>\n",
       "      <th>2013-07예측</th>\n",
       "      <th>2013-10예측</th>\n",
       "      <th>2014-01예측</th>\n",
       "      <th>2014-04예측</th>\n",
       "      <th>2014-07예측</th>\n",
       "      <th>...</th>\n",
       "      <th>2019-07예측</th>\n",
       "      <th>2019-10예측</th>\n",
       "      <th>2020-01예측</th>\n",
       "      <th>2020-04예측</th>\n",
       "      <th>2020-07예측</th>\n",
       "      <th>2020-10예측</th>\n",
       "      <th>2021-01예측</th>\n",
       "      <th>2021-04예측</th>\n",
       "      <th>2021-07예측</th>\n",
       "      <th>2021-10예측</th>\n",
       "    </tr>\n",
       "  </thead>\n",
       "  <tbody>\n",
       "    <tr>\n",
       "      <th>0</th>\n",
       "      <td>0.714286</td>\n",
       "      <td>0.75</td>\n",
       "      <td>0.750000</td>\n",
       "      <td>0.057143</td>\n",
       "      <td>0.909091</td>\n",
       "      <td>0.973684</td>\n",
       "      <td>0.023810</td>\n",
       "      <td>0.930233</td>\n",
       "      <td>0.765957</td>\n",
       "      <td>0.860465</td>\n",
       "      <td>...</td>\n",
       "      <td>0.838384</td>\n",
       "      <td>0.129412</td>\n",
       "      <td>0.816092</td>\n",
       "      <td>0.035294</td>\n",
       "      <td>0.179487</td>\n",
       "      <td>0.112676</td>\n",
       "      <td>0.138462</td>\n",
       "      <td>0.717949</td>\n",
       "      <td>0.6</td>\n",
       "      <td>0.0</td>\n",
       "    </tr>\n",
       "    <tr>\n",
       "      <th>1</th>\n",
       "      <td>0.160714</td>\n",
       "      <td>0.25</td>\n",
       "      <td>0.027778</td>\n",
       "      <td>0.057143</td>\n",
       "      <td>0.090909</td>\n",
       "      <td>0.000000</td>\n",
       "      <td>0.952381</td>\n",
       "      <td>0.046512</td>\n",
       "      <td>0.021277</td>\n",
       "      <td>0.069767</td>\n",
       "      <td>...</td>\n",
       "      <td>0.101010</td>\n",
       "      <td>0.058824</td>\n",
       "      <td>0.103448</td>\n",
       "      <td>0.835294</td>\n",
       "      <td>0.051282</td>\n",
       "      <td>0.802817</td>\n",
       "      <td>0.753846</td>\n",
       "      <td>0.102564</td>\n",
       "      <td>0.3</td>\n",
       "      <td>0.5</td>\n",
       "    </tr>\n",
       "    <tr>\n",
       "      <th>2</th>\n",
       "      <td>0.125000</td>\n",
       "      <td>0.00</td>\n",
       "      <td>0.222222</td>\n",
       "      <td>0.885714</td>\n",
       "      <td>0.000000</td>\n",
       "      <td>0.026316</td>\n",
       "      <td>0.023810</td>\n",
       "      <td>0.023256</td>\n",
       "      <td>0.212766</td>\n",
       "      <td>0.069767</td>\n",
       "      <td>...</td>\n",
       "      <td>0.060606</td>\n",
       "      <td>0.811765</td>\n",
       "      <td>0.080460</td>\n",
       "      <td>0.129412</td>\n",
       "      <td>0.769231</td>\n",
       "      <td>0.084507</td>\n",
       "      <td>0.107692</td>\n",
       "      <td>0.179487</td>\n",
       "      <td>0.1</td>\n",
       "      <td>0.5</td>\n",
       "    </tr>\n",
       "  </tbody>\n",
       "</table>\n",
       "<p>3 rows × 39 columns</p>\n",
       "</div>"
      ],
      "text/plain": [
       "   2012-04예측  2012-07예측  2012-10예측  2013-01예측  2013-04예측  2013-07예측  \\\n",
       "0   0.714286       0.75   0.750000   0.057143   0.909091   0.973684   \n",
       "1   0.160714       0.25   0.027778   0.057143   0.090909   0.000000   \n",
       "2   0.125000       0.00   0.222222   0.885714   0.000000   0.026316   \n",
       "\n",
       "   2013-10예측  2014-01예측  2014-04예측  2014-07예측  ...  2019-07예측  2019-10예측  \\\n",
       "0   0.023810   0.930233   0.765957   0.860465  ...   0.838384   0.129412   \n",
       "1   0.952381   0.046512   0.021277   0.069767  ...   0.101010   0.058824   \n",
       "2   0.023810   0.023256   0.212766   0.069767  ...   0.060606   0.811765   \n",
       "\n",
       "   2020-01예측  2020-04예측  2020-07예측  2020-10예측  2021-01예측  2021-04예측  \\\n",
       "0   0.816092   0.035294   0.179487   0.112676   0.138462   0.717949   \n",
       "1   0.103448   0.835294   0.051282   0.802817   0.753846   0.102564   \n",
       "2   0.080460   0.129412   0.769231   0.084507   0.107692   0.179487   \n",
       "\n",
       "   2021-07예측  2021-10예측  \n",
       "0        0.6        0.0  \n",
       "1        0.3        0.5  \n",
       "2        0.1        0.5  \n",
       "\n",
       "[3 rows x 39 columns]"
      ]
     },
     "execution_count": 31,
     "metadata": {},
     "output_type": "execute_result"
    }
   ],
   "source": [
    "pre, pre_original = evaluate.predict_cluster_result(model_save_dict, scaled_together,label_data_pp_man, \"2012-01\", freq=freq)\n",
    "pre"
   ]
  },
  {
   "cell_type": "code",
   "execution_count": 32,
   "metadata": {},
   "outputs": [],
   "source": [
    "# 그림뽑기\n",
    "\n",
    "test = MyKmeans.visualize_3d_with_answer(scaled_together[\"2021-01\"],model_save_dict[\"2021-01\"][\"model\"], answer_data=label_data_pp_man[\"2021-01\"], fig_title=\"{}_관리종목\".format(model_name))"
   ]
  },
  {
   "cell_type": "code",
   "execution_count": 33,
   "metadata": {},
   "outputs": [
    {
     "data": {
      "text/html": [
       "<div>\n",
       "<style scoped>\n",
       "    .dataframe tbody tr th:only-of-type {\n",
       "        vertical-align: middle;\n",
       "    }\n",
       "\n",
       "    .dataframe tbody tr th {\n",
       "        vertical-align: top;\n",
       "    }\n",
       "\n",
       "    .dataframe thead th {\n",
       "        text-align: right;\n",
       "    }\n",
       "</style>\n",
       "<table border=\"1\" class=\"dataframe\">\n",
       "  <thead>\n",
       "    <tr style=\"text-align: right;\">\n",
       "      <th></th>\n",
       "      <th>PC1</th>\n",
       "      <th>PC2</th>\n",
       "      <th>PC3</th>\n",
       "      <th>label</th>\n",
       "      <th>answer</th>\n",
       "    </tr>\n",
       "  </thead>\n",
       "  <tbody>\n",
       "    <tr>\n",
       "      <th>A000020</th>\n",
       "      <td>-0.293086</td>\n",
       "      <td>0.046468</td>\n",
       "      <td>0.050840</td>\n",
       "      <td>1</td>\n",
       "      <td>2.5</td>\n",
       "    </tr>\n",
       "    <tr>\n",
       "      <th>A000040</th>\n",
       "      <td>0.279627</td>\n",
       "      <td>0.486258</td>\n",
       "      <td>0.396641</td>\n",
       "      <td>0</td>\n",
       "      <td>2.5</td>\n",
       "    </tr>\n",
       "    <tr>\n",
       "      <th>A000050</th>\n",
       "      <td>-0.101406</td>\n",
       "      <td>-0.567613</td>\n",
       "      <td>0.366557</td>\n",
       "      <td>2</td>\n",
       "      <td>2.5</td>\n",
       "    </tr>\n",
       "    <tr>\n",
       "      <th>A000070</th>\n",
       "      <td>-0.567732</td>\n",
       "      <td>-0.098500</td>\n",
       "      <td>0.305568</td>\n",
       "      <td>1</td>\n",
       "      <td>2.5</td>\n",
       "    </tr>\n",
       "    <tr>\n",
       "      <th>A000080</th>\n",
       "      <td>-0.715476</td>\n",
       "      <td>0.484188</td>\n",
       "      <td>0.323523</td>\n",
       "      <td>1</td>\n",
       "      <td>2.5</td>\n",
       "    </tr>\n",
       "    <tr>\n",
       "      <th>...</th>\n",
       "      <td>...</td>\n",
       "      <td>...</td>\n",
       "      <td>...</td>\n",
       "      <td>...</td>\n",
       "      <td>...</td>\n",
       "    </tr>\n",
       "    <tr>\n",
       "      <th>A353810</th>\n",
       "      <td>-0.699793</td>\n",
       "      <td>0.746768</td>\n",
       "      <td>-0.296400</td>\n",
       "      <td>1</td>\n",
       "      <td>2.5</td>\n",
       "    </tr>\n",
       "    <tr>\n",
       "      <th>A354200</th>\n",
       "      <td>0.843447</td>\n",
       "      <td>-0.267037</td>\n",
       "      <td>-0.181770</td>\n",
       "      <td>0</td>\n",
       "      <td>2.5</td>\n",
       "    </tr>\n",
       "    <tr>\n",
       "      <th>A357780</th>\n",
       "      <td>-0.893435</td>\n",
       "      <td>-0.237366</td>\n",
       "      <td>-0.275113</td>\n",
       "      <td>1</td>\n",
       "      <td>2.5</td>\n",
       "    </tr>\n",
       "    <tr>\n",
       "      <th>A363280</th>\n",
       "      <td>-0.097305</td>\n",
       "      <td>-0.863495</td>\n",
       "      <td>0.129425</td>\n",
       "      <td>2</td>\n",
       "      <td>2.5</td>\n",
       "    </tr>\n",
       "    <tr>\n",
       "      <th>A375500</th>\n",
       "      <td>-0.481368</td>\n",
       "      <td>-0.291859</td>\n",
       "      <td>0.056729</td>\n",
       "      <td>2</td>\n",
       "      <td>2.5</td>\n",
       "    </tr>\n",
       "  </tbody>\n",
       "</table>\n",
       "<p>2025 rows × 5 columns</p>\n",
       "</div>"
      ],
      "text/plain": [
       "              PC1       PC2       PC3  label  answer\n",
       "A000020 -0.293086  0.046468  0.050840      1     2.5\n",
       "A000040  0.279627  0.486258  0.396641      0     2.5\n",
       "A000050 -0.101406 -0.567613  0.366557      2     2.5\n",
       "A000070 -0.567732 -0.098500  0.305568      1     2.5\n",
       "A000080 -0.715476  0.484188  0.323523      1     2.5\n",
       "...           ...       ...       ...    ...     ...\n",
       "A353810 -0.699793  0.746768 -0.296400      1     2.5\n",
       "A354200  0.843447 -0.267037 -0.181770      0     2.5\n",
       "A357780 -0.893435 -0.237366 -0.275113      1     2.5\n",
       "A363280 -0.097305 -0.863495  0.129425      2     2.5\n",
       "A375500 -0.481368 -0.291859  0.056729      2     2.5\n",
       "\n",
       "[2025 rows x 5 columns]"
      ]
     },
     "execution_count": 33,
     "metadata": {},
     "output_type": "execute_result"
    }
   ],
   "source": [
    "MyKmeans.visualize_3d_with_answer(scaled_together[\"2021-01\"],model_save_dict[\"2021-01\"][\"model\"], answer_data=label_data_pp_war[\"2021-01\"], fig_title=\"{}_투자주의환기\".format(model_name))"
   ]
  },
  {
   "cell_type": "code",
   "execution_count": null,
   "metadata": {},
   "outputs": [],
   "source": []
  }
 ],
 "metadata": {
  "kernelspec": {
   "display_name": "base",
   "language": "python",
   "name": "python3"
  },
  "language_info": {
   "codemirror_mode": {
    "name": "ipython",
    "version": 3
   },
   "file_extension": ".py",
   "mimetype": "text/x-python",
   "name": "python",
   "nbconvert_exporter": "python",
   "pygments_lexer": "ipython3",
   "version": "3.9.12 (main, Apr  4 2022, 05:22:27) [MSC v.1916 64 bit (AMD64)]"
  },
  "orig_nbformat": 4,
  "vscode": {
   "interpreter": {
    "hash": "a077222d77dfe082b8f1dd562ad70e458ac2ab76993a0b248ab0476e32e9e8dd"
   }
  }
 },
 "nbformat": 4,
 "nbformat_minor": 2
}
