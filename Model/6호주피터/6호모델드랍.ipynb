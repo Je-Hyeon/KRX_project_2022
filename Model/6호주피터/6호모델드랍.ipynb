{
 "cells": [
  {
   "cell_type": "code",
   "execution_count": 1,
   "metadata": {},
   "outputs": [],
   "source": [
    "import os\n",
    "import numpy as np\n",
    "import pandas as pd \n",
    "from krx_fr.preprocess import tools, scaler\n",
    "from krx_fr.cluster import evaluate\n",
    "from krx_fr.cluster.optimize import Optimizer\n",
    "from krx_fr.cluster.kmeans import MyKmeans"
   ]
  },
  {
   "cell_type": "code",
   "execution_count": 2,
   "metadata": {},
   "outputs": [
    {
     "data": {
      "text/plain": [
       "'6호모델드랍down_Y_k3'"
      ]
     },
     "execution_count": 2,
     "metadata": {},
     "output_type": "execute_result"
    }
   ],
   "source": [
    "model = \"6호모델드랍down\"\n",
    "\n",
    "# 윈도우는 Y로 고정\n",
    "window_size = \"Y\"\n",
    "\n",
    "# 어떻게 윈도우를 밀건지\n",
    "freq = \"Y\"\n",
    "\n",
    "# 클러스터 수\n",
    "num_k = 3\n",
    "\n",
    "# 사용할 스케일러\n",
    "sca = scaler.new_rank\n",
    "sc = \"new_rank\"\n",
    "\n",
    "kospi_listed = tools.load_json(\"..\\\\final_data\\\\코스피_구성종목.json\")\n",
    "kosdaq_listed = tools.load_json(\"..\\\\final_data\\\\코스닥_구성종목.json\")\n",
    "together_listed = tools.aggregate_listed_code(kospi_listed, kosdaq_listed)\n",
    "\n",
    "# 모델명\n",
    "model_name = \"{}_{}_k{}\".format(model, freq, num_k)\n",
    "model_name"
   ]
  },
  {
   "cell_type": "code",
   "execution_count": 3,
   "metadata": {},
   "outputs": [],
   "source": [
    "# 퐅더에서 row_data 불러오기\n",
    "kind_data = tools.read_data_from_folder(\"C:\\\\Jehyeon\\\\2022_Winter_KRX\\\\KRX\\\\final_data\\\\KIND\\\\\")\n",
    "financial_data = tools.read_data_from_folder(\"C:\\\\Jehyeon\\\\2022_Winter_KRX\\\\KRX\\\\final_data\\\\재무\\\\\")\n",
    "\n",
    "# 최대주주비율은 1달 단위의 pct_change\n",
    "financial_data2 = tools.dict_data_calculate_pct(financial_data.copy(), name=\"최대주주비율\", return_original=True)\n",
    "\n",
    "# label_data 불러오기\n",
    "label_data_war = pd.read_csv(\"C:\\\\Jehyeon\\\\2022_Winter_KRX\\\\KRX\\\\final_data\\\\label\\\\투자주의환기종목지정카운트.csv\", index_col=0)\n",
    "label_data_man= pd.read_csv(\"C:\\\\Jehyeon\\\\2022_Winter_KRX\\\\KRX\\\\final_data\\\\label\\\\관리종목카운트.csv\", index_col=0)\n",
    "label_data_emb = pd.read_csv(\"C:\\\\Jehyeon\\\\2022_Winter_KRX\\\\KRX\\\\final_data\\\\label\\\\횡령배임혐의발생카운트.csv\", index_col=0)"
   ]
  },
  {
   "cell_type": "code",
   "execution_count": 4,
   "metadata": {},
   "outputs": [],
   "source": [
    "financial_data2[\"결산기간_주가변동률\"] = financial_data2[\"결산기간_주가변동률\"].fillna(0)"
   ]
  },
  {
   "cell_type": "code",
   "execution_count": 5,
   "metadata": {},
   "outputs": [],
   "source": [
    "# 레이블 데이터 shift시켜주기\n",
    "label_data_man_shift = tools.shift_label_data(label_data_man.copy(),shift_size='Y')\n",
    "label_data_war_shift = tools.shift_label_data(label_data_war.copy(),shift_size='Y')\n",
    "label_data_emb_shift = tools.shift_label_data(label_data_emb.copy(),shift_size='Y')\n",
    "\n",
    "label_data_pp1 = tools.dict_data_preprocess_upgrade(label_data_man_shift.copy(), np.sum, \"Y\", rolling_size=freq)\n",
    "label_data_pp_man = tools.dict_data_scale(label_data_pp1.copy(), scaler.zero_one)\n",
    "\n",
    "label_data_pp2 = tools.dict_data_preprocess_upgrade(label_data_war_shift.copy(), np.sum, \"Y\", rolling_size=freq)\n",
    "label_data_pp_war = tools.dict_data_scale(label_data_pp2.copy(), scaler.zero_one)\n",
    "\n",
    "label_data_pp3 = tools.dict_data_preprocess_upgrade(label_data_emb_shift.copy(), np.sum, \"Y\", rolling_size=freq)\n",
    "label_data_pp_emb = tools.dict_data_scale(label_data_pp3.copy(), scaler.zero_one)"
   ]
  },
  {
   "cell_type": "code",
   "execution_count": 6,
   "metadata": {},
   "outputs": [],
   "source": [
    "# 데이터처리 sum / mean\n",
    "kind_data2 = tools.dict_data_preprocess_upgrade(kind_data.copy(), function=np.sum, window_size=window_size,rolling_size=freq, fillna=True)\n",
    "financial_data3 = tools.dict_data_preprocess_upgrade(financial_data2.copy(), function=np.mean, window_size=window_size, rolling_size=freq,fillna=False)"
   ]
  },
  {
   "cell_type": "code",
   "execution_count": 7,
   "metadata": {},
   "outputs": [],
   "source": [
    "# 재무데이터와 공시데이터 합치기\n",
    "concat_data = tools.dict_data_merge(kind_data2.copy(),financial_data3.copy(), dropna=False)"
   ]
  },
  {
   "cell_type": "code",
   "execution_count": 8,
   "metadata": {},
   "outputs": [],
   "source": [
    "list_data = tools.dict_data_match_listed_upgrade(concat_data.copy(), together_listed.copy(), rolling_size=freq)"
   ]
  },
  {
   "cell_type": "code",
   "execution_count": 9,
   "metadata": {},
   "outputs": [
    {
     "data": {
      "text/plain": [
       "Index(['BW금액+CB금액', '경영권분쟁소송', '불성실공시법인지정카운트', '상호변경카운트', '업종변경카운트', '유상증자금액',\n",
       "       '조회공시요구카운트', '최대주주변경을수반하는주식담보제공금액', '최대주주변경을수반하는주식양수도금액', '최대주주변경카운트',\n",
       "       '타법인주식및출자증권취득결정금액', '특수관계인에대한자금대여금액', '결산기간_거래량증가', '결산기간_주가변동률',\n",
       "       '당기순이익', '매출채권', '매출총이익', '영업이익', '영업현금흐름', '차입금의존도', '총자본', '최대주주비율',\n",
       "       '판매 및 관리비', '최대주주비율_변동성'],\n",
       "      dtype='object')"
      ]
     },
     "execution_count": 9,
     "metadata": {},
     "output_type": "execute_result"
    }
   ],
   "source": [
    "# 컬럼을 더할 경우\n",
    "concat_together1 = tools.dict_data_plus(list_data.copy(),\n",
    "                                  plus_one=\"BW금액\"\n",
    "                                 ,plus_two=\"CB금액\", return_origianl=False)\n",
    "\n",
    "#\n",
    "concat_together1[\"2012-01\"].columns"
   ]
  },
  {
   "cell_type": "code",
   "execution_count": 10,
   "metadata": {},
   "outputs": [
    {
     "data": {
      "text/plain": [
       "Index(['BW금액+CB금액+유상증자금액', '경영권분쟁소송', '불성실공시법인지정카운트', '상호변경카운트', '업종변경카운트',\n",
       "       '조회공시요구카운트', '최대주주변경을수반하는주식담보제공금액', '최대주주변경을수반하는주식양수도금액', '최대주주변경카운트',\n",
       "       '타법인주식및출자증권취득결정금액', '특수관계인에대한자금대여금액', '결산기간_거래량증가', '결산기간_주가변동률',\n",
       "       '당기순이익', '매출채권', '매출총이익', '영업이익', '영업현금흐름', '차입금의존도', '총자본', '최대주주비율',\n",
       "       '판매 및 관리비', '최대주주비율_변동성'],\n",
       "      dtype='object')"
      ]
     },
     "execution_count": 10,
     "metadata": {},
     "output_type": "execute_result"
    }
   ],
   "source": [
    "concat_together2 = tools.dict_data_plus(concat_together1, \n",
    "                                  plus_one=\"BW금액+CB금액\"\n",
    "                                 ,plus_two=\"유상증자금액\", return_origianl=False)\n",
    "#concat_kospi2 = tools.dict_data_plus(concat_kospi1, \n",
    "#                                  plus_one=\"상호변경카운트_전체시장\"\n",
    "#                                 ,plus_two=\"업종변경카운트_전체시장\", return_origianl=False)\n",
    "#concat_kosdaq2 = tools.dict_data_plus(concat_kosdaq1, \n",
    "#                                  plus_one=\"상호변경카운트_전체시장\"\n",
    "#                                 ,plus_two=\"업종변경카운트_전체시장\", return_origianl=False)\n",
    "concat_together2[\"2012-01\"].columns"
   ]
  },
  {
   "cell_type": "code",
   "execution_count": 11,
   "metadata": {},
   "outputs": [
    {
     "data": {
      "text/plain": [
       "Index(['최대주주변경을수반하는주식담보제공금액+최대주주변경을수반하는주식양수도금액', 'BW금액+CB금액+유상증자금액', '경영권분쟁소송',\n",
       "       '불성실공시법인지정카운트', '상호변경카운트', '업종변경카운트', '조회공시요구카운트', '최대주주변경카운트',\n",
       "       '타법인주식및출자증권취득결정금액', '특수관계인에대한자금대여금액', '결산기간_거래량증가', '결산기간_주가변동률',\n",
       "       '당기순이익', '매출채권', '매출총이익', '영업이익', '영업현금흐름', '차입금의존도', '총자본', '최대주주비율',\n",
       "       '판매 및 관리비', '최대주주비율_변동성'],\n",
       "      dtype='object')"
      ]
     },
     "execution_count": 11,
     "metadata": {},
     "output_type": "execute_result"
    }
   ],
   "source": [
    "concat_together3 = tools.dict_data_plus(concat_together2, \n",
    "                                  plus_one=\"최대주주변경을수반하는주식담보제공금액\"\n",
    "                                 ,plus_two=\"최대주주변경을수반하는주식양수도금액\", return_origianl=False)\n",
    "#concat_kospi3 = tools.dict_data_plus(concat_kospi2, \n",
    "#                                  plus_one=\"최대주주변경을수반하는주식담보제공금액_전체시장\"\n",
    "#                                 ,plus_two=\"최대주주변경을수반하는주식양수도금액_전체시장\", return_origianl=False)\n",
    "#concat_kosdaq3 = tools.dict_data_plus(concat_kosdaq2, \n",
    "#                                  plus_one=\"최대주주변경을수반하는주식담보제공금액_전체시장\"\n",
    "#                                 ,plus_two=\"최대주주변경을수반하는주식양수도금액_전체시장\", return_origianl=False)\n",
    "#\n",
    "concat_together3[\"2012-01\"].columns"
   ]
  },
  {
   "cell_type": "code",
   "execution_count": 12,
   "metadata": {},
   "outputs": [
    {
     "data": {
      "text/plain": [
       "Index(['타법인주식및출자증권취득결정금액+특수관계인에대한자금대여금액',\n",
       "       '최대주주변경을수반하는주식담보제공금액+최대주주변경을수반하는주식양수도금액', 'BW금액+CB금액+유상증자금액', '경영권분쟁소송',\n",
       "       '불성실공시법인지정카운트', '상호변경카운트', '업종변경카운트', '조회공시요구카운트', '최대주주변경카운트',\n",
       "       '결산기간_거래량증가', '결산기간_주가변동률', '당기순이익', '매출채권', '매출총이익', '영업이익', '영업현금흐름',\n",
       "       '차입금의존도', '총자본', '최대주주비율', '판매 및 관리비', '최대주주비율_변동성'],\n",
       "      dtype='object')"
      ]
     },
     "execution_count": 12,
     "metadata": {},
     "output_type": "execute_result"
    }
   ],
   "source": [
    "concat_together4 = tools.dict_data_plus(concat_together3, \n",
    "                                  plus_one=\"타법인주식및출자증권취득결정금액\"\n",
    "                                 ,plus_two=\"특수관계인에대한자금대여금액\", return_origianl=False)\n",
    "#concat_kospi4 = tools.dict_data_plus(concat_kospi3, \n",
    "#                                  plus_one=\"자기주식처분결정금액_전체시장\"\n",
    "#                                 ,plus_two=\"특수관계인에대한자금대여금액_전체시장\", return_origianl=False)\n",
    "#concat_kosdaq4 = tools.dict_data_plus(concat_kosdaq3, \n",
    "#                                  plus_one=\"자기주식처분결정금액_전체시장\"\n",
    "#                                 ,plus_two=\"특수관계인에대한자금대여금액_전체시장\", return_origianl=False)\n",
    "concat_together4[\"2012-01\"].columns"
   ]
  },
  {
   "cell_type": "code",
   "execution_count": 13,
   "metadata": {},
   "outputs": [
    {
     "data": {
      "text/plain": [
       "Index(['상호변경카운트+업종변경카운트', '타법인주식및출자증권취득결정금액+특수관계인에대한자금대여금액',\n",
       "       '최대주주변경을수반하는주식담보제공금액+최대주주변경을수반하는주식양수도금액', 'BW금액+CB금액+유상증자금액', '경영권분쟁소송',\n",
       "       '불성실공시법인지정카운트', '조회공시요구카운트', '최대주주변경카운트', '결산기간_거래량증가', '결산기간_주가변동률',\n",
       "       '당기순이익', '매출채권', '매출총이익', '영업이익', '영업현금흐름', '차입금의존도', '총자본', '최대주주비율',\n",
       "       '판매 및 관리비', '최대주주비율_변동성'],\n",
       "      dtype='object')"
      ]
     },
     "execution_count": 13,
     "metadata": {},
     "output_type": "execute_result"
    }
   ],
   "source": [
    "concat_together5 = tools.dict_data_plus(concat_together4,\n",
    "                                  plus_one=\"상호변경카운트\"\n",
    "                                 ,plus_two=\"업종변경카운트\", return_origianl=False)\n",
    "#concat_kospi5 = tools.dict_data_plus(concat_kospi4,\n",
    "#                                  plus_one=\"불성실공시법인지정카운트_전체시장\"\n",
    "#                                 ,plus_two=\"조회공시요구카운트_전체시장\", return_origianl=False)\n",
    "#concat_kosdaq5 = tools.dict_data_plus(concat_kosdaq4,\n",
    "#                                  plus_one=\"불성실공시법인지정카운트_전체시장\"\n",
    "#                                 ,plus_two=\"조회공시요구카운트_전체시장\", return_origianl=False)\n",
    "concat_together5[\"2012-01\"].columns"
   ]
  },
  {
   "cell_type": "code",
   "execution_count": 14,
   "metadata": {},
   "outputs": [
    {
     "data": {
      "text/plain": [
       "Index(['경영권분쟁소송+최대주주변경카운트', '상호변경카운트+업종변경카운트',\n",
       "       '타법인주식및출자증권취득결정금액+특수관계인에대한자금대여금액',\n",
       "       '최대주주변경을수반하는주식담보제공금액+최대주주변경을수반하는주식양수도금액', 'BW금액+CB금액+유상증자금액',\n",
       "       '불성실공시법인지정카운트', '조회공시요구카운트', '결산기간_거래량증가', '결산기간_주가변동률', '당기순이익',\n",
       "       '매출채권', '매출총이익', '영업이익', '영업현금흐름', '차입금의존도', '총자본', '최대주주비율',\n",
       "       '판매 및 관리비', '최대주주비율_변동성'],\n",
       "      dtype='object')"
      ]
     },
     "execution_count": 14,
     "metadata": {},
     "output_type": "execute_result"
    }
   ],
   "source": [
    "concat_together6 = tools.dict_data_plus(concat_together5,\n",
    "                                  plus_one=\"경영권분쟁소송\"\n",
    "                                 ,plus_two=\"최대주주변경카운트\", return_origianl=False)\n",
    "#concat_kospi6 = tools.dict_data_plus(concat_kospi5,\n",
    "#                                  plus_one=\"경영권분쟁소송_전체시장\"\n",
    "#                                 ,plus_two=\"최대주주변경카운트_전체시장\", return_origianl=False)\n",
    "#concat_kosdaq6 = tools.dict_data_plus(concat_kosdaq5,\n",
    "#                                  plus_one=\"경영권분쟁소송_전체시장\"\n",
    "#                                 ,plus_two=\"최대주주변경카운트_전체시장\", return_origianl=False)\n",
    "concat_together6[\"2012-01\"].columns"
   ]
  },
  {
   "cell_type": "code",
   "execution_count": 15,
   "metadata": {},
   "outputs": [
    {
     "data": {
      "text/plain": [
       "Index(['경영권분쟁소송+최대주주변경카운트+불성실공시법인지정카운트', '상호변경카운트+업종변경카운트',\n",
       "       '타법인주식및출자증권취득결정금액+특수관계인에대한자금대여금액',\n",
       "       '최대주주변경을수반하는주식담보제공금액+최대주주변경을수반하는주식양수도금액', 'BW금액+CB금액+유상증자금액',\n",
       "       '조회공시요구카운트', '결산기간_거래량증가', '결산기간_주가변동률', '당기순이익', '매출채권', '매출총이익',\n",
       "       '영업이익', '영업현금흐름', '차입금의존도', '총자본', '최대주주비율', '판매 및 관리비', '최대주주비율_변동성'],\n",
       "      dtype='object')"
      ]
     },
     "execution_count": 15,
     "metadata": {},
     "output_type": "execute_result"
    }
   ],
   "source": [
    "concat_together7 = tools.dict_data_plus(concat_together6,\n",
    "                                  plus_one=\"경영권분쟁소송+최대주주변경카운트\"\n",
    "                                 ,plus_two=\"불성실공시법인지정카운트\", return_origianl=False)\n",
    "#concat_kospi7 = tools.dict_data_plus(concat_kospi6,\n",
    "#                                  plus_one=\"BW금액_전체시장+CB금액_전체시장\"\n",
    "#                                 ,plus_two=\"유상증자금액_전체시장\", return_origianl=False)\n",
    "#concat_kosdaq7 = tools.dict_data_plus(concat_kosdaq6,\n",
    "#                                  plus_one=\"BW금액_전체시장+CB금액_전체시장\"\n",
    "#                                 ,plus_two=\"유상증자금액_전체시장\", return_origianl=False)\n",
    "concat_together7[\"2012-01\"].columns"
   ]
  },
  {
   "cell_type": "code",
   "execution_count": 16,
   "metadata": {},
   "outputs": [
    {
     "data": {
      "text/plain": [
       "Index(['경영권분쟁소송+최대주주변경카운트+불성실공시법인지정카운트+조회공시요구카운트', '상호변경카운트+업종변경카운트',\n",
       "       '타법인주식및출자증권취득결정금액+특수관계인에대한자금대여금액',\n",
       "       '최대주주변경을수반하는주식담보제공금액+최대주주변경을수반하는주식양수도금액', 'BW금액+CB금액+유상증자금액',\n",
       "       '결산기간_거래량증가', '결산기간_주가변동률', '당기순이익', '매출채권', '매출총이익', '영업이익', '영업현금흐름',\n",
       "       '차입금의존도', '총자본', '최대주주비율', '판매 및 관리비', '최대주주비율_변동성'],\n",
       "      dtype='object')"
      ]
     },
     "execution_count": 16,
     "metadata": {},
     "output_type": "execute_result"
    }
   ],
   "source": [
    "concat_together8 = tools.dict_data_plus(concat_together7,\n",
    "                                  plus_one=\"경영권분쟁소송+최대주주변경카운트+불성실공시법인지정카운트\"\n",
    "                                 ,plus_two=\"조회공시요구카운트\", return_origianl=False)\n",
    "#concat_kospi8 = tools.dict_data_plus(concat_kospi7,\n",
    "#                                  plus_one=\"경영권분쟁소송_전체시장+최대주주변경카운트_전체시장\"\n",
    "#                                 ,plus_two=\"상호변경카운트_전체시장+업종변경카운트_전체시장\", return_origianl=False)\n",
    "#concat_kosdaq8 = tools.dict_data_plus(concat_kosdaq7,\n",
    "#                                  plus_one=\"경영권분쟁소송_전체시장+최대주주변경카운트_전체시장\"\n",
    "#                                 ,plus_two=\"상호변경카운트_전체시장+업종변경카운트_전체시장\", return_origianl=False)\n",
    "concat_together8[\"2012-01\"].columns"
   ]
  },
  {
   "cell_type": "code",
   "execution_count": 17,
   "metadata": {},
   "outputs": [
    {
     "data": {
      "text/plain": [
       "Index(['경영권분쟁소송+최대주주변경카운트+불성실공시법인지정카운트+조회공시요구카운트+상호변경카운트+업종변경카운트',\n",
       "       '타법인주식및출자증권취득결정금액+특수관계인에대한자금대여금액',\n",
       "       '최대주주변경을수반하는주식담보제공금액+최대주주변경을수반하는주식양수도금액', 'BW금액+CB금액+유상증자금액',\n",
       "       '결산기간_거래량증가', '결산기간_주가변동률', '당기순이익', '매출채권', '매출총이익', '영업이익', '영업현금흐름',\n",
       "       '차입금의존도', '총자본', '최대주주비율', '판매 및 관리비', '최대주주비율_변동성'],\n",
       "      dtype='object')"
      ]
     },
     "execution_count": 17,
     "metadata": {},
     "output_type": "execute_result"
    }
   ],
   "source": [
    "concat_together9 = tools.dict_data_plus(concat_together8,\n",
    "                                  plus_one=\"경영권분쟁소송+최대주주변경카운트+불성실공시법인지정카운트+조회공시요구카운트\"\n",
    "                                 ,plus_two=\"상호변경카운트+업종변경카운트\", return_origianl=False)\n",
    "concat_together9[\"2012-01\"].columns"
   ]
  },
  {
   "cell_type": "code",
   "execution_count": 18,
   "metadata": {},
   "outputs": [
    {
     "data": {
      "text/plain": [
       "Index(['최대주주변경을수반하는주식담보제공금액+최대주주변경을수반하는주식양수도금액+타법인주식및출자증권취득결정금액+특수관계인에대한자금대여금액',\n",
       "       '경영권분쟁소송+최대주주변경카운트+불성실공시법인지정카운트+조회공시요구카운트+상호변경카운트+업종변경카운트',\n",
       "       'BW금액+CB금액+유상증자금액', '결산기간_거래량증가', '결산기간_주가변동률', '당기순이익', '매출채권',\n",
       "       '매출총이익', '영업이익', '영업현금흐름', '차입금의존도', '총자본', '최대주주비율', '판매 및 관리비',\n",
       "       '최대주주비율_변동성'],\n",
       "      dtype='object')"
      ]
     },
     "execution_count": 18,
     "metadata": {},
     "output_type": "execute_result"
    }
   ],
   "source": [
    "concat_together10 = tools.dict_data_plus(concat_together9,\n",
    "                                  plus_one=\"최대주주변경을수반하는주식담보제공금액+최대주주변경을수반하는주식양수도금액\"\n",
    "                                 ,plus_two=\"타법인주식및출자증권취득결정금액+특수관계인에대한자금대여금액\", return_origianl=False)\n",
    "concat_together10[\"2012-01\"].columns"
   ]
  },
  {
   "cell_type": "code",
   "execution_count": 19,
   "metadata": {},
   "outputs": [
    {
     "name": "stdout",
     "output_type": "stream",
     "text": [
      "(14,)\n"
     ]
    },
    {
     "data": {
      "text/plain": [
       "Index(['최대주주변경을수반하는주식담보제공금액+최대주주변경을수반하는주식양수도금액+타법인주식및출자증권취득결정금액+특수관계인에대한자금대여금액+BW금액+CB금액+유상증자금액',\n",
       "       '경영권분쟁소송+최대주주변경카운트+불성실공시법인지정카운트+조회공시요구카운트+상호변경카운트+업종변경카운트',\n",
       "       '결산기간_거래량증가', '결산기간_주가변동률', '당기순이익', '매출채권', '매출총이익', '영업이익', '영업현금흐름',\n",
       "       '차입금의존도', '총자본', '최대주주비율', '판매 및 관리비', '최대주주비율_변동성'],\n",
       "      dtype='object')"
      ]
     },
     "execution_count": 19,
     "metadata": {},
     "output_type": "execute_result"
    }
   ],
   "source": [
    "concat_together11 = tools.dict_data_plus(concat_together10,\n",
    "                                  plus_one=\"최대주주변경을수반하는주식담보제공금액+최대주주변경을수반하는주식양수도금액+타법인주식및출자증권취득결정금액+특수관계인에대한자금대여금액\"\n",
    "                                 ,plus_two=\"BW금액+CB금액+유상증자금액\", return_origianl=False)\n",
    "print(concat_together11[\"2012-01\"].columns.shape)\n",
    "concat_together11[\"2012-01\"].columns"
   ]
  },
  {
   "cell_type": "code",
   "execution_count": 20,
   "metadata": {},
   "outputs": [
    {
     "data": {
      "text/plain": [
       "Index(['최대주주변경을수반하는주식담보제공금액+최대주주변경을수반하는주식양수도금액+타법인주식및출자증권취득결정금액+특수관계인에대한자금대여금액+BW금액+CB금액+유상증자금액/총자본',\n",
       "       '당기순이익/총자본', '매출채권/총자본', '매출총이익/총자본', '영업이익/총자본', '영업현금흐름/총자본',\n",
       "       '판매 및 관리비/총자본',\n",
       "       '최대주주변경을수반하는주식담보제공금액+최대주주변경을수반하는주식양수도금액+타법인주식및출자증권취득결정금액+특수관계인에대한자금대여금액+BW금액+CB금액+유상증자금액',\n",
       "       '경영권분쟁소송+최대주주변경카운트+불성실공시법인지정카운트+조회공시요구카운트+상호변경카운트+업종변경카운트',\n",
       "       '결산기간_거래량증가', '결산기간_주가변동률', '당기순이익', '매출채권', '매출총이익', '영업이익', '영업현금흐름',\n",
       "       '차입금의존도', '총자본', '최대주주비율', '판매 및 관리비', '최대주주비율_변동성'],\n",
       "      dtype='object')"
      ]
     },
     "execution_count": 20,
     "metadata": {},
     "output_type": "execute_result"
    }
   ],
   "source": [
    "divide_what = ['최대주주변경을수반하는주식담보제공금액+최대주주변경을수반하는주식양수도금액+타법인주식및출자증권취득결정금액+특수관계인에대한자금대여금액+BW금액+CB금액+유상증자금액',\n",
    "        '당기순이익', '매출채권', '매출총이익', '영업이익', '영업현금흐름','판매 및 관리비']\n",
    "\n",
    "divide_together = tools.dict_data_divide(concat_together11.copy(), divide_what=divide_what, \n",
    "                                         divide_into=\"총자본\", return_origianl=True)\n",
    "\n",
    "divide_together[\"2012-01\"].columns"
   ]
  },
  {
   "cell_type": "code",
   "execution_count": 21,
   "metadata": {},
   "outputs": [
    {
     "name": "stdout",
     "output_type": "stream",
     "text": [
      "14\n"
     ]
    },
    {
     "data": {
      "text/plain": [
       "Index(['최대주주변경을수반하는주식담보제공금액+최대주주변경을수반하는주식양수도금액+타법인주식및출자증권취득결정금액+특수관계인에대한자금대여금액+BW금액+CB금액+유상증자금액/총자본',\n",
       "       '당기순이익/총자본', '매출채권/총자본', '매출총이익/총자본', '영업이익/총자본', '영업현금흐름/총자본',\n",
       "       '판매 및 관리비/총자본',\n",
       "       '경영권분쟁소송+최대주주변경카운트+불성실공시법인지정카운트+조회공시요구카운트+상호변경카운트+업종변경카운트',\n",
       "       '결산기간_거래량증가', '결산기간_주가변동률', '차입금의존도', '총자본', '최대주주비율', '최대주주비율_변동성'],\n",
       "      dtype='object')"
      ]
     },
     "execution_count": 21,
     "metadata": {},
     "output_type": "execute_result"
    }
   ],
   "source": [
    "drop_together1 = tools.dict_data_drop(divide_together.copy(), \n",
    "                                      drop_col=['최대주주변경을수반하는주식담보제공금액+최대주주변경을수반하는주식양수도금액+타법인주식및출자증권취득결정금액+특수관계인에대한자금대여금액+BW금액+CB금액+유상증자금액',\n",
    "                                                '당기순이익', '매출채권', '매출총이익', '영업이익','영업현금흐름',\"판매 및 관리비\"], dropna=False)\n",
    "print(len(drop_together1[\"2012-01\"].columns))\n",
    "drop_together1[\"2012-01\"].columns"
   ]
  },
  {
   "cell_type": "code",
   "execution_count": 22,
   "metadata": {},
   "outputs": [],
   "source": [
    "drop_col_top_y = [\"영업이익/총자본\",\"총자본\",\"당기순이익/총자본\",\"매출총이익/총자본\"] # q와 동일\n",
    "#drop_col_top_q = [\"당기순이익/총자본\",\"영업이익/총자본\",\"총자본\",\"매출총이익/총자본\"]\n",
    "\n",
    "drop_col_down_y = [\"경영권분쟁소송+최대주주변경카운트+불성실공시법인지정카운트+조회공시요구카운트+상호변경카운트+업종변경카운트\",\n",
    "                   \"결산기간_주가변동률\",\n",
    "                   \"최대주주비율_변동성\",\"결산기간_거래량증가\"]\n",
    "\n",
    "divide_data2 = tools.dict_data_drop(drop_together1.copy(), drop_col=drop_col_down_y, dropna=False)"
   ]
  },
  {
   "cell_type": "code",
   "execution_count": 23,
   "metadata": {},
   "outputs": [
    {
     "data": {
      "text/plain": [
       "Index(['최대주주변경을수반하는주식담보제공금액+최대주주변경을수반하는주식양수도금액+타법인주식및출자증권취득결정금액+특수관계인에대한자금대여금액+BW금액+CB금액+유상증자금액/총자본',\n",
       "       '당기순이익/총자본', '매출채권/총자본', '매출총이익/총자본', '영업이익/총자본', '영업현금흐름/총자본',\n",
       "       '판매 및 관리비/총자본', '차입금의존도', '총자본', '최대주주비율'],\n",
       "      dtype='object')"
      ]
     },
     "execution_count": 23,
     "metadata": {},
     "output_type": "execute_result"
    }
   ],
   "source": [
    "drop_togehter = tools.dict_data_drop(divide_data2.copy(), dropna=True)\n",
    "scaled_together = tools.dict_data_scale(drop_togehter.copy(), scaler=sca)\n",
    "\n",
    "scaled_together[\"2012-01\"].columns"
   ]
  },
  {
   "cell_type": "code",
   "execution_count": 24,
   "metadata": {},
   "outputs": [
    {
     "name": "stderr",
     "output_type": "stream",
     "text": [
      "100%|██████████| 100/100 [00:05<00:00, 19.73it/s]\n",
      "100%|██████████| 100/100 [00:05<00:00, 19.12it/s]\n",
      "100%|██████████| 100/100 [00:05<00:00, 18.70it/s]\n",
      "100%|██████████| 100/100 [00:05<00:00, 17.68it/s]\n",
      "100%|██████████| 100/100 [00:05<00:00, 18.19it/s]\n",
      "100%|██████████| 100/100 [00:05<00:00, 16.79it/s]\n",
      "100%|██████████| 100/100 [00:06<00:00, 15.65it/s]\n",
      "100%|██████████| 100/100 [00:06<00:00, 15.48it/s]\n",
      "100%|██████████| 100/100 [00:06<00:00, 14.70it/s]\n",
      "100%|██████████| 100/100 [00:07<00:00, 14.19it/s]\n",
      "100%|██████████| 100/100 [00:07<00:00, 14.04it/s]\n"
     ]
    },
    {
     "data": {
      "text/plain": [
       "{'2012-01': {'num_of_cluseer': 3,\n",
       "  'random_state': 0,\n",
       "  'model': KMeans(max_iter=500, n_clusters=3, n_init=1, random_state=0)},\n",
       " '2013-01': {'num_of_cluseer': 3,\n",
       "  'random_state': 74,\n",
       "  'model': KMeans(max_iter=500, n_clusters=3, n_init=1, random_state=74)},\n",
       " '2014-01': {'num_of_cluseer': 3,\n",
       "  'random_state': 36,\n",
       "  'model': KMeans(max_iter=500, n_clusters=3, n_init=1, random_state=36)},\n",
       " '2015-01': {'num_of_cluseer': 3,\n",
       "  'random_state': 64,\n",
       "  'model': KMeans(max_iter=500, n_clusters=3, n_init=1, random_state=64)},\n",
       " '2016-01': {'num_of_cluseer': 3,\n",
       "  'random_state': 79,\n",
       "  'model': KMeans(max_iter=500, n_clusters=3, n_init=1, random_state=79)},\n",
       " '2017-01': {'num_of_cluseer': 3,\n",
       "  'random_state': 80,\n",
       "  'model': KMeans(max_iter=500, n_clusters=3, n_init=1, random_state=80)},\n",
       " '2018-01': {'num_of_cluseer': 3,\n",
       "  'random_state': 99,\n",
       "  'model': KMeans(max_iter=500, n_clusters=3, n_init=1, random_state=99)},\n",
       " '2019-01': {'num_of_cluseer': 3,\n",
       "  'random_state': 1,\n",
       "  'model': KMeans(max_iter=500, n_clusters=3, n_init=1, random_state=1)},\n",
       " '2020-01': {'num_of_cluseer': 3,\n",
       "  'random_state': 37,\n",
       "  'model': KMeans(max_iter=500, n_clusters=3, n_init=1, random_state=37)},\n",
       " '2021-01': {'num_of_cluseer': 3,\n",
       "  'random_state': 26,\n",
       "  'model': KMeans(max_iter=500, n_clusters=3, n_init=1, random_state=26)},\n",
       " '2022-01': {'num_of_cluseer': 3,\n",
       "  'random_state': 44,\n",
       "  'model': KMeans(max_iter=500, n_clusters=3, n_init=1, random_state=44)}}"
      ]
     },
     "execution_count": 24,
     "metadata": {},
     "output_type": "execute_result"
    }
   ],
   "source": [
    "model_save_dict = evaluate.run_iter_kmeans(num_k, max_sample=100, raw_data=scaled_together.copy())\n",
    "model_save_dict"
   ]
  },
  {
   "attachments": {},
   "cell_type": "markdown",
   "metadata": {},
   "source": [
    "## 모델기록\n"
   ]
  },
  {
   "cell_type": "code",
   "execution_count": 25,
   "metadata": {},
   "outputs": [
    {
     "name": "stdout",
     "output_type": "stream",
     "text": [
      "801.0\n",
      "412.0\n"
     ]
    },
    {
     "data": {
      "text/html": [
       "<div>\n",
       "<style scoped>\n",
       "    .dataframe tbody tr th:only-of-type {\n",
       "        vertical-align: middle;\n",
       "    }\n",
       "\n",
       "    .dataframe tbody tr th {\n",
       "        vertical-align: top;\n",
       "    }\n",
       "\n",
       "    .dataframe thead th {\n",
       "        text-align: right;\n",
       "    }\n",
       "</style>\n",
       "<table border=\"1\" class=\"dataframe\">\n",
       "  <thead>\n",
       "    <tr style=\"text-align: right;\">\n",
       "      <th></th>\n",
       "      <th>2012-01</th>\n",
       "      <th>2013-01</th>\n",
       "      <th>2014-01</th>\n",
       "      <th>2015-01</th>\n",
       "      <th>2016-01</th>\n",
       "      <th>2017-01</th>\n",
       "      <th>2018-01</th>\n",
       "      <th>2019-01</th>\n",
       "      <th>2020-01</th>\n",
       "      <th>2021-01</th>\n",
       "      <th>2022-01</th>\n",
       "    </tr>\n",
       "  </thead>\n",
       "  <tbody>\n",
       "    <tr>\n",
       "      <th>0</th>\n",
       "      <td>562.0</td>\n",
       "      <td>559.0</td>\n",
       "      <td>479.0</td>\n",
       "      <td>651.0</td>\n",
       "      <td>667.0</td>\n",
       "      <td>724.0</td>\n",
       "      <td>539.0</td>\n",
       "      <td>521.0</td>\n",
       "      <td>769.0</td>\n",
       "      <td>587.0</td>\n",
       "      <td>602.0</td>\n",
       "    </tr>\n",
       "    <tr>\n",
       "      <th>1</th>\n",
       "      <td>654.0</td>\n",
       "      <td>446.0</td>\n",
       "      <td>606.0</td>\n",
       "      <td>615.0</td>\n",
       "      <td>475.0</td>\n",
       "      <td>642.0</td>\n",
       "      <td>625.0</td>\n",
       "      <td>744.0</td>\n",
       "      <td>565.0</td>\n",
       "      <td>796.0</td>\n",
       "      <td>801.0</td>\n",
       "    </tr>\n",
       "    <tr>\n",
       "      <th>2</th>\n",
       "      <td>412.0</td>\n",
       "      <td>619.0</td>\n",
       "      <td>568.0</td>\n",
       "      <td>446.0</td>\n",
       "      <td>618.0</td>\n",
       "      <td>471.0</td>\n",
       "      <td>741.0</td>\n",
       "      <td>688.0</td>\n",
       "      <td>677.0</td>\n",
       "      <td>677.0</td>\n",
       "      <td>665.0</td>\n",
       "    </tr>\n",
       "    <tr>\n",
       "      <th>기업수</th>\n",
       "      <td>1628.0</td>\n",
       "      <td>1624.0</td>\n",
       "      <td>1653.0</td>\n",
       "      <td>1712.0</td>\n",
       "      <td>1760.0</td>\n",
       "      <td>1837.0</td>\n",
       "      <td>1905.0</td>\n",
       "      <td>1953.0</td>\n",
       "      <td>2011.0</td>\n",
       "      <td>2060.0</td>\n",
       "      <td>2068.0</td>\n",
       "    </tr>\n",
       "  </tbody>\n",
       "</table>\n",
       "</div>"
      ],
      "text/plain": [
       "     2012-01  2013-01  2014-01  2015-01  2016-01  2017-01  2018-01  2019-01  \\\n",
       "0      562.0    559.0    479.0    651.0    667.0    724.0    539.0    521.0   \n",
       "1      654.0    446.0    606.0    615.0    475.0    642.0    625.0    744.0   \n",
       "2      412.0    619.0    568.0    446.0    618.0    471.0    741.0    688.0   \n",
       "기업수   1628.0   1624.0   1653.0   1712.0   1760.0   1837.0   1905.0   1953.0   \n",
       "\n",
       "     2020-01  2021-01  2022-01  \n",
       "0      769.0    587.0    602.0  \n",
       "1      565.0    796.0    801.0  \n",
       "2      677.0    677.0    665.0  \n",
       "기업수   2011.0   2060.0   2068.0  "
      ]
     },
     "execution_count": 25,
     "metadata": {},
     "output_type": "execute_result"
    }
   ],
   "source": [
    "size =evaluate.eval_cluster_size(model_save_dict)\n",
    "size.to_csv(\"{}_클러스터사이즈.csv\".format(model_name))\n",
    "\n",
    "print(size.iloc[:-1,:].max().max())\n",
    "print(size.iloc[:-1,:].min().min())\n",
    "size"
   ]
  },
  {
   "cell_type": "code",
   "execution_count": 26,
   "metadata": {},
   "outputs": [],
   "source": [
    "eval_one, eval_one_original = evaluate.eval_cluster_result(model_save_dict, raw_data = scaled_together, label_data=label_data_pp_man, freq=freq)\n",
    "eval_one.to_csv(\"{}_관리종목.csv\".format(model_name))\n",
    "eval_one_original.to_csv(\"{}_관리종목전체대비.csv\".format(model_name))"
   ]
  },
  {
   "cell_type": "code",
   "execution_count": 27,
   "metadata": {},
   "outputs": [],
   "source": [
    "eval_two,eval_two_original = evaluate.eval_cluster_result(model_save_dict, raw_data = scaled_together, label_data=label_data_pp_war, freq=freq)\n",
    "eval_two.to_csv(\"{}_투자환기종목.csv\".format(model_name))\n",
    "eval_two_original.to_csv(\"{}_투자환기종목전체대비.csv\".format(model_name))"
   ]
  },
  {
   "cell_type": "code",
   "execution_count": 28,
   "metadata": {},
   "outputs": [],
   "source": [
    "# 횡령인 경우\n",
    "eval_three, eval_three_original = evaluate.eval_cluster_result(model_save_dict, raw_data = scaled_together, label_data=label_data_pp_emb, freq=freq)\n",
    "eval_three.to_csv(\"{}_횡령배임혐의.csv\".format(model_name))\n",
    "eval_three_original.to_csv(\"{}_횡령배임혐의전체대비.csv\".format(model_name))"
   ]
  },
  {
   "cell_type": "code",
   "execution_count": 29,
   "metadata": {},
   "outputs": [
    {
     "name": "stdout",
     "output_type": "stream",
     "text": [
      "0.8315742827774979\n",
      "1.0\n"
     ]
    },
    {
     "data": {
      "text/plain": [
       "0.09923141277462535"
      ]
     },
     "execution_count": 29,
     "metadata": {},
     "output_type": "execute_result"
    }
   ],
   "source": [
    "print(evaluate.calculate_catch_probability(eval_one, eval_two, None))#, eval_three)\n",
    "print(evaluate.calculate_match_probability(eval_one, eval_two,None))# eval_three)\n",
    "evaluate.calculate_catch_probability(eval_one_original, eval_two_original, None)#eval_three_original)"
   ]
  },
  {
   "cell_type": "code",
   "execution_count": 30,
   "metadata": {},
   "outputs": [
    {
     "data": {
      "text/plain": [
       "당기순이익/총자본                                                                                      0.202968\n",
       "영업이익/총자본                                                                                       0.195390\n",
       "판매 및 관리비/총자본                                                                                   0.106460\n",
       "총자본                                                                                            0.100175\n",
       "매출총이익/총자본                                                                                      0.093436\n",
       "영업현금흐름/총자본                                                                                     0.087571\n",
       "최대주주비율                                                                                         0.078889\n",
       "차입금의존도                                                                                         0.056191\n",
       "최대주주변경을수반하는주식담보제공금액+최대주주변경을수반하는주식양수도금액+타법인주식및출자증권취득결정금액+특수관계인에대한자금대여금액+BW금액+CB금액+유상증자금액/총자본    0.043784\n",
       "매출채권/총자본                                                                                       0.035136\n",
       "dtype: float64"
      ]
     },
     "execution_count": 30,
     "metadata": {},
     "output_type": "execute_result"
    }
   ],
   "source": [
    "def pct(df):\n",
    "    return df / np.sum(df)\n",
    "\n",
    "dist = evaluate.eval_cluster_distance(eval_one, scaled_together, model_save_dict)\n",
    "dist = dist.apply(pct, axis=1)\n",
    "dist2= dist.mean(axis=0).sort_values(ascending=False)\n",
    "\n",
    "dist.to_csv(\"{}_거리분해.csv\".format(model_name))\n",
    "dist2.to_csv(\"{}_거리분해평균.csv\".format(model_name))\n",
    "\n",
    "dist2"
   ]
  },
  {
   "cell_type": "code",
   "execution_count": 31,
   "metadata": {},
   "outputs": [
    {
     "name": "stderr",
     "output_type": "stream",
     "text": [
      "c:\\Jehyeon\\2022_Winter_KRX\\KRX\\Model\\krx_fr\\cluster\\optimize.py:263: RuntimeWarning: invalid value encountered in double_scalars\n",
      "  cluster_accuracy[key] = cluster_accuracy[key]/value_sum\n"
     ]
    },
    {
     "data": {
      "text/html": [
       "<div>\n",
       "<style scoped>\n",
       "    .dataframe tbody tr th:only-of-type {\n",
       "        vertical-align: middle;\n",
       "    }\n",
       "\n",
       "    .dataframe tbody tr th {\n",
       "        vertical-align: top;\n",
       "    }\n",
       "\n",
       "    .dataframe thead th {\n",
       "        text-align: right;\n",
       "    }\n",
       "</style>\n",
       "<table border=\"1\" class=\"dataframe\">\n",
       "  <thead>\n",
       "    <tr style=\"text-align: right;\">\n",
       "      <th></th>\n",
       "      <th>2013-01예측</th>\n",
       "      <th>2014-01예측</th>\n",
       "      <th>2015-01예측</th>\n",
       "      <th>2016-01예측</th>\n",
       "      <th>2017-01예측</th>\n",
       "      <th>2018-01예측</th>\n",
       "      <th>2019-01예측</th>\n",
       "      <th>2020-01예측</th>\n",
       "      <th>2021-01예측</th>\n",
       "    </tr>\n",
       "  </thead>\n",
       "  <tbody>\n",
       "    <tr>\n",
       "      <th>0</th>\n",
       "      <td>0.085714</td>\n",
       "      <td>0.674419</td>\n",
       "      <td>0.928571</td>\n",
       "      <td>0.093023</td>\n",
       "      <td>0.115385</td>\n",
       "      <td>0.116279</td>\n",
       "      <td>0.898876</td>\n",
       "      <td>0.797753</td>\n",
       "      <td>0.121212</td>\n",
       "    </tr>\n",
       "    <tr>\n",
       "      <th>1</th>\n",
       "      <td>0.085714</td>\n",
       "      <td>0.302326</td>\n",
       "      <td>0.023810</td>\n",
       "      <td>0.116279</td>\n",
       "      <td>0.788462</td>\n",
       "      <td>0.081395</td>\n",
       "      <td>0.044944</td>\n",
       "      <td>0.089888</td>\n",
       "      <td>0.742424</td>\n",
       "    </tr>\n",
       "    <tr>\n",
       "      <th>2</th>\n",
       "      <td>0.828571</td>\n",
       "      <td>0.023256</td>\n",
       "      <td>0.047619</td>\n",
       "      <td>0.790698</td>\n",
       "      <td>0.096154</td>\n",
       "      <td>0.802326</td>\n",
       "      <td>0.056180</td>\n",
       "      <td>0.112360</td>\n",
       "      <td>0.136364</td>\n",
       "    </tr>\n",
       "  </tbody>\n",
       "</table>\n",
       "</div>"
      ],
      "text/plain": [
       "   2013-01예측  2014-01예측  2015-01예측  2016-01예측  2017-01예측  2018-01예측  \\\n",
       "0   0.085714   0.674419   0.928571   0.093023   0.115385   0.116279   \n",
       "1   0.085714   0.302326   0.023810   0.116279   0.788462   0.081395   \n",
       "2   0.828571   0.023256   0.047619   0.790698   0.096154   0.802326   \n",
       "\n",
       "   2019-01예측  2020-01예측  2021-01예측  \n",
       "0   0.898876   0.797753   0.121212  \n",
       "1   0.044944   0.089888   0.742424  \n",
       "2   0.056180   0.112360   0.136364  "
      ]
     },
     "execution_count": 31,
     "metadata": {},
     "output_type": "execute_result"
    }
   ],
   "source": [
    "pre, pre_original = evaluate.predict_cluster_result(model_save_dict, scaled_together,label_data_pp_man, \"2012-01\", freq=freq)\n",
    "pre"
   ]
  },
  {
   "cell_type": "code",
   "execution_count": 32,
   "metadata": {},
   "outputs": [
    {
     "name": "stderr",
     "output_type": "stream",
     "text": [
      "c:\\Jehyeon\\2022_Winter_KRX\\KRX\\Model\\krx_fr\\cluster\\optimize.py:263: RuntimeWarning: invalid value encountered in double_scalars\n",
      "  cluster_accuracy[key] = cluster_accuracy[key]/value_sum\n"
     ]
    },
    {
     "data": {
      "text/html": [
       "<div>\n",
       "<style scoped>\n",
       "    .dataframe tbody tr th:only-of-type {\n",
       "        vertical-align: middle;\n",
       "    }\n",
       "\n",
       "    .dataframe tbody tr th {\n",
       "        vertical-align: top;\n",
       "    }\n",
       "\n",
       "    .dataframe thead th {\n",
       "        text-align: right;\n",
       "    }\n",
       "</style>\n",
       "<table border=\"1\" class=\"dataframe\">\n",
       "  <thead>\n",
       "    <tr style=\"text-align: right;\">\n",
       "      <th></th>\n",
       "      <th>2013-01예측</th>\n",
       "      <th>2014-01예측</th>\n",
       "      <th>2015-01예측</th>\n",
       "      <th>2016-01예측</th>\n",
       "      <th>2017-01예측</th>\n",
       "      <th>2018-01예측</th>\n",
       "      <th>2019-01예측</th>\n",
       "      <th>2020-01예측</th>\n",
       "      <th>2021-01예측</th>\n",
       "    </tr>\n",
       "  </thead>\n",
       "  <tbody>\n",
       "    <tr>\n",
       "      <th>0</th>\n",
       "      <td>0.085714</td>\n",
       "      <td>0.674419</td>\n",
       "      <td>0.928571</td>\n",
       "      <td>0.093023</td>\n",
       "      <td>0.115385</td>\n",
       "      <td>0.116279</td>\n",
       "      <td>0.898876</td>\n",
       "      <td>0.797753</td>\n",
       "      <td>0.121212</td>\n",
       "    </tr>\n",
       "    <tr>\n",
       "      <th>1</th>\n",
       "      <td>0.085714</td>\n",
       "      <td>0.302326</td>\n",
       "      <td>0.023810</td>\n",
       "      <td>0.116279</td>\n",
       "      <td>0.788462</td>\n",
       "      <td>0.081395</td>\n",
       "      <td>0.044944</td>\n",
       "      <td>0.089888</td>\n",
       "      <td>0.742424</td>\n",
       "    </tr>\n",
       "    <tr>\n",
       "      <th>2</th>\n",
       "      <td>0.828571</td>\n",
       "      <td>0.023256</td>\n",
       "      <td>0.047619</td>\n",
       "      <td>0.790698</td>\n",
       "      <td>0.096154</td>\n",
       "      <td>0.802326</td>\n",
       "      <td>0.056180</td>\n",
       "      <td>0.112360</td>\n",
       "      <td>0.136364</td>\n",
       "    </tr>\n",
       "  </tbody>\n",
       "</table>\n",
       "</div>"
      ],
      "text/plain": [
       "   2013-01예측  2014-01예측  2015-01예측  2016-01예측  2017-01예측  2018-01예측  \\\n",
       "0   0.085714   0.674419   0.928571   0.093023   0.115385   0.116279   \n",
       "1   0.085714   0.302326   0.023810   0.116279   0.788462   0.081395   \n",
       "2   0.828571   0.023256   0.047619   0.790698   0.096154   0.802326   \n",
       "\n",
       "   2019-01예측  2020-01예측  2021-01예측  \n",
       "0   0.898876   0.797753   0.121212  \n",
       "1   0.044944   0.089888   0.742424  \n",
       "2   0.056180   0.112360   0.136364  "
      ]
     },
     "execution_count": 32,
     "metadata": {},
     "output_type": "execute_result"
    }
   ],
   "source": [
    "pre, pre_original = evaluate.predict_cluster_result(model_save_dict, scaled_together,label_data_pp_man, \"2012-01\", freq=freq)\n",
    "pre"
   ]
  },
  {
   "cell_type": "code",
   "execution_count": 33,
   "metadata": {},
   "outputs": [],
   "source": [
    "# 그림뽑기\n",
    "\n",
    "test = MyKmeans.visualize_3d_with_answer(scaled_together[\"2021-01\"],model_save_dict[\"2021-01\"][\"model\"], answer_data=label_data_pp_man[\"2021-01\"], fig_title=\"{}_관리종목\".format(model_name))"
   ]
  },
  {
   "cell_type": "code",
   "execution_count": 34,
   "metadata": {},
   "outputs": [
    {
     "data": {
      "text/html": [
       "<div>\n",
       "<style scoped>\n",
       "    .dataframe tbody tr th:only-of-type {\n",
       "        vertical-align: middle;\n",
       "    }\n",
       "\n",
       "    .dataframe tbody tr th {\n",
       "        vertical-align: top;\n",
       "    }\n",
       "\n",
       "    .dataframe thead th {\n",
       "        text-align: right;\n",
       "    }\n",
       "</style>\n",
       "<table border=\"1\" class=\"dataframe\">\n",
       "  <thead>\n",
       "    <tr style=\"text-align: right;\">\n",
       "      <th></th>\n",
       "      <th>PC1</th>\n",
       "      <th>PC2</th>\n",
       "      <th>PC3</th>\n",
       "      <th>label</th>\n",
       "      <th>answer</th>\n",
       "    </tr>\n",
       "  </thead>\n",
       "  <tbody>\n",
       "    <tr>\n",
       "      <th>A000020</th>\n",
       "      <td>-0.224360</td>\n",
       "      <td>0.057011</td>\n",
       "      <td>0.264753</td>\n",
       "      <td>1</td>\n",
       "      <td>2.5</td>\n",
       "    </tr>\n",
       "    <tr>\n",
       "      <th>A000040</th>\n",
       "      <td>0.343263</td>\n",
       "      <td>0.472252</td>\n",
       "      <td>-0.203236</td>\n",
       "      <td>0</td>\n",
       "      <td>2.5</td>\n",
       "    </tr>\n",
       "    <tr>\n",
       "      <th>A000050</th>\n",
       "      <td>-0.052200</td>\n",
       "      <td>-0.582019</td>\n",
       "      <td>-0.319994</td>\n",
       "      <td>2</td>\n",
       "      <td>2.5</td>\n",
       "    </tr>\n",
       "    <tr>\n",
       "      <th>A000070</th>\n",
       "      <td>-0.506022</td>\n",
       "      <td>-0.119814</td>\n",
       "      <td>-0.160390</td>\n",
       "      <td>1</td>\n",
       "      <td>2.5</td>\n",
       "    </tr>\n",
       "    <tr>\n",
       "      <th>A000080</th>\n",
       "      <td>-0.682433</td>\n",
       "      <td>0.463919</td>\n",
       "      <td>-0.271127</td>\n",
       "      <td>1</td>\n",
       "      <td>2.5</td>\n",
       "    </tr>\n",
       "    <tr>\n",
       "      <th>...</th>\n",
       "      <td>...</td>\n",
       "      <td>...</td>\n",
       "      <td>...</td>\n",
       "      <td>...</td>\n",
       "      <td>...</td>\n",
       "    </tr>\n",
       "    <tr>\n",
       "      <th>A377300</th>\n",
       "      <td>-0.342709</td>\n",
       "      <td>0.221570</td>\n",
       "      <td>0.289788</td>\n",
       "      <td>1</td>\n",
       "      <td>2.5</td>\n",
       "    </tr>\n",
       "    <tr>\n",
       "      <th>A381970</th>\n",
       "      <td>-0.572308</td>\n",
       "      <td>0.207302</td>\n",
       "      <td>-0.122237</td>\n",
       "      <td>1</td>\n",
       "      <td>2.5</td>\n",
       "    </tr>\n",
       "    <tr>\n",
       "      <th>A383220</th>\n",
       "      <td>-0.936430</td>\n",
       "      <td>0.490958</td>\n",
       "      <td>0.056291</td>\n",
       "      <td>1</td>\n",
       "      <td>2.5</td>\n",
       "    </tr>\n",
       "    <tr>\n",
       "      <th>A383310</th>\n",
       "      <td>-0.450962</td>\n",
       "      <td>0.430468</td>\n",
       "      <td>0.152531</td>\n",
       "      <td>1</td>\n",
       "      <td>2.5</td>\n",
       "    </tr>\n",
       "    <tr>\n",
       "      <th>A383800</th>\n",
       "      <td>-0.379765</td>\n",
       "      <td>-0.934045</td>\n",
       "      <td>0.086079</td>\n",
       "      <td>2</td>\n",
       "      <td>2.5</td>\n",
       "    </tr>\n",
       "  </tbody>\n",
       "</table>\n",
       "<p>2060 rows × 5 columns</p>\n",
       "</div>"
      ],
      "text/plain": [
       "              PC1       PC2       PC3  label  answer\n",
       "A000020 -0.224360  0.057011  0.264753      1     2.5\n",
       "A000040  0.343263  0.472252 -0.203236      0     2.5\n",
       "A000050 -0.052200 -0.582019 -0.319994      2     2.5\n",
       "A000070 -0.506022 -0.119814 -0.160390      1     2.5\n",
       "A000080 -0.682433  0.463919 -0.271127      1     2.5\n",
       "...           ...       ...       ...    ...     ...\n",
       "A377300 -0.342709  0.221570  0.289788      1     2.5\n",
       "A381970 -0.572308  0.207302 -0.122237      1     2.5\n",
       "A383220 -0.936430  0.490958  0.056291      1     2.5\n",
       "A383310 -0.450962  0.430468  0.152531      1     2.5\n",
       "A383800 -0.379765 -0.934045  0.086079      2     2.5\n",
       "\n",
       "[2060 rows x 5 columns]"
      ]
     },
     "execution_count": 34,
     "metadata": {},
     "output_type": "execute_result"
    }
   ],
   "source": [
    "MyKmeans.visualize_3d_with_answer(scaled_together[\"2021-01\"],model_save_dict[\"2021-01\"][\"model\"], answer_data=label_data_pp_war[\"2021-01\"], fig_title=\"{}_투자주의환기\".format(model_name))"
   ]
  },
  {
   "cell_type": "code",
   "execution_count": null,
   "metadata": {},
   "outputs": [],
   "source": []
  }
 ],
 "metadata": {
  "kernelspec": {
   "display_name": "base",
   "language": "python",
   "name": "python3"
  },
  "language_info": {
   "codemirror_mode": {
    "name": "ipython",
    "version": 3
   },
   "file_extension": ".py",
   "mimetype": "text/x-python",
   "name": "python",
   "nbconvert_exporter": "python",
   "pygments_lexer": "ipython3",
   "version": "3.9.12"
  },
  "orig_nbformat": 4,
  "vscode": {
   "interpreter": {
    "hash": "a077222d77dfe082b8f1dd562ad70e458ac2ab76993a0b248ab0476e32e9e8dd"
   }
  }
 },
 "nbformat": 4,
 "nbformat_minor": 2
}
