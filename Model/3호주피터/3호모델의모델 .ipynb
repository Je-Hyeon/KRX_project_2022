{
 "cells": [
  {
   "cell_type": "code",
   "execution_count": 1,
   "metadata": {},
   "outputs": [],
   "source": [
    "import os\n",
    "import numpy as np\n",
    "import pandas as pd \n",
    "from krx_fr.preprocess import tools, scaler\n",
    "from krx_fr.cluster import evaluate\n",
    "from krx_fr.cluster.optimize import Optimizer\n",
    "from krx_fr.cluster.kmeans import MyKmeans"
   ]
  },
  {
   "cell_type": "code",
   "execution_count": 2,
   "metadata": {},
   "outputs": [
    {
     "data": {
      "text/plain": [
       "'3호모델의모델_Y_k3'"
      ]
     },
     "execution_count": 2,
     "metadata": {},
     "output_type": "execute_result"
    }
   ],
   "source": [
    "model = \"3호모델의모델\"\n",
    "\n",
    "# 윈도우는 Y로 고정\n",
    "window_size = \"Y\"\n",
    "\n",
    "# 어떻게 윈도우를 밀건지\n",
    "freq = \"Y\"\n",
    "\n",
    "# 클러스터 수\n",
    "num_k = 3\n",
    "\n",
    "# 사용할 스케일러\n",
    "sca = scaler.new_rank\n",
    "sc = \"new_rank\"\n",
    "\n",
    "kospi_listed = tools.load_json(\"..\\\\final_data\\\\코스피_구성종목.json\")\n",
    "kosdaq_listed = tools.load_json(\"..\\\\final_data\\\\코스닥_구성종목.json\")\n",
    "together_listed = tools.aggregate_listed_code(kospi_listed, kosdaq_listed)\n",
    "\n",
    "# 모델명\n",
    "model_name = \"{}_{}_k{}\".format(model, freq, num_k)\n",
    "model_name"
   ]
  },
  {
   "cell_type": "code",
   "execution_count": 3,
   "metadata": {},
   "outputs": [],
   "source": [
    "# 퐅더에서 row_data 불러오기\n",
    "kind_data = tools.read_data_from_folder(\"C:\\\\Jehyeon\\\\2022_Winter_KRX\\\\KRX\\\\final_data\\\\KIND\\\\\")\n",
    "financial_data = tools.read_data_from_folder(\"C:\\\\Jehyeon\\\\2022_Winter_KRX\\\\KRX\\\\final_data\\\\재무\\\\\")\n",
    "\n",
    "# 최대주주비율은 1달 단위의 pct_change\n",
    "financial_data2 = tools.dict_data_calculate_pct(financial_data.copy(), name=\"최대주주비율\", return_original=True)\n",
    "\n",
    "# label_data 불러오기\n",
    "label_data_war = pd.read_csv(\"C:\\\\Jehyeon\\\\2022_Winter_KRX\\\\KRX\\\\final_data\\\\label\\\\투자주의환기종목지정카운트.csv\", index_col=0)\n",
    "label_data_man= pd.read_csv(\"C:\\\\Jehyeon\\\\2022_Winter_KRX\\\\KRX\\\\final_data\\\\label\\\\관리종목카운트.csv\", index_col=0)\n",
    "label_data_emb = pd.read_csv(\"C:\\\\Jehyeon\\\\2022_Winter_KRX\\\\KRX\\\\final_data\\\\label\\\\횡령배임혐의발생카운트.csv\", index_col=0)"
   ]
  },
  {
   "cell_type": "code",
   "execution_count": 4,
   "metadata": {},
   "outputs": [],
   "source": [
    "financial_data2[\"결산기간_주가변동률\"] = financial_data2[\"결산기간_주가변동률\"].fillna(0)"
   ]
  },
  {
   "cell_type": "code",
   "execution_count": 5,
   "metadata": {},
   "outputs": [],
   "source": [
    "# 레이블 데이터 shift시켜주기\n",
    "label_data_man_shift = tools.shift_label_data(label_data_man.copy(),shift_size='Y')\n",
    "label_data_war_shift = tools.shift_label_data(label_data_war.copy(),shift_size='Y')\n",
    "label_data_emb_shift = tools.shift_label_data(label_data_emb.copy(),shift_size='Y')\n",
    "\n",
    "label_data_pp1 = tools.dict_data_preprocess_upgrade(label_data_man_shift.copy(), np.sum, \"Y\", rolling_size=freq)\n",
    "label_data_pp_man = tools.dict_data_scale(label_data_pp1.copy(), scaler.zero_one)\n",
    "\n",
    "label_data_pp2 = tools.dict_data_preprocess_upgrade(label_data_war_shift.copy(), np.sum, \"Y\", rolling_size=freq)\n",
    "label_data_pp_war = tools.dict_data_scale(label_data_pp2.copy(), scaler.zero_one)\n",
    "\n",
    "label_data_pp3 = tools.dict_data_preprocess_upgrade(label_data_emb_shift.copy(), np.sum, \"Y\", rolling_size=freq)\n",
    "label_data_pp_emb = tools.dict_data_scale(label_data_pp3.copy(), scaler.zero_one)"
   ]
  },
  {
   "cell_type": "code",
   "execution_count": 6,
   "metadata": {},
   "outputs": [],
   "source": [
    "# 데이터처리 sum / mean\n",
    "kind_data2 = tools.dict_data_preprocess_upgrade(kind_data.copy(), function=np.sum, window_size=window_size,rolling_size=freq, fillna=True)\n",
    "financial_data3 = tools.dict_data_preprocess_upgrade(financial_data2.copy(), function=np.mean, window_size=window_size, rolling_size=freq,fillna=False)"
   ]
  },
  {
   "cell_type": "code",
   "execution_count": 7,
   "metadata": {},
   "outputs": [],
   "source": [
    "# 재무데이터와 공시데이터 합치기\n",
    "concat_data = tools.dict_data_merge(kind_data2.copy(),financial_data3.copy(), dropna=False)"
   ]
  },
  {
   "cell_type": "code",
   "execution_count": 8,
   "metadata": {},
   "outputs": [],
   "source": [
    "list_data = tools.dict_data_match_listed_upgrade(concat_data.copy(), together_listed.copy(), rolling_size=freq)"
   ]
  },
  {
   "cell_type": "code",
   "execution_count": 9,
   "metadata": {},
   "outputs": [
    {
     "data": {
      "text/plain": [
       "Index(['BW금액+CB금액', '경영권분쟁소송', '불성실공시법인지정카운트', '상호변경카운트', '업종변경카운트', '유상증자금액',\n",
       "       '조회공시요구카운트', '최대주주변경을수반하는주식담보제공금액', '최대주주변경을수반하는주식양수도금액', '최대주주변경카운트',\n",
       "       '타법인주식및출자증권취득결정금액', '특수관계인에대한자금대여금액', '결산기간_거래량증가', '결산기간_주가변동률',\n",
       "       '당기순이익', '매출채권', '매출총이익', '영업이익', '영업현금흐름', '차입금의존도', '총자본', '최대주주비율',\n",
       "       '판매 및 관리비', '최대주주비율_변동성'],\n",
       "      dtype='object')"
      ]
     },
     "execution_count": 9,
     "metadata": {},
     "output_type": "execute_result"
    }
   ],
   "source": [
    "# 컬럼을 더할 경우\n",
    "concat_together1 = tools.dict_data_plus(list_data.copy(),\n",
    "                                  plus_one=\"BW금액\"\n",
    "                                 ,plus_two=\"CB금액\", return_origianl=False)\n",
    "\n",
    "#\n",
    "concat_together1[\"2012-01\"].columns"
   ]
  },
  {
   "cell_type": "code",
   "execution_count": 10,
   "metadata": {},
   "outputs": [
    {
     "data": {
      "text/plain": [
       "Index(['BW금액+CB금액+유상증자금액', '경영권분쟁소송', '불성실공시법인지정카운트', '상호변경카운트', '업종변경카운트',\n",
       "       '조회공시요구카운트', '최대주주변경을수반하는주식담보제공금액', '최대주주변경을수반하는주식양수도금액', '최대주주변경카운트',\n",
       "       '타법인주식및출자증권취득결정금액', '특수관계인에대한자금대여금액', '결산기간_거래량증가', '결산기간_주가변동률',\n",
       "       '당기순이익', '매출채권', '매출총이익', '영업이익', '영업현금흐름', '차입금의존도', '총자본', '최대주주비율',\n",
       "       '판매 및 관리비', '최대주주비율_변동성'],\n",
       "      dtype='object')"
      ]
     },
     "execution_count": 10,
     "metadata": {},
     "output_type": "execute_result"
    }
   ],
   "source": [
    "concat_together2 = tools.dict_data_plus(concat_together1, \n",
    "                                  plus_one=\"BW금액+CB금액\"\n",
    "                                 ,plus_two=\"유상증자금액\", return_origianl=False)\n",
    "#concat_kospi2 = tools.dict_data_plus(concat_kospi1, \n",
    "#                                  plus_one=\"상호변경카운트_전체시장\"\n",
    "#                                 ,plus_two=\"업종변경카운트_전체시장\", return_origianl=False)\n",
    "#concat_kosdaq2 = tools.dict_data_plus(concat_kosdaq1, \n",
    "#                                  plus_one=\"상호변경카운트_전체시장\"\n",
    "#                                 ,plus_two=\"업종변경카운트_전체시장\", return_origianl=False)\n",
    "concat_together2[\"2012-01\"].columns"
   ]
  },
  {
   "cell_type": "code",
   "execution_count": 11,
   "metadata": {},
   "outputs": [
    {
     "data": {
      "text/plain": [
       "Index(['최대주주변경을수반하는주식담보제공금액+최대주주변경을수반하는주식양수도금액', 'BW금액+CB금액+유상증자금액', '경영권분쟁소송',\n",
       "       '불성실공시법인지정카운트', '상호변경카운트', '업종변경카운트', '조회공시요구카운트', '최대주주변경카운트',\n",
       "       '타법인주식및출자증권취득결정금액', '특수관계인에대한자금대여금액', '결산기간_거래량증가', '결산기간_주가변동률',\n",
       "       '당기순이익', '매출채권', '매출총이익', '영업이익', '영업현금흐름', '차입금의존도', '총자본', '최대주주비율',\n",
       "       '판매 및 관리비', '최대주주비율_변동성'],\n",
       "      dtype='object')"
      ]
     },
     "execution_count": 11,
     "metadata": {},
     "output_type": "execute_result"
    }
   ],
   "source": [
    "concat_together3 = tools.dict_data_plus(concat_together2, \n",
    "                                  plus_one=\"최대주주변경을수반하는주식담보제공금액\"\n",
    "                                 ,plus_two=\"최대주주변경을수반하는주식양수도금액\", return_origianl=False)\n",
    "#concat_kospi3 = tools.dict_data_plus(concat_kospi2, \n",
    "#                                  plus_one=\"최대주주변경을수반하는주식담보제공금액_전체시장\"\n",
    "#                                 ,plus_two=\"최대주주변경을수반하는주식양수도금액_전체시장\", return_origianl=False)\n",
    "#concat_kosdaq3 = tools.dict_data_plus(concat_kosdaq2, \n",
    "#                                  plus_one=\"최대주주변경을수반하는주식담보제공금액_전체시장\"\n",
    "#                                 ,plus_two=\"최대주주변경을수반하는주식양수도금액_전체시장\", return_origianl=False)\n",
    "#\n",
    "concat_together3[\"2012-01\"].columns"
   ]
  },
  {
   "cell_type": "code",
   "execution_count": 12,
   "metadata": {},
   "outputs": [
    {
     "data": {
      "text/plain": [
       "Index(['타법인주식및출자증권취득결정금액+특수관계인에대한자금대여금액',\n",
       "       '최대주주변경을수반하는주식담보제공금액+최대주주변경을수반하는주식양수도금액', 'BW금액+CB금액+유상증자금액', '경영권분쟁소송',\n",
       "       '불성실공시법인지정카운트', '상호변경카운트', '업종변경카운트', '조회공시요구카운트', '최대주주변경카운트',\n",
       "       '결산기간_거래량증가', '결산기간_주가변동률', '당기순이익', '매출채권', '매출총이익', '영업이익', '영업현금흐름',\n",
       "       '차입금의존도', '총자본', '최대주주비율', '판매 및 관리비', '최대주주비율_변동성'],\n",
       "      dtype='object')"
      ]
     },
     "execution_count": 12,
     "metadata": {},
     "output_type": "execute_result"
    }
   ],
   "source": [
    "concat_together4 = tools.dict_data_plus(concat_together3, \n",
    "                                  plus_one=\"타법인주식및출자증권취득결정금액\"\n",
    "                                 ,plus_two=\"특수관계인에대한자금대여금액\", return_origianl=False)\n",
    "#concat_kospi4 = tools.dict_data_plus(concat_kospi3, \n",
    "#                                  plus_one=\"자기주식처분결정금액_전체시장\"\n",
    "#                                 ,plus_two=\"특수관계인에대한자금대여금액_전체시장\", return_origianl=False)\n",
    "#concat_kosdaq4 = tools.dict_data_plus(concat_kosdaq3, \n",
    "#                                  plus_one=\"자기주식처분결정금액_전체시장\"\n",
    "#                                 ,plus_two=\"특수관계인에대한자금대여금액_전체시장\", return_origianl=False)\n",
    "concat_together4[\"2012-01\"].columns"
   ]
  },
  {
   "cell_type": "code",
   "execution_count": 13,
   "metadata": {},
   "outputs": [
    {
     "data": {
      "text/plain": [
       "Index(['상호변경카운트+업종변경카운트', '타법인주식및출자증권취득결정금액+특수관계인에대한자금대여금액',\n",
       "       '최대주주변경을수반하는주식담보제공금액+최대주주변경을수반하는주식양수도금액', 'BW금액+CB금액+유상증자금액', '경영권분쟁소송',\n",
       "       '불성실공시법인지정카운트', '조회공시요구카운트', '최대주주변경카운트', '결산기간_거래량증가', '결산기간_주가변동률',\n",
       "       '당기순이익', '매출채권', '매출총이익', '영업이익', '영업현금흐름', '차입금의존도', '총자본', '최대주주비율',\n",
       "       '판매 및 관리비', '최대주주비율_변동성'],\n",
       "      dtype='object')"
      ]
     },
     "execution_count": 13,
     "metadata": {},
     "output_type": "execute_result"
    }
   ],
   "source": [
    "concat_together5 = tools.dict_data_plus(concat_together4,\n",
    "                                  plus_one=\"상호변경카운트\"\n",
    "                                 ,plus_two=\"업종변경카운트\", return_origianl=False)\n",
    "#concat_kospi5 = tools.dict_data_plus(concat_kospi4,\n",
    "#                                  plus_one=\"불성실공시법인지정카운트_전체시장\"\n",
    "#                                 ,plus_two=\"조회공시요구카운트_전체시장\", return_origianl=False)\n",
    "#concat_kosdaq5 = tools.dict_data_plus(concat_kosdaq4,\n",
    "#                                  plus_one=\"불성실공시법인지정카운트_전체시장\"\n",
    "#                                 ,plus_two=\"조회공시요구카운트_전체시장\", return_origianl=False)\n",
    "concat_together5[\"2012-01\"].columns"
   ]
  },
  {
   "cell_type": "code",
   "execution_count": 14,
   "metadata": {},
   "outputs": [
    {
     "data": {
      "text/plain": [
       "Index(['경영권분쟁소송+불성실공시법인지정카운트', '상호변경카운트+업종변경카운트',\n",
       "       '타법인주식및출자증권취득결정금액+특수관계인에대한자금대여금액',\n",
       "       '최대주주변경을수반하는주식담보제공금액+최대주주변경을수반하는주식양수도금액', 'BW금액+CB금액+유상증자금액',\n",
       "       '조회공시요구카운트', '최대주주변경카운트', '결산기간_거래량증가', '결산기간_주가변동률', '당기순이익', '매출채권',\n",
       "       '매출총이익', '영업이익', '영업현금흐름', '차입금의존도', '총자본', '최대주주비율', '판매 및 관리비',\n",
       "       '최대주주비율_변동성'],\n",
       "      dtype='object')"
      ]
     },
     "execution_count": 14,
     "metadata": {},
     "output_type": "execute_result"
    }
   ],
   "source": [
    "concat_together6 = tools.dict_data_plus(concat_together5,\n",
    "                                  plus_one=\"경영권분쟁소송\"\n",
    "                                 ,plus_two=\"불성실공시법인지정카운트\", return_origianl=False)\n",
    "#concat_kospi7 = tools.dict_data_plus(concat_kospi6,\n",
    "#                                  plus_one=\"BW금액_전체시장+CB금액_전체시장\"\n",
    "#                                 ,plus_two=\"유상증자금액_전체시장\", return_origianl=False)\n",
    "#concat_kosdaq7 = tools.dict_data_plus(concat_kosdaq6,\n",
    "#                                  plus_one=\"BW금액_전체시장+CB금액_전체시장\"\n",
    "#                                 ,plus_two=\"유상증자금액_전체시장\", return_origianl=False)\n",
    "concat_together6[\"2012-01\"].columns"
   ]
  },
  {
   "cell_type": "code",
   "execution_count": 15,
   "metadata": {},
   "outputs": [
    {
     "data": {
      "text/plain": [
       "Index(['경영권분쟁소송+불성실공시법인지정카운트+조회공시요구카운트', '상호변경카운트+업종변경카운트',\n",
       "       '타법인주식및출자증권취득결정금액+특수관계인에대한자금대여금액',\n",
       "       '최대주주변경을수반하는주식담보제공금액+최대주주변경을수반하는주식양수도금액', 'BW금액+CB금액+유상증자금액',\n",
       "       '최대주주변경카운트', '결산기간_거래량증가', '결산기간_주가변동률', '당기순이익', '매출채권', '매출총이익',\n",
       "       '영업이익', '영업현금흐름', '차입금의존도', '총자본', '최대주주비율', '판매 및 관리비', '최대주주비율_변동성'],\n",
       "      dtype='object')"
      ]
     },
     "execution_count": 15,
     "metadata": {},
     "output_type": "execute_result"
    }
   ],
   "source": [
    "concat_together7 = tools.dict_data_plus(concat_together6,\n",
    "                                  plus_one=\"경영권분쟁소송+불성실공시법인지정카운트\"\n",
    "                                 ,plus_two=\"조회공시요구카운트\", return_origianl=False)\n",
    "#concat_kospi8 = tools.dict_data_plus(concat_kospi7,\n",
    "#                                  plus_one=\"경영권분쟁소송_전체시장+최대주주변경카운트_전체시장\"\n",
    "#                                 ,plus_two=\"상호변경카운트_전체시장+업종변경카운트_전체시장\", return_origianl=False)\n",
    "#concat_kosdaq8 = tools.dict_data_plus(concat_kosdaq7,\n",
    "#                                  plus_one=\"경영권분쟁소송_전체시장+최대주주변경카운트_전체시장\"\n",
    "#                                 ,plus_two=\"상호변경카운트_전체시장+업종변경카운트_전체시장\", return_origianl=False)\n",
    "concat_together7[\"2012-01\"].columns"
   ]
  },
  {
   "cell_type": "code",
   "execution_count": 16,
   "metadata": {},
   "outputs": [
    {
     "data": {
      "text/plain": [
       "Index(['경영권분쟁소송+불성실공시법인지정카운트+조회공시요구카운트', '상호변경카운트+업종변경카운트',\n",
       "       '타법인주식및출자증권취득결정금액+특수관계인에대한자금대여금액',\n",
       "       '최대주주변경을수반하는주식담보제공금액+최대주주변경을수반하는주식양수도금액', 'BW금액+CB금액+유상증자금액',\n",
       "       '최대주주변경카운트', '결산기간_거래량증가', '결산기간_주가변동률', '당기순이익', '매출채권', '매출총이익',\n",
       "       '영업이익', '영업현금흐름', '차입금의존도', '총자본', '최대주주비율', '판매 및 관리비', '최대주주비율_변동성'],\n",
       "      dtype='object')"
      ]
     },
     "execution_count": 16,
     "metadata": {},
     "output_type": "execute_result"
    }
   ],
   "source": [
    "drop_togehter = tools.dict_data_drop(concat_together7.copy(), dropna=True)\n",
    "scaled_together = tools.dict_data_scale(drop_togehter.copy(), scaler=sca)\n",
    "scaled_together[\"2012-01\"].columns"
   ]
  },
  {
   "cell_type": "code",
   "execution_count": 17,
   "metadata": {},
   "outputs": [
    {
     "name": "stderr",
     "output_type": "stream",
     "text": [
      "100%|██████████| 100/100 [00:05<00:00, 19.18it/s]\n",
      "100%|██████████| 100/100 [00:05<00:00, 19.33it/s]\n",
      "100%|██████████| 100/100 [00:05<00:00, 18.20it/s]\n",
      "100%|██████████| 100/100 [00:05<00:00, 17.49it/s]\n",
      "100%|██████████| 100/100 [00:05<00:00, 16.71it/s]\n",
      "100%|██████████| 100/100 [00:06<00:00, 16.17it/s]\n",
      "100%|██████████| 100/100 [00:07<00:00, 14.20it/s]\n",
      "100%|██████████| 100/100 [00:07<00:00, 14.01it/s]\n",
      "100%|██████████| 100/100 [00:07<00:00, 14.27it/s]\n",
      "100%|██████████| 100/100 [00:07<00:00, 13.26it/s]\n",
      "100%|██████████| 100/100 [00:07<00:00, 12.72it/s]\n"
     ]
    }
   ],
   "source": [
    "# 최초 모델을 돌리고\n",
    "model_save_dict = evaluate.run_iter_kmeans(num_k, max_sample=100, raw_data=scaled_together.copy())"
   ]
  },
  {
   "cell_type": "code",
   "execution_count": 18,
   "metadata": {},
   "outputs": [
    {
     "name": "stderr",
     "output_type": "stream",
     "text": [
      "100%|██████████| 100/100 [00:01<00:00, 79.10it/s]\n",
      "100%|██████████| 100/100 [00:01<00:00, 79.35it/s]\n",
      "100%|██████████| 100/100 [00:01<00:00, 74.45it/s]\n",
      "100%|██████████| 100/100 [00:01<00:00, 78.62it/s]\n",
      "100%|██████████| 100/100 [00:01<00:00, 76.66it/s]\n",
      "100%|██████████| 100/100 [00:01<00:00, 72.19it/s]\n",
      "100%|██████████| 100/100 [00:01<00:00, 68.67it/s]\n",
      "100%|██████████| 100/100 [00:01<00:00, 72.87it/s]\n",
      "100%|██████████| 100/100 [00:01<00:00, 60.89it/s]\n",
      "100%|██████████| 100/100 [00:01<00:00, 56.96it/s]\n"
     ]
    }
   ],
   "source": [
    "# 최초모델의 결과\n",
    "eval_one, eval_one_original = evaluate.eval_cluster_result(model_save_dict,\n",
    "                                                            raw_data = scaled_together, \n",
    "                                                            label_data=label_data_pp_man, freq=freq)\n",
    "\n",
    "# 모델의 모델(나쁜놈들도 다시한번 굴림)\n",
    "model2_save_dict, filtered_data = evaluate.cluster_of_cluster_model(model_save=model_save_dict,\n",
    "                                  raw_data=scaled_together,\n",
    "                                  eval_label=eval_one, num_k=3, max_sample=100)"
   ]
  },
  {
   "attachments": {},
   "cell_type": "markdown",
   "metadata": {},
   "source": [
    "### 모델의 모델 평가"
   ]
  },
  {
   "cell_type": "code",
   "execution_count": 19,
   "metadata": {},
   "outputs": [
    {
     "name": "stdout",
     "output_type": "stream",
     "text": [
      "302.0\n",
      "127.0\n"
     ]
    },
    {
     "data": {
      "text/html": [
       "<div>\n",
       "<style scoped>\n",
       "    .dataframe tbody tr th:only-of-type {\n",
       "        vertical-align: middle;\n",
       "    }\n",
       "\n",
       "    .dataframe tbody tr th {\n",
       "        vertical-align: top;\n",
       "    }\n",
       "\n",
       "    .dataframe thead th {\n",
       "        text-align: right;\n",
       "    }\n",
       "</style>\n",
       "<table border=\"1\" class=\"dataframe\">\n",
       "  <thead>\n",
       "    <tr style=\"text-align: right;\">\n",
       "      <th></th>\n",
       "      <th>2012-01</th>\n",
       "      <th>2013-01</th>\n",
       "      <th>2014-01</th>\n",
       "      <th>2015-01</th>\n",
       "      <th>2016-01</th>\n",
       "      <th>2017-01</th>\n",
       "      <th>2018-01</th>\n",
       "      <th>2019-01</th>\n",
       "      <th>2020-01</th>\n",
       "      <th>2021-01</th>\n",
       "    </tr>\n",
       "  </thead>\n",
       "  <tbody>\n",
       "    <tr>\n",
       "      <th>0</th>\n",
       "      <td>165.0</td>\n",
       "      <td>129.0</td>\n",
       "      <td>226.0</td>\n",
       "      <td>174.0</td>\n",
       "      <td>198.0</td>\n",
       "      <td>179.0</td>\n",
       "      <td>175.0</td>\n",
       "      <td>154.0</td>\n",
       "      <td>251.0</td>\n",
       "      <td>216.0</td>\n",
       "    </tr>\n",
       "    <tr>\n",
       "      <th>1</th>\n",
       "      <td>194.0</td>\n",
       "      <td>175.0</td>\n",
       "      <td>127.0</td>\n",
       "      <td>151.0</td>\n",
       "      <td>198.0</td>\n",
       "      <td>204.0</td>\n",
       "      <td>195.0</td>\n",
       "      <td>166.0</td>\n",
       "      <td>245.0</td>\n",
       "      <td>302.0</td>\n",
       "    </tr>\n",
       "    <tr>\n",
       "      <th>2</th>\n",
       "      <td>165.0</td>\n",
       "      <td>197.0</td>\n",
       "      <td>183.0</td>\n",
       "      <td>201.0</td>\n",
       "      <td>140.0</td>\n",
       "      <td>185.0</td>\n",
       "      <td>227.0</td>\n",
       "      <td>255.0</td>\n",
       "      <td>196.0</td>\n",
       "      <td>227.0</td>\n",
       "    </tr>\n",
       "    <tr>\n",
       "      <th>기업수</th>\n",
       "      <td>524.0</td>\n",
       "      <td>501.0</td>\n",
       "      <td>536.0</td>\n",
       "      <td>526.0</td>\n",
       "      <td>536.0</td>\n",
       "      <td>568.0</td>\n",
       "      <td>597.0</td>\n",
       "      <td>575.0</td>\n",
       "      <td>692.0</td>\n",
       "      <td>745.0</td>\n",
       "    </tr>\n",
       "  </tbody>\n",
       "</table>\n",
       "</div>"
      ],
      "text/plain": [
       "     2012-01  2013-01  2014-01  2015-01  2016-01  2017-01  2018-01  2019-01  \\\n",
       "0      165.0    129.0    226.0    174.0    198.0    179.0    175.0    154.0   \n",
       "1      194.0    175.0    127.0    151.0    198.0    204.0    195.0    166.0   \n",
       "2      165.0    197.0    183.0    201.0    140.0    185.0    227.0    255.0   \n",
       "기업수    524.0    501.0    536.0    526.0    536.0    568.0    597.0    575.0   \n",
       "\n",
       "     2020-01  2021-01  \n",
       "0      251.0    216.0  \n",
       "1      245.0    302.0  \n",
       "2      196.0    227.0  \n",
       "기업수    692.0    745.0  "
      ]
     },
     "execution_count": 19,
     "metadata": {},
     "output_type": "execute_result"
    }
   ],
   "source": [
    "size =evaluate.eval_cluster_size(model2_save_dict)\n",
    "size.to_csv(\"{}_클러스터사이즈.csv\".format(model_name))\n",
    "\n",
    "print(size.iloc[:-1,:].max().max())\n",
    "print(size.iloc[:-1,:].min().min())\n",
    "size"
   ]
  },
  {
   "cell_type": "code",
   "execution_count": 20,
   "metadata": {},
   "outputs": [],
   "source": [
    "eval, eval_original = evaluate.eval_cluster_result(model2_save_dict, raw_data = filtered_data,\n",
    "                                                    label_data=label_data_pp_man, freq=freq)\n",
    "\n",
    "eval.to_csv(\"{}_관리종목.csv\".format(model_name))\n",
    "eval_original.to_csv(\"{}_관리종목전체대비.csv\".format(model_name))"
   ]
  },
  {
   "cell_type": "code",
   "execution_count": 21,
   "metadata": {},
   "outputs": [],
   "source": [
    "eval_t,eval_t_ori = evaluate.eval_cluster_result(model2_save_dict, raw_data = filtered_data, \n",
    "                                                 label_data=label_data_pp_war, freq=freq)\n",
    "\n",
    "eval_t.to_csv(\"{}_투자환기종목.csv\".format(model_name))\n",
    "eval_t_ori.to_csv(\"{}_투자환기종목전체대비.csv\".format(model_name))"
   ]
  },
  {
   "cell_type": "code",
   "execution_count": 22,
   "metadata": {},
   "outputs": [
    {
     "name": "stdout",
     "output_type": "stream",
     "text": [
      "0.6255262683165834\n",
      "1.0\n"
     ]
    },
    {
     "data": {
      "text/plain": [
       "0.06527753528299142"
      ]
     },
     "execution_count": 22,
     "metadata": {},
     "output_type": "execute_result"
    }
   ],
   "source": [
    "print(evaluate.calculate_catch_probability(eval, eval_t, None))\n",
    "print(evaluate.calculate_match_probability(eval, eval_t,None))\n",
    "evaluate.calculate_catch_probability(eval_original, eval_t_ori, None)"
   ]
  },
  {
   "cell_type": "code",
   "execution_count": 23,
   "metadata": {},
   "outputs": [
    {
     "data": {
      "text/plain": [
       "BW금액+CB금액+유상증자금액                          0.167111\n",
       "최대주주비율_변동성                                0.161925\n",
       "차입금의존도                                    0.148560\n",
       "결산기간_거래량증가                                0.115814\n",
       "최대주주비율                                    0.076461\n",
       "경영권분쟁소송+불성실공시법인지정카운트+조회공시요구카운트            0.071152\n",
       "최대주주변경카운트                                 0.049362\n",
       "당기순이익                                     0.035480\n",
       "판매 및 관리비                                  0.033876\n",
       "타법인주식및출자증권취득결정금액+특수관계인에대한자금대여금액           0.032022\n",
       "매출채권                                      0.027339\n",
       "결산기간_주가변동률                                0.019143\n",
       "최대주주변경을수반하는주식담보제공금액+최대주주변경을수반하는주식양수도금액    0.016928\n",
       "영업이익                                      0.016356\n",
       "영업현금흐름                                    0.008546\n",
       "상호변경카운트+업종변경카운트                           0.008446\n",
       "총자본                                       0.007995\n",
       "매출총이익                                     0.003485\n",
       "dtype: float64"
      ]
     },
     "execution_count": 23,
     "metadata": {},
     "output_type": "execute_result"
    }
   ],
   "source": [
    "def pct(df):\n",
    "    return df / np.sum(df)\n",
    "\n",
    "dist = evaluate.eval_cluster_distance(eval, filtered_data, model2_save_dict)\n",
    "dist = dist.apply(pct, axis=1)\n",
    "dist2= dist.mean(axis=0).sort_values(ascending=False)\n",
    "\n",
    "dist.to_csv(\"{}_거리분해.csv\".format(model_name))\n",
    "dist2.to_csv(\"{}_거리분해평균.csv\".format(model_name))\n",
    "\n",
    "dist2"
   ]
  },
  {
   "attachments": {},
   "cell_type": "markdown",
   "metadata": {},
   "source": [
    "고위험 클러스터의 평균 재무, 공시 상황 출력\n",
    "\n",
    "* eval_cluster Result의 결과를 받는다 / model_save_dict / raw_data -> drop_together (스케일 전 데이터를 받아야함)"
   ]
  },
  {
   "cell_type": "code",
   "execution_count": 24,
   "metadata": {},
   "outputs": [],
   "source": [
    "# scaled data를 토대로 원본 데이터를 추출한다\n",
    "key = filtered_data.keys()\n",
    "original_data_dict = {}\n",
    "for t in key:\n",
    "    idx = filtered_data[t].index\n",
    "    origianl_data = drop_togehter[t]\n",
    "    original_data_dict[t] = origianl_data.loc[idx]"
   ]
  },
  {
   "cell_type": "code",
   "execution_count": 25,
   "metadata": {},
   "outputs": [
    {
     "data": {
      "text/html": [
       "<div>\n",
       "<style scoped>\n",
       "    .dataframe tbody tr th:only-of-type {\n",
       "        vertical-align: middle;\n",
       "    }\n",
       "\n",
       "    .dataframe tbody tr th {\n",
       "        vertical-align: top;\n",
       "    }\n",
       "\n",
       "    .dataframe thead th {\n",
       "        text-align: right;\n",
       "    }\n",
       "</style>\n",
       "<table border=\"1\" class=\"dataframe\">\n",
       "  <thead>\n",
       "    <tr style=\"text-align: right;\">\n",
       "      <th></th>\n",
       "      <th>경영권분쟁소송+불성실공시법인지정카운트+조회공시요구카운트</th>\n",
       "      <th>상호변경카운트+업종변경카운트</th>\n",
       "      <th>타법인주식및출자증권취득결정금액+특수관계인에대한자금대여금액</th>\n",
       "      <th>최대주주변경을수반하는주식담보제공금액+최대주주변경을수반하는주식양수도금액</th>\n",
       "      <th>BW금액+CB금액+유상증자금액</th>\n",
       "      <th>최대주주변경카운트</th>\n",
       "      <th>결산기간_거래량증가</th>\n",
       "      <th>결산기간_주가변동률</th>\n",
       "      <th>당기순이익</th>\n",
       "      <th>매출채권</th>\n",
       "      <th>매출총이익</th>\n",
       "      <th>영업이익</th>\n",
       "      <th>영업현금흐름</th>\n",
       "      <th>차입금의존도</th>\n",
       "      <th>총자본</th>\n",
       "      <th>최대주주비율</th>\n",
       "      <th>판매 및 관리비</th>\n",
       "      <th>최대주주비율_변동성</th>\n",
       "    </tr>\n",
       "  </thead>\n",
       "  <tbody>\n",
       "    <tr>\n",
       "      <th>2012-01</th>\n",
       "      <td>0.876289</td>\n",
       "      <td>0.190722</td>\n",
       "      <td>3.396197e+09</td>\n",
       "      <td>1.124586e+09</td>\n",
       "      <td>9.142537e+09</td>\n",
       "      <td>0.226804</td>\n",
       "      <td>1.534042</td>\n",
       "      <td>1.124604</td>\n",
       "      <td>-2.829207e+06</td>\n",
       "      <td>2.011001e+07</td>\n",
       "      <td>1.189077e+06</td>\n",
       "      <td>-1.775450e+06</td>\n",
       "      <td>-7.842252e+05</td>\n",
       "      <td>35.779008</td>\n",
       "      <td>3.669841e+07</td>\n",
       "      <td>23.353527</td>\n",
       "      <td>2.964527e+06</td>\n",
       "      <td>-0.007204</td>\n",
       "    </tr>\n",
       "    <tr>\n",
       "      <th>2013-01</th>\n",
       "      <td>1.170543</td>\n",
       "      <td>0.100775</td>\n",
       "      <td>7.044331e+09</td>\n",
       "      <td>6.941358e+08</td>\n",
       "      <td>1.121056e+10</td>\n",
       "      <td>0.286822</td>\n",
       "      <td>1.193008</td>\n",
       "      <td>4.045331</td>\n",
       "      <td>-2.192167e+07</td>\n",
       "      <td>1.030605e+08</td>\n",
       "      <td>-5.907294e+06</td>\n",
       "      <td>-1.354008e+07</td>\n",
       "      <td>-5.944422e+06</td>\n",
       "      <td>45.390775</td>\n",
       "      <td>8.460478e+07</td>\n",
       "      <td>26.446231</td>\n",
       "      <td>7.634051e+06</td>\n",
       "      <td>-0.009146</td>\n",
       "    </tr>\n",
       "    <tr>\n",
       "      <th>2014-01</th>\n",
       "      <td>0.830601</td>\n",
       "      <td>0.136612</td>\n",
       "      <td>2.174264e+09</td>\n",
       "      <td>5.507650e+08</td>\n",
       "      <td>1.702979e+10</td>\n",
       "      <td>0.295082</td>\n",
       "      <td>1.154083</td>\n",
       "      <td>2.934415</td>\n",
       "      <td>-1.505111e+07</td>\n",
       "      <td>3.207541e+07</td>\n",
       "      <td>-4.054363e+06</td>\n",
       "      <td>-7.276713e+06</td>\n",
       "      <td>-3.283195e+06</td>\n",
       "      <td>41.724850</td>\n",
       "      <td>2.110917e+07</td>\n",
       "      <td>23.089392</td>\n",
       "      <td>3.222349e+06</td>\n",
       "      <td>0.078811</td>\n",
       "    </tr>\n",
       "    <tr>\n",
       "      <th>2015-01</th>\n",
       "      <td>1.377483</td>\n",
       "      <td>0.317881</td>\n",
       "      <td>3.815461e+09</td>\n",
       "      <td>4.435836e+09</td>\n",
       "      <td>1.064353e+10</td>\n",
       "      <td>0.629139</td>\n",
       "      <td>2.280547</td>\n",
       "      <td>1.473855</td>\n",
       "      <td>-3.845777e+06</td>\n",
       "      <td>1.543932e+07</td>\n",
       "      <td>7.478290e+05</td>\n",
       "      <td>-1.932547e+06</td>\n",
       "      <td>-1.232882e+06</td>\n",
       "      <td>33.010248</td>\n",
       "      <td>2.863586e+07</td>\n",
       "      <td>22.850466</td>\n",
       "      <td>2.680376e+06</td>\n",
       "      <td>inf</td>\n",
       "    </tr>\n",
       "    <tr>\n",
       "      <th>2016-01</th>\n",
       "      <td>2.035714</td>\n",
       "      <td>0.264286</td>\n",
       "      <td>5.741891e+09</td>\n",
       "      <td>8.763806e+09</td>\n",
       "      <td>3.295459e+10</td>\n",
       "      <td>0.885714</td>\n",
       "      <td>inf</td>\n",
       "      <td>1.493540</td>\n",
       "      <td>-9.794248e+06</td>\n",
       "      <td>2.126723e+07</td>\n",
       "      <td>-4.194118e+05</td>\n",
       "      <td>-4.613312e+06</td>\n",
       "      <td>-1.108859e+06</td>\n",
       "      <td>34.132054</td>\n",
       "      <td>3.678496e+07</td>\n",
       "      <td>19.214785</td>\n",
       "      <td>4.193900e+06</td>\n",
       "      <td>-0.021284</td>\n",
       "    </tr>\n",
       "    <tr>\n",
       "      <th>2017-01</th>\n",
       "      <td>1.156757</td>\n",
       "      <td>0.297297</td>\n",
       "      <td>4.344069e+09</td>\n",
       "      <td>7.710118e+09</td>\n",
       "      <td>2.452910e+10</td>\n",
       "      <td>0.627027</td>\n",
       "      <td>inf</td>\n",
       "      <td>1.114593</td>\n",
       "      <td>-2.128745e+07</td>\n",
       "      <td>2.230294e+07</td>\n",
       "      <td>7.940046e+05</td>\n",
       "      <td>-3.442349e+06</td>\n",
       "      <td>1.314472e+05</td>\n",
       "      <td>32.598054</td>\n",
       "      <td>3.507679e+07</td>\n",
       "      <td>18.928410</td>\n",
       "      <td>4.236354e+06</td>\n",
       "      <td>inf</td>\n",
       "    </tr>\n",
       "    <tr>\n",
       "      <th>2018-01</th>\n",
       "      <td>1.302857</td>\n",
       "      <td>0.171429</td>\n",
       "      <td>8.653020e+09</td>\n",
       "      <td>9.833360e+09</td>\n",
       "      <td>3.426908e+10</td>\n",
       "      <td>0.640000</td>\n",
       "      <td>inf</td>\n",
       "      <td>1.632192</td>\n",
       "      <td>-4.766777e+06</td>\n",
       "      <td>2.116746e+07</td>\n",
       "      <td>1.590029e+06</td>\n",
       "      <td>-2.605054e+06</td>\n",
       "      <td>-1.917383e+06</td>\n",
       "      <td>34.039171</td>\n",
       "      <td>6.407607e+07</td>\n",
       "      <td>20.700788</td>\n",
       "      <td>4.195083e+06</td>\n",
       "      <td>0.004187</td>\n",
       "    </tr>\n",
       "    <tr>\n",
       "      <th>2019-01</th>\n",
       "      <td>1.402597</td>\n",
       "      <td>0.266234</td>\n",
       "      <td>8.762472e+09</td>\n",
       "      <td>8.687004e+09</td>\n",
       "      <td>2.437774e+10</td>\n",
       "      <td>0.701299</td>\n",
       "      <td>1.687756</td>\n",
       "      <td>0.921384</td>\n",
       "      <td>-5.109246e+06</td>\n",
       "      <td>1.383163e+07</td>\n",
       "      <td>1.986962e+06</td>\n",
       "      <td>-1.936473e+06</td>\n",
       "      <td>-1.487677e+06</td>\n",
       "      <td>40.212938</td>\n",
       "      <td>4.719275e+07</td>\n",
       "      <td>18.459545</td>\n",
       "      <td>3.923427e+06</td>\n",
       "      <td>inf</td>\n",
       "    </tr>\n",
       "    <tr>\n",
       "      <th>2020-01</th>\n",
       "      <td>0.987755</td>\n",
       "      <td>0.212245</td>\n",
       "      <td>8.388963e+09</td>\n",
       "      <td>4.062707e+09</td>\n",
       "      <td>2.464784e+10</td>\n",
       "      <td>0.334694</td>\n",
       "      <td>inf</td>\n",
       "      <td>0.572970</td>\n",
       "      <td>-9.167946e+06</td>\n",
       "      <td>1.629909e+07</td>\n",
       "      <td>3.658235e+05</td>\n",
       "      <td>-5.010418e+06</td>\n",
       "      <td>-2.569837e+06</td>\n",
       "      <td>40.234296</td>\n",
       "      <td>7.925670e+07</td>\n",
       "      <td>21.102510</td>\n",
       "      <td>5.372435e+06</td>\n",
       "      <td>inf</td>\n",
       "    </tr>\n",
       "    <tr>\n",
       "      <th>2021-01</th>\n",
       "      <td>0.463576</td>\n",
       "      <td>0.115894</td>\n",
       "      <td>3.402765e+09</td>\n",
       "      <td>3.771800e+09</td>\n",
       "      <td>2.324853e+10</td>\n",
       "      <td>0.215232</td>\n",
       "      <td>1.263799</td>\n",
       "      <td>0.668342</td>\n",
       "      <td>-4.520961e+06</td>\n",
       "      <td>1.387112e+07</td>\n",
       "      <td>2.645396e+06</td>\n",
       "      <td>-2.439101e+06</td>\n",
       "      <td>-1.814622e+06</td>\n",
       "      <td>29.655215</td>\n",
       "      <td>5.961814e+07</td>\n",
       "      <td>27.449008</td>\n",
       "      <td>5.079986e+06</td>\n",
       "      <td>-0.015105</td>\n",
       "    </tr>\n",
       "  </tbody>\n",
       "</table>\n",
       "</div>"
      ],
      "text/plain": [
       "         경영권분쟁소송+불성실공시법인지정카운트+조회공시요구카운트  상호변경카운트+업종변경카운트  \\\n",
       "2012-01                        0.876289         0.190722   \n",
       "2013-01                        1.170543         0.100775   \n",
       "2014-01                        0.830601         0.136612   \n",
       "2015-01                        1.377483         0.317881   \n",
       "2016-01                        2.035714         0.264286   \n",
       "2017-01                        1.156757         0.297297   \n",
       "2018-01                        1.302857         0.171429   \n",
       "2019-01                        1.402597         0.266234   \n",
       "2020-01                        0.987755         0.212245   \n",
       "2021-01                        0.463576         0.115894   \n",
       "\n",
       "         타법인주식및출자증권취득결정금액+특수관계인에대한자금대여금액  \\\n",
       "2012-01                     3.396197e+09   \n",
       "2013-01                     7.044331e+09   \n",
       "2014-01                     2.174264e+09   \n",
       "2015-01                     3.815461e+09   \n",
       "2016-01                     5.741891e+09   \n",
       "2017-01                     4.344069e+09   \n",
       "2018-01                     8.653020e+09   \n",
       "2019-01                     8.762472e+09   \n",
       "2020-01                     8.388963e+09   \n",
       "2021-01                     3.402765e+09   \n",
       "\n",
       "         최대주주변경을수반하는주식담보제공금액+최대주주변경을수반하는주식양수도금액  BW금액+CB금액+유상증자금액  최대주주변경카운트  \\\n",
       "2012-01                            1.124586e+09      9.142537e+09   0.226804   \n",
       "2013-01                            6.941358e+08      1.121056e+10   0.286822   \n",
       "2014-01                            5.507650e+08      1.702979e+10   0.295082   \n",
       "2015-01                            4.435836e+09      1.064353e+10   0.629139   \n",
       "2016-01                            8.763806e+09      3.295459e+10   0.885714   \n",
       "2017-01                            7.710118e+09      2.452910e+10   0.627027   \n",
       "2018-01                            9.833360e+09      3.426908e+10   0.640000   \n",
       "2019-01                            8.687004e+09      2.437774e+10   0.701299   \n",
       "2020-01                            4.062707e+09      2.464784e+10   0.334694   \n",
       "2021-01                            3.771800e+09      2.324853e+10   0.215232   \n",
       "\n",
       "         결산기간_거래량증가  결산기간_주가변동률         당기순이익          매출채권         매출총이익  \\\n",
       "2012-01    1.534042    1.124604 -2.829207e+06  2.011001e+07  1.189077e+06   \n",
       "2013-01    1.193008    4.045331 -2.192167e+07  1.030605e+08 -5.907294e+06   \n",
       "2014-01    1.154083    2.934415 -1.505111e+07  3.207541e+07 -4.054363e+06   \n",
       "2015-01    2.280547    1.473855 -3.845777e+06  1.543932e+07  7.478290e+05   \n",
       "2016-01         inf    1.493540 -9.794248e+06  2.126723e+07 -4.194118e+05   \n",
       "2017-01         inf    1.114593 -2.128745e+07  2.230294e+07  7.940046e+05   \n",
       "2018-01         inf    1.632192 -4.766777e+06  2.116746e+07  1.590029e+06   \n",
       "2019-01    1.687756    0.921384 -5.109246e+06  1.383163e+07  1.986962e+06   \n",
       "2020-01         inf    0.572970 -9.167946e+06  1.629909e+07  3.658235e+05   \n",
       "2021-01    1.263799    0.668342 -4.520961e+06  1.387112e+07  2.645396e+06   \n",
       "\n",
       "                 영업이익        영업현금흐름     차입금의존도           총자본     최대주주비율  \\\n",
       "2012-01 -1.775450e+06 -7.842252e+05  35.779008  3.669841e+07  23.353527   \n",
       "2013-01 -1.354008e+07 -5.944422e+06  45.390775  8.460478e+07  26.446231   \n",
       "2014-01 -7.276713e+06 -3.283195e+06  41.724850  2.110917e+07  23.089392   \n",
       "2015-01 -1.932547e+06 -1.232882e+06  33.010248  2.863586e+07  22.850466   \n",
       "2016-01 -4.613312e+06 -1.108859e+06  34.132054  3.678496e+07  19.214785   \n",
       "2017-01 -3.442349e+06  1.314472e+05  32.598054  3.507679e+07  18.928410   \n",
       "2018-01 -2.605054e+06 -1.917383e+06  34.039171  6.407607e+07  20.700788   \n",
       "2019-01 -1.936473e+06 -1.487677e+06  40.212938  4.719275e+07  18.459545   \n",
       "2020-01 -5.010418e+06 -2.569837e+06  40.234296  7.925670e+07  21.102510   \n",
       "2021-01 -2.439101e+06 -1.814622e+06  29.655215  5.961814e+07  27.449008   \n",
       "\n",
       "             판매 및 관리비  최대주주비율_변동성  \n",
       "2012-01  2.964527e+06   -0.007204  \n",
       "2013-01  7.634051e+06   -0.009146  \n",
       "2014-01  3.222349e+06    0.078811  \n",
       "2015-01  2.680376e+06         inf  \n",
       "2016-01  4.193900e+06   -0.021284  \n",
       "2017-01  4.236354e+06         inf  \n",
       "2018-01  4.195083e+06    0.004187  \n",
       "2019-01  3.923427e+06         inf  \n",
       "2020-01  5.372435e+06         inf  \n",
       "2021-01  5.079986e+06   -0.015105  "
      ]
     },
     "execution_count": 25,
     "metadata": {},
     "output_type": "execute_result"
    }
   ],
   "source": [
    "dict = evaluate.see_cluster_info(model2_save_dict, eval, original_data_dict)\n",
    "data = pd.DataFrame()\n",
    "col = dict.keys()\n",
    "\n",
    "for t, df in dict.items():\n",
    "    data = pd.concat([data, df], axis=1)\n",
    "\n",
    "data.columns = col\n",
    "data.T.to_csv(\"{}_평균정보.csv\".format(model_name))\n",
    "data.T"
   ]
  },
  {
   "cell_type": "code",
   "execution_count": 26,
   "metadata": {},
   "outputs": [],
   "source": [
    "data.T.mean().to_csv(\"{}_평균정보의평균.csv\".format(model_name))"
   ]
  },
  {
   "cell_type": "code",
   "execution_count": 27,
   "metadata": {},
   "outputs": [],
   "source": [
    "# 그림뽑기\n",
    "\n",
    "test = MyKmeans.visualize_3d_with_answer(filtered_data[\"2020-01\"],\n",
    "                                        model2_save_dict[\"2020-01\"][\"model\"],\n",
    "                                         answer_data=label_data_pp_man[\"2020-01\"],\n",
    "                                         fig_title=\"{}_관리종목\".format(model_name))"
   ]
  },
  {
   "cell_type": "code",
   "execution_count": 28,
   "metadata": {},
   "outputs": [
    {
     "data": {
      "text/html": [
       "<div>\n",
       "<style scoped>\n",
       "    .dataframe tbody tr th:only-of-type {\n",
       "        vertical-align: middle;\n",
       "    }\n",
       "\n",
       "    .dataframe tbody tr th {\n",
       "        vertical-align: top;\n",
       "    }\n",
       "\n",
       "    .dataframe thead th {\n",
       "        text-align: right;\n",
       "    }\n",
       "</style>\n",
       "<table border=\"1\" class=\"dataframe\">\n",
       "  <thead>\n",
       "    <tr style=\"text-align: right;\">\n",
       "      <th></th>\n",
       "      <th>PC1</th>\n",
       "      <th>PC2</th>\n",
       "      <th>PC3</th>\n",
       "      <th>label</th>\n",
       "      <th>answer</th>\n",
       "    </tr>\n",
       "  </thead>\n",
       "  <tbody>\n",
       "    <tr>\n",
       "      <th>A000040</th>\n",
       "      <td>0.287996</td>\n",
       "      <td>0.070184</td>\n",
       "      <td>-0.332410</td>\n",
       "      <td>1</td>\n",
       "      <td>2.5</td>\n",
       "    </tr>\n",
       "    <tr>\n",
       "      <th>A000440</th>\n",
       "      <td>-0.562481</td>\n",
       "      <td>0.166796</td>\n",
       "      <td>-0.240115</td>\n",
       "      <td>0</td>\n",
       "      <td>2.5</td>\n",
       "    </tr>\n",
       "    <tr>\n",
       "      <th>A000650</th>\n",
       "      <td>-0.457632</td>\n",
       "      <td>-0.113229</td>\n",
       "      <td>0.134509</td>\n",
       "      <td>2</td>\n",
       "      <td>2.5</td>\n",
       "    </tr>\n",
       "    <tr>\n",
       "      <th>A000890</th>\n",
       "      <td>0.240952</td>\n",
       "      <td>0.177628</td>\n",
       "      <td>-0.291768</td>\n",
       "      <td>1</td>\n",
       "      <td>2.5</td>\n",
       "    </tr>\n",
       "    <tr>\n",
       "      <th>A000950</th>\n",
       "      <td>0.443058</td>\n",
       "      <td>-0.324850</td>\n",
       "      <td>0.121259</td>\n",
       "      <td>1</td>\n",
       "      <td>2.5</td>\n",
       "    </tr>\n",
       "    <tr>\n",
       "      <th>...</th>\n",
       "      <td>...</td>\n",
       "      <td>...</td>\n",
       "      <td>...</td>\n",
       "      <td>...</td>\n",
       "      <td>...</td>\n",
       "    </tr>\n",
       "    <tr>\n",
       "      <th>A317850</th>\n",
       "      <td>-0.015477</td>\n",
       "      <td>-0.364284</td>\n",
       "      <td>-0.195992</td>\n",
       "      <td>2</td>\n",
       "      <td>2.5</td>\n",
       "    </tr>\n",
       "    <tr>\n",
       "      <th>A317870</th>\n",
       "      <td>-0.378931</td>\n",
       "      <td>0.060924</td>\n",
       "      <td>-0.456732</td>\n",
       "      <td>0</td>\n",
       "      <td>2.5</td>\n",
       "    </tr>\n",
       "    <tr>\n",
       "      <th>A318000</th>\n",
       "      <td>-0.814776</td>\n",
       "      <td>0.385065</td>\n",
       "      <td>-0.087940</td>\n",
       "      <td>0</td>\n",
       "      <td>2.5</td>\n",
       "    </tr>\n",
       "    <tr>\n",
       "      <th>A322510</th>\n",
       "      <td>0.036659</td>\n",
       "      <td>-0.299957</td>\n",
       "      <td>0.128157</td>\n",
       "      <td>2</td>\n",
       "      <td>2.5</td>\n",
       "    </tr>\n",
       "    <tr>\n",
       "      <th>A327260</th>\n",
       "      <td>-0.563135</td>\n",
       "      <td>0.454649</td>\n",
       "      <td>-0.101644</td>\n",
       "      <td>0</td>\n",
       "      <td>2.5</td>\n",
       "    </tr>\n",
       "  </tbody>\n",
       "</table>\n",
       "<p>692 rows × 5 columns</p>\n",
       "</div>"
      ],
      "text/plain": [
       "              PC1       PC2       PC3  label  answer\n",
       "A000040  0.287996  0.070184 -0.332410      1     2.5\n",
       "A000440 -0.562481  0.166796 -0.240115      0     2.5\n",
       "A000650 -0.457632 -0.113229  0.134509      2     2.5\n",
       "A000890  0.240952  0.177628 -0.291768      1     2.5\n",
       "A000950  0.443058 -0.324850  0.121259      1     2.5\n",
       "...           ...       ...       ...    ...     ...\n",
       "A317850 -0.015477 -0.364284 -0.195992      2     2.5\n",
       "A317870 -0.378931  0.060924 -0.456732      0     2.5\n",
       "A318000 -0.814776  0.385065 -0.087940      0     2.5\n",
       "A322510  0.036659 -0.299957  0.128157      2     2.5\n",
       "A327260 -0.563135  0.454649 -0.101644      0     2.5\n",
       "\n",
       "[692 rows x 5 columns]"
      ]
     },
     "execution_count": 28,
     "metadata": {},
     "output_type": "execute_result"
    }
   ],
   "source": [
    "MyKmeans.visualize_3d_with_answer(filtered_data[\"2020-01\"],\n",
    "                                  model2_save_dict[\"2020-01\"][\"model\"],\n",
    "                                 answer_data=label_data_pp_war[\"2020-01\"],\n",
    "                                 fig_title=\"{}_투자주의환기\".format(model_name))"
   ]
  },
  {
   "cell_type": "code",
   "execution_count": null,
   "metadata": {},
   "outputs": [],
   "source": []
  }
 ],
 "metadata": {
  "kernelspec": {
   "display_name": "base",
   "language": "python",
   "name": "python3"
  },
  "language_info": {
   "codemirror_mode": {
    "name": "ipython",
    "version": 3
   },
   "file_extension": ".py",
   "mimetype": "text/x-python",
   "name": "python",
   "nbconvert_exporter": "python",
   "pygments_lexer": "ipython3",
   "version": "3.9.12 (main, Apr  4 2022, 05:22:27) [MSC v.1916 64 bit (AMD64)]"
  },
  "orig_nbformat": 4,
  "vscode": {
   "interpreter": {
    "hash": "a077222d77dfe082b8f1dd562ad70e458ac2ab76993a0b248ab0476e32e9e8dd"
   }
  }
 },
 "nbformat": 4,
 "nbformat_minor": 2
}
