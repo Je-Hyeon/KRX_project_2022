{
 "cells": [
  {
   "cell_type": "code",
   "execution_count": 1,
   "metadata": {},
   "outputs": [],
   "source": [
    "import os\n",
    "import numpy as np\n",
    "import pandas as pd \n",
    "from krx_fr.preprocess import tools, scaler\n",
    "from krx_fr.cluster import evaluate\n",
    "from krx_fr.cluster.optimize import Optimizer\n",
    "from krx_fr.cluster.kmeans import MyKmeans"
   ]
  },
  {
   "cell_type": "code",
   "execution_count": 2,
   "metadata": {},
   "outputs": [
    {
     "data": {
      "text/plain": [
       "'3호모델_Y_k3'"
      ]
     },
     "execution_count": 2,
     "metadata": {},
     "output_type": "execute_result"
    }
   ],
   "source": [
    "model = \"3호모델\"\n",
    "\n",
    "# 윈도우는 Y로 고정\n",
    "window_size = \"Y\"\n",
    "\n",
    "# 어떻게 윈도우를 밀건지\n",
    "freq = \"Y\"\n",
    "\n",
    "# 클러스터 수\n",
    "num_k = 3\n",
    "\n",
    "# 사용할 스케일러\n",
    "sca = scaler.new_rank\n",
    "sc = \"new_rank\"\n",
    "\n",
    "kospi_listed = tools.load_json(\"..\\\\final_data\\\\코스피_구성종목.json\")\n",
    "kosdaq_listed = tools.load_json(\"..\\\\final_data\\\\코스닥_구성종목.json\")\n",
    "together_listed = tools.aggregate_listed_code(kospi_listed, kosdaq_listed)\n",
    "\n",
    "# 모델명\n",
    "model_name = \"{}_{}_k{}\".format(model, freq, num_k)\n",
    "model_name"
   ]
  },
  {
   "cell_type": "code",
   "execution_count": 3,
   "metadata": {},
   "outputs": [],
   "source": [
    "# 퐅더에서 row_data 불러오기\n",
    "kind_data = tools.read_data_from_folder(\"C:\\\\Jehyeon\\\\2022_Winter_KRX\\\\KRX\\\\final_data\\\\KIND\\\\\")\n",
    "financial_data = tools.read_data_from_folder(\"C:\\\\Jehyeon\\\\2022_Winter_KRX\\\\KRX\\\\final_data\\\\재무\\\\\")\n",
    "\n",
    "# 최대주주비율은 1달 단위의 pct_change\n",
    "financial_data2 = tools.dict_data_calculate_pct(financial_data.copy(), name=\"최대주주비율\", return_original=True)\n",
    "\n",
    "# label_data 불러오기\n",
    "label_data_war = pd.read_csv(\"C:\\\\Jehyeon\\\\2022_Winter_KRX\\\\KRX\\\\final_data\\\\label\\\\투자주의환기종목지정카운트.csv\", index_col=0)\n",
    "label_data_man= pd.read_csv(\"C:\\\\Jehyeon\\\\2022_Winter_KRX\\\\KRX\\\\final_data\\\\label\\\\관리종목카운트.csv\", index_col=0)\n",
    "label_data_emb = pd.read_csv(\"C:\\\\Jehyeon\\\\2022_Winter_KRX\\\\KRX\\\\final_data\\\\label\\\\횡령배임혐의발생카운트.csv\", index_col=0)"
   ]
  },
  {
   "cell_type": "code",
   "execution_count": 4,
   "metadata": {},
   "outputs": [],
   "source": [
    "financial_data2[\"결산기간_주가변동률\"] = financial_data2[\"결산기간_주가변동률\"].fillna(0)"
   ]
  },
  {
   "cell_type": "code",
   "execution_count": 5,
   "metadata": {},
   "outputs": [],
   "source": [
    "# 레이블 데이터 shift시켜주기\n",
    "label_data_man_shift = tools.shift_label_data(label_data_man.copy(),shift_size='Y')\n",
    "label_data_war_shift = tools.shift_label_data(label_data_war.copy(),shift_size='Y')\n",
    "label_data_emb_shift = tools.shift_label_data(label_data_emb.copy(),shift_size='Y')\n",
    "\n",
    "label_data_pp1 = tools.dict_data_preprocess_upgrade(label_data_man_shift.copy(), np.sum, \"Y\", rolling_size=freq)\n",
    "label_data_pp_man = tools.dict_data_scale(label_data_pp1.copy(), scaler.zero_one)\n",
    "\n",
    "label_data_pp2 = tools.dict_data_preprocess_upgrade(label_data_war_shift.copy(), np.sum, \"Y\", rolling_size=freq)\n",
    "label_data_pp_war = tools.dict_data_scale(label_data_pp2.copy(), scaler.zero_one)\n",
    "\n",
    "label_data_pp3 = tools.dict_data_preprocess_upgrade(label_data_emb_shift.copy(), np.sum, \"Y\", rolling_size=freq)\n",
    "label_data_pp_emb = tools.dict_data_scale(label_data_pp3.copy(), scaler.zero_one)"
   ]
  },
  {
   "cell_type": "code",
   "execution_count": 6,
   "metadata": {},
   "outputs": [],
   "source": [
    "# 데이터처리 sum / mean\n",
    "kind_data2 = tools.dict_data_preprocess_upgrade(kind_data.copy(), function=np.sum, window_size=window_size,rolling_size=freq, fillna=True)\n",
    "financial_data3 = tools.dict_data_preprocess_upgrade(financial_data2.copy(), function=np.mean, window_size=window_size, rolling_size=freq,fillna=False)"
   ]
  },
  {
   "cell_type": "code",
   "execution_count": 7,
   "metadata": {},
   "outputs": [],
   "source": [
    "# 재무데이터와 공시데이터 합치기\n",
    "concat_data = tools.dict_data_merge(kind_data2.copy(),financial_data3.copy(), dropna=False)"
   ]
  },
  {
   "cell_type": "code",
   "execution_count": 8,
   "metadata": {},
   "outputs": [],
   "source": [
    "# 상장사만 분리한다\n",
    "list_data = tools.dict_data_match_listed_upgrade(concat_data.copy(), together_listed.copy(), rolling_size=freq)"
   ]
  },
  {
   "cell_type": "code",
   "execution_count": 9,
   "metadata": {},
   "outputs": [
    {
     "data": {
      "text/plain": [
       "Index(['BW금액+CB금액', '경영권분쟁소송', '불성실공시법인지정카운트', '상호변경카운트', '업종변경카운트', '유상증자금액',\n",
       "       '조회공시요구카운트', '최대주주변경을수반하는주식담보제공금액', '최대주주변경을수반하는주식양수도금액', '최대주주변경카운트',\n",
       "       '타법인주식및출자증권취득결정금액', '특수관계인에대한자금대여금액', '결산기간_거래량증가', '결산기간_주가변동률',\n",
       "       '당기순이익', '매출채권', '매출총이익', '영업이익', '영업현금흐름', '차입금의존도', '총자본', '최대주주비율',\n",
       "       '판매 및 관리비', '최대주주비율_변동성'],\n",
       "      dtype='object')"
      ]
     },
     "execution_count": 9,
     "metadata": {},
     "output_type": "execute_result"
    }
   ],
   "source": [
    "# 컬럼을 더할 경우\n",
    "concat_together1 = tools.dict_data_plus(list_data.copy(),\n",
    "                                  plus_one=\"BW금액\"\n",
    "                                 ,plus_two=\"CB금액\", return_origianl=False)\n",
    "\n",
    "#\n",
    "concat_together1[\"2012-01\"].columns"
   ]
  },
  {
   "cell_type": "code",
   "execution_count": 10,
   "metadata": {},
   "outputs": [
    {
     "data": {
      "text/plain": [
       "Index(['BW금액+CB금액+유상증자금액', '경영권분쟁소송', '불성실공시법인지정카운트', '상호변경카운트', '업종변경카운트',\n",
       "       '조회공시요구카운트', '최대주주변경을수반하는주식담보제공금액', '최대주주변경을수반하는주식양수도금액', '최대주주변경카운트',\n",
       "       '타법인주식및출자증권취득결정금액', '특수관계인에대한자금대여금액', '결산기간_거래량증가', '결산기간_주가변동률',\n",
       "       '당기순이익', '매출채권', '매출총이익', '영업이익', '영업현금흐름', '차입금의존도', '총자본', '최대주주비율',\n",
       "       '판매 및 관리비', '최대주주비율_변동성'],\n",
       "      dtype='object')"
      ]
     },
     "execution_count": 10,
     "metadata": {},
     "output_type": "execute_result"
    }
   ],
   "source": [
    "concat_together2 = tools.dict_data_plus(concat_together1, \n",
    "                                  plus_one=\"BW금액+CB금액\"\n",
    "                                 ,plus_two=\"유상증자금액\", return_origianl=False)\n",
    "#concat_kospi2 = tools.dict_data_plus(concat_kospi1, \n",
    "#                                  plus_one=\"상호변경카운트_전체시장\"\n",
    "#                                 ,plus_two=\"업종변경카운트_전체시장\", return_origianl=False)\n",
    "#concat_kosdaq2 = tools.dict_data_plus(concat_kosdaq1, \n",
    "#                                  plus_one=\"상호변경카운트_전체시장\"\n",
    "#                                 ,plus_two=\"업종변경카운트_전체시장\", return_origianl=False)\n",
    "concat_together2[\"2012-01\"].columns"
   ]
  },
  {
   "cell_type": "code",
   "execution_count": 11,
   "metadata": {},
   "outputs": [
    {
     "data": {
      "text/plain": [
       "Index(['최대주주변경을수반하는주식담보제공금액+최대주주변경을수반하는주식양수도금액', 'BW금액+CB금액+유상증자금액', '경영권분쟁소송',\n",
       "       '불성실공시법인지정카운트', '상호변경카운트', '업종변경카운트', '조회공시요구카운트', '최대주주변경카운트',\n",
       "       '타법인주식및출자증권취득결정금액', '특수관계인에대한자금대여금액', '결산기간_거래량증가', '결산기간_주가변동률',\n",
       "       '당기순이익', '매출채권', '매출총이익', '영업이익', '영업현금흐름', '차입금의존도', '총자본', '최대주주비율',\n",
       "       '판매 및 관리비', '최대주주비율_변동성'],\n",
       "      dtype='object')"
      ]
     },
     "execution_count": 11,
     "metadata": {},
     "output_type": "execute_result"
    }
   ],
   "source": [
    "concat_together3 = tools.dict_data_plus(concat_together2, \n",
    "                                  plus_one=\"최대주주변경을수반하는주식담보제공금액\"\n",
    "                                 ,plus_two=\"최대주주변경을수반하는주식양수도금액\", return_origianl=False)\n",
    "#concat_kospi3 = tools.dict_data_plus(concat_kospi2, \n",
    "#                                  plus_one=\"최대주주변경을수반하는주식담보제공금액_전체시장\"\n",
    "#                                 ,plus_two=\"최대주주변경을수반하는주식양수도금액_전체시장\", return_origianl=False)\n",
    "#concat_kosdaq3 = tools.dict_data_plus(concat_kosdaq2, \n",
    "#                                  plus_one=\"최대주주변경을수반하는주식담보제공금액_전체시장\"\n",
    "#                                 ,plus_two=\"최대주주변경을수반하는주식양수도금액_전체시장\", return_origianl=False)\n",
    "#\n",
    "concat_together3[\"2012-01\"].columns"
   ]
  },
  {
   "cell_type": "code",
   "execution_count": 12,
   "metadata": {},
   "outputs": [
    {
     "data": {
      "text/plain": [
       "Index(['타법인주식및출자증권취득결정금액+특수관계인에대한자금대여금액',\n",
       "       '최대주주변경을수반하는주식담보제공금액+최대주주변경을수반하는주식양수도금액', 'BW금액+CB금액+유상증자금액', '경영권분쟁소송',\n",
       "       '불성실공시법인지정카운트', '상호변경카운트', '업종변경카운트', '조회공시요구카운트', '최대주주변경카운트',\n",
       "       '결산기간_거래량증가', '결산기간_주가변동률', '당기순이익', '매출채권', '매출총이익', '영업이익', '영업현금흐름',\n",
       "       '차입금의존도', '총자본', '최대주주비율', '판매 및 관리비', '최대주주비율_변동성'],\n",
       "      dtype='object')"
      ]
     },
     "execution_count": 12,
     "metadata": {},
     "output_type": "execute_result"
    }
   ],
   "source": [
    "concat_together4 = tools.dict_data_plus(concat_together3, \n",
    "                                  plus_one=\"타법인주식및출자증권취득결정금액\"\n",
    "                                 ,plus_two=\"특수관계인에대한자금대여금액\", return_origianl=False)\n",
    "#concat_kospi4 = tools.dict_data_plus(concat_kospi3, \n",
    "#                                  plus_one=\"자기주식처분결정금액_전체시장\"\n",
    "#                                 ,plus_two=\"특수관계인에대한자금대여금액_전체시장\", return_origianl=False)\n",
    "#concat_kosdaq4 = tools.dict_data_plus(concat_kosdaq3, \n",
    "#                                  plus_one=\"자기주식처분결정금액_전체시장\"\n",
    "#                                 ,plus_two=\"특수관계인에대한자금대여금액_전체시장\", return_origianl=False)\n",
    "concat_together4[\"2012-01\"].columns"
   ]
  },
  {
   "cell_type": "code",
   "execution_count": 13,
   "metadata": {},
   "outputs": [
    {
     "data": {
      "text/plain": [
       "Index(['상호변경카운트+업종변경카운트', '타법인주식및출자증권취득결정금액+특수관계인에대한자금대여금액',\n",
       "       '최대주주변경을수반하는주식담보제공금액+최대주주변경을수반하는주식양수도금액', 'BW금액+CB금액+유상증자금액', '경영권분쟁소송',\n",
       "       '불성실공시법인지정카운트', '조회공시요구카운트', '최대주주변경카운트', '결산기간_거래량증가', '결산기간_주가변동률',\n",
       "       '당기순이익', '매출채권', '매출총이익', '영업이익', '영업현금흐름', '차입금의존도', '총자본', '최대주주비율',\n",
       "       '판매 및 관리비', '최대주주비율_변동성'],\n",
       "      dtype='object')"
      ]
     },
     "execution_count": 13,
     "metadata": {},
     "output_type": "execute_result"
    }
   ],
   "source": [
    "concat_together5 = tools.dict_data_plus(concat_together4,\n",
    "                                  plus_one=\"상호변경카운트\"\n",
    "                                 ,plus_two=\"업종변경카운트\", return_origianl=False)\n",
    "#concat_kospi5 = tools.dict_data_plus(concat_kospi4,\n",
    "#                                  plus_one=\"불성실공시법인지정카운트_전체시장\"\n",
    "#                                 ,plus_two=\"조회공시요구카운트_전체시장\", return_origianl=False)\n",
    "#concat_kosdaq5 = tools.dict_data_plus(concat_kosdaq4,\n",
    "#                                  plus_one=\"불성실공시법인지정카운트_전체시장\"\n",
    "#                                 ,plus_two=\"조회공시요구카운트_전체시장\", return_origianl=False)\n",
    "concat_together5[\"2012-01\"].columns"
   ]
  },
  {
   "cell_type": "code",
   "execution_count": 14,
   "metadata": {},
   "outputs": [
    {
     "data": {
      "text/plain": [
       "Index(['경영권분쟁소송+불성실공시법인지정카운트', '상호변경카운트+업종변경카운트',\n",
       "       '타법인주식및출자증권취득결정금액+특수관계인에대한자금대여금액',\n",
       "       '최대주주변경을수반하는주식담보제공금액+최대주주변경을수반하는주식양수도금액', 'BW금액+CB금액+유상증자금액',\n",
       "       '조회공시요구카운트', '최대주주변경카운트', '결산기간_거래량증가', '결산기간_주가변동률', '당기순이익', '매출채권',\n",
       "       '매출총이익', '영업이익', '영업현금흐름', '차입금의존도', '총자본', '최대주주비율', '판매 및 관리비',\n",
       "       '최대주주비율_변동성'],\n",
       "      dtype='object')"
      ]
     },
     "execution_count": 14,
     "metadata": {},
     "output_type": "execute_result"
    }
   ],
   "source": [
    "concat_together6 = tools.dict_data_plus(concat_together5,\n",
    "                                  plus_one=\"경영권분쟁소송\"\n",
    "                                 ,plus_two=\"불성실공시법인지정카운트\", return_origianl=False)\n",
    "#concat_kospi7 = tools.dict_data_plus(concat_kospi6,\n",
    "#                                  plus_one=\"BW금액_전체시장+CB금액_전체시장\"\n",
    "#                                 ,plus_two=\"유상증자금액_전체시장\", return_origianl=False)\n",
    "#concat_kosdaq7 = tools.dict_data_plus(concat_kosdaq6,\n",
    "#                                  plus_one=\"BW금액_전체시장+CB금액_전체시장\"\n",
    "#                                 ,plus_two=\"유상증자금액_전체시장\", return_origianl=False)\n",
    "concat_together6[\"2012-01\"].columns"
   ]
  },
  {
   "cell_type": "code",
   "execution_count": 15,
   "metadata": {},
   "outputs": [
    {
     "data": {
      "text/plain": [
       "Index(['경영권분쟁소송+불성실공시법인지정카운트+조회공시요구카운트', '상호변경카운트+업종변경카운트',\n",
       "       '타법인주식및출자증권취득결정금액+특수관계인에대한자금대여금액',\n",
       "       '최대주주변경을수반하는주식담보제공금액+최대주주변경을수반하는주식양수도금액', 'BW금액+CB금액+유상증자금액',\n",
       "       '최대주주변경카운트', '결산기간_거래량증가', '결산기간_주가변동률', '당기순이익', '매출채권', '매출총이익',\n",
       "       '영업이익', '영업현금흐름', '차입금의존도', '총자본', '최대주주비율', '판매 및 관리비', '최대주주비율_변동성'],\n",
       "      dtype='object')"
      ]
     },
     "execution_count": 15,
     "metadata": {},
     "output_type": "execute_result"
    }
   ],
   "source": [
    "concat_together7 = tools.dict_data_plus(concat_together6,\n",
    "                                  plus_one=\"경영권분쟁소송+불성실공시법인지정카운트\"\n",
    "                                 ,plus_two=\"조회공시요구카운트\", return_origianl=False)\n",
    "#concat_kospi8 = tools.dict_data_plus(concat_kospi7,\n",
    "#                                  plus_one=\"경영권분쟁소송_전체시장+최대주주변경카운트_전체시장\"\n",
    "#                                 ,plus_two=\"상호변경카운트_전체시장+업종변경카운트_전체시장\", return_origianl=False)\n",
    "#concat_kosdaq8 = tools.dict_data_plus(concat_kosdaq7,\n",
    "#                                  plus_one=\"경영권분쟁소송_전체시장+최대주주변경카운트_전체시장\"\n",
    "#                                 ,plus_two=\"상호변경카운트_전체시장+업종변경카운트_전체시장\", return_origianl=False)\n",
    "concat_together7[\"2012-01\"].columns"
   ]
  },
  {
   "cell_type": "code",
   "execution_count": 16,
   "metadata": {},
   "outputs": [
    {
     "data": {
      "text/plain": [
       "Index(['경영권분쟁소송+불성실공시법인지정카운트+조회공시요구카운트', '상호변경카운트+업종변경카운트',\n",
       "       '타법인주식및출자증권취득결정금액+특수관계인에대한자금대여금액',\n",
       "       '최대주주변경을수반하는주식담보제공금액+최대주주변경을수반하는주식양수도금액', 'BW금액+CB금액+유상증자금액',\n",
       "       '최대주주변경카운트', '결산기간_거래량증가', '결산기간_주가변동률', '당기순이익', '매출채권', '매출총이익',\n",
       "       '영업이익', '영업현금흐름', '차입금의존도', '총자본', '최대주주비율', '판매 및 관리비', '최대주주비율_변동성'],\n",
       "      dtype='object')"
      ]
     },
     "execution_count": 16,
     "metadata": {},
     "output_type": "execute_result"
    }
   ],
   "source": [
    "drop_togehter = tools.dict_data_drop(concat_together7.copy(), dropna=True)\n",
    "scaled_together = tools.dict_data_scale(drop_togehter.copy(), scaler=sca)\n",
    "\n",
    "scaled_together[\"2012-01\"].columns"
   ]
  },
  {
   "cell_type": "code",
   "execution_count": 17,
   "metadata": {},
   "outputs": [
    {
     "name": "stderr",
     "output_type": "stream",
     "text": [
      "100%|██████████| 100/100 [00:05<00:00, 17.05it/s]\n",
      "100%|██████████| 100/100 [00:05<00:00, 17.88it/s]\n",
      "100%|██████████| 100/100 [00:05<00:00, 17.47it/s]\n",
      "100%|██████████| 100/100 [00:05<00:00, 17.10it/s]\n",
      "100%|██████████| 100/100 [00:06<00:00, 15.64it/s]\n",
      "100%|██████████| 100/100 [00:06<00:00, 15.14it/s]\n",
      "100%|██████████| 100/100 [00:06<00:00, 14.54it/s]\n",
      "100%|██████████| 100/100 [00:07<00:00, 13.64it/s]\n",
      "100%|██████████| 100/100 [00:07<00:00, 13.04it/s]\n",
      "100%|██████████| 100/100 [00:07<00:00, 12.94it/s]\n",
      "100%|██████████| 100/100 [00:07<00:00, 12.60it/s]\n"
     ]
    },
    {
     "data": {
      "text/plain": [
       "{'2012-01': {'num_of_cluseer': 3,\n",
       "  'random_state': 56,\n",
       "  'model': KMeans(max_iter=500, n_clusters=3, n_init=1, random_state=56)},\n",
       " '2013-01': {'num_of_cluseer': 3,\n",
       "  'random_state': 91,\n",
       "  'model': KMeans(max_iter=500, n_clusters=3, n_init=1, random_state=91)},\n",
       " '2014-01': {'num_of_cluseer': 3,\n",
       "  'random_state': 0,\n",
       "  'model': KMeans(max_iter=500, n_clusters=3, n_init=1, random_state=0)},\n",
       " '2015-01': {'num_of_cluseer': 3,\n",
       "  'random_state': 2,\n",
       "  'model': KMeans(max_iter=500, n_clusters=3, n_init=1, random_state=2)},\n",
       " '2016-01': {'num_of_cluseer': 3,\n",
       "  'random_state': 0,\n",
       "  'model': KMeans(max_iter=500, n_clusters=3, n_init=1, random_state=0)},\n",
       " '2017-01': {'num_of_cluseer': 3,\n",
       "  'random_state': 84,\n",
       "  'model': KMeans(max_iter=500, n_clusters=3, n_init=1, random_state=84)},\n",
       " '2018-01': {'num_of_cluseer': 3,\n",
       "  'random_state': 51,\n",
       "  'model': KMeans(max_iter=500, n_clusters=3, n_init=1, random_state=51)},\n",
       " '2019-01': {'num_of_cluseer': 3,\n",
       "  'random_state': 7,\n",
       "  'model': KMeans(max_iter=500, n_clusters=3, n_init=1, random_state=7)},\n",
       " '2020-01': {'num_of_cluseer': 3,\n",
       "  'random_state': 9,\n",
       "  'model': KMeans(max_iter=500, n_clusters=3, n_init=1, random_state=9)},\n",
       " '2021-01': {'num_of_cluseer': 3,\n",
       "  'random_state': 61,\n",
       "  'model': KMeans(max_iter=500, n_clusters=3, n_init=1, random_state=61)},\n",
       " '2022-01': {'num_of_cluseer': 3,\n",
       "  'random_state': 38,\n",
       "  'model': KMeans(max_iter=500, n_clusters=3, n_init=1, random_state=38)}}"
      ]
     },
     "execution_count": 17,
     "metadata": {},
     "output_type": "execute_result"
    }
   ],
   "source": [
    "model_save_dict = evaluate.run_iter_kmeans(num_k, max_sample=100, raw_data=scaled_together.copy())\n",
    "model_save_dict"
   ]
  },
  {
   "attachments": {},
   "cell_type": "markdown",
   "metadata": {},
   "source": [
    "## 모델기록\n"
   ]
  },
  {
   "cell_type": "code",
   "execution_count": 18,
   "metadata": {},
   "outputs": [
    {
     "name": "stdout",
     "output_type": "stream",
     "text": [
      "753.0\n",
      "463.0\n"
     ]
    },
    {
     "data": {
      "text/html": [
       "<div>\n",
       "<style scoped>\n",
       "    .dataframe tbody tr th:only-of-type {\n",
       "        vertical-align: middle;\n",
       "    }\n",
       "\n",
       "    .dataframe tbody tr th {\n",
       "        vertical-align: top;\n",
       "    }\n",
       "\n",
       "    .dataframe thead th {\n",
       "        text-align: right;\n",
       "    }\n",
       "</style>\n",
       "<table border=\"1\" class=\"dataframe\">\n",
       "  <thead>\n",
       "    <tr style=\"text-align: right;\">\n",
       "      <th></th>\n",
       "      <th>2012-01</th>\n",
       "      <th>2013-01</th>\n",
       "      <th>2014-01</th>\n",
       "      <th>2015-01</th>\n",
       "      <th>2016-01</th>\n",
       "      <th>2017-01</th>\n",
       "      <th>2018-01</th>\n",
       "      <th>2019-01</th>\n",
       "      <th>2020-01</th>\n",
       "      <th>2021-01</th>\n",
       "      <th>2022-01</th>\n",
       "    </tr>\n",
       "  </thead>\n",
       "  <tbody>\n",
       "    <tr>\n",
       "      <th>0</th>\n",
       "      <td>463.0</td>\n",
       "      <td>492.0</td>\n",
       "      <td>536.0</td>\n",
       "      <td>512.0</td>\n",
       "      <td>551.0</td>\n",
       "      <td>558.0</td>\n",
       "      <td>597.0</td>\n",
       "      <td>612.0</td>\n",
       "      <td>542.0</td>\n",
       "      <td>745.0</td>\n",
       "      <td>572.0</td>\n",
       "    </tr>\n",
       "    <tr>\n",
       "      <th>1</th>\n",
       "      <td>524.0</td>\n",
       "      <td>612.0</td>\n",
       "      <td>495.0</td>\n",
       "      <td>526.0</td>\n",
       "      <td>644.0</td>\n",
       "      <td>568.0</td>\n",
       "      <td>693.0</td>\n",
       "      <td>732.0</td>\n",
       "      <td>692.0</td>\n",
       "      <td>700.0</td>\n",
       "      <td>731.0</td>\n",
       "    </tr>\n",
       "    <tr>\n",
       "      <th>2</th>\n",
       "      <td>607.0</td>\n",
       "      <td>501.0</td>\n",
       "      <td>589.0</td>\n",
       "      <td>621.0</td>\n",
       "      <td>536.0</td>\n",
       "      <td>661.0</td>\n",
       "      <td>575.0</td>\n",
       "      <td>575.0</td>\n",
       "      <td>743.0</td>\n",
       "      <td>581.0</td>\n",
       "      <td>753.0</td>\n",
       "    </tr>\n",
       "    <tr>\n",
       "      <th>기업수</th>\n",
       "      <td>1594.0</td>\n",
       "      <td>1605.0</td>\n",
       "      <td>1620.0</td>\n",
       "      <td>1659.0</td>\n",
       "      <td>1731.0</td>\n",
       "      <td>1787.0</td>\n",
       "      <td>1865.0</td>\n",
       "      <td>1919.0</td>\n",
       "      <td>1977.0</td>\n",
       "      <td>2026.0</td>\n",
       "      <td>2056.0</td>\n",
       "    </tr>\n",
       "  </tbody>\n",
       "</table>\n",
       "</div>"
      ],
      "text/plain": [
       "     2012-01  2013-01  2014-01  2015-01  2016-01  2017-01  2018-01  2019-01  \\\n",
       "0      463.0    492.0    536.0    512.0    551.0    558.0    597.0    612.0   \n",
       "1      524.0    612.0    495.0    526.0    644.0    568.0    693.0    732.0   \n",
       "2      607.0    501.0    589.0    621.0    536.0    661.0    575.0    575.0   \n",
       "기업수   1594.0   1605.0   1620.0   1659.0   1731.0   1787.0   1865.0   1919.0   \n",
       "\n",
       "     2020-01  2021-01  2022-01  \n",
       "0      542.0    745.0    572.0  \n",
       "1      692.0    700.0    731.0  \n",
       "2      743.0    581.0    753.0  \n",
       "기업수   1977.0   2026.0   2056.0  "
      ]
     },
     "execution_count": 18,
     "metadata": {},
     "output_type": "execute_result"
    }
   ],
   "source": [
    "size =evaluate.eval_cluster_size(model_save_dict)\n",
    "#size.to_csv(\"{}_클러스터사이즈.csv\".format(model_name))\n",
    "\n",
    "print(size.iloc[:-1,:].max().max())\n",
    "print(size.iloc[:-1,:].min().min())\n",
    "size"
   ]
  },
  {
   "cell_type": "code",
   "execution_count": 19,
   "metadata": {},
   "outputs": [],
   "source": [
    "eval_one, eval_one_original = evaluate.eval_cluster_result(model_save_dict, raw_data = scaled_together, label_data=label_data_pp_man, freq=freq)\n",
    "#eval_one.to_csv(\"{}_관리종목.csv\".format(model_name))\n",
    "#eval_one_original.to_csv(\"{}_관리종목전체대비.csv\".format(model_name))"
   ]
  },
  {
   "cell_type": "code",
   "execution_count": 20,
   "metadata": {},
   "outputs": [],
   "source": [
    "eval_two,eval_two_original = evaluate.eval_cluster_result(model_save_dict, raw_data = scaled_together, label_data=label_data_pp_war, freq=freq)\n",
    "#eval_two.to_csv(\"{}_투자환기종목.csv\".format(model_name))\n",
    "#eval_two_original.to_csv(\"{}_투자환기종목전체대비.csv\".format(model_name))"
   ]
  },
  {
   "cell_type": "code",
   "execution_count": 21,
   "metadata": {},
   "outputs": [],
   "source": [
    "# 횡령인 경우\n",
    "eval_three, eval_three_original = evaluate.eval_cluster_result(model_save_dict, raw_data = scaled_together, label_data=label_data_pp_emb, freq=freq)\n",
    "#eval_three.to_csv(\"{}_횡령배임혐의.csv\".format(model_name))\n",
    "#eval_three_original.to_csv(\"{}_횡령배임혐의전체대비.csv\".format(model_name))"
   ]
  },
  {
   "cell_type": "code",
   "execution_count": 22,
   "metadata": {},
   "outputs": [
    {
     "name": "stdout",
     "output_type": "stream",
     "text": [
      "0.8875905244279763\n",
      "1.0\n"
     ]
    },
    {
     "data": {
      "text/plain": [
       "0.10502327949949077"
      ]
     },
     "execution_count": 22,
     "metadata": {},
     "output_type": "execute_result"
    }
   ],
   "source": [
    "print(evaluate.calculate_catch_probability(eval_one, eval_two, None))#, eval_three)\n",
    "print(evaluate.calculate_match_probability(eval_one, eval_two,None))# eval_three)\n",
    "evaluate.calculate_catch_probability(eval_one_original, eval_two_original, None)#eval_three_original)"
   ]
  },
  {
   "cell_type": "code",
   "execution_count": 23,
   "metadata": {},
   "outputs": [
    {
     "data": {
      "text/plain": [
       "매출총이익                                     0.164313\n",
       "총자본                                       0.143042\n",
       "영업이익                                      0.125472\n",
       "매출채권                                      0.110328\n",
       "판매 및 관리비                                  0.105935\n",
       "당기순이익                                     0.099984\n",
       "영업현금흐름                                    0.081115\n",
       "최대주주비율                                    0.069844\n",
       "BW금액+CB금액+유상증자금액                          0.023485\n",
       "결산기간_주가변동률                                0.020817\n",
       "차입금의존도                                    0.015985\n",
       "경영권분쟁소송+불성실공시법인지정카운트+조회공시요구카운트            0.014212\n",
       "최대주주비율_변동성                                0.010781\n",
       "결산기간_거래량증가                                0.005234\n",
       "최대주주변경카운트                                 0.005129\n",
       "최대주주변경을수반하는주식담보제공금액+최대주주변경을수반하는주식양수도금액    0.001910\n",
       "타법인주식및출자증권취득결정금액+특수관계인에대한자금대여금액           0.001408\n",
       "상호변경카운트+업종변경카운트                           0.001007\n",
       "dtype: float64"
      ]
     },
     "execution_count": 23,
     "metadata": {},
     "output_type": "execute_result"
    }
   ],
   "source": [
    "def pct(df):\n",
    "    return df / np.sum(df)\n",
    "\n",
    "dist = evaluate.eval_cluster_distance(eval_one, scaled_together, model_save_dict)\n",
    "dist = dist.apply(pct, axis=1)\n",
    "dist2= dist.mean(axis=0).sort_values(ascending=False)\n",
    "\n",
    "#dist.to_csv(\"{}_거리분해.csv\".format(model_name))\n",
    "#dist2.to_csv(\"{}_거리분해평균.csv\".format(model_name))\n",
    "\n",
    "dist2"
   ]
  },
  {
   "cell_type": "code",
   "execution_count": 24,
   "metadata": {},
   "outputs": [
    {
     "name": "stderr",
     "output_type": "stream",
     "text": [
      "c:\\Jehyeon\\2022_Winter_KRX\\KRX\\Model\\krx_fr\\cluster\\optimize.py:263: RuntimeWarning: invalid value encountered in double_scalars\n",
      "  cluster_accuracy[key] = cluster_accuracy[key]/value_sum\n"
     ]
    },
    {
     "data": {
      "text/html": [
       "<div>\n",
       "<style scoped>\n",
       "    .dataframe tbody tr th:only-of-type {\n",
       "        vertical-align: middle;\n",
       "    }\n",
       "\n",
       "    .dataframe tbody tr th {\n",
       "        vertical-align: top;\n",
       "    }\n",
       "\n",
       "    .dataframe thead th {\n",
       "        text-align: right;\n",
       "    }\n",
       "</style>\n",
       "<table border=\"1\" class=\"dataframe\">\n",
       "  <thead>\n",
       "    <tr style=\"text-align: right;\">\n",
       "      <th></th>\n",
       "      <th>2013-01예측</th>\n",
       "      <th>2014-01예측</th>\n",
       "      <th>2015-01예측</th>\n",
       "      <th>2016-01예측</th>\n",
       "      <th>2017-01예측</th>\n",
       "      <th>2018-01예측</th>\n",
       "      <th>2019-01예측</th>\n",
       "      <th>2020-01예측</th>\n",
       "      <th>2021-01예측</th>\n",
       "    </tr>\n",
       "  </thead>\n",
       "  <tbody>\n",
       "    <tr>\n",
       "      <th>0</th>\n",
       "      <td>0.085714</td>\n",
       "      <td>0.069767</td>\n",
       "      <td>0.904762</td>\n",
       "      <td>0.023256</td>\n",
       "      <td>0.038462</td>\n",
       "      <td>0.046512</td>\n",
       "      <td>0.955056</td>\n",
       "      <td>0.011494</td>\n",
       "      <td>0.030769</td>\n",
       "    </tr>\n",
       "    <tr>\n",
       "      <th>1</th>\n",
       "      <td>0.914286</td>\n",
       "      <td>0.116279</td>\n",
       "      <td>0.023810</td>\n",
       "      <td>0.906977</td>\n",
       "      <td>0.153846</td>\n",
       "      <td>0.837209</td>\n",
       "      <td>0.044944</td>\n",
       "      <td>0.126437</td>\n",
       "      <td>0.892308</td>\n",
       "    </tr>\n",
       "    <tr>\n",
       "      <th>2</th>\n",
       "      <td>0.000000</td>\n",
       "      <td>0.813953</td>\n",
       "      <td>0.071429</td>\n",
       "      <td>0.069767</td>\n",
       "      <td>0.807692</td>\n",
       "      <td>0.116279</td>\n",
       "      <td>0.000000</td>\n",
       "      <td>0.862069</td>\n",
       "      <td>0.076923</td>\n",
       "    </tr>\n",
       "  </tbody>\n",
       "</table>\n",
       "</div>"
      ],
      "text/plain": [
       "   2013-01예측  2014-01예측  2015-01예측  2016-01예측  2017-01예측  2018-01예측  \\\n",
       "0   0.085714   0.069767   0.904762   0.023256   0.038462   0.046512   \n",
       "1   0.914286   0.116279   0.023810   0.906977   0.153846   0.837209   \n",
       "2   0.000000   0.813953   0.071429   0.069767   0.807692   0.116279   \n",
       "\n",
       "   2019-01예측  2020-01예측  2021-01예측  \n",
       "0   0.955056   0.011494   0.030769  \n",
       "1   0.044944   0.126437   0.892308  \n",
       "2   0.000000   0.862069   0.076923  "
      ]
     },
     "execution_count": 24,
     "metadata": {},
     "output_type": "execute_result"
    }
   ],
   "source": [
    "pre, pre_original = evaluate.predict_cluster_result(model_save_dict, scaled_together,label_data_pp_man, \"2012-01\", freq=freq)\n",
    "pre"
   ]
  },
  {
   "cell_type": "code",
   "execution_count": 25,
   "metadata": {},
   "outputs": [
    {
     "name": "stderr",
     "output_type": "stream",
     "text": [
      "c:\\Jehyeon\\2022_Winter_KRX\\KRX\\Model\\krx_fr\\cluster\\optimize.py:263: RuntimeWarning: invalid value encountered in double_scalars\n",
      "  cluster_accuracy[key] = cluster_accuracy[key]/value_sum\n"
     ]
    },
    {
     "data": {
      "text/html": [
       "<div>\n",
       "<style scoped>\n",
       "    .dataframe tbody tr th:only-of-type {\n",
       "        vertical-align: middle;\n",
       "    }\n",
       "\n",
       "    .dataframe tbody tr th {\n",
       "        vertical-align: top;\n",
       "    }\n",
       "\n",
       "    .dataframe thead th {\n",
       "        text-align: right;\n",
       "    }\n",
       "</style>\n",
       "<table border=\"1\" class=\"dataframe\">\n",
       "  <thead>\n",
       "    <tr style=\"text-align: right;\">\n",
       "      <th></th>\n",
       "      <th>2013-01예측</th>\n",
       "      <th>2014-01예측</th>\n",
       "      <th>2015-01예측</th>\n",
       "      <th>2016-01예측</th>\n",
       "      <th>2017-01예측</th>\n",
       "      <th>2018-01예측</th>\n",
       "      <th>2019-01예측</th>\n",
       "      <th>2020-01예측</th>\n",
       "      <th>2021-01예측</th>\n",
       "    </tr>\n",
       "  </thead>\n",
       "  <tbody>\n",
       "    <tr>\n",
       "      <th>0</th>\n",
       "      <td>0.085714</td>\n",
       "      <td>0.069767</td>\n",
       "      <td>0.904762</td>\n",
       "      <td>0.023256</td>\n",
       "      <td>0.038462</td>\n",
       "      <td>0.046512</td>\n",
       "      <td>0.955056</td>\n",
       "      <td>0.011494</td>\n",
       "      <td>0.030769</td>\n",
       "    </tr>\n",
       "    <tr>\n",
       "      <th>1</th>\n",
       "      <td>0.914286</td>\n",
       "      <td>0.116279</td>\n",
       "      <td>0.023810</td>\n",
       "      <td>0.906977</td>\n",
       "      <td>0.153846</td>\n",
       "      <td>0.837209</td>\n",
       "      <td>0.044944</td>\n",
       "      <td>0.126437</td>\n",
       "      <td>0.892308</td>\n",
       "    </tr>\n",
       "    <tr>\n",
       "      <th>2</th>\n",
       "      <td>0.000000</td>\n",
       "      <td>0.813953</td>\n",
       "      <td>0.071429</td>\n",
       "      <td>0.069767</td>\n",
       "      <td>0.807692</td>\n",
       "      <td>0.116279</td>\n",
       "      <td>0.000000</td>\n",
       "      <td>0.862069</td>\n",
       "      <td>0.076923</td>\n",
       "    </tr>\n",
       "  </tbody>\n",
       "</table>\n",
       "</div>"
      ],
      "text/plain": [
       "   2013-01예측  2014-01예측  2015-01예측  2016-01예측  2017-01예측  2018-01예측  \\\n",
       "0   0.085714   0.069767   0.904762   0.023256   0.038462   0.046512   \n",
       "1   0.914286   0.116279   0.023810   0.906977   0.153846   0.837209   \n",
       "2   0.000000   0.813953   0.071429   0.069767   0.807692   0.116279   \n",
       "\n",
       "   2019-01예측  2020-01예측  2021-01예측  \n",
       "0   0.955056   0.011494   0.030769  \n",
       "1   0.044944   0.126437   0.892308  \n",
       "2   0.000000   0.862069   0.076923  "
      ]
     },
     "execution_count": 25,
     "metadata": {},
     "output_type": "execute_result"
    }
   ],
   "source": [
    "pre, pre_original = evaluate.predict_cluster_result(model_save_dict, scaled_together,label_data_pp_man, \"2012-01\", freq=freq)\n",
    "pre"
   ]
  },
  {
   "cell_type": "code",
   "execution_count": 35,
   "metadata": {},
   "outputs": [
    {
     "name": "stdout",
     "output_type": "stream",
     "text": [
      "0.8771458110248735\n"
     ]
    },
    {
     "name": "stderr",
     "output_type": "stream",
     "text": [
      "c:\\Users\\user\\anaconda3\\lib\\site-packages\\sklearn\\base.py:443: UserWarning:\n",
      "\n",
      "X has feature names, but KMeans was fitted without feature names\n",
      "\n",
      "c:\\Users\\user\\anaconda3\\lib\\site-packages\\sklearn\\base.py:443: UserWarning:\n",
      "\n",
      "X has feature names, but KMeans was fitted without feature names\n",
      "\n",
      "c:\\Users\\user\\anaconda3\\lib\\site-packages\\sklearn\\base.py:443: UserWarning:\n",
      "\n",
      "X has feature names, but KMeans was fitted without feature names\n",
      "\n",
      "c:\\Users\\user\\anaconda3\\lib\\site-packages\\sklearn\\base.py:443: UserWarning:\n",
      "\n",
      "X has feature names, but KMeans was fitted without feature names\n",
      "\n",
      "c:\\Users\\user\\anaconda3\\lib\\site-packages\\sklearn\\base.py:443: UserWarning:\n",
      "\n",
      "X has feature names, but KMeans was fitted without feature names\n",
      "\n",
      "c:\\Users\\user\\anaconda3\\lib\\site-packages\\sklearn\\base.py:443: UserWarning:\n",
      "\n",
      "X has feature names, but KMeans was fitted without feature names\n",
      "\n",
      "c:\\Users\\user\\anaconda3\\lib\\site-packages\\sklearn\\base.py:443: UserWarning:\n",
      "\n",
      "X has feature names, but KMeans was fitted without feature names\n",
      "\n",
      "c:\\Users\\user\\anaconda3\\lib\\site-packages\\sklearn\\base.py:443: UserWarning:\n",
      "\n",
      "X has feature names, but KMeans was fitted without feature names\n",
      "\n",
      "c:\\Users\\user\\anaconda3\\lib\\site-packages\\sklearn\\base.py:443: UserWarning:\n",
      "\n",
      "X has feature names, but KMeans was fitted without feature names\n",
      "\n"
     ]
    }
   ],
   "source": [
    "# 포착 확률 구하기\n",
    "key = list(model_save_dict.keys())\n",
    "key_t1 = key[:-2]\n",
    "key_t2 = key[1:-1]\n",
    "\n",
    "return_predict_dict = {}\n",
    "\n",
    "for t1,t2 in zip(key_t1,key_t2):\n",
    "    model_t1 = model_save_dict[t1][\"model\"]\n",
    "    data = scaled_together[t2]\n",
    "    #predict_label = model_t1.predict(scaled_together[t2])\n",
    "    # t2기에 대한 예측값을 담고 있다\n",
    "    prob, org_prob = Optimizer.eval(model_t1,data,label_data_pp_man[t2])\n",
    "    return_predict_dict[t2] = prob\n",
    "\n",
    "return_df = pd.DataFrame()\n",
    "\n",
    "for t,data in return_predict_dict.items():\n",
    "    df = pd.DataFrame(data.values(), data.keys(), columns=[str(t)+\"기_예측\"])\n",
    "    return_df = pd.concat([return_df,df], axis=1)\n",
    "return_df\n",
    "\n",
    "print(return_df.max(axis=0).mean())\n",
    "print(return_df.max(axis=0))\n",
    "\n",
    "\n",
    "return_dict = {}\n",
    "\n",
    "label_t = eval_two.iloc[-1, :-1]\n",
    "label_t2 = eval_two.iloc[-1,1:]\n",
    "\n",
    "for labelt, labelt2, t1,t2 in zip(label_t, label_t2, key_t1,key_t2): \n",
    "    mask = model_save_dict[t1][\"model\"].predict(scaled_together[t2]) == labelt # t기 라벨 사용\n",
    "    list_corp = scaled_together[t2].loc[mask].index.to_list()\n",
    "\n",
    "    mask2 = model_save_dict[t2][\"model\"].labels_ == labelt2 # t+1기 라벨 사용\n",
    "    list_corp2 = scaled_together[t2].loc[mask2].index.to_list()\n",
    "\n",
    "    se = set(list_corp+list_corp2)\n",
    "    return_dict[t2] = len(list_corp)/ len(se)"
   ]
  },
  {
   "cell_type": "code",
   "execution_count": 34,
   "metadata": {},
   "outputs": [
    {
     "data": {
      "text/plain": [
       "0.9528469538792356"
      ]
     },
     "execution_count": 34,
     "metadata": {},
     "output_type": "execute_result"
    }
   ],
   "source": [
    "np.mean(list(return_dict.values()))"
   ]
  },
  {
   "cell_type": "code",
   "execution_count": 26,
   "metadata": {},
   "outputs": [],
   "source": [
    "# 그림뽑기\n",
    "\n",
    "test = MyKmeans.visualize_3d_with_answer(scaled_together[\"2021-01\"],model_save_dict[\"2021-01\"][\"model\"], answer_data=label_data_pp_man[\"2021-01\"], fig_title=\"{}_관리종목\".format(model_name))"
   ]
  },
  {
   "cell_type": "code",
   "execution_count": 27,
   "metadata": {},
   "outputs": [
    {
     "data": {
      "text/html": [
       "<div>\n",
       "<style scoped>\n",
       "    .dataframe tbody tr th:only-of-type {\n",
       "        vertical-align: middle;\n",
       "    }\n",
       "\n",
       "    .dataframe tbody tr th {\n",
       "        vertical-align: top;\n",
       "    }\n",
       "\n",
       "    .dataframe thead th {\n",
       "        text-align: right;\n",
       "    }\n",
       "</style>\n",
       "<table border=\"1\" class=\"dataframe\">\n",
       "  <thead>\n",
       "    <tr style=\"text-align: right;\">\n",
       "      <th></th>\n",
       "      <th>PC1</th>\n",
       "      <th>PC2</th>\n",
       "      <th>PC3</th>\n",
       "      <th>label</th>\n",
       "      <th>answer</th>\n",
       "    </tr>\n",
       "  </thead>\n",
       "  <tbody>\n",
       "    <tr>\n",
       "      <th>A000020</th>\n",
       "      <td>0.787740</td>\n",
       "      <td>-0.052813</td>\n",
       "      <td>0.260600</td>\n",
       "      <td>2</td>\n",
       "      <td>2.5</td>\n",
       "    </tr>\n",
       "    <tr>\n",
       "      <th>A000040</th>\n",
       "      <td>-0.276659</td>\n",
       "      <td>0.314503</td>\n",
       "      <td>-0.395460</td>\n",
       "      <td>0</td>\n",
       "      <td>2.5</td>\n",
       "    </tr>\n",
       "    <tr>\n",
       "      <th>A000050</th>\n",
       "      <td>0.772406</td>\n",
       "      <td>-0.036837</td>\n",
       "      <td>0.113148</td>\n",
       "      <td>2</td>\n",
       "      <td>2.5</td>\n",
       "    </tr>\n",
       "    <tr>\n",
       "      <th>A000070</th>\n",
       "      <td>1.221977</td>\n",
       "      <td>0.282145</td>\n",
       "      <td>0.062447</td>\n",
       "      <td>2</td>\n",
       "      <td>2.5</td>\n",
       "    </tr>\n",
       "    <tr>\n",
       "      <th>A000080</th>\n",
       "      <td>1.154695</td>\n",
       "      <td>0.196561</td>\n",
       "      <td>0.160869</td>\n",
       "      <td>2</td>\n",
       "      <td>2.5</td>\n",
       "    </tr>\n",
       "    <tr>\n",
       "      <th>...</th>\n",
       "      <td>...</td>\n",
       "      <td>...</td>\n",
       "      <td>...</td>\n",
       "      <td>...</td>\n",
       "      <td>...</td>\n",
       "    </tr>\n",
       "    <tr>\n",
       "      <th>A353810</th>\n",
       "      <td>0.059356</td>\n",
       "      <td>0.013941</td>\n",
       "      <td>0.024853</td>\n",
       "      <td>1</td>\n",
       "      <td>2.5</td>\n",
       "    </tr>\n",
       "    <tr>\n",
       "      <th>A354200</th>\n",
       "      <td>-0.950853</td>\n",
       "      <td>-0.139627</td>\n",
       "      <td>0.233663</td>\n",
       "      <td>0</td>\n",
       "      <td>2.5</td>\n",
       "    </tr>\n",
       "    <tr>\n",
       "      <th>A357780</th>\n",
       "      <td>0.924411</td>\n",
       "      <td>-0.349065</td>\n",
       "      <td>-0.434944</td>\n",
       "      <td>2</td>\n",
       "      <td>2.5</td>\n",
       "    </tr>\n",
       "    <tr>\n",
       "      <th>A363280</th>\n",
       "      <td>0.499276</td>\n",
       "      <td>-0.031759</td>\n",
       "      <td>-0.315548</td>\n",
       "      <td>2</td>\n",
       "      <td>2.5</td>\n",
       "    </tr>\n",
       "    <tr>\n",
       "      <th>A375500</th>\n",
       "      <td>1.182399</td>\n",
       "      <td>0.019040</td>\n",
       "      <td>-0.162003</td>\n",
       "      <td>2</td>\n",
       "      <td>2.5</td>\n",
       "    </tr>\n",
       "  </tbody>\n",
       "</table>\n",
       "<p>2026 rows × 5 columns</p>\n",
       "</div>"
      ],
      "text/plain": [
       "              PC1       PC2       PC3  label  answer\n",
       "A000020  0.787740 -0.052813  0.260600      2     2.5\n",
       "A000040 -0.276659  0.314503 -0.395460      0     2.5\n",
       "A000050  0.772406 -0.036837  0.113148      2     2.5\n",
       "A000070  1.221977  0.282145  0.062447      2     2.5\n",
       "A000080  1.154695  0.196561  0.160869      2     2.5\n",
       "...           ...       ...       ...    ...     ...\n",
       "A353810  0.059356  0.013941  0.024853      1     2.5\n",
       "A354200 -0.950853 -0.139627  0.233663      0     2.5\n",
       "A357780  0.924411 -0.349065 -0.434944      2     2.5\n",
       "A363280  0.499276 -0.031759 -0.315548      2     2.5\n",
       "A375500  1.182399  0.019040 -0.162003      2     2.5\n",
       "\n",
       "[2026 rows x 5 columns]"
      ]
     },
     "execution_count": 27,
     "metadata": {},
     "output_type": "execute_result"
    }
   ],
   "source": [
    "MyKmeans.visualize_3d_with_answer(scaled_together[\"2021-01\"],model_save_dict[\"2021-01\"][\"model\"], answer_data=label_data_pp_war[\"2021-01\"], fig_title=\"{}_투자주의환기\".format(model_name))"
   ]
  },
  {
   "cell_type": "code",
   "execution_count": null,
   "metadata": {},
   "outputs": [],
   "source": []
  }
 ],
 "metadata": {
  "kernelspec": {
   "display_name": "base",
   "language": "python",
   "name": "python3"
  },
  "language_info": {
   "codemirror_mode": {
    "name": "ipython",
    "version": 3
   },
   "file_extension": ".py",
   "mimetype": "text/x-python",
   "name": "python",
   "nbconvert_exporter": "python",
   "pygments_lexer": "ipython3",
   "version": "3.9.12"
  },
  "orig_nbformat": 4,
  "vscode": {
   "interpreter": {
    "hash": "a077222d77dfe082b8f1dd562ad70e458ac2ab76993a0b248ab0476e32e9e8dd"
   }
  }
 },
 "nbformat": 4,
 "nbformat_minor": 2
}
