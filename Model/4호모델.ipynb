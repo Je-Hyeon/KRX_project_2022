{
 "cells": [
  {
   "cell_type": "code",
   "execution_count": 1,
   "metadata": {},
   "outputs": [],
   "source": [
    "import os\n",
    "import numpy as np\n",
    "import pandas as pd \n",
    "from krx_fr.preprocess import tools, scaler\n",
    "from krx_fr.cluster import evaluate\n",
    "from krx_fr.cluster.optimize import Optimizer\n",
    "from krx_fr.cluster.kmeans import MyKmeans"
   ]
  },
  {
   "cell_type": "code",
   "execution_count": 2,
   "metadata": {},
   "outputs": [
    {
     "data": {
      "text/plain": [
       "'4호모델_Q_k3'"
      ]
     },
     "execution_count": 2,
     "metadata": {},
     "output_type": "execute_result"
    }
   ],
   "source": [
    "model = \"4호모델\"\n",
    "\n",
    "# 윈도우는 Y로 고정\n",
    "window_size = \"Y\"\n",
    "\n",
    "# 어떻게 윈도우를 밀건지\n",
    "freq = \"Q\"\n",
    "\n",
    "# 클러스터 수\n",
    "num_k = 3\n",
    "\n",
    "# 사용할 스케일러\n",
    "sca = scaler.new_rank\n",
    "sc = \"new_rank\"\n",
    "\n",
    "kospi_listed = tools.load_json(\"..\\\\final_data\\\\코스피_구성종목.json\")\n",
    "kosdaq_listed = tools.load_json(\"..\\\\final_data\\\\코스닥_구성종목.json\")\n",
    "together_listed = tools.aggregate_listed_code(kospi_listed, kosdaq_listed)\n",
    "\n",
    "# 모델명\n",
    "model_name = \"{}_{}_k{}\".format(model, freq, num_k)\n",
    "model_name"
   ]
  },
  {
   "cell_type": "code",
   "execution_count": 3,
   "metadata": {},
   "outputs": [],
   "source": [
    "# 퐅더에서 row_data 불러오기\n",
    "kind_data = tools.read_data_from_folder(\"C:\\\\Jehyeon\\\\2022_Winter_KRX\\\\KRX\\\\final_data\\\\KIND\\\\\")\n",
    "financial_data = tools.read_data_from_folder(\"C:\\\\Jehyeon\\\\2022_Winter_KRX\\\\KRX\\\\final_data\\\\재무\\\\\")\n",
    "\n",
    "# 최대주주비율은 1달 단위의 pct_change\n",
    "financial_data2 = tools.dict_data_calculate_pct(financial_data.copy(), name=\"최대주주비율\", return_original=True)\n",
    "\n",
    "# label_data 불러오기\n",
    "label_data_war = pd.read_csv(\"C:\\\\Jehyeon\\\\2022_Winter_KRX\\\\KRX\\\\final_data\\\\label\\\\투자주의환기종목지정카운트.csv\", index_col=0)\n",
    "label_data_man= pd.read_csv(\"C:\\\\Jehyeon\\\\2022_Winter_KRX\\\\KRX\\\\final_data\\\\label\\\\관리종목카운트.csv\", index_col=0)\n",
    "label_data_emb = pd.read_csv(\"C:\\\\Jehyeon\\\\2022_Winter_KRX\\\\KRX\\\\final_data\\\\label\\\\횡령배임혐의발생카운트.csv\", index_col=0)"
   ]
  },
  {
   "cell_type": "code",
   "execution_count": null,
   "metadata": {},
   "outputs": [],
   "source": [
    "financial_data2[\"결산기간_주가변동률\"] = financial_data2[\"결산기간_주가변동률\"].fillna(0)"
   ]
  },
  {
   "cell_type": "code",
   "execution_count": null,
   "metadata": {},
   "outputs": [],
   "source": [
    "# 레이블 데이터 shift시켜주기\n",
    "label_data_man_shift = tools.shift_label_data(label_data_man.copy(),shift_size='Y')\n",
    "label_data_war_shift = tools.shift_label_data(label_data_war.copy(),shift_size='Y')\n",
    "label_data_emb_shift = tools.shift_label_data(label_data_emb.copy(),shift_size='Y')\n",
    "\n",
    "label_data_pp1 = tools.dict_data_preprocess_upgrade(label_data_man_shift.copy(), np.sum, \"Y\", rolling_size=freq)\n",
    "label_data_pp_man = tools.dict_data_scale(label_data_pp1.copy(), scaler.zero_one)\n",
    "\n",
    "label_data_pp2 = tools.dict_data_preprocess_upgrade(label_data_war_shift.copy(), np.sum, \"Y\", rolling_size=freq)\n",
    "label_data_pp_war = tools.dict_data_scale(label_data_pp2.copy(), scaler.zero_one)\n",
    "\n",
    "label_data_pp3 = tools.dict_data_preprocess_upgrade(label_data_emb_shift.copy(), np.sum, \"Y\", rolling_size=freq)\n",
    "label_data_pp_emb = tools.dict_data_scale(label_data_pp3.copy(), scaler.zero_one)"
   ]
  },
  {
   "cell_type": "code",
   "execution_count": null,
   "metadata": {},
   "outputs": [],
   "source": [
    "# 데이터처리 sum / mean\n",
    "kind_data2 = tools.dict_data_preprocess_upgrade(kind_data.copy(), function=np.sum, window_size=window_size,rolling_size=freq, fillna=True)\n",
    "financial_data3 = tools.dict_data_preprocess_upgrade(financial_data2.copy(), function=np.mean, window_size=window_size, rolling_size=freq,fillna=False)"
   ]
  },
  {
   "cell_type": "code",
   "execution_count": null,
   "metadata": {},
   "outputs": [],
   "source": [
    "# 재무데이터와 공시데이터 합치기\n",
    "concat_data = tools.dict_data_merge(kind_data2.copy(),financial_data3.copy(), dropna=False)"
   ]
  },
  {
   "cell_type": "code",
   "execution_count": null,
   "metadata": {},
   "outputs": [],
   "source": [
    "list_data = tools.dict_data_match_listed_upgrade(concat_data.copy(), together_listed.copy(), rolling_size=freq)"
   ]
  },
  {
   "cell_type": "code",
   "execution_count": null,
   "metadata": {},
   "outputs": [],
   "source": [
    "# 컬럼을 더할 경우\n",
    "concat_together1 = tools.dict_data_plus(list_data.copy(),\n",
    "                                  plus_one=\"BW금액\"\n",
    "                                 ,plus_two=\"CB금액\", return_origianl=False)\n",
    "\n",
    "#\n",
    "concat_together1[\"2012-01\"].columns"
   ]
  },
  {
   "cell_type": "code",
   "execution_count": null,
   "metadata": {},
   "outputs": [],
   "source": [
    "concat_together2 = tools.dict_data_plus(concat_together1, \n",
    "                                  plus_one=\"BW금액+CB금액\"\n",
    "                                 ,plus_two=\"유상증자금액\", return_origianl=False)\n",
    "#concat_kospi2 = tools.dict_data_plus(concat_kospi1, \n",
    "#                                  plus_one=\"상호변경카운트_전체시장\"\n",
    "#                                 ,plus_two=\"업종변경카운트_전체시장\", return_origianl=False)\n",
    "#concat_kosdaq2 = tools.dict_data_plus(concat_kosdaq1, \n",
    "#                                  plus_one=\"상호변경카운트_전체시장\"\n",
    "#                                 ,plus_two=\"업종변경카운트_전체시장\", return_origianl=False)\n",
    "concat_together2[\"2012-01\"].columns"
   ]
  },
  {
   "cell_type": "code",
   "execution_count": null,
   "metadata": {},
   "outputs": [],
   "source": [
    "concat_together3 = tools.dict_data_plus(concat_together2, \n",
    "                                  plus_one=\"최대주주변경을수반하는주식담보제공금액\"\n",
    "                                 ,plus_two=\"최대주주변경을수반하는주식양수도금액\", return_origianl=False)\n",
    "#concat_kospi3 = tools.dict_data_plus(concat_kospi2, \n",
    "#                                  plus_one=\"최대주주변경을수반하는주식담보제공금액_전체시장\"\n",
    "#                                 ,plus_two=\"최대주주변경을수반하는주식양수도금액_전체시장\", return_origianl=False)\n",
    "#concat_kosdaq3 = tools.dict_data_plus(concat_kosdaq2, \n",
    "#                                  plus_one=\"최대주주변경을수반하는주식담보제공금액_전체시장\"\n",
    "#                                 ,plus_two=\"최대주주변경을수반하는주식양수도금액_전체시장\", return_origianl=False)\n",
    "#\n",
    "concat_together3[\"2012-01\"].columns"
   ]
  },
  {
   "cell_type": "code",
   "execution_count": null,
   "metadata": {},
   "outputs": [],
   "source": [
    "concat_together4 = tools.dict_data_plus(concat_together3, \n",
    "                                  plus_one=\"타법인주식및출자증권취득결정금액\"\n",
    "                                 ,plus_two=\"특수관계인에대한자금대여금액\", return_origianl=False)\n",
    "#concat_kospi4 = tools.dict_data_plus(concat_kospi3, \n",
    "#                                  plus_one=\"자기주식처분결정금액_전체시장\"\n",
    "#                                 ,plus_two=\"특수관계인에대한자금대여금액_전체시장\", return_origianl=False)\n",
    "#concat_kosdaq4 = tools.dict_data_plus(concat_kosdaq3, \n",
    "#                                  plus_one=\"자기주식처분결정금액_전체시장\"\n",
    "#                                 ,plus_two=\"특수관계인에대한자금대여금액_전체시장\", return_origianl=False)\n",
    "concat_together4[\"2012-01\"].columns"
   ]
  },
  {
   "cell_type": "code",
   "execution_count": null,
   "metadata": {},
   "outputs": [],
   "source": [
    "concat_together5 = tools.dict_data_plus(concat_together4,\n",
    "                                  plus_one=\"상호변경카운트\"\n",
    "                                 ,plus_two=\"업종변경카운트\", return_origianl=False)\n",
    "#concat_kospi5 = tools.dict_data_plus(concat_kospi4,\n",
    "#                                  plus_one=\"불성실공시법인지정카운트_전체시장\"\n",
    "#                                 ,plus_two=\"조회공시요구카운트_전체시장\", return_origianl=False)\n",
    "#concat_kosdaq5 = tools.dict_data_plus(concat_kosdaq4,\n",
    "#                                  plus_one=\"불성실공시법인지정카운트_전체시장\"\n",
    "#                                 ,plus_two=\"조회공시요구카운트_전체시장\", return_origianl=False)\n",
    "concat_together5[\"2012-01\"].columns"
   ]
  },
  {
   "cell_type": "code",
   "execution_count": null,
   "metadata": {},
   "outputs": [],
   "source": [
    "concat_together6 = tools.dict_data_plus(concat_together5,\n",
    "                                  plus_one=\"경영권분쟁소송\"\n",
    "                                 ,plus_two=\"불성실공시법인지정카운트\", return_origianl=False)\n",
    "#concat_kospi7 = tools.dict_data_plus(concat_kospi6,\n",
    "#                                  plus_one=\"BW금액_전체시장+CB금액_전체시장\"\n",
    "#                                 ,plus_two=\"유상증자금액_전체시장\", return_origianl=False)\n",
    "#concat_kosdaq7 = tools.dict_data_plus(concat_kosdaq6,\n",
    "#                                  plus_one=\"BW금액_전체시장+CB금액_전체시장\"\n",
    "#                                 ,plus_two=\"유상증자금액_전체시장\", return_origianl=False)\n",
    "concat_together6[\"2012-01\"].columns"
   ]
  },
  {
   "cell_type": "code",
   "execution_count": null,
   "metadata": {},
   "outputs": [],
   "source": [
    "concat_together7 = tools.dict_data_plus(concat_together6,\n",
    "                                  plus_one=\"경영권분쟁소송+불성실공시법인지정카운트\"\n",
    "                                 ,plus_two=\"조회공시요구카운트\", return_origianl=False)\n",
    "#concat_kospi8 = tools.dict_data_plus(concat_kospi7,\n",
    "#                                  plus_one=\"경영권분쟁소송_전체시장+최대주주변경카운트_전체시장\"\n",
    "#                                 ,plus_two=\"상호변경카운트_전체시장+업종변경카운트_전체시장\", return_origianl=False)\n",
    "#concat_kosdaq8 = tools.dict_data_plus(concat_kosdaq7,\n",
    "#                                  plus_one=\"경영권분쟁소송_전체시장+최대주주변경카운트_전체시장\"\n",
    "#                                 ,plus_two=\"상호변경카운트_전체시장+업종변경카운트_전체시장\", return_origianl=False)\n",
    "concat_together7[\"2012-01\"].columns"
   ]
  },
  {
   "cell_type": "code",
   "execution_count": null,
   "metadata": {},
   "outputs": [],
   "source": [
    "divide_together = tools.dict_data_divide(concat_together7.copy(), divide_what=['타법인주식및출자증권취득결정금액+특수관계인에대한자금대여금액',\n",
    "       '최대주주변경을수반하는주식담보제공금액+최대주주변경을수반하는주식양수도금액',\n",
    "       'BW금액+CB금액+유상증자금액','당기순이익','매출채권', '매출총이익', '영업이익', '영업현금흐름','판매 및 관리비'],\n",
    "       divide_into=\"총자본\", return_origianl=True)\n",
    "divide_together[\"2012-01\"].columns"
   ]
  },
  {
   "cell_type": "code",
   "execution_count": null,
   "metadata": {},
   "outputs": [],
   "source": [
    "divide_together1 = tools.dict_data_drop(divide_together.copy(),drop_col=['타법인주식및출자증권취득결정금액+특수관계인에대한자금대여금액',\n",
    "       '최대주주변경을수반하는주식담보제공금액+최대주주변경을수반하는주식양수도금액',\n",
    "       'BW금액+CB금액+유상증자금액', '당기순이익',\n",
    "       '매출채권', '매출총이익', '영업이익', '영업현금흐름', '판매 및 관리비'], dropna=False)\n",
    "divide_together1[\"2012-01\"].columns"
   ]
  },
  {
   "cell_type": "code",
   "execution_count": null,
   "metadata": {},
   "outputs": [],
   "source": [
    "drop_togehter = tools.dict_data_drop(divide_together1.copy(), dropna=True)\n",
    "scaled_together = tools.dict_data_scale(drop_togehter.copy(), scaler=sca)\n",
    "\n",
    "scaled_together[\"2012-01\"].columns"
   ]
  },
  {
   "cell_type": "code",
   "execution_count": null,
   "metadata": {},
   "outputs": [],
   "source": [
    "model_save_dict = evaluate.run_iter_kmeans(num_k, max_sample=100, raw_data=scaled_together.copy())\n",
    "model_save_dict"
   ]
  },
  {
   "attachments": {},
   "cell_type": "markdown",
   "metadata": {},
   "source": [
    "## 모델기록\n"
   ]
  },
  {
   "cell_type": "code",
   "execution_count": null,
   "metadata": {},
   "outputs": [],
   "source": [
    "size =evaluate.eval_cluster_size(model_save_dict)\n",
    "size.to_csv(\"{}_클러스터사이즈.csv\".format(model_name))\n",
    "\n",
    "print(size.iloc[:-1,:].max().max())\n",
    "print(size.iloc[:-1,:].min().min())\n",
    "size"
   ]
  },
  {
   "cell_type": "code",
   "execution_count": null,
   "metadata": {},
   "outputs": [],
   "source": [
    "eval_one, eval_one_original = evaluate.eval_cluster_result(model_save_dict, raw_data = scaled_together, label_data=label_data_pp_man, freq=freq)\n",
    "eval_one.to_csv(\"{}_관리종목.csv\".format(model_name))\n",
    "eval_one_original.to_csv(\"{}_관리종목전체대비.csv\".format(model_name))"
   ]
  },
  {
   "cell_type": "code",
   "execution_count": null,
   "metadata": {},
   "outputs": [],
   "source": [
    "eval_two,eval_two_original = evaluate.eval_cluster_result(model_save_dict, raw_data = scaled_together, label_data=label_data_pp_war, freq=freq)\n",
    "eval_two.to_csv(\"{}_투자환기종목.csv\".format(model_name))\n",
    "eval_two_original.to_csv(\"{}_투자환기종목전체대비.csv\".format(model_name))"
   ]
  },
  {
   "cell_type": "code",
   "execution_count": null,
   "metadata": {},
   "outputs": [],
   "source": [
    "# 횡령인 경우\n",
    "eval_three, eval_three_original = evaluate.eval_cluster_result(model_save_dict, raw_data = scaled_together, label_data=label_data_pp_emb, freq=freq)\n",
    "eval_three.to_csv(\"{}_횡령배임혐의.csv\".format(model_name))\n",
    "eval_three_original.to_csv(\"{}_횡령배임혐의전체대비.csv\".format(model_name))"
   ]
  },
  {
   "cell_type": "code",
   "execution_count": null,
   "metadata": {},
   "outputs": [],
   "source": [
    "print(evaluate.calculate_catch_probability(eval_one, eval_two, None))#, eval_three)\n",
    "print(evaluate.calculate_match_probability(eval_one, eval_two,None))# eval_three)\n",
    "evaluate.calculate_catch_probability(eval_one_original, eval_two_original, None)#eval_three_original)"
   ]
  },
  {
   "cell_type": "code",
   "execution_count": null,
   "metadata": {},
   "outputs": [],
   "source": [
    "def pct(df):\n",
    "    return df / np.sum(df)\n",
    "\n",
    "dist = evaluate.eval_cluster_distance(eval_one, scaled_together, model_save_dict)\n",
    "dist = dist.apply(pct, axis=1)\n",
    "dist2= dist.mean(axis=0).sort_values(ascending=False)\n",
    "\n",
    "dist.to_csv(\"{}_거리분해.csv\".format(model_name))\n",
    "dist2.to_csv(\"{}_거리분해평균.csv\".format(model_name))\n",
    "\n",
    "dist2"
   ]
  },
  {
   "cell_type": "code",
   "execution_count": null,
   "metadata": {},
   "outputs": [],
   "source": [
    "pre, pre_original = evaluate.predict_cluster_result(model_save_dict, scaled_together,label_data_pp_man, \"2012-01\", freq=freq)\n",
    "pre"
   ]
  },
  {
   "cell_type": "code",
   "execution_count": null,
   "metadata": {},
   "outputs": [],
   "source": [
    "pre, pre_original = evaluate.predict_cluster_result(model_save_dict, scaled_together,label_data_pp_man, \"2012-01\", freq=freq)\n",
    "pre"
   ]
  },
  {
   "cell_type": "code",
   "execution_count": null,
   "metadata": {},
   "outputs": [],
   "source": [
    "# 그림뽑기\n",
    "\n",
    "test = MyKmeans.visualize_3d_with_answer(scaled_together[\"2021-01\"],model_save_dict[\"2021-01\"][\"model\"], answer_data=label_data_pp_man[\"2021-01\"], fig_title=\"{}_관리종목\".format(model_name))"
   ]
  },
  {
   "cell_type": "code",
   "execution_count": null,
   "metadata": {},
   "outputs": [],
   "source": [
    "MyKmeans.visualize_3d_with_answer(scaled_together[\"2021-01\"],model_save_dict[\"2021-01\"][\"model\"], answer_data=label_data_pp_war[\"2021-01\"], fig_title=\"{}_투자주의환기\".format(model_name))"
   ]
  },
  {
   "cell_type": "code",
   "execution_count": null,
   "metadata": {},
   "outputs": [],
   "source": []
  }
 ],
 "metadata": {
  "kernelspec": {
   "display_name": "base",
   "language": "python",
   "name": "python3"
  },
  "language_info": {
   "codemirror_mode": {
    "name": "ipython",
    "version": 3
   },
   "file_extension": ".py",
   "mimetype": "text/x-python",
   "name": "python",
   "nbconvert_exporter": "python",
   "pygments_lexer": "ipython3",
   "version": "3.9.12"
  },
  "orig_nbformat": 4,
  "vscode": {
   "interpreter": {
    "hash": "a077222d77dfe082b8f1dd562ad70e458ac2ab76993a0b248ab0476e32e9e8dd"
   }
  }
 },
 "nbformat": 4,
 "nbformat_minor": 2
}
