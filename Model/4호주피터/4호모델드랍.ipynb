{
 "cells": [
  {
   "cell_type": "code",
   "execution_count": 1,
   "metadata": {},
   "outputs": [],
   "source": [
    "import os\n",
    "import numpy as np\n",
    "import pandas as pd \n",
    "from krx_fr.preprocess import tools, scaler\n",
    "from krx_fr.cluster import evaluate\n",
    "from krx_fr.cluster.optimize import Optimizer\n",
    "from krx_fr.cluster.kmeans import MyKmeans"
   ]
  },
  {
   "cell_type": "code",
   "execution_count": 2,
   "metadata": {},
   "outputs": [
    {
     "data": {
      "text/plain": [
       "'4호모델드랍down_Y_k3'"
      ]
     },
     "execution_count": 2,
     "metadata": {},
     "output_type": "execute_result"
    }
   ],
   "source": [
    "model = \"4호모델드랍down\"\n",
    "\n",
    "# 윈도우는 Y로 고정\n",
    "window_size = \"Y\"\n",
    "\n",
    "# 어떻게 윈도우를 밀건지\n",
    "freq = \"Y\"\n",
    "\n",
    "# 클러스터 수\n",
    "num_k = 3\n",
    "\n",
    "# 사용할 스케일러\n",
    "sca = scaler.new_rank\n",
    "sc = \"new_rank\"\n",
    "\n",
    "kospi_listed = tools.load_json(\"..\\\\final_data\\\\코스피_구성종목.json\")\n",
    "kosdaq_listed = tools.load_json(\"..\\\\final_data\\\\코스닥_구성종목.json\")\n",
    "together_listed = tools.aggregate_listed_code(kospi_listed, kosdaq_listed)\n",
    "\n",
    "# 모델명\n",
    "model_name = \"{}_{}_k{}\".format(model, freq, num_k)\n",
    "model_name"
   ]
  },
  {
   "cell_type": "code",
   "execution_count": 3,
   "metadata": {},
   "outputs": [],
   "source": [
    "# 퐅더에서 row_data 불러오기\n",
    "kind_data = tools.read_data_from_folder(\"C:\\\\Jehyeon\\\\2022_Winter_KRX\\\\KRX\\\\final_data\\\\KIND\\\\\")\n",
    "financial_data = tools.read_data_from_folder(\"C:\\\\Jehyeon\\\\2022_Winter_KRX\\\\KRX\\\\final_data\\\\재무\\\\\")\n",
    "\n",
    "# 최대주주비율은 1달 단위의 pct_change\n",
    "financial_data2 = tools.dict_data_calculate_pct(financial_data.copy(), name=\"최대주주비율\", return_original=True)\n",
    "\n",
    "# label_data 불러오기\n",
    "label_data_war = pd.read_csv(\"C:\\\\Jehyeon\\\\2022_Winter_KRX\\\\KRX\\\\final_data\\\\label\\\\투자주의환기종목지정카운트.csv\", index_col=0)\n",
    "label_data_man= pd.read_csv(\"C:\\\\Jehyeon\\\\2022_Winter_KRX\\\\KRX\\\\final_data\\\\label\\\\관리종목카운트.csv\", index_col=0)\n",
    "label_data_emb = pd.read_csv(\"C:\\\\Jehyeon\\\\2022_Winter_KRX\\\\KRX\\\\final_data\\\\label\\\\횡령배임혐의발생카운트.csv\", index_col=0)"
   ]
  },
  {
   "cell_type": "code",
   "execution_count": 4,
   "metadata": {},
   "outputs": [],
   "source": [
    "financial_data2[\"결산기간_주가변동률\"] = financial_data2[\"결산기간_주가변동률\"].fillna(0)"
   ]
  },
  {
   "cell_type": "code",
   "execution_count": 5,
   "metadata": {},
   "outputs": [],
   "source": [
    "# 레이블 데이터 shift시켜주기\n",
    "label_data_man_shift = tools.shift_label_data(label_data_man.copy(),shift_size='Y')\n",
    "label_data_war_shift = tools.shift_label_data(label_data_war.copy(),shift_size='Y')\n",
    "label_data_emb_shift = tools.shift_label_data(label_data_emb.copy(),shift_size='Y')\n",
    "\n",
    "label_data_pp1 = tools.dict_data_preprocess_upgrade(label_data_man_shift.copy(), np.sum, \"Y\", rolling_size=freq)\n",
    "label_data_pp_man = tools.dict_data_scale(label_data_pp1.copy(), scaler.zero_one)\n",
    "\n",
    "label_data_pp2 = tools.dict_data_preprocess_upgrade(label_data_war_shift.copy(), np.sum, \"Y\", rolling_size=freq)\n",
    "label_data_pp_war = tools.dict_data_scale(label_data_pp2.copy(), scaler.zero_one)\n",
    "\n",
    "label_data_pp3 = tools.dict_data_preprocess_upgrade(label_data_emb_shift.copy(), np.sum, \"Y\", rolling_size=freq)\n",
    "label_data_pp_emb = tools.dict_data_scale(label_data_pp3.copy(), scaler.zero_one)"
   ]
  },
  {
   "cell_type": "code",
   "execution_count": 6,
   "metadata": {},
   "outputs": [],
   "source": [
    "# 데이터처리 sum / mean\n",
    "kind_data2 = tools.dict_data_preprocess_upgrade(kind_data.copy(), function=np.sum, window_size=window_size,rolling_size=freq, fillna=True)\n",
    "financial_data3 = tools.dict_data_preprocess_upgrade(financial_data2.copy(), function=np.mean, window_size=window_size, rolling_size=freq,fillna=False)"
   ]
  },
  {
   "cell_type": "code",
   "execution_count": 7,
   "metadata": {},
   "outputs": [],
   "source": [
    "# 재무데이터와 공시데이터 합치기\n",
    "concat_data = tools.dict_data_merge(kind_data2.copy(),financial_data3.copy(), dropna=False)"
   ]
  },
  {
   "cell_type": "code",
   "execution_count": 8,
   "metadata": {},
   "outputs": [],
   "source": [
    "list_data = tools.dict_data_match_listed_upgrade(concat_data.copy(), together_listed.copy(), rolling_size=freq)"
   ]
  },
  {
   "cell_type": "code",
   "execution_count": 9,
   "metadata": {},
   "outputs": [
    {
     "data": {
      "text/plain": [
       "Index(['BW금액+CB금액', '경영권분쟁소송', '불성실공시법인지정카운트', '상호변경카운트', '업종변경카운트', '유상증자금액',\n",
       "       '조회공시요구카운트', '최대주주변경을수반하는주식담보제공금액', '최대주주변경을수반하는주식양수도금액', '최대주주변경카운트',\n",
       "       '타법인주식및출자증권취득결정금액', '특수관계인에대한자금대여금액', '결산기간_거래량증가', '결산기간_주가변동률',\n",
       "       '당기순이익', '매출채권', '매출총이익', '영업이익', '영업현금흐름', '차입금의존도', '총자본', '최대주주비율',\n",
       "       '판매 및 관리비', '최대주주비율_변동성'],\n",
       "      dtype='object')"
      ]
     },
     "execution_count": 9,
     "metadata": {},
     "output_type": "execute_result"
    }
   ],
   "source": [
    "# 컬럼을 더할 경우\n",
    "concat_together1 = tools.dict_data_plus(list_data.copy(),\n",
    "                                  plus_one=\"BW금액\"\n",
    "                                 ,plus_two=\"CB금액\", return_origianl=False)\n",
    "\n",
    "#\n",
    "concat_together1[\"2012-01\"].columns"
   ]
  },
  {
   "cell_type": "code",
   "execution_count": 10,
   "metadata": {},
   "outputs": [
    {
     "data": {
      "text/plain": [
       "Index(['BW금액+CB금액+유상증자금액', '경영권분쟁소송', '불성실공시법인지정카운트', '상호변경카운트', '업종변경카운트',\n",
       "       '조회공시요구카운트', '최대주주변경을수반하는주식담보제공금액', '최대주주변경을수반하는주식양수도금액', '최대주주변경카운트',\n",
       "       '타법인주식및출자증권취득결정금액', '특수관계인에대한자금대여금액', '결산기간_거래량증가', '결산기간_주가변동률',\n",
       "       '당기순이익', '매출채권', '매출총이익', '영업이익', '영업현금흐름', '차입금의존도', '총자본', '최대주주비율',\n",
       "       '판매 및 관리비', '최대주주비율_변동성'],\n",
       "      dtype='object')"
      ]
     },
     "execution_count": 10,
     "metadata": {},
     "output_type": "execute_result"
    }
   ],
   "source": [
    "concat_together2 = tools.dict_data_plus(concat_together1, \n",
    "                                  plus_one=\"BW금액+CB금액\"\n",
    "                                 ,plus_two=\"유상증자금액\", return_origianl=False)\n",
    "#concat_kospi2 = tools.dict_data_plus(concat_kospi1, \n",
    "#                                  plus_one=\"상호변경카운트_전체시장\"\n",
    "#                                 ,plus_two=\"업종변경카운트_전체시장\", return_origianl=False)\n",
    "#concat_kosdaq2 = tools.dict_data_plus(concat_kosdaq1, \n",
    "#                                  plus_one=\"상호변경카운트_전체시장\"\n",
    "#                                 ,plus_two=\"업종변경카운트_전체시장\", return_origianl=False)\n",
    "concat_together2[\"2012-01\"].columns"
   ]
  },
  {
   "cell_type": "code",
   "execution_count": 11,
   "metadata": {},
   "outputs": [
    {
     "data": {
      "text/plain": [
       "Index(['최대주주변경을수반하는주식담보제공금액+최대주주변경을수반하는주식양수도금액', 'BW금액+CB금액+유상증자금액', '경영권분쟁소송',\n",
       "       '불성실공시법인지정카운트', '상호변경카운트', '업종변경카운트', '조회공시요구카운트', '최대주주변경카운트',\n",
       "       '타법인주식및출자증권취득결정금액', '특수관계인에대한자금대여금액', '결산기간_거래량증가', '결산기간_주가변동률',\n",
       "       '당기순이익', '매출채권', '매출총이익', '영업이익', '영업현금흐름', '차입금의존도', '총자본', '최대주주비율',\n",
       "       '판매 및 관리비', '최대주주비율_변동성'],\n",
       "      dtype='object')"
      ]
     },
     "execution_count": 11,
     "metadata": {},
     "output_type": "execute_result"
    }
   ],
   "source": [
    "concat_together3 = tools.dict_data_plus(concat_together2, \n",
    "                                  plus_one=\"최대주주변경을수반하는주식담보제공금액\"\n",
    "                                 ,plus_two=\"최대주주변경을수반하는주식양수도금액\", return_origianl=False)\n",
    "#concat_kospi3 = tools.dict_data_plus(concat_kospi2, \n",
    "#                                  plus_one=\"최대주주변경을수반하는주식담보제공금액_전체시장\"\n",
    "#                                 ,plus_two=\"최대주주변경을수반하는주식양수도금액_전체시장\", return_origianl=False)\n",
    "#concat_kosdaq3 = tools.dict_data_plus(concat_kosdaq2, \n",
    "#                                  plus_one=\"최대주주변경을수반하는주식담보제공금액_전체시장\"\n",
    "#                                 ,plus_two=\"최대주주변경을수반하는주식양수도금액_전체시장\", return_origianl=False)\n",
    "#\n",
    "concat_together3[\"2012-01\"].columns"
   ]
  },
  {
   "cell_type": "code",
   "execution_count": 12,
   "metadata": {},
   "outputs": [
    {
     "data": {
      "text/plain": [
       "Index(['타법인주식및출자증권취득결정금액+특수관계인에대한자금대여금액',\n",
       "       '최대주주변경을수반하는주식담보제공금액+최대주주변경을수반하는주식양수도금액', 'BW금액+CB금액+유상증자금액', '경영권분쟁소송',\n",
       "       '불성실공시법인지정카운트', '상호변경카운트', '업종변경카운트', '조회공시요구카운트', '최대주주변경카운트',\n",
       "       '결산기간_거래량증가', '결산기간_주가변동률', '당기순이익', '매출채권', '매출총이익', '영업이익', '영업현금흐름',\n",
       "       '차입금의존도', '총자본', '최대주주비율', '판매 및 관리비', '최대주주비율_변동성'],\n",
       "      dtype='object')"
      ]
     },
     "execution_count": 12,
     "metadata": {},
     "output_type": "execute_result"
    }
   ],
   "source": [
    "concat_together4 = tools.dict_data_plus(concat_together3, \n",
    "                                  plus_one=\"타법인주식및출자증권취득결정금액\"\n",
    "                                 ,plus_two=\"특수관계인에대한자금대여금액\", return_origianl=False)\n",
    "#concat_kospi4 = tools.dict_data_plus(concat_kospi3, \n",
    "#                                  plus_one=\"자기주식처분결정금액_전체시장\"\n",
    "#                                 ,plus_two=\"특수관계인에대한자금대여금액_전체시장\", return_origianl=False)\n",
    "#concat_kosdaq4 = tools.dict_data_plus(concat_kosdaq3, \n",
    "#                                  plus_one=\"자기주식처분결정금액_전체시장\"\n",
    "#                                 ,plus_two=\"특수관계인에대한자금대여금액_전체시장\", return_origianl=False)\n",
    "concat_together4[\"2012-01\"].columns"
   ]
  },
  {
   "cell_type": "code",
   "execution_count": 13,
   "metadata": {},
   "outputs": [
    {
     "data": {
      "text/plain": [
       "Index(['상호변경카운트+업종변경카운트', '타법인주식및출자증권취득결정금액+특수관계인에대한자금대여금액',\n",
       "       '최대주주변경을수반하는주식담보제공금액+최대주주변경을수반하는주식양수도금액', 'BW금액+CB금액+유상증자금액', '경영권분쟁소송',\n",
       "       '불성실공시법인지정카운트', '조회공시요구카운트', '최대주주변경카운트', '결산기간_거래량증가', '결산기간_주가변동률',\n",
       "       '당기순이익', '매출채권', '매출총이익', '영업이익', '영업현금흐름', '차입금의존도', '총자본', '최대주주비율',\n",
       "       '판매 및 관리비', '최대주주비율_변동성'],\n",
       "      dtype='object')"
      ]
     },
     "execution_count": 13,
     "metadata": {},
     "output_type": "execute_result"
    }
   ],
   "source": [
    "concat_together5 = tools.dict_data_plus(concat_together4,\n",
    "                                  plus_one=\"상호변경카운트\"\n",
    "                                 ,plus_two=\"업종변경카운트\", return_origianl=False)\n",
    "#concat_kospi5 = tools.dict_data_plus(concat_kospi4,\n",
    "#                                  plus_one=\"불성실공시법인지정카운트_전체시장\"\n",
    "#                                 ,plus_two=\"조회공시요구카운트_전체시장\", return_origianl=False)\n",
    "#concat_kosdaq5 = tools.dict_data_plus(concat_kosdaq4,\n",
    "#                                  plus_one=\"불성실공시법인지정카운트_전체시장\"\n",
    "#                                 ,plus_two=\"조회공시요구카운트_전체시장\", return_origianl=False)\n",
    "concat_together5[\"2012-01\"].columns"
   ]
  },
  {
   "cell_type": "code",
   "execution_count": 14,
   "metadata": {},
   "outputs": [
    {
     "data": {
      "text/plain": [
       "Index(['경영권분쟁소송+불성실공시법인지정카운트', '상호변경카운트+업종변경카운트',\n",
       "       '타법인주식및출자증권취득결정금액+특수관계인에대한자금대여금액',\n",
       "       '최대주주변경을수반하는주식담보제공금액+최대주주변경을수반하는주식양수도금액', 'BW금액+CB금액+유상증자금액',\n",
       "       '조회공시요구카운트', '최대주주변경카운트', '결산기간_거래량증가', '결산기간_주가변동률', '당기순이익', '매출채권',\n",
       "       '매출총이익', '영업이익', '영업현금흐름', '차입금의존도', '총자본', '최대주주비율', '판매 및 관리비',\n",
       "       '최대주주비율_변동성'],\n",
       "      dtype='object')"
      ]
     },
     "execution_count": 14,
     "metadata": {},
     "output_type": "execute_result"
    }
   ],
   "source": [
    "concat_together6 = tools.dict_data_plus(concat_together5,\n",
    "                                  plus_one=\"경영권분쟁소송\"\n",
    "                                 ,plus_two=\"불성실공시법인지정카운트\", return_origianl=False)\n",
    "#concat_kospi7 = tools.dict_data_plus(concat_kospi6,\n",
    "#                                  plus_one=\"BW금액_전체시장+CB금액_전체시장\"\n",
    "#                                 ,plus_two=\"유상증자금액_전체시장\", return_origianl=False)\n",
    "#concat_kosdaq7 = tools.dict_data_plus(concat_kosdaq6,\n",
    "#                                  plus_one=\"BW금액_전체시장+CB금액_전체시장\"\n",
    "#                                 ,plus_two=\"유상증자금액_전체시장\", return_origianl=False)\n",
    "concat_together6[\"2012-01\"].columns"
   ]
  },
  {
   "cell_type": "code",
   "execution_count": 15,
   "metadata": {},
   "outputs": [
    {
     "data": {
      "text/plain": [
       "Index(['경영권분쟁소송+불성실공시법인지정카운트+조회공시요구카운트', '상호변경카운트+업종변경카운트',\n",
       "       '타법인주식및출자증권취득결정금액+특수관계인에대한자금대여금액',\n",
       "       '최대주주변경을수반하는주식담보제공금액+최대주주변경을수반하는주식양수도금액', 'BW금액+CB금액+유상증자금액',\n",
       "       '최대주주변경카운트', '결산기간_거래량증가', '결산기간_주가변동률', '당기순이익', '매출채권', '매출총이익',\n",
       "       '영업이익', '영업현금흐름', '차입금의존도', '총자본', '최대주주비율', '판매 및 관리비', '최대주주비율_변동성'],\n",
       "      dtype='object')"
      ]
     },
     "execution_count": 15,
     "metadata": {},
     "output_type": "execute_result"
    }
   ],
   "source": [
    "concat_together7 = tools.dict_data_plus(concat_together6,\n",
    "                                  plus_one=\"경영권분쟁소송+불성실공시법인지정카운트\"\n",
    "                                 ,plus_two=\"조회공시요구카운트\", return_origianl=False)\n",
    "#concat_kospi8 = tools.dict_data_plus(concat_kospi7,\n",
    "#                                  plus_one=\"경영권분쟁소송_전체시장+최대주주변경카운트_전체시장\"\n",
    "#                                 ,plus_two=\"상호변경카운트_전체시장+업종변경카운트_전체시장\", return_origianl=False)\n",
    "#concat_kosdaq8 = tools.dict_data_plus(concat_kosdaq7,\n",
    "#                                  plus_one=\"경영권분쟁소송_전체시장+최대주주변경카운트_전체시장\"\n",
    "#                                 ,plus_two=\"상호변경카운트_전체시장+업종변경카운트_전체시장\", return_origianl=False)\n",
    "concat_together7[\"2012-01\"].columns"
   ]
  },
  {
   "cell_type": "code",
   "execution_count": 16,
   "metadata": {},
   "outputs": [
    {
     "data": {
      "text/plain": [
       "Index(['타법인주식및출자증권취득결정금액+특수관계인에대한자금대여금액/총자본',\n",
       "       '최대주주변경을수반하는주식담보제공금액+최대주주변경을수반하는주식양수도금액/총자본', 'BW금액+CB금액+유상증자금액/총자본',\n",
       "       '당기순이익/총자본', '매출채권/총자본', '매출총이익/총자본', '영업이익/총자본', '영업현금흐름/총자본',\n",
       "       '판매 및 관리비/총자본', '경영권분쟁소송+불성실공시법인지정카운트+조회공시요구카운트', '상호변경카운트+업종변경카운트',\n",
       "       '타법인주식및출자증권취득결정금액+특수관계인에대한자금대여금액',\n",
       "       '최대주주변경을수반하는주식담보제공금액+최대주주변경을수반하는주식양수도금액', 'BW금액+CB금액+유상증자금액',\n",
       "       '최대주주변경카운트', '결산기간_거래량증가', '결산기간_주가변동률', '당기순이익', '매출채권', '매출총이익',\n",
       "       '영업이익', '영업현금흐름', '차입금의존도', '총자본', '최대주주비율', '판매 및 관리비', '최대주주비율_변동성'],\n",
       "      dtype='object')"
      ]
     },
     "execution_count": 16,
     "metadata": {},
     "output_type": "execute_result"
    }
   ],
   "source": [
    "divide_together = tools.dict_data_divide(concat_together7.copy(), divide_what=['타법인주식및출자증권취득결정금액+특수관계인에대한자금대여금액',\n",
    "       '최대주주변경을수반하는주식담보제공금액+최대주주변경을수반하는주식양수도금액',\n",
    "       'BW금액+CB금액+유상증자금액','당기순이익','매출채권', '매출총이익', '영업이익', '영업현금흐름','판매 및 관리비'],\n",
    "       divide_into=\"총자본\", return_origianl=True)\n",
    "divide_together[\"2012-01\"].columns"
   ]
  },
  {
   "cell_type": "code",
   "execution_count": 17,
   "metadata": {},
   "outputs": [
    {
     "data": {
      "text/plain": [
       "Index(['타법인주식및출자증권취득결정금액+특수관계인에대한자금대여금액/총자본',\n",
       "       '최대주주변경을수반하는주식담보제공금액+최대주주변경을수반하는주식양수도금액/총자본', 'BW금액+CB금액+유상증자금액/총자본',\n",
       "       '당기순이익/총자본', '매출채권/총자본', '매출총이익/총자본', '영업이익/총자본', '영업현금흐름/총자본',\n",
       "       '판매 및 관리비/총자본', '경영권분쟁소송+불성실공시법인지정카운트+조회공시요구카운트', '상호변경카운트+업종변경카운트',\n",
       "       '최대주주변경카운트', '결산기간_거래량증가', '결산기간_주가변동률', '차입금의존도', '총자본', '최대주주비율',\n",
       "       '최대주주비율_변동성'],\n",
       "      dtype='object')"
      ]
     },
     "execution_count": 17,
     "metadata": {},
     "output_type": "execute_result"
    }
   ],
   "source": [
    "divide_together1 = tools.dict_data_drop(divide_together.copy(),drop_col=['타법인주식및출자증권취득결정금액+특수관계인에대한자금대여금액',\n",
    "       '최대주주변경을수반하는주식담보제공금액+최대주주변경을수반하는주식양수도금액',\n",
    "       'BW금액+CB금액+유상증자금액', '당기순이익',\n",
    "       '매출채권', '매출총이익', '영업이익', '영업현금흐름', '판매 및 관리비'], dropna=False)\n",
    "divide_together1[\"2012-01\"].columns"
   ]
  },
  {
   "cell_type": "code",
   "execution_count": 18,
   "metadata": {},
   "outputs": [],
   "source": [
    "drop_col_top_y = [\"매출총이익/총자본\",\"총자본\",\"영업이익/총자본\",\"당기순이익/총자본\"] # q와 동일\n",
    "#drop_col_top_q = [\"당기순이익/총자본\",\"영업이익/총자본\",\"총자본\",\"매출총이익/총자본\"]\n",
    "\n",
    "drop_col_down_y = [\"결산기간_거래량증가\",\"최대주주변경을수반하는주식담보제공금액+최대주주변경을수반하는주식양수도금액/총자본\",\n",
    "\"타법인주식및출자증권취득결정금액+특수관계인에대한자금대여금액/총자본\",\"상호변경카운트+업종변경카운트\"]\n",
    "\n",
    "divide_data2 = tools.dict_data_drop(divide_together1.copy(), drop_col=drop_col_down_y, dropna=False)"
   ]
  },
  {
   "cell_type": "code",
   "execution_count": 19,
   "metadata": {},
   "outputs": [
    {
     "data": {
      "text/plain": [
       "Index(['BW금액+CB금액+유상증자금액/총자본', '당기순이익/총자본', '매출채권/총자본', '매출총이익/총자본',\n",
       "       '영업이익/총자본', '영업현금흐름/총자본', '판매 및 관리비/총자본',\n",
       "       '경영권분쟁소송+불성실공시법인지정카운트+조회공시요구카운트', '최대주주변경카운트', '결산기간_주가변동률', '차입금의존도',\n",
       "       '총자본', '최대주주비율', '최대주주비율_변동성'],\n",
       "      dtype='object')"
      ]
     },
     "execution_count": 19,
     "metadata": {},
     "output_type": "execute_result"
    }
   ],
   "source": [
    "drop_togehter = tools.dict_data_drop(divide_data2.copy(), dropna=True)\n",
    "scaled_together = tools.dict_data_scale(drop_togehter.copy(), scaler=sca)\n",
    "\n",
    "scaled_together[\"2012-01\"].columns"
   ]
  },
  {
   "cell_type": "code",
   "execution_count": 20,
   "metadata": {},
   "outputs": [
    {
     "name": "stderr",
     "output_type": "stream",
     "text": [
      "100%|██████████| 100/100 [00:05<00:00, 18.85it/s]\n",
      "100%|██████████| 100/100 [00:05<00:00, 19.21it/s]\n",
      "100%|██████████| 100/100 [00:05<00:00, 19.20it/s]\n",
      "100%|██████████| 100/100 [00:05<00:00, 18.55it/s]\n",
      "100%|██████████| 100/100 [00:06<00:00, 15.90it/s]\n",
      "100%|██████████| 100/100 [00:06<00:00, 15.18it/s]\n",
      "100%|██████████| 100/100 [00:06<00:00, 14.91it/s]\n",
      "100%|██████████| 100/100 [00:06<00:00, 14.60it/s]\n",
      "100%|██████████| 100/100 [00:07<00:00, 12.85it/s]\n",
      "100%|██████████| 100/100 [00:07<00:00, 13.14it/s]\n",
      "100%|██████████| 100/100 [00:07<00:00, 13.49it/s]\n"
     ]
    },
    {
     "data": {
      "text/plain": [
       "{'2012-01': {'num_of_cluseer': 3,\n",
       "  'random_state': 43,\n",
       "  'model': KMeans(max_iter=500, n_clusters=3, n_init=1, random_state=43)},\n",
       " '2013-01': {'num_of_cluseer': 3,\n",
       "  'random_state': 12,\n",
       "  'model': KMeans(max_iter=500, n_clusters=3, n_init=1, random_state=12)},\n",
       " '2014-01': {'num_of_cluseer': 3,\n",
       "  'random_state': 86,\n",
       "  'model': KMeans(max_iter=500, n_clusters=3, n_init=1, random_state=86)},\n",
       " '2015-01': {'num_of_cluseer': 3,\n",
       "  'random_state': 6,\n",
       "  'model': KMeans(max_iter=500, n_clusters=3, n_init=1, random_state=6)},\n",
       " '2016-01': {'num_of_cluseer': 3,\n",
       "  'random_state': 47,\n",
       "  'model': KMeans(max_iter=500, n_clusters=3, n_init=1, random_state=47)},\n",
       " '2017-01': {'num_of_cluseer': 3,\n",
       "  'random_state': 29,\n",
       "  'model': KMeans(max_iter=500, n_clusters=3, n_init=1, random_state=29)},\n",
       " '2018-01': {'num_of_cluseer': 3,\n",
       "  'random_state': 0,\n",
       "  'model': KMeans(max_iter=500, n_clusters=3, n_init=1, random_state=0)},\n",
       " '2019-01': {'num_of_cluseer': 3,\n",
       "  'random_state': 77,\n",
       "  'model': KMeans(max_iter=500, n_clusters=3, n_init=1, random_state=77)},\n",
       " '2020-01': {'num_of_cluseer': 3,\n",
       "  'random_state': 42,\n",
       "  'model': KMeans(max_iter=500, n_clusters=3, n_init=1, random_state=42)},\n",
       " '2021-01': {'num_of_cluseer': 3,\n",
       "  'random_state': 1,\n",
       "  'model': KMeans(max_iter=500, n_clusters=3, n_init=1, random_state=1)},\n",
       " '2022-01': {'num_of_cluseer': 3,\n",
       "  'random_state': 34,\n",
       "  'model': KMeans(max_iter=500, n_clusters=3, n_init=1, random_state=34)}}"
      ]
     },
     "execution_count": 20,
     "metadata": {},
     "output_type": "execute_result"
    }
   ],
   "source": [
    "model_save_dict = evaluate.run_iter_kmeans(num_k, max_sample=100, raw_data=scaled_together.copy())\n",
    "model_save_dict"
   ]
  },
  {
   "attachments": {},
   "cell_type": "markdown",
   "metadata": {},
   "source": [
    "## 모델기록\n"
   ]
  },
  {
   "cell_type": "code",
   "execution_count": 21,
   "metadata": {},
   "outputs": [
    {
     "name": "stdout",
     "output_type": "stream",
     "text": [
      "809.0\n",
      "426.0\n"
     ]
    },
    {
     "data": {
      "text/html": [
       "<div>\n",
       "<style scoped>\n",
       "    .dataframe tbody tr th:only-of-type {\n",
       "        vertical-align: middle;\n",
       "    }\n",
       "\n",
       "    .dataframe tbody tr th {\n",
       "        vertical-align: top;\n",
       "    }\n",
       "\n",
       "    .dataframe thead th {\n",
       "        text-align: right;\n",
       "    }\n",
       "</style>\n",
       "<table border=\"1\" class=\"dataframe\">\n",
       "  <thead>\n",
       "    <tr style=\"text-align: right;\">\n",
       "      <th></th>\n",
       "      <th>2012-01</th>\n",
       "      <th>2013-01</th>\n",
       "      <th>2014-01</th>\n",
       "      <th>2015-01</th>\n",
       "      <th>2016-01</th>\n",
       "      <th>2017-01</th>\n",
       "      <th>2018-01</th>\n",
       "      <th>2019-01</th>\n",
       "      <th>2020-01</th>\n",
       "      <th>2021-01</th>\n",
       "      <th>2022-01</th>\n",
       "    </tr>\n",
       "  </thead>\n",
       "  <tbody>\n",
       "    <tr>\n",
       "      <th>0</th>\n",
       "      <td>634.0</td>\n",
       "      <td>537.0</td>\n",
       "      <td>649.0</td>\n",
       "      <td>454.0</td>\n",
       "      <td>597.0</td>\n",
       "      <td>635.0</td>\n",
       "      <td>633.0</td>\n",
       "      <td>511.0</td>\n",
       "      <td>761.0</td>\n",
       "      <td>809.0</td>\n",
       "      <td>704.0</td>\n",
       "    </tr>\n",
       "    <tr>\n",
       "      <th>1</th>\n",
       "      <td>567.0</td>\n",
       "      <td>476.0</td>\n",
       "      <td>578.0</td>\n",
       "      <td>644.0</td>\n",
       "      <td>652.0</td>\n",
       "      <td>720.0</td>\n",
       "      <td>736.0</td>\n",
       "      <td>750.0</td>\n",
       "      <td>688.0</td>\n",
       "      <td>599.0</td>\n",
       "      <td>627.0</td>\n",
       "    </tr>\n",
       "    <tr>\n",
       "      <th>2</th>\n",
       "      <td>427.0</td>\n",
       "      <td>611.0</td>\n",
       "      <td>426.0</td>\n",
       "      <td>613.0</td>\n",
       "      <td>511.0</td>\n",
       "      <td>482.0</td>\n",
       "      <td>536.0</td>\n",
       "      <td>692.0</td>\n",
       "      <td>562.0</td>\n",
       "      <td>651.0</td>\n",
       "      <td>737.0</td>\n",
       "    </tr>\n",
       "    <tr>\n",
       "      <th>기업수</th>\n",
       "      <td>1628.0</td>\n",
       "      <td>1624.0</td>\n",
       "      <td>1653.0</td>\n",
       "      <td>1711.0</td>\n",
       "      <td>1760.0</td>\n",
       "      <td>1837.0</td>\n",
       "      <td>1905.0</td>\n",
       "      <td>1953.0</td>\n",
       "      <td>2011.0</td>\n",
       "      <td>2059.0</td>\n",
       "      <td>2068.0</td>\n",
       "    </tr>\n",
       "  </tbody>\n",
       "</table>\n",
       "</div>"
      ],
      "text/plain": [
       "     2012-01  2013-01  2014-01  2015-01  2016-01  2017-01  2018-01  2019-01  \\\n",
       "0      634.0    537.0    649.0    454.0    597.0    635.0    633.0    511.0   \n",
       "1      567.0    476.0    578.0    644.0    652.0    720.0    736.0    750.0   \n",
       "2      427.0    611.0    426.0    613.0    511.0    482.0    536.0    692.0   \n",
       "기업수   1628.0   1624.0   1653.0   1711.0   1760.0   1837.0   1905.0   1953.0   \n",
       "\n",
       "     2020-01  2021-01  2022-01  \n",
       "0      761.0    809.0    704.0  \n",
       "1      688.0    599.0    627.0  \n",
       "2      562.0    651.0    737.0  \n",
       "기업수   2011.0   2059.0   2068.0  "
      ]
     },
     "execution_count": 21,
     "metadata": {},
     "output_type": "execute_result"
    }
   ],
   "source": [
    "size =evaluate.eval_cluster_size(model_save_dict)\n",
    "size.to_csv(\"{}_클러스터사이즈.csv\".format(model_name))\n",
    "\n",
    "print(size.iloc[:-1,:].max().max())\n",
    "print(size.iloc[:-1,:].min().min())\n",
    "size"
   ]
  },
  {
   "cell_type": "code",
   "execution_count": 22,
   "metadata": {},
   "outputs": [],
   "source": [
    "eval_one, eval_one_original = evaluate.eval_cluster_result(model_save_dict, raw_data = scaled_together, label_data=label_data_pp_man, freq=freq)\n",
    "eval_one.to_csv(\"{}_관리종목.csv\".format(model_name))\n",
    "eval_one_original.to_csv(\"{}_관리종목전체대비.csv\".format(model_name))"
   ]
  },
  {
   "cell_type": "code",
   "execution_count": 23,
   "metadata": {},
   "outputs": [],
   "source": [
    "eval_two,eval_two_original = evaluate.eval_cluster_result(model_save_dict, raw_data = scaled_together, label_data=label_data_pp_war, freq=freq)\n",
    "eval_two.to_csv(\"{}_투자환기종목.csv\".format(model_name))\n",
    "eval_two_original.to_csv(\"{}_투자환기종목전체대비.csv\".format(model_name))"
   ]
  },
  {
   "cell_type": "code",
   "execution_count": 24,
   "metadata": {},
   "outputs": [],
   "source": [
    "# 횡령인 경우\n",
    "eval_three, eval_three_original = evaluate.eval_cluster_result(model_save_dict, raw_data = scaled_together, label_data=label_data_pp_emb, freq=freq)\n",
    "eval_three.to_csv(\"{}_횡령배임혐의.csv\".format(model_name))\n",
    "eval_three_original.to_csv(\"{}_횡령배임혐의전체대비.csv\".format(model_name))"
   ]
  },
  {
   "cell_type": "code",
   "execution_count": 25,
   "metadata": {},
   "outputs": [
    {
     "name": "stdout",
     "output_type": "stream",
     "text": [
      "0.8336842340959547\n",
      "1.0\n"
     ]
    },
    {
     "data": {
      "text/plain": [
       "0.09983449730830787"
      ]
     },
     "execution_count": 25,
     "metadata": {},
     "output_type": "execute_result"
    }
   ],
   "source": [
    "print(evaluate.calculate_catch_probability(eval_one, eval_two, None))#, eval_three)\n",
    "print(evaluate.calculate_match_probability(eval_one, eval_two,None))# eval_three)\n",
    "evaluate.calculate_catch_probability(eval_one_original, eval_two_original, None)#eval_three_original)"
   ]
  },
  {
   "cell_type": "code",
   "execution_count": 26,
   "metadata": {},
   "outputs": [
    {
     "data": {
      "text/plain": [
       "당기순이익/총자본                         0.192672\n",
       "영업이익/총자본                          0.189086\n",
       "총자본                               0.107507\n",
       "판매 및 관리비/총자본                      0.098602\n",
       "매출총이익/총자본                         0.091245\n",
       "영업현금흐름/총자본                        0.087151\n",
       "최대주주비율                            0.078964\n",
       "차입금의존도                            0.047589\n",
       "BW금액+CB금액+유상증자금액/총자본              0.035830\n",
       "매출채권/총자본                          0.028402\n",
       "결산기간_주가변동률                        0.013785\n",
       "경영권분쟁소송+불성실공시법인지정카운트+조회공시요구카운트    0.012734\n",
       "최대주주비율_변동성                        0.011935\n",
       "최대주주변경카운트                         0.004500\n",
       "dtype: float64"
      ]
     },
     "execution_count": 26,
     "metadata": {},
     "output_type": "execute_result"
    }
   ],
   "source": [
    "def pct(df):\n",
    "    return df / np.sum(df)\n",
    "\n",
    "dist = evaluate.eval_cluster_distance(eval_one, scaled_together, model_save_dict)\n",
    "dist = dist.apply(pct, axis=1)\n",
    "dist2= dist.mean(axis=0).sort_values(ascending=False)\n",
    "\n",
    "dist.to_csv(\"{}_거리분해.csv\".format(model_name))\n",
    "dist2.to_csv(\"{}_거리분해평균.csv\".format(model_name))\n",
    "\n",
    "dist2"
   ]
  },
  {
   "cell_type": "code",
   "execution_count": 27,
   "metadata": {},
   "outputs": [
    {
     "name": "stderr",
     "output_type": "stream",
     "text": [
      "c:\\Jehyeon\\2022_Winter_KRX\\KRX\\Model\\krx_fr\\cluster\\optimize.py:263: RuntimeWarning: invalid value encountered in double_scalars\n",
      "  cluster_accuracy[key] = cluster_accuracy[key]/value_sum\n"
     ]
    },
    {
     "data": {
      "text/html": [
       "<div>\n",
       "<style scoped>\n",
       "    .dataframe tbody tr th:only-of-type {\n",
       "        vertical-align: middle;\n",
       "    }\n",
       "\n",
       "    .dataframe tbody tr th {\n",
       "        vertical-align: top;\n",
       "    }\n",
       "\n",
       "    .dataframe thead th {\n",
       "        text-align: right;\n",
       "    }\n",
       "</style>\n",
       "<table border=\"1\" class=\"dataframe\">\n",
       "  <thead>\n",
       "    <tr style=\"text-align: right;\">\n",
       "      <th></th>\n",
       "      <th>2013-01예측</th>\n",
       "      <th>2014-01예측</th>\n",
       "      <th>2015-01예측</th>\n",
       "      <th>2016-01예측</th>\n",
       "      <th>2017-01예측</th>\n",
       "      <th>2018-01예측</th>\n",
       "      <th>2019-01예측</th>\n",
       "      <th>2020-01예측</th>\n",
       "      <th>2021-01예측</th>\n",
       "    </tr>\n",
       "  </thead>\n",
       "  <tbody>\n",
       "    <tr>\n",
       "      <th>0</th>\n",
       "      <td>0.085714</td>\n",
       "      <td>0.046512</td>\n",
       "      <td>0.000000</td>\n",
       "      <td>0.837209</td>\n",
       "      <td>0.076923</td>\n",
       "      <td>0.069767</td>\n",
       "      <td>0.033708</td>\n",
       "      <td>0.808989</td>\n",
       "      <td>0.121212</td>\n",
       "    </tr>\n",
       "    <tr>\n",
       "      <th>1</th>\n",
       "      <td>0.085714</td>\n",
       "      <td>0.930233</td>\n",
       "      <td>0.809524</td>\n",
       "      <td>0.093023</td>\n",
       "      <td>0.096154</td>\n",
       "      <td>0.104651</td>\n",
       "      <td>0.056180</td>\n",
       "      <td>0.078652</td>\n",
       "      <td>0.136364</td>\n",
       "    </tr>\n",
       "    <tr>\n",
       "      <th>2</th>\n",
       "      <td>0.828571</td>\n",
       "      <td>0.023256</td>\n",
       "      <td>0.190476</td>\n",
       "      <td>0.069767</td>\n",
       "      <td>0.826923</td>\n",
       "      <td>0.825581</td>\n",
       "      <td>0.910112</td>\n",
       "      <td>0.112360</td>\n",
       "      <td>0.742424</td>\n",
       "    </tr>\n",
       "  </tbody>\n",
       "</table>\n",
       "</div>"
      ],
      "text/plain": [
       "   2013-01예측  2014-01예측  2015-01예측  2016-01예측  2017-01예측  2018-01예측  \\\n",
       "0   0.085714   0.046512   0.000000   0.837209   0.076923   0.069767   \n",
       "1   0.085714   0.930233   0.809524   0.093023   0.096154   0.104651   \n",
       "2   0.828571   0.023256   0.190476   0.069767   0.826923   0.825581   \n",
       "\n",
       "   2019-01예측  2020-01예측  2021-01예측  \n",
       "0   0.033708   0.808989   0.121212  \n",
       "1   0.056180   0.078652   0.136364  \n",
       "2   0.910112   0.112360   0.742424  "
      ]
     },
     "execution_count": 27,
     "metadata": {},
     "output_type": "execute_result"
    }
   ],
   "source": [
    "pre, pre_original = evaluate.predict_cluster_result(model_save_dict, scaled_together,label_data_pp_man, \"2012-01\", freq=freq)\n",
    "pre"
   ]
  },
  {
   "cell_type": "code",
   "execution_count": 28,
   "metadata": {},
   "outputs": [
    {
     "name": "stderr",
     "output_type": "stream",
     "text": [
      "c:\\Jehyeon\\2022_Winter_KRX\\KRX\\Model\\krx_fr\\cluster\\optimize.py:263: RuntimeWarning: invalid value encountered in double_scalars\n",
      "  cluster_accuracy[key] = cluster_accuracy[key]/value_sum\n"
     ]
    },
    {
     "data": {
      "text/html": [
       "<div>\n",
       "<style scoped>\n",
       "    .dataframe tbody tr th:only-of-type {\n",
       "        vertical-align: middle;\n",
       "    }\n",
       "\n",
       "    .dataframe tbody tr th {\n",
       "        vertical-align: top;\n",
       "    }\n",
       "\n",
       "    .dataframe thead th {\n",
       "        text-align: right;\n",
       "    }\n",
       "</style>\n",
       "<table border=\"1\" class=\"dataframe\">\n",
       "  <thead>\n",
       "    <tr style=\"text-align: right;\">\n",
       "      <th></th>\n",
       "      <th>2013-01예측</th>\n",
       "      <th>2014-01예측</th>\n",
       "      <th>2015-01예측</th>\n",
       "      <th>2016-01예측</th>\n",
       "      <th>2017-01예측</th>\n",
       "      <th>2018-01예측</th>\n",
       "      <th>2019-01예측</th>\n",
       "      <th>2020-01예측</th>\n",
       "      <th>2021-01예측</th>\n",
       "    </tr>\n",
       "  </thead>\n",
       "  <tbody>\n",
       "    <tr>\n",
       "      <th>0</th>\n",
       "      <td>0.085714</td>\n",
       "      <td>0.046512</td>\n",
       "      <td>0.000000</td>\n",
       "      <td>0.837209</td>\n",
       "      <td>0.076923</td>\n",
       "      <td>0.069767</td>\n",
       "      <td>0.033708</td>\n",
       "      <td>0.808989</td>\n",
       "      <td>0.121212</td>\n",
       "    </tr>\n",
       "    <tr>\n",
       "      <th>1</th>\n",
       "      <td>0.085714</td>\n",
       "      <td>0.930233</td>\n",
       "      <td>0.809524</td>\n",
       "      <td>0.093023</td>\n",
       "      <td>0.096154</td>\n",
       "      <td>0.104651</td>\n",
       "      <td>0.056180</td>\n",
       "      <td>0.078652</td>\n",
       "      <td>0.136364</td>\n",
       "    </tr>\n",
       "    <tr>\n",
       "      <th>2</th>\n",
       "      <td>0.828571</td>\n",
       "      <td>0.023256</td>\n",
       "      <td>0.190476</td>\n",
       "      <td>0.069767</td>\n",
       "      <td>0.826923</td>\n",
       "      <td>0.825581</td>\n",
       "      <td>0.910112</td>\n",
       "      <td>0.112360</td>\n",
       "      <td>0.742424</td>\n",
       "    </tr>\n",
       "  </tbody>\n",
       "</table>\n",
       "</div>"
      ],
      "text/plain": [
       "   2013-01예측  2014-01예측  2015-01예측  2016-01예측  2017-01예측  2018-01예측  \\\n",
       "0   0.085714   0.046512   0.000000   0.837209   0.076923   0.069767   \n",
       "1   0.085714   0.930233   0.809524   0.093023   0.096154   0.104651   \n",
       "2   0.828571   0.023256   0.190476   0.069767   0.826923   0.825581   \n",
       "\n",
       "   2019-01예측  2020-01예측  2021-01예측  \n",
       "0   0.033708   0.808989   0.121212  \n",
       "1   0.056180   0.078652   0.136364  \n",
       "2   0.910112   0.112360   0.742424  "
      ]
     },
     "execution_count": 28,
     "metadata": {},
     "output_type": "execute_result"
    }
   ],
   "source": [
    "pre, pre_original = evaluate.predict_cluster_result(model_save_dict, scaled_together,label_data_pp_man, \"2012-01\", freq=freq)\n",
    "pre"
   ]
  },
  {
   "cell_type": "code",
   "execution_count": 29,
   "metadata": {},
   "outputs": [],
   "source": [
    "# 그림뽑기\n",
    "\n",
    "test = MyKmeans.visualize_3d_with_answer(scaled_together[\"2021-01\"],model_save_dict[\"2021-01\"][\"model\"], answer_data=label_data_pp_man[\"2021-01\"], fig_title=\"{}_관리종목\".format(model_name))"
   ]
  },
  {
   "cell_type": "code",
   "execution_count": 30,
   "metadata": {},
   "outputs": [
    {
     "data": {
      "text/html": [
       "<div>\n",
       "<style scoped>\n",
       "    .dataframe tbody tr th:only-of-type {\n",
       "        vertical-align: middle;\n",
       "    }\n",
       "\n",
       "    .dataframe tbody tr th {\n",
       "        vertical-align: top;\n",
       "    }\n",
       "\n",
       "    .dataframe thead th {\n",
       "        text-align: right;\n",
       "    }\n",
       "</style>\n",
       "<table border=\"1\" class=\"dataframe\">\n",
       "  <thead>\n",
       "    <tr style=\"text-align: right;\">\n",
       "      <th></th>\n",
       "      <th>PC1</th>\n",
       "      <th>PC2</th>\n",
       "      <th>PC3</th>\n",
       "      <th>label</th>\n",
       "      <th>answer</th>\n",
       "    </tr>\n",
       "  </thead>\n",
       "  <tbody>\n",
       "    <tr>\n",
       "      <th>A000020</th>\n",
       "      <td>-0.351361</td>\n",
       "      <td>0.002382</td>\n",
       "      <td>0.045298</td>\n",
       "      <td>0</td>\n",
       "      <td>2.5</td>\n",
       "    </tr>\n",
       "    <tr>\n",
       "      <th>A000040</th>\n",
       "      <td>0.229703</td>\n",
       "      <td>0.443119</td>\n",
       "      <td>0.436158</td>\n",
       "      <td>1</td>\n",
       "      <td>2.5</td>\n",
       "    </tr>\n",
       "    <tr>\n",
       "      <th>A000050</th>\n",
       "      <td>-0.078182</td>\n",
       "      <td>-0.558245</td>\n",
       "      <td>0.352321</td>\n",
       "      <td>2</td>\n",
       "      <td>2.5</td>\n",
       "    </tr>\n",
       "    <tr>\n",
       "      <th>A000070</th>\n",
       "      <td>-0.613318</td>\n",
       "      <td>-0.144802</td>\n",
       "      <td>0.307331</td>\n",
       "      <td>0</td>\n",
       "      <td>2.5</td>\n",
       "    </tr>\n",
       "    <tr>\n",
       "      <th>A000080</th>\n",
       "      <td>-0.694325</td>\n",
       "      <td>0.490593</td>\n",
       "      <td>0.314962</td>\n",
       "      <td>0</td>\n",
       "      <td>2.5</td>\n",
       "    </tr>\n",
       "    <tr>\n",
       "      <th>...</th>\n",
       "      <td>...</td>\n",
       "      <td>...</td>\n",
       "      <td>...</td>\n",
       "      <td>...</td>\n",
       "      <td>...</td>\n",
       "    </tr>\n",
       "    <tr>\n",
       "      <th>A377300</th>\n",
       "      <td>-0.419314</td>\n",
       "      <td>0.154300</td>\n",
       "      <td>-0.279913</td>\n",
       "      <td>0</td>\n",
       "      <td>2.5</td>\n",
       "    </tr>\n",
       "    <tr>\n",
       "      <th>A381970</th>\n",
       "      <td>-0.541352</td>\n",
       "      <td>0.223205</td>\n",
       "      <td>-0.031128</td>\n",
       "      <td>0</td>\n",
       "      <td>2.5</td>\n",
       "    </tr>\n",
       "    <tr>\n",
       "      <th>A383220</th>\n",
       "      <td>-1.012288</td>\n",
       "      <td>0.399826</td>\n",
       "      <td>-0.169967</td>\n",
       "      <td>0</td>\n",
       "      <td>2.5</td>\n",
       "    </tr>\n",
       "    <tr>\n",
       "      <th>A383310</th>\n",
       "      <td>-0.407476</td>\n",
       "      <td>0.412696</td>\n",
       "      <td>-0.270699</td>\n",
       "      <td>0</td>\n",
       "      <td>2.5</td>\n",
       "    </tr>\n",
       "    <tr>\n",
       "      <th>A383800</th>\n",
       "      <td>-0.318603</td>\n",
       "      <td>-0.896336</td>\n",
       "      <td>-0.216701</td>\n",
       "      <td>2</td>\n",
       "      <td>2.5</td>\n",
       "    </tr>\n",
       "  </tbody>\n",
       "</table>\n",
       "<p>2059 rows × 5 columns</p>\n",
       "</div>"
      ],
      "text/plain": [
       "              PC1       PC2       PC3  label  answer\n",
       "A000020 -0.351361  0.002382  0.045298      0     2.5\n",
       "A000040  0.229703  0.443119  0.436158      1     2.5\n",
       "A000050 -0.078182 -0.558245  0.352321      2     2.5\n",
       "A000070 -0.613318 -0.144802  0.307331      0     2.5\n",
       "A000080 -0.694325  0.490593  0.314962      0     2.5\n",
       "...           ...       ...       ...    ...     ...\n",
       "A377300 -0.419314  0.154300 -0.279913      0     2.5\n",
       "A381970 -0.541352  0.223205 -0.031128      0     2.5\n",
       "A383220 -1.012288  0.399826 -0.169967      0     2.5\n",
       "A383310 -0.407476  0.412696 -0.270699      0     2.5\n",
       "A383800 -0.318603 -0.896336 -0.216701      2     2.5\n",
       "\n",
       "[2059 rows x 5 columns]"
      ]
     },
     "execution_count": 30,
     "metadata": {},
     "output_type": "execute_result"
    }
   ],
   "source": [
    "MyKmeans.visualize_3d_with_answer(scaled_together[\"2021-01\"],model_save_dict[\"2021-01\"][\"model\"], answer_data=label_data_pp_war[\"2021-01\"], fig_title=\"{}_투자주의환기\".format(model_name))"
   ]
  },
  {
   "cell_type": "code",
   "execution_count": null,
   "metadata": {},
   "outputs": [],
   "source": []
  }
 ],
 "metadata": {
  "kernelspec": {
   "display_name": "base",
   "language": "python",
   "name": "python3"
  },
  "language_info": {
   "codemirror_mode": {
    "name": "ipython",
    "version": 3
   },
   "file_extension": ".py",
   "mimetype": "text/x-python",
   "name": "python",
   "nbconvert_exporter": "python",
   "pygments_lexer": "ipython3",
   "version": "3.9.12"
  },
  "orig_nbformat": 4,
  "vscode": {
   "interpreter": {
    "hash": "a077222d77dfe082b8f1dd562ad70e458ac2ab76993a0b248ab0476e32e9e8dd"
   }
  }
 },
 "nbformat": 4,
 "nbformat_minor": 2
}
