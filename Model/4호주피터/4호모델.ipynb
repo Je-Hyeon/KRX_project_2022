{
 "cells": [
  {
   "cell_type": "code",
   "execution_count": 1,
   "metadata": {},
   "outputs": [],
   "source": [
    "import os\n",
    "import numpy as np\n",
    "import pandas as pd \n",
    "from krx_fr.preprocess import tools, scaler\n",
    "from krx_fr.cluster import evaluate\n",
    "from krx_fr.cluster.optimize import Optimizer\n",
    "from krx_fr.cluster.kmeans import MyKmeans"
   ]
  },
  {
   "cell_type": "code",
   "execution_count": 2,
   "metadata": {},
   "outputs": [
    {
     "data": {
      "text/plain": [
       "'4호모델_Q_k3'"
      ]
     },
     "execution_count": 2,
     "metadata": {},
     "output_type": "execute_result"
    }
   ],
   "source": [
    "model = \"4호모델\"\n",
    "\n",
    "# 윈도우는 Y로 고정\n",
    "window_size = \"Y\"\n",
    "\n",
    "# 어떻게 윈도우를 밀건지\n",
    "freq = \"Q\"\n",
    "\n",
    "# 클러스터 수\n",
    "num_k = 3\n",
    "\n",
    "# 사용할 스케일러\n",
    "sca = scaler.new_rank\n",
    "sc = \"new_rank\"\n",
    "\n",
    "kospi_listed = tools.load_json(\"..\\\\final_data\\\\코스피_구성종목.json\")\n",
    "kosdaq_listed = tools.load_json(\"..\\\\final_data\\\\코스닥_구성종목.json\")\n",
    "together_listed = tools.aggregate_listed_code(kospi_listed, kosdaq_listed)\n",
    "\n",
    "# 모델명\n",
    "model_name = \"{}_{}_k{}\".format(model, freq, num_k)\n",
    "model_name"
   ]
  },
  {
   "cell_type": "code",
   "execution_count": 3,
   "metadata": {},
   "outputs": [],
   "source": [
    "# 퐅더에서 row_data 불러오기\n",
    "kind_data = tools.read_data_from_folder(\"C:\\\\Jehyeon\\\\2022_Winter_KRX\\\\KRX\\\\final_data\\\\KIND\\\\\")\n",
    "financial_data = tools.read_data_from_folder(\"C:\\\\Jehyeon\\\\2022_Winter_KRX\\\\KRX\\\\final_data\\\\재무\\\\\")\n",
    "\n",
    "# 최대주주비율은 1달 단위의 pct_change\n",
    "financial_data2 = tools.dict_data_calculate_pct(financial_data.copy(), name=\"최대주주비율\", return_original=True)\n",
    "\n",
    "# label_data 불러오기\n",
    "label_data_war = pd.read_csv(\"C:\\\\Jehyeon\\\\2022_Winter_KRX\\\\KRX\\\\final_data\\\\label\\\\투자주의환기종목지정카운트.csv\", index_col=0)\n",
    "label_data_man= pd.read_csv(\"C:\\\\Jehyeon\\\\2022_Winter_KRX\\\\KRX\\\\final_data\\\\label\\\\관리종목카운트.csv\", index_col=0)\n",
    "label_data_emb = pd.read_csv(\"C:\\\\Jehyeon\\\\2022_Winter_KRX\\\\KRX\\\\final_data\\\\label\\\\횡령배임혐의발생카운트.csv\", index_col=0)"
   ]
  },
  {
   "cell_type": "code",
   "execution_count": 4,
   "metadata": {},
   "outputs": [],
   "source": [
    "financial_data2[\"결산기간_주가변동률\"] = financial_data2[\"결산기간_주가변동률\"].fillna(0)"
   ]
  },
  {
   "cell_type": "code",
   "execution_count": 5,
   "metadata": {},
   "outputs": [],
   "source": [
    "# 레이블 데이터 shift시켜주기\n",
    "label_data_man_shift = tools.shift_label_data(label_data_man.copy(),shift_size='Y')\n",
    "label_data_war_shift = tools.shift_label_data(label_data_war.copy(),shift_size='Y')\n",
    "label_data_emb_shift = tools.shift_label_data(label_data_emb.copy(),shift_size='Y')\n",
    "\n",
    "label_data_pp1 = tools.dict_data_preprocess_upgrade(label_data_man_shift.copy(), np.sum, \"Y\", rolling_size=freq)\n",
    "label_data_pp_man = tools.dict_data_scale(label_data_pp1.copy(), scaler.zero_one)\n",
    "\n",
    "label_data_pp2 = tools.dict_data_preprocess_upgrade(label_data_war_shift.copy(), np.sum, \"Y\", rolling_size=freq)\n",
    "label_data_pp_war = tools.dict_data_scale(label_data_pp2.copy(), scaler.zero_one)\n",
    "\n",
    "label_data_pp3 = tools.dict_data_preprocess_upgrade(label_data_emb_shift.copy(), np.sum, \"Y\", rolling_size=freq)\n",
    "label_data_pp_emb = tools.dict_data_scale(label_data_pp3.copy(), scaler.zero_one)"
   ]
  },
  {
   "cell_type": "code",
   "execution_count": 6,
   "metadata": {},
   "outputs": [],
   "source": [
    "# 데이터처리 sum / mean\n",
    "kind_data2 = tools.dict_data_preprocess_upgrade(kind_data.copy(), function=np.sum, window_size=window_size,rolling_size=freq, fillna=True)\n",
    "financial_data3 = tools.dict_data_preprocess_upgrade(financial_data2.copy(), function=np.mean, window_size=window_size, rolling_size=freq,fillna=False)"
   ]
  },
  {
   "cell_type": "code",
   "execution_count": 7,
   "metadata": {},
   "outputs": [],
   "source": [
    "# 재무데이터와 공시데이터 합치기\n",
    "concat_data = tools.dict_data_merge(kind_data2.copy(),financial_data3.copy(), dropna=False)"
   ]
  },
  {
   "cell_type": "code",
   "execution_count": 8,
   "metadata": {},
   "outputs": [],
   "source": [
    "list_data = tools.dict_data_match_listed_upgrade(concat_data.copy(), together_listed.copy(), rolling_size=freq)"
   ]
  },
  {
   "cell_type": "code",
   "execution_count": 9,
   "metadata": {},
   "outputs": [
    {
     "data": {
      "text/plain": [
       "Index(['BW금액+CB금액', '경영권분쟁소송', '불성실공시법인지정카운트', '상호변경카운트', '업종변경카운트', '유상증자금액',\n",
       "       '조회공시요구카운트', '최대주주변경을수반하는주식담보제공금액', '최대주주변경을수반하는주식양수도금액', '최대주주변경카운트',\n",
       "       '타법인주식및출자증권취득결정금액', '특수관계인에대한자금대여금액', '결산기간_거래량증가', '결산기간_주가변동률',\n",
       "       '당기순이익', '매출채권', '매출총이익', '영업이익', '영업현금흐름', '차입금의존도', '총자본', '최대주주비율',\n",
       "       '판매 및 관리비', '최대주주비율_변동성'],\n",
       "      dtype='object')"
      ]
     },
     "execution_count": 9,
     "metadata": {},
     "output_type": "execute_result"
    }
   ],
   "source": [
    "# 컬럼을 더할 경우\n",
    "concat_together1 = tools.dict_data_plus(list_data.copy(),\n",
    "                                  plus_one=\"BW금액\"\n",
    "                                 ,plus_two=\"CB금액\", return_origianl=False)\n",
    "\n",
    "#\n",
    "concat_together1[\"2012-01\"].columns"
   ]
  },
  {
   "cell_type": "code",
   "execution_count": 10,
   "metadata": {},
   "outputs": [
    {
     "data": {
      "text/plain": [
       "Index(['BW금액+CB금액+유상증자금액', '경영권분쟁소송', '불성실공시법인지정카운트', '상호변경카운트', '업종변경카운트',\n",
       "       '조회공시요구카운트', '최대주주변경을수반하는주식담보제공금액', '최대주주변경을수반하는주식양수도금액', '최대주주변경카운트',\n",
       "       '타법인주식및출자증권취득결정금액', '특수관계인에대한자금대여금액', '결산기간_거래량증가', '결산기간_주가변동률',\n",
       "       '당기순이익', '매출채권', '매출총이익', '영업이익', '영업현금흐름', '차입금의존도', '총자본', '최대주주비율',\n",
       "       '판매 및 관리비', '최대주주비율_변동성'],\n",
       "      dtype='object')"
      ]
     },
     "execution_count": 10,
     "metadata": {},
     "output_type": "execute_result"
    }
   ],
   "source": [
    "concat_together2 = tools.dict_data_plus(concat_together1, \n",
    "                                  plus_one=\"BW금액+CB금액\"\n",
    "                                 ,plus_two=\"유상증자금액\", return_origianl=False)\n",
    "#concat_kospi2 = tools.dict_data_plus(concat_kospi1, \n",
    "#                                  plus_one=\"상호변경카운트_전체시장\"\n",
    "#                                 ,plus_two=\"업종변경카운트_전체시장\", return_origianl=False)\n",
    "#concat_kosdaq2 = tools.dict_data_plus(concat_kosdaq1, \n",
    "#                                  plus_one=\"상호변경카운트_전체시장\"\n",
    "#                                 ,plus_two=\"업종변경카운트_전체시장\", return_origianl=False)\n",
    "concat_together2[\"2012-01\"].columns"
   ]
  },
  {
   "cell_type": "code",
   "execution_count": 11,
   "metadata": {},
   "outputs": [
    {
     "data": {
      "text/plain": [
       "Index(['최대주주변경을수반하는주식담보제공금액+최대주주변경을수반하는주식양수도금액', 'BW금액+CB금액+유상증자금액', '경영권분쟁소송',\n",
       "       '불성실공시법인지정카운트', '상호변경카운트', '업종변경카운트', '조회공시요구카운트', '최대주주변경카운트',\n",
       "       '타법인주식및출자증권취득결정금액', '특수관계인에대한자금대여금액', '결산기간_거래량증가', '결산기간_주가변동률',\n",
       "       '당기순이익', '매출채권', '매출총이익', '영업이익', '영업현금흐름', '차입금의존도', '총자본', '최대주주비율',\n",
       "       '판매 및 관리비', '최대주주비율_변동성'],\n",
       "      dtype='object')"
      ]
     },
     "execution_count": 11,
     "metadata": {},
     "output_type": "execute_result"
    }
   ],
   "source": [
    "concat_together3 = tools.dict_data_plus(concat_together2, \n",
    "                                  plus_one=\"최대주주변경을수반하는주식담보제공금액\"\n",
    "                                 ,plus_two=\"최대주주변경을수반하는주식양수도금액\", return_origianl=False)\n",
    "#concat_kospi3 = tools.dict_data_plus(concat_kospi2, \n",
    "#                                  plus_one=\"최대주주변경을수반하는주식담보제공금액_전체시장\"\n",
    "#                                 ,plus_two=\"최대주주변경을수반하는주식양수도금액_전체시장\", return_origianl=False)\n",
    "#concat_kosdaq3 = tools.dict_data_plus(concat_kosdaq2, \n",
    "#                                  plus_one=\"최대주주변경을수반하는주식담보제공금액_전체시장\"\n",
    "#                                 ,plus_two=\"최대주주변경을수반하는주식양수도금액_전체시장\", return_origianl=False)\n",
    "#\n",
    "concat_together3[\"2012-01\"].columns"
   ]
  },
  {
   "cell_type": "code",
   "execution_count": 12,
   "metadata": {},
   "outputs": [
    {
     "data": {
      "text/plain": [
       "Index(['타법인주식및출자증권취득결정금액+특수관계인에대한자금대여금액',\n",
       "       '최대주주변경을수반하는주식담보제공금액+최대주주변경을수반하는주식양수도금액', 'BW금액+CB금액+유상증자금액', '경영권분쟁소송',\n",
       "       '불성실공시법인지정카운트', '상호변경카운트', '업종변경카운트', '조회공시요구카운트', '최대주주변경카운트',\n",
       "       '결산기간_거래량증가', '결산기간_주가변동률', '당기순이익', '매출채권', '매출총이익', '영업이익', '영업현금흐름',\n",
       "       '차입금의존도', '총자본', '최대주주비율', '판매 및 관리비', '최대주주비율_변동성'],\n",
       "      dtype='object')"
      ]
     },
     "execution_count": 12,
     "metadata": {},
     "output_type": "execute_result"
    }
   ],
   "source": [
    "concat_together4 = tools.dict_data_plus(concat_together3, \n",
    "                                  plus_one=\"타법인주식및출자증권취득결정금액\"\n",
    "                                 ,plus_two=\"특수관계인에대한자금대여금액\", return_origianl=False)\n",
    "#concat_kospi4 = tools.dict_data_plus(concat_kospi3, \n",
    "#                                  plus_one=\"자기주식처분결정금액_전체시장\"\n",
    "#                                 ,plus_two=\"특수관계인에대한자금대여금액_전체시장\", return_origianl=False)\n",
    "#concat_kosdaq4 = tools.dict_data_plus(concat_kosdaq3, \n",
    "#                                  plus_one=\"자기주식처분결정금액_전체시장\"\n",
    "#                                 ,plus_two=\"특수관계인에대한자금대여금액_전체시장\", return_origianl=False)\n",
    "concat_together4[\"2012-01\"].columns"
   ]
  },
  {
   "cell_type": "code",
   "execution_count": 13,
   "metadata": {},
   "outputs": [
    {
     "data": {
      "text/plain": [
       "Index(['상호변경카운트+업종변경카운트', '타법인주식및출자증권취득결정금액+특수관계인에대한자금대여금액',\n",
       "       '최대주주변경을수반하는주식담보제공금액+최대주주변경을수반하는주식양수도금액', 'BW금액+CB금액+유상증자금액', '경영권분쟁소송',\n",
       "       '불성실공시법인지정카운트', '조회공시요구카운트', '최대주주변경카운트', '결산기간_거래량증가', '결산기간_주가변동률',\n",
       "       '당기순이익', '매출채권', '매출총이익', '영업이익', '영업현금흐름', '차입금의존도', '총자본', '최대주주비율',\n",
       "       '판매 및 관리비', '최대주주비율_변동성'],\n",
       "      dtype='object')"
      ]
     },
     "execution_count": 13,
     "metadata": {},
     "output_type": "execute_result"
    }
   ],
   "source": [
    "concat_together5 = tools.dict_data_plus(concat_together4,\n",
    "                                  plus_one=\"상호변경카운트\"\n",
    "                                 ,plus_two=\"업종변경카운트\", return_origianl=False)\n",
    "#concat_kospi5 = tools.dict_data_plus(concat_kospi4,\n",
    "#                                  plus_one=\"불성실공시법인지정카운트_전체시장\"\n",
    "#                                 ,plus_two=\"조회공시요구카운트_전체시장\", return_origianl=False)\n",
    "#concat_kosdaq5 = tools.dict_data_plus(concat_kosdaq4,\n",
    "#                                  plus_one=\"불성실공시법인지정카운트_전체시장\"\n",
    "#                                 ,plus_two=\"조회공시요구카운트_전체시장\", return_origianl=False)\n",
    "concat_together5[\"2012-01\"].columns"
   ]
  },
  {
   "cell_type": "code",
   "execution_count": 14,
   "metadata": {},
   "outputs": [
    {
     "data": {
      "text/plain": [
       "Index(['경영권분쟁소송+불성실공시법인지정카운트', '상호변경카운트+업종변경카운트',\n",
       "       '타법인주식및출자증권취득결정금액+특수관계인에대한자금대여금액',\n",
       "       '최대주주변경을수반하는주식담보제공금액+최대주주변경을수반하는주식양수도금액', 'BW금액+CB금액+유상증자금액',\n",
       "       '조회공시요구카운트', '최대주주변경카운트', '결산기간_거래량증가', '결산기간_주가변동률', '당기순이익', '매출채권',\n",
       "       '매출총이익', '영업이익', '영업현금흐름', '차입금의존도', '총자본', '최대주주비율', '판매 및 관리비',\n",
       "       '최대주주비율_변동성'],\n",
       "      dtype='object')"
      ]
     },
     "execution_count": 14,
     "metadata": {},
     "output_type": "execute_result"
    }
   ],
   "source": [
    "concat_together6 = tools.dict_data_plus(concat_together5,\n",
    "                                  plus_one=\"경영권분쟁소송\"\n",
    "                                 ,plus_two=\"불성실공시법인지정카운트\", return_origianl=False)\n",
    "#concat_kospi7 = tools.dict_data_plus(concat_kospi6,\n",
    "#                                  plus_one=\"BW금액_전체시장+CB금액_전체시장\"\n",
    "#                                 ,plus_two=\"유상증자금액_전체시장\", return_origianl=False)\n",
    "#concat_kosdaq7 = tools.dict_data_plus(concat_kosdaq6,\n",
    "#                                  plus_one=\"BW금액_전체시장+CB금액_전체시장\"\n",
    "#                                 ,plus_two=\"유상증자금액_전체시장\", return_origianl=False)\n",
    "concat_together6[\"2012-01\"].columns"
   ]
  },
  {
   "cell_type": "code",
   "execution_count": 15,
   "metadata": {},
   "outputs": [
    {
     "data": {
      "text/plain": [
       "Index(['경영권분쟁소송+불성실공시법인지정카운트+조회공시요구카운트', '상호변경카운트+업종변경카운트',\n",
       "       '타법인주식및출자증권취득결정금액+특수관계인에대한자금대여금액',\n",
       "       '최대주주변경을수반하는주식담보제공금액+최대주주변경을수반하는주식양수도금액', 'BW금액+CB금액+유상증자금액',\n",
       "       '최대주주변경카운트', '결산기간_거래량증가', '결산기간_주가변동률', '당기순이익', '매출채권', '매출총이익',\n",
       "       '영업이익', '영업현금흐름', '차입금의존도', '총자본', '최대주주비율', '판매 및 관리비', '최대주주비율_변동성'],\n",
       "      dtype='object')"
      ]
     },
     "execution_count": 15,
     "metadata": {},
     "output_type": "execute_result"
    }
   ],
   "source": [
    "concat_together7 = tools.dict_data_plus(concat_together6,\n",
    "                                  plus_one=\"경영권분쟁소송+불성실공시법인지정카운트\"\n",
    "                                 ,plus_two=\"조회공시요구카운트\", return_origianl=False)\n",
    "#concat_kospi8 = tools.dict_data_plus(concat_kospi7,\n",
    "#                                  plus_one=\"경영권분쟁소송_전체시장+최대주주변경카운트_전체시장\"\n",
    "#                                 ,plus_two=\"상호변경카운트_전체시장+업종변경카운트_전체시장\", return_origianl=False)\n",
    "#concat_kosdaq8 = tools.dict_data_plus(concat_kosdaq7,\n",
    "#                                  plus_one=\"경영권분쟁소송_전체시장+최대주주변경카운트_전체시장\"\n",
    "#                                 ,plus_two=\"상호변경카운트_전체시장+업종변경카운트_전체시장\", return_origianl=False)\n",
    "concat_together7[\"2012-01\"].columns"
   ]
  },
  {
   "cell_type": "code",
   "execution_count": 16,
   "metadata": {},
   "outputs": [
    {
     "data": {
      "text/plain": [
       "Index(['타법인주식및출자증권취득결정금액+특수관계인에대한자금대여금액/총자본',\n",
       "       '최대주주변경을수반하는주식담보제공금액+최대주주변경을수반하는주식양수도금액/총자본', 'BW금액+CB금액+유상증자금액/총자본',\n",
       "       '당기순이익/총자본', '매출채권/총자본', '매출총이익/총자본', '영업이익/총자본', '영업현금흐름/총자본',\n",
       "       '판매 및 관리비/총자본', '경영권분쟁소송+불성실공시법인지정카운트+조회공시요구카운트', '상호변경카운트+업종변경카운트',\n",
       "       '타법인주식및출자증권취득결정금액+특수관계인에대한자금대여금액',\n",
       "       '최대주주변경을수반하는주식담보제공금액+최대주주변경을수반하는주식양수도금액', 'BW금액+CB금액+유상증자금액',\n",
       "       '최대주주변경카운트', '결산기간_거래량증가', '결산기간_주가변동률', '당기순이익', '매출채권', '매출총이익',\n",
       "       '영업이익', '영업현금흐름', '차입금의존도', '총자본', '최대주주비율', '판매 및 관리비', '최대주주비율_변동성'],\n",
       "      dtype='object')"
      ]
     },
     "execution_count": 16,
     "metadata": {},
     "output_type": "execute_result"
    }
   ],
   "source": [
    "divide_together = tools.dict_data_divide(concat_together7.copy(), divide_what=['타법인주식및출자증권취득결정금액+특수관계인에대한자금대여금액',\n",
    "       '최대주주변경을수반하는주식담보제공금액+최대주주변경을수반하는주식양수도금액',\n",
    "       'BW금액+CB금액+유상증자금액','당기순이익','매출채권', '매출총이익', '영업이익', '영업현금흐름','판매 및 관리비'],\n",
    "       divide_into=\"총자본\", return_origianl=True)\n",
    "divide_together[\"2012-01\"].columns"
   ]
  },
  {
   "cell_type": "code",
   "execution_count": 17,
   "metadata": {},
   "outputs": [
    {
     "data": {
      "text/plain": [
       "Index(['타법인주식및출자증권취득결정금액+특수관계인에대한자금대여금액/총자본',\n",
       "       '최대주주변경을수반하는주식담보제공금액+최대주주변경을수반하는주식양수도금액/총자본', 'BW금액+CB금액+유상증자금액/총자본',\n",
       "       '당기순이익/총자본', '매출채권/총자본', '매출총이익/총자본', '영업이익/총자본', '영업현금흐름/총자본',\n",
       "       '판매 및 관리비/총자본', '경영권분쟁소송+불성실공시법인지정카운트+조회공시요구카운트', '상호변경카운트+업종변경카운트',\n",
       "       '최대주주변경카운트', '결산기간_거래량증가', '결산기간_주가변동률', '차입금의존도', '총자본', '최대주주비율',\n",
       "       '최대주주비율_변동성'],\n",
       "      dtype='object')"
      ]
     },
     "execution_count": 17,
     "metadata": {},
     "output_type": "execute_result"
    }
   ],
   "source": [
    "divide_together1 = tools.dict_data_drop(divide_together.copy(),drop_col=['타법인주식및출자증권취득결정금액+특수관계인에대한자금대여금액',\n",
    "       '최대주주변경을수반하는주식담보제공금액+최대주주변경을수반하는주식양수도금액',\n",
    "       'BW금액+CB금액+유상증자금액', '당기순이익',\n",
    "       '매출채권', '매출총이익', '영업이익', '영업현금흐름', '판매 및 관리비'], dropna=False)\n",
    "divide_together1[\"2012-01\"].columns"
   ]
  },
  {
   "cell_type": "code",
   "execution_count": 18,
   "metadata": {},
   "outputs": [
    {
     "data": {
      "text/plain": [
       "Index(['타법인주식및출자증권취득결정금액+특수관계인에대한자금대여금액/총자본',\n",
       "       '최대주주변경을수반하는주식담보제공금액+최대주주변경을수반하는주식양수도금액/총자본', 'BW금액+CB금액+유상증자금액/총자본',\n",
       "       '당기순이익/총자본', '매출채권/총자본', '매출총이익/총자본', '영업이익/총자본', '영업현금흐름/총자본',\n",
       "       '판매 및 관리비/총자본', '경영권분쟁소송+불성실공시법인지정카운트+조회공시요구카운트', '상호변경카운트+업종변경카운트',\n",
       "       '최대주주변경카운트', '결산기간_거래량증가', '결산기간_주가변동률', '차입금의존도', '총자본', '최대주주비율',\n",
       "       '최대주주비율_변동성'],\n",
       "      dtype='object')"
      ]
     },
     "execution_count": 18,
     "metadata": {},
     "output_type": "execute_result"
    }
   ],
   "source": [
    "drop_togehter = tools.dict_data_drop(divide_together1.copy(), dropna=True)\n",
    "scaled_together = tools.dict_data_scale(drop_togehter.copy(), scaler=sca)\n",
    "\n",
    "scaled_together[\"2012-01\"].columns"
   ]
  },
  {
   "cell_type": "code",
   "execution_count": 19,
   "metadata": {},
   "outputs": [
    {
     "name": "stderr",
     "output_type": "stream",
     "text": [
      "100%|██████████| 100/100 [00:05<00:00, 19.41it/s]\n",
      "100%|██████████| 100/100 [00:05<00:00, 19.60it/s]\n",
      "100%|██████████| 100/100 [00:04<00:00, 20.45it/s]\n",
      "100%|██████████| 100/100 [00:04<00:00, 20.83it/s]\n",
      "100%|██████████| 100/100 [00:04<00:00, 20.66it/s]\n",
      "100%|██████████| 100/100 [00:04<00:00, 21.14it/s]\n",
      "100%|██████████| 100/100 [00:05<00:00, 18.58it/s]\n",
      "100%|██████████| 100/100 [00:05<00:00, 18.79it/s]\n",
      "100%|██████████| 100/100 [00:05<00:00, 18.10it/s]\n",
      "100%|██████████| 100/100 [00:05<00:00, 19.76it/s]\n",
      "100%|██████████| 100/100 [00:04<00:00, 20.11it/s]\n",
      "100%|██████████| 100/100 [00:04<00:00, 20.88it/s]\n",
      "100%|██████████| 100/100 [00:05<00:00, 19.81it/s]\n",
      "100%|██████████| 100/100 [00:05<00:00, 18.70it/s]\n",
      "100%|██████████| 100/100 [00:06<00:00, 16.25it/s]\n",
      "100%|██████████| 100/100 [00:05<00:00, 17.52it/s]\n",
      "100%|██████████| 100/100 [00:05<00:00, 16.71it/s]\n",
      "100%|██████████| 100/100 [00:06<00:00, 16.03it/s]\n",
      "100%|██████████| 100/100 [00:06<00:00, 15.36it/s]\n",
      "100%|██████████| 100/100 [00:06<00:00, 16.34it/s]\n",
      "100%|██████████| 100/100 [00:06<00:00, 15.76it/s]\n",
      "100%|██████████| 100/100 [00:05<00:00, 16.84it/s]\n",
      "100%|██████████| 100/100 [00:06<00:00, 16.21it/s]\n",
      "100%|██████████| 100/100 [00:06<00:00, 16.44it/s]\n",
      "100%|██████████| 100/100 [00:06<00:00, 15.75it/s]\n",
      "100%|██████████| 100/100 [00:06<00:00, 14.62it/s]\n",
      "100%|██████████| 100/100 [00:06<00:00, 15.17it/s]\n",
      "100%|██████████| 100/100 [00:06<00:00, 15.38it/s]\n",
      "100%|██████████| 100/100 [00:06<00:00, 16.11it/s]\n",
      "100%|██████████| 100/100 [00:06<00:00, 15.77it/s]\n",
      "100%|██████████| 100/100 [00:06<00:00, 15.23it/s]\n",
      "100%|██████████| 100/100 [00:07<00:00, 13.59it/s]\n",
      "100%|██████████| 100/100 [00:06<00:00, 14.53it/s]\n",
      "100%|██████████| 100/100 [00:06<00:00, 14.46it/s]\n",
      "100%|██████████| 100/100 [00:07<00:00, 13.47it/s]\n",
      "100%|██████████| 100/100 [00:07<00:00, 14.12it/s]\n",
      "100%|██████████| 100/100 [00:07<00:00, 12.84it/s]\n",
      "100%|██████████| 100/100 [00:07<00:00, 12.96it/s]\n",
      "100%|██████████| 100/100 [00:07<00:00, 13.43it/s]\n",
      "100%|██████████| 100/100 [00:07<00:00, 12.80it/s]\n",
      "100%|██████████| 100/100 [00:07<00:00, 13.97it/s]\n",
      "100%|██████████| 100/100 [00:07<00:00, 13.99it/s]\n",
      "100%|██████████| 100/100 [00:07<00:00, 14.07it/s]\n"
     ]
    },
    {
     "data": {
      "text/plain": [
       "{'2012-01': {'num_of_cluseer': 3,\n",
       "  'random_state': 1,\n",
       "  'model': KMeans(max_iter=500, n_clusters=3, n_init=1, random_state=1)},\n",
       " '2012-04': {'num_of_cluseer': 3,\n",
       "  'random_state': 27,\n",
       "  'model': KMeans(max_iter=500, n_clusters=3, n_init=1, random_state=27)},\n",
       " '2012-07': {'num_of_cluseer': 3,\n",
       "  'random_state': 52,\n",
       "  'model': KMeans(max_iter=500, n_clusters=3, n_init=1, random_state=52)},\n",
       " '2012-10': {'num_of_cluseer': 3,\n",
       "  'random_state': 0,\n",
       "  'model': KMeans(max_iter=500, n_clusters=3, n_init=1, random_state=0)},\n",
       " '2013-01': {'num_of_cluseer': 3,\n",
       "  'random_state': 5,\n",
       "  'model': KMeans(max_iter=500, n_clusters=3, n_init=1, random_state=5)},\n",
       " '2013-04': {'num_of_cluseer': 3,\n",
       "  'random_state': 89,\n",
       "  'model': KMeans(max_iter=500, n_clusters=3, n_init=1, random_state=89)},\n",
       " '2013-07': {'num_of_cluseer': 3,\n",
       "  'random_state': 93,\n",
       "  'model': KMeans(max_iter=500, n_clusters=3, n_init=1, random_state=93)},\n",
       " '2013-10': {'num_of_cluseer': 3,\n",
       "  'random_state': 41,\n",
       "  'model': KMeans(max_iter=500, n_clusters=3, n_init=1, random_state=41)},\n",
       " '2014-01': {'num_of_cluseer': 3,\n",
       "  'random_state': 33,\n",
       "  'model': KMeans(max_iter=500, n_clusters=3, n_init=1, random_state=33)},\n",
       " '2014-04': {'num_of_cluseer': 3,\n",
       "  'random_state': 17,\n",
       "  'model': KMeans(max_iter=500, n_clusters=3, n_init=1, random_state=17)},\n",
       " '2014-07': {'num_of_cluseer': 3,\n",
       "  'random_state': 9,\n",
       "  'model': KMeans(max_iter=500, n_clusters=3, n_init=1, random_state=9)},\n",
       " '2014-10': {'num_of_cluseer': 3,\n",
       "  'random_state': 75,\n",
       "  'model': KMeans(max_iter=500, n_clusters=3, n_init=1, random_state=75)},\n",
       " '2015-01': {'num_of_cluseer': 3,\n",
       "  'random_state': 1,\n",
       "  'model': KMeans(max_iter=500, n_clusters=3, n_init=1, random_state=1)},\n",
       " '2015-04': {'num_of_cluseer': 3,\n",
       "  'random_state': 52,\n",
       "  'model': KMeans(max_iter=500, n_clusters=3, n_init=1, random_state=52)},\n",
       " '2015-07': {'num_of_cluseer': 3,\n",
       "  'random_state': 91,\n",
       "  'model': KMeans(max_iter=500, n_clusters=3, n_init=1, random_state=91)},\n",
       " '2015-10': {'num_of_cluseer': 3,\n",
       "  'random_state': 53,\n",
       "  'model': KMeans(max_iter=500, n_clusters=3, n_init=1, random_state=53)},\n",
       " '2016-01': {'num_of_cluseer': 3,\n",
       "  'random_state': 12,\n",
       "  'model': KMeans(max_iter=500, n_clusters=3, n_init=1, random_state=12)},\n",
       " '2016-04': {'num_of_cluseer': 3,\n",
       "  'random_state': 11,\n",
       "  'model': KMeans(max_iter=500, n_clusters=3, n_init=1, random_state=11)},\n",
       " '2016-07': {'num_of_cluseer': 3,\n",
       "  'random_state': 58,\n",
       "  'model': KMeans(max_iter=500, n_clusters=3, n_init=1, random_state=58)},\n",
       " '2016-10': {'num_of_cluseer': 3,\n",
       "  'random_state': 95,\n",
       "  'model': KMeans(max_iter=500, n_clusters=3, n_init=1, random_state=95)},\n",
       " '2017-01': {'num_of_cluseer': 3,\n",
       "  'random_state': 49,\n",
       "  'model': KMeans(max_iter=500, n_clusters=3, n_init=1, random_state=49)},\n",
       " '2017-04': {'num_of_cluseer': 3,\n",
       "  'random_state': 39,\n",
       "  'model': KMeans(max_iter=500, n_clusters=3, n_init=1, random_state=39)},\n",
       " '2017-07': {'num_of_cluseer': 3,\n",
       "  'random_state': 59,\n",
       "  'model': KMeans(max_iter=500, n_clusters=3, n_init=1, random_state=59)},\n",
       " '2017-10': {'num_of_cluseer': 3,\n",
       "  'random_state': 50,\n",
       "  'model': KMeans(max_iter=500, n_clusters=3, n_init=1, random_state=50)},\n",
       " '2018-01': {'num_of_cluseer': 3,\n",
       "  'random_state': 59,\n",
       "  'model': KMeans(max_iter=500, n_clusters=3, n_init=1, random_state=59)},\n",
       " '2018-04': {'num_of_cluseer': 3,\n",
       "  'random_state': 9,\n",
       "  'model': KMeans(max_iter=500, n_clusters=3, n_init=1, random_state=9)},\n",
       " '2018-07': {'num_of_cluseer': 3,\n",
       "  'random_state': 42,\n",
       "  'model': KMeans(max_iter=500, n_clusters=3, n_init=1, random_state=42)},\n",
       " '2018-10': {'num_of_cluseer': 3,\n",
       "  'random_state': 3,\n",
       "  'model': KMeans(max_iter=500, n_clusters=3, n_init=1, random_state=3)},\n",
       " '2019-01': {'num_of_cluseer': 3,\n",
       "  'random_state': 0,\n",
       "  'model': KMeans(max_iter=500, n_clusters=3, n_init=1, random_state=0)},\n",
       " '2019-04': {'num_of_cluseer': 3,\n",
       "  'random_state': 74,\n",
       "  'model': KMeans(max_iter=500, n_clusters=3, n_init=1, random_state=74)},\n",
       " '2019-07': {'num_of_cluseer': 3,\n",
       "  'random_state': 4,\n",
       "  'model': KMeans(max_iter=500, n_clusters=3, n_init=1, random_state=4)},\n",
       " '2019-10': {'num_of_cluseer': 3,\n",
       "  'random_state': 67,\n",
       "  'model': KMeans(max_iter=500, n_clusters=3, n_init=1, random_state=67)},\n",
       " '2020-01': {'num_of_cluseer': 3,\n",
       "  'random_state': 70,\n",
       "  'model': KMeans(max_iter=500, n_clusters=3, n_init=1, random_state=70)},\n",
       " '2020-04': {'num_of_cluseer': 3,\n",
       "  'random_state': 7,\n",
       "  'model': KMeans(max_iter=500, n_clusters=3, n_init=1, random_state=7)},\n",
       " '2020-07': {'num_of_cluseer': 3,\n",
       "  'random_state': 3,\n",
       "  'model': KMeans(max_iter=500, n_clusters=3, n_init=1, random_state=3)},\n",
       " '2020-10': {'num_of_cluseer': 3,\n",
       "  'random_state': 79,\n",
       "  'model': KMeans(max_iter=500, n_clusters=3, n_init=1, random_state=79)},\n",
       " '2021-01': {'num_of_cluseer': 3,\n",
       "  'random_state': 65,\n",
       "  'model': KMeans(max_iter=500, n_clusters=3, n_init=1, random_state=65)},\n",
       " '2021-04': {'num_of_cluseer': 3,\n",
       "  'random_state': 24,\n",
       "  'model': KMeans(max_iter=500, n_clusters=3, n_init=1, random_state=24)},\n",
       " '2021-07': {'num_of_cluseer': 3,\n",
       "  'random_state': 69,\n",
       "  'model': KMeans(max_iter=500, n_clusters=3, n_init=1, random_state=69)},\n",
       " '2021-10': {'num_of_cluseer': 3,\n",
       "  'random_state': 57,\n",
       "  'model': KMeans(max_iter=500, n_clusters=3, n_init=1, random_state=57)},\n",
       " '2022-01': {'num_of_cluseer': 3,\n",
       "  'random_state': 4,\n",
       "  'model': KMeans(max_iter=500, n_clusters=3, n_init=1, random_state=4)},\n",
       " '2022-04': {'num_of_cluseer': 3,\n",
       "  'random_state': 1,\n",
       "  'model': KMeans(max_iter=500, n_clusters=3, n_init=1, random_state=1)},\n",
       " '2022-07': {'num_of_cluseer': 3,\n",
       "  'random_state': 12,\n",
       "  'model': KMeans(max_iter=500, n_clusters=3, n_init=1, random_state=12)}}"
      ]
     },
     "execution_count": 19,
     "metadata": {},
     "output_type": "execute_result"
    }
   ],
   "source": [
    "model_save_dict = evaluate.run_iter_kmeans(num_k, max_sample=100, raw_data=scaled_together.copy())\n",
    "model_save_dict"
   ]
  },
  {
   "attachments": {},
   "cell_type": "markdown",
   "metadata": {},
   "source": [
    "## 모델기록\n"
   ]
  },
  {
   "cell_type": "code",
   "execution_count": 20,
   "metadata": {},
   "outputs": [
    {
     "name": "stdout",
     "output_type": "stream",
     "text": [
      "893.0\n",
      "414.0\n"
     ]
    },
    {
     "data": {
      "text/html": [
       "<div>\n",
       "<style scoped>\n",
       "    .dataframe tbody tr th:only-of-type {\n",
       "        vertical-align: middle;\n",
       "    }\n",
       "\n",
       "    .dataframe tbody tr th {\n",
       "        vertical-align: top;\n",
       "    }\n",
       "\n",
       "    .dataframe thead th {\n",
       "        text-align: right;\n",
       "    }\n",
       "</style>\n",
       "<table border=\"1\" class=\"dataframe\">\n",
       "  <thead>\n",
       "    <tr style=\"text-align: right;\">\n",
       "      <th></th>\n",
       "      <th>2012-01</th>\n",
       "      <th>2012-04</th>\n",
       "      <th>2012-07</th>\n",
       "      <th>2012-10</th>\n",
       "      <th>2013-01</th>\n",
       "      <th>2013-04</th>\n",
       "      <th>2013-07</th>\n",
       "      <th>2013-10</th>\n",
       "      <th>2014-01</th>\n",
       "      <th>2014-04</th>\n",
       "      <th>...</th>\n",
       "      <th>2020-04</th>\n",
       "      <th>2020-07</th>\n",
       "      <th>2020-10</th>\n",
       "      <th>2021-01</th>\n",
       "      <th>2021-04</th>\n",
       "      <th>2021-07</th>\n",
       "      <th>2021-10</th>\n",
       "      <th>2022-01</th>\n",
       "      <th>2022-04</th>\n",
       "      <th>2022-07</th>\n",
       "    </tr>\n",
       "  </thead>\n",
       "  <tbody>\n",
       "    <tr>\n",
       "      <th>0</th>\n",
       "      <td>419.0</td>\n",
       "      <td>451.0</td>\n",
       "      <td>425.0</td>\n",
       "      <td>431.0</td>\n",
       "      <td>483.0</td>\n",
       "      <td>538.0</td>\n",
       "      <td>539.0</td>\n",
       "      <td>477.0</td>\n",
       "      <td>555.0</td>\n",
       "      <td>571.0</td>\n",
       "      <td>...</td>\n",
       "      <td>673.0</td>\n",
       "      <td>747.0</td>\n",
       "      <td>888.0</td>\n",
       "      <td>588.0</td>\n",
       "      <td>795.0</td>\n",
       "      <td>680.0</td>\n",
       "      <td>880.0</td>\n",
       "      <td>651.0</td>\n",
       "      <td>648.0</td>\n",
       "      <td>546.0</td>\n",
       "    </tr>\n",
       "    <tr>\n",
       "      <th>1</th>\n",
       "      <td>619.0</td>\n",
       "      <td>582.0</td>\n",
       "      <td>630.0</td>\n",
       "      <td>549.0</td>\n",
       "      <td>596.0</td>\n",
       "      <td>634.0</td>\n",
       "      <td>646.0</td>\n",
       "      <td>541.0</td>\n",
       "      <td>649.0</td>\n",
       "      <td>472.0</td>\n",
       "      <td>...</td>\n",
       "      <td>743.0</td>\n",
       "      <td>662.0</td>\n",
       "      <td>623.0</td>\n",
       "      <td>643.0</td>\n",
       "      <td>580.0</td>\n",
       "      <td>601.0</td>\n",
       "      <td>518.0</td>\n",
       "      <td>512.0</td>\n",
       "      <td>828.0</td>\n",
       "      <td>678.0</td>\n",
       "    </tr>\n",
       "    <tr>\n",
       "      <th>2</th>\n",
       "      <td>556.0</td>\n",
       "      <td>571.0</td>\n",
       "      <td>552.0</td>\n",
       "      <td>628.0</td>\n",
       "      <td>526.0</td>\n",
       "      <td>433.0</td>\n",
       "      <td>415.0</td>\n",
       "      <td>598.0</td>\n",
       "      <td>414.0</td>\n",
       "      <td>575.0</td>\n",
       "      <td>...</td>\n",
       "      <td>560.0</td>\n",
       "      <td>590.0</td>\n",
       "      <td>503.0</td>\n",
       "      <td>794.0</td>\n",
       "      <td>668.0</td>\n",
       "      <td>775.0</td>\n",
       "      <td>657.0</td>\n",
       "      <td>893.0</td>\n",
       "      <td>571.0</td>\n",
       "      <td>815.0</td>\n",
       "    </tr>\n",
       "    <tr>\n",
       "      <th>기업수</th>\n",
       "      <td>1594.0</td>\n",
       "      <td>1604.0</td>\n",
       "      <td>1607.0</td>\n",
       "      <td>1608.0</td>\n",
       "      <td>1605.0</td>\n",
       "      <td>1605.0</td>\n",
       "      <td>1600.0</td>\n",
       "      <td>1616.0</td>\n",
       "      <td>1618.0</td>\n",
       "      <td>1618.0</td>\n",
       "      <td>...</td>\n",
       "      <td>1976.0</td>\n",
       "      <td>1999.0</td>\n",
       "      <td>2014.0</td>\n",
       "      <td>2025.0</td>\n",
       "      <td>2043.0</td>\n",
       "      <td>2056.0</td>\n",
       "      <td>2055.0</td>\n",
       "      <td>2056.0</td>\n",
       "      <td>2047.0</td>\n",
       "      <td>2039.0</td>\n",
       "    </tr>\n",
       "  </tbody>\n",
       "</table>\n",
       "<p>4 rows × 43 columns</p>\n",
       "</div>"
      ],
      "text/plain": [
       "     2012-01  2012-04  2012-07  2012-10  2013-01  2013-04  2013-07  2013-10  \\\n",
       "0      419.0    451.0    425.0    431.0    483.0    538.0    539.0    477.0   \n",
       "1      619.0    582.0    630.0    549.0    596.0    634.0    646.0    541.0   \n",
       "2      556.0    571.0    552.0    628.0    526.0    433.0    415.0    598.0   \n",
       "기업수   1594.0   1604.0   1607.0   1608.0   1605.0   1605.0   1600.0   1616.0   \n",
       "\n",
       "     2014-01  2014-04  ...  2020-04  2020-07  2020-10  2021-01  2021-04  \\\n",
       "0      555.0    571.0  ...    673.0    747.0    888.0    588.0    795.0   \n",
       "1      649.0    472.0  ...    743.0    662.0    623.0    643.0    580.0   \n",
       "2      414.0    575.0  ...    560.0    590.0    503.0    794.0    668.0   \n",
       "기업수   1618.0   1618.0  ...   1976.0   1999.0   2014.0   2025.0   2043.0   \n",
       "\n",
       "     2021-07  2021-10  2022-01  2022-04  2022-07  \n",
       "0      680.0    880.0    651.0    648.0    546.0  \n",
       "1      601.0    518.0    512.0    828.0    678.0  \n",
       "2      775.0    657.0    893.0    571.0    815.0  \n",
       "기업수   2056.0   2055.0   2056.0   2047.0   2039.0  \n",
       "\n",
       "[4 rows x 43 columns]"
      ]
     },
     "execution_count": 20,
     "metadata": {},
     "output_type": "execute_result"
    }
   ],
   "source": [
    "size =evaluate.eval_cluster_size(model_save_dict)\n",
    "size.to_csv(\"{}_클러스터사이즈.csv\".format(model_name))\n",
    "\n",
    "print(size.iloc[:-1,:].max().max())\n",
    "print(size.iloc[:-1,:].min().min())\n",
    "size"
   ]
  },
  {
   "cell_type": "code",
   "execution_count": 21,
   "metadata": {},
   "outputs": [],
   "source": [
    "eval_one, eval_one_original = evaluate.eval_cluster_result(model_save_dict, raw_data = scaled_together, label_data=label_data_pp_man, freq=freq)\n",
    "eval_one.to_csv(\"{}_관리종목.csv\".format(model_name))\n",
    "eval_one_original.to_csv(\"{}_관리종목전체대비.csv\".format(model_name))"
   ]
  },
  {
   "cell_type": "code",
   "execution_count": 22,
   "metadata": {},
   "outputs": [],
   "source": [
    "eval_two,eval_two_original = evaluate.eval_cluster_result(model_save_dict, raw_data = scaled_together, label_data=label_data_pp_war, freq=freq)\n",
    "eval_two.to_csv(\"{}_투자환기종목.csv\".format(model_name))\n",
    "eval_two_original.to_csv(\"{}_투자환기종목전체대비.csv\".format(model_name))"
   ]
  },
  {
   "cell_type": "code",
   "execution_count": 23,
   "metadata": {},
   "outputs": [],
   "source": [
    "# 횡령인 경우\n",
    "eval_three, eval_three_original = evaluate.eval_cluster_result(model_save_dict, raw_data = scaled_together, label_data=label_data_pp_emb, freq=freq)\n",
    "eval_three.to_csv(\"{}_횡령배임혐의.csv\".format(model_name))\n",
    "eval_three_original.to_csv(\"{}_횡령배임혐의전체대비.csv\".format(model_name))"
   ]
  },
  {
   "cell_type": "code",
   "execution_count": 24,
   "metadata": {},
   "outputs": [
    {
     "name": "stdout",
     "output_type": "stream",
     "text": [
      "0.8346293935541089\n",
      "1.0\n"
     ]
    },
    {
     "data": {
      "text/plain": [
       "0.10508934294399155"
      ]
     },
     "execution_count": 24,
     "metadata": {},
     "output_type": "execute_result"
    }
   ],
   "source": [
    "print(evaluate.calculate_catch_probability(eval_one, eval_two, None))#, eval_three)\n",
    "print(evaluate.calculate_match_probability(eval_one, eval_two,None))# eval_three)\n",
    "evaluate.calculate_catch_probability(eval_one_original, eval_two_original, None)#eval_three_original)"
   ]
  },
  {
   "cell_type": "code",
   "execution_count": 25,
   "metadata": {},
   "outputs": [
    {
     "data": {
      "text/plain": [
       "당기순이익/총자본                                     0.185872\n",
       "영업이익/총자본                                      0.184095\n",
       "총자본                                           0.100969\n",
       "매출총이익/총자본                                     0.096739\n",
       "판매 및 관리비/총자본                                  0.094428\n",
       "영업현금흐름/총자본                                    0.091248\n",
       "최대주주비율                                        0.075834\n",
       "차입금의존도                                        0.049255\n",
       "BW금액+CB금액+유상증자금액/총자본                          0.035341\n",
       "매출채권/총자본                                      0.034729\n",
       "결산기간_주가변동률                                    0.015169\n",
       "경영권분쟁소송+불성실공시법인지정카운트+조회공시요구카운트                0.012922\n",
       "최대주주비율_변동성                                    0.009674\n",
       "최대주주변경카운트                                     0.004891\n",
       "결산기간_거래량증가                                    0.003080\n",
       "최대주주변경을수반하는주식담보제공금액+최대주주변경을수반하는주식양수도금액/총자본    0.002406\n",
       "타법인주식및출자증권취득결정금액+특수관계인에대한자금대여금액/총자본           0.002293\n",
       "상호변경카운트+업종변경카운트                               0.001054\n",
       "dtype: float64"
      ]
     },
     "execution_count": 25,
     "metadata": {},
     "output_type": "execute_result"
    }
   ],
   "source": [
    "def pct(df):\n",
    "    return df / np.sum(df)\n",
    "\n",
    "dist = evaluate.eval_cluster_distance(eval_one, scaled_together, model_save_dict)\n",
    "dist = dist.apply(pct, axis=1)\n",
    "dist2= dist.mean(axis=0).sort_values(ascending=False)\n",
    "\n",
    "dist.to_csv(\"{}_거리분해.csv\".format(model_name))\n",
    "dist2.to_csv(\"{}_거리분해평균.csv\".format(model_name))\n",
    "\n",
    "dist2"
   ]
  },
  {
   "cell_type": "code",
   "execution_count": 26,
   "metadata": {},
   "outputs": [
    {
     "name": "stderr",
     "output_type": "stream",
     "text": [
      "c:\\Jehyeon\\2022_Winter_KRX\\KRX\\Model\\krx_fr\\cluster\\optimize.py:263: RuntimeWarning: invalid value encountered in double_scalars\n",
      "  cluster_accuracy[key] = cluster_accuracy[key]/value_sum\n",
      "c:\\Jehyeon\\2022_Winter_KRX\\KRX\\Model\\krx_fr\\cluster\\optimize.py:263: RuntimeWarning: invalid value encountered in double_scalars\n",
      "  cluster_accuracy[key] = cluster_accuracy[key]/value_sum\n",
      "c:\\Jehyeon\\2022_Winter_KRX\\KRX\\Model\\krx_fr\\cluster\\optimize.py:263: RuntimeWarning: invalid value encountered in double_scalars\n",
      "  cluster_accuracy[key] = cluster_accuracy[key]/value_sum\n"
     ]
    },
    {
     "data": {
      "text/html": [
       "<div>\n",
       "<style scoped>\n",
       "    .dataframe tbody tr th:only-of-type {\n",
       "        vertical-align: middle;\n",
       "    }\n",
       "\n",
       "    .dataframe tbody tr th {\n",
       "        vertical-align: top;\n",
       "    }\n",
       "\n",
       "    .dataframe thead th {\n",
       "        text-align: right;\n",
       "    }\n",
       "</style>\n",
       "<table border=\"1\" class=\"dataframe\">\n",
       "  <thead>\n",
       "    <tr style=\"text-align: right;\">\n",
       "      <th></th>\n",
       "      <th>2012-04예측</th>\n",
       "      <th>2012-07예측</th>\n",
       "      <th>2012-10예측</th>\n",
       "      <th>2013-01예측</th>\n",
       "      <th>2013-04예측</th>\n",
       "      <th>2013-07예측</th>\n",
       "      <th>2013-10예측</th>\n",
       "      <th>2014-01예측</th>\n",
       "      <th>2014-04예측</th>\n",
       "      <th>2014-07예측</th>\n",
       "      <th>...</th>\n",
       "      <th>2019-07예측</th>\n",
       "      <th>2019-10예측</th>\n",
       "      <th>2020-01예측</th>\n",
       "      <th>2020-04예측</th>\n",
       "      <th>2020-07예측</th>\n",
       "      <th>2020-10예측</th>\n",
       "      <th>2021-01예측</th>\n",
       "      <th>2021-04예측</th>\n",
       "      <th>2021-07예측</th>\n",
       "      <th>2021-10예측</th>\n",
       "    </tr>\n",
       "  </thead>\n",
       "  <tbody>\n",
       "    <tr>\n",
       "      <th>0</th>\n",
       "      <td>0.714286</td>\n",
       "      <td>0.25</td>\n",
       "      <td>0.805556</td>\n",
       "      <td>0.885714</td>\n",
       "      <td>0.909091</td>\n",
       "      <td>0.026316</td>\n",
       "      <td>0.023810</td>\n",
       "      <td>0.930233</td>\n",
       "      <td>0.723404</td>\n",
       "      <td>0.069767</td>\n",
       "      <td>...</td>\n",
       "      <td>0.070707</td>\n",
       "      <td>0.811765</td>\n",
       "      <td>0.080460</td>\n",
       "      <td>0.082353</td>\n",
       "      <td>0.115385</td>\n",
       "      <td>0.084507</td>\n",
       "      <td>0.092308</td>\n",
       "      <td>0.717949</td>\n",
       "      <td>0.133333</td>\n",
       "      <td>0.0</td>\n",
       "    </tr>\n",
       "    <tr>\n",
       "      <th>1</th>\n",
       "      <td>0.125000</td>\n",
       "      <td>0.75</td>\n",
       "      <td>0.083333</td>\n",
       "      <td>0.057143</td>\n",
       "      <td>0.090909</td>\n",
       "      <td>0.000000</td>\n",
       "      <td>0.023810</td>\n",
       "      <td>0.046512</td>\n",
       "      <td>0.021277</td>\n",
       "      <td>0.837209</td>\n",
       "      <td>...</td>\n",
       "      <td>0.111111</td>\n",
       "      <td>0.117647</td>\n",
       "      <td>0.091954</td>\n",
       "      <td>0.905882</td>\n",
       "      <td>0.038462</td>\n",
       "      <td>0.126761</td>\n",
       "      <td>0.692308</td>\n",
       "      <td>0.128205</td>\n",
       "      <td>0.800000</td>\n",
       "      <td>0.5</td>\n",
       "    </tr>\n",
       "    <tr>\n",
       "      <th>2</th>\n",
       "      <td>0.160714</td>\n",
       "      <td>0.00</td>\n",
       "      <td>0.111111</td>\n",
       "      <td>0.057143</td>\n",
       "      <td>0.000000</td>\n",
       "      <td>0.973684</td>\n",
       "      <td>0.952381</td>\n",
       "      <td>0.023256</td>\n",
       "      <td>0.255319</td>\n",
       "      <td>0.093023</td>\n",
       "      <td>...</td>\n",
       "      <td>0.818182</td>\n",
       "      <td>0.070588</td>\n",
       "      <td>0.827586</td>\n",
       "      <td>0.011765</td>\n",
       "      <td>0.846154</td>\n",
       "      <td>0.788732</td>\n",
       "      <td>0.215385</td>\n",
       "      <td>0.153846</td>\n",
       "      <td>0.066667</td>\n",
       "      <td>0.5</td>\n",
       "    </tr>\n",
       "  </tbody>\n",
       "</table>\n",
       "<p>3 rows × 39 columns</p>\n",
       "</div>"
      ],
      "text/plain": [
       "   2012-04예측  2012-07예측  2012-10예측  2013-01예측  2013-04예측  2013-07예측  \\\n",
       "0   0.714286       0.25   0.805556   0.885714   0.909091   0.026316   \n",
       "1   0.125000       0.75   0.083333   0.057143   0.090909   0.000000   \n",
       "2   0.160714       0.00   0.111111   0.057143   0.000000   0.973684   \n",
       "\n",
       "   2013-10예측  2014-01예측  2014-04예측  2014-07예측  ...  2019-07예측  2019-10예측  \\\n",
       "0   0.023810   0.930233   0.723404   0.069767  ...   0.070707   0.811765   \n",
       "1   0.023810   0.046512   0.021277   0.837209  ...   0.111111   0.117647   \n",
       "2   0.952381   0.023256   0.255319   0.093023  ...   0.818182   0.070588   \n",
       "\n",
       "   2020-01예측  2020-04예측  2020-07예측  2020-10예측  2021-01예측  2021-04예측  \\\n",
       "0   0.080460   0.082353   0.115385   0.084507   0.092308   0.717949   \n",
       "1   0.091954   0.905882   0.038462   0.126761   0.692308   0.128205   \n",
       "2   0.827586   0.011765   0.846154   0.788732   0.215385   0.153846   \n",
       "\n",
       "   2021-07예측  2021-10예측  \n",
       "0   0.133333        0.0  \n",
       "1   0.800000        0.5  \n",
       "2   0.066667        0.5  \n",
       "\n",
       "[3 rows x 39 columns]"
      ]
     },
     "execution_count": 26,
     "metadata": {},
     "output_type": "execute_result"
    }
   ],
   "source": [
    "pre, pre_original = evaluate.predict_cluster_result(model_save_dict, scaled_together,label_data_pp_man, \"2012-01\", freq=freq)\n",
    "pre"
   ]
  },
  {
   "cell_type": "code",
   "execution_count": 27,
   "metadata": {},
   "outputs": [
    {
     "name": "stderr",
     "output_type": "stream",
     "text": [
      "c:\\Jehyeon\\2022_Winter_KRX\\KRX\\Model\\krx_fr\\cluster\\optimize.py:263: RuntimeWarning: invalid value encountered in double_scalars\n",
      "  cluster_accuracy[key] = cluster_accuracy[key]/value_sum\n",
      "c:\\Jehyeon\\2022_Winter_KRX\\KRX\\Model\\krx_fr\\cluster\\optimize.py:263: RuntimeWarning: invalid value encountered in double_scalars\n",
      "  cluster_accuracy[key] = cluster_accuracy[key]/value_sum\n",
      "c:\\Jehyeon\\2022_Winter_KRX\\KRX\\Model\\krx_fr\\cluster\\optimize.py:263: RuntimeWarning: invalid value encountered in double_scalars\n",
      "  cluster_accuracy[key] = cluster_accuracy[key]/value_sum\n"
     ]
    },
    {
     "data": {
      "text/html": [
       "<div>\n",
       "<style scoped>\n",
       "    .dataframe tbody tr th:only-of-type {\n",
       "        vertical-align: middle;\n",
       "    }\n",
       "\n",
       "    .dataframe tbody tr th {\n",
       "        vertical-align: top;\n",
       "    }\n",
       "\n",
       "    .dataframe thead th {\n",
       "        text-align: right;\n",
       "    }\n",
       "</style>\n",
       "<table border=\"1\" class=\"dataframe\">\n",
       "  <thead>\n",
       "    <tr style=\"text-align: right;\">\n",
       "      <th></th>\n",
       "      <th>2012-04예측</th>\n",
       "      <th>2012-07예측</th>\n",
       "      <th>2012-10예측</th>\n",
       "      <th>2013-01예측</th>\n",
       "      <th>2013-04예측</th>\n",
       "      <th>2013-07예측</th>\n",
       "      <th>2013-10예측</th>\n",
       "      <th>2014-01예측</th>\n",
       "      <th>2014-04예측</th>\n",
       "      <th>2014-07예측</th>\n",
       "      <th>...</th>\n",
       "      <th>2019-07예측</th>\n",
       "      <th>2019-10예측</th>\n",
       "      <th>2020-01예측</th>\n",
       "      <th>2020-04예측</th>\n",
       "      <th>2020-07예측</th>\n",
       "      <th>2020-10예측</th>\n",
       "      <th>2021-01예측</th>\n",
       "      <th>2021-04예측</th>\n",
       "      <th>2021-07예측</th>\n",
       "      <th>2021-10예측</th>\n",
       "    </tr>\n",
       "  </thead>\n",
       "  <tbody>\n",
       "    <tr>\n",
       "      <th>0</th>\n",
       "      <td>0.714286</td>\n",
       "      <td>0.25</td>\n",
       "      <td>0.805556</td>\n",
       "      <td>0.885714</td>\n",
       "      <td>0.909091</td>\n",
       "      <td>0.026316</td>\n",
       "      <td>0.023810</td>\n",
       "      <td>0.930233</td>\n",
       "      <td>0.723404</td>\n",
       "      <td>0.069767</td>\n",
       "      <td>...</td>\n",
       "      <td>0.070707</td>\n",
       "      <td>0.811765</td>\n",
       "      <td>0.080460</td>\n",
       "      <td>0.082353</td>\n",
       "      <td>0.115385</td>\n",
       "      <td>0.084507</td>\n",
       "      <td>0.092308</td>\n",
       "      <td>0.717949</td>\n",
       "      <td>0.133333</td>\n",
       "      <td>0.0</td>\n",
       "    </tr>\n",
       "    <tr>\n",
       "      <th>1</th>\n",
       "      <td>0.125000</td>\n",
       "      <td>0.75</td>\n",
       "      <td>0.083333</td>\n",
       "      <td>0.057143</td>\n",
       "      <td>0.090909</td>\n",
       "      <td>0.000000</td>\n",
       "      <td>0.023810</td>\n",
       "      <td>0.046512</td>\n",
       "      <td>0.021277</td>\n",
       "      <td>0.837209</td>\n",
       "      <td>...</td>\n",
       "      <td>0.111111</td>\n",
       "      <td>0.117647</td>\n",
       "      <td>0.091954</td>\n",
       "      <td>0.905882</td>\n",
       "      <td>0.038462</td>\n",
       "      <td>0.126761</td>\n",
       "      <td>0.692308</td>\n",
       "      <td>0.128205</td>\n",
       "      <td>0.800000</td>\n",
       "      <td>0.5</td>\n",
       "    </tr>\n",
       "    <tr>\n",
       "      <th>2</th>\n",
       "      <td>0.160714</td>\n",
       "      <td>0.00</td>\n",
       "      <td>0.111111</td>\n",
       "      <td>0.057143</td>\n",
       "      <td>0.000000</td>\n",
       "      <td>0.973684</td>\n",
       "      <td>0.952381</td>\n",
       "      <td>0.023256</td>\n",
       "      <td>0.255319</td>\n",
       "      <td>0.093023</td>\n",
       "      <td>...</td>\n",
       "      <td>0.818182</td>\n",
       "      <td>0.070588</td>\n",
       "      <td>0.827586</td>\n",
       "      <td>0.011765</td>\n",
       "      <td>0.846154</td>\n",
       "      <td>0.788732</td>\n",
       "      <td>0.215385</td>\n",
       "      <td>0.153846</td>\n",
       "      <td>0.066667</td>\n",
       "      <td>0.5</td>\n",
       "    </tr>\n",
       "  </tbody>\n",
       "</table>\n",
       "<p>3 rows × 39 columns</p>\n",
       "</div>"
      ],
      "text/plain": [
       "   2012-04예측  2012-07예측  2012-10예측  2013-01예측  2013-04예측  2013-07예측  \\\n",
       "0   0.714286       0.25   0.805556   0.885714   0.909091   0.026316   \n",
       "1   0.125000       0.75   0.083333   0.057143   0.090909   0.000000   \n",
       "2   0.160714       0.00   0.111111   0.057143   0.000000   0.973684   \n",
       "\n",
       "   2013-10예측  2014-01예측  2014-04예측  2014-07예측  ...  2019-07예측  2019-10예측  \\\n",
       "0   0.023810   0.930233   0.723404   0.069767  ...   0.070707   0.811765   \n",
       "1   0.023810   0.046512   0.021277   0.837209  ...   0.111111   0.117647   \n",
       "2   0.952381   0.023256   0.255319   0.093023  ...   0.818182   0.070588   \n",
       "\n",
       "   2020-01예측  2020-04예측  2020-07예측  2020-10예측  2021-01예측  2021-04예측  \\\n",
       "0   0.080460   0.082353   0.115385   0.084507   0.092308   0.717949   \n",
       "1   0.091954   0.905882   0.038462   0.126761   0.692308   0.128205   \n",
       "2   0.827586   0.011765   0.846154   0.788732   0.215385   0.153846   \n",
       "\n",
       "   2021-07예측  2021-10예측  \n",
       "0   0.133333        0.0  \n",
       "1   0.800000        0.5  \n",
       "2   0.066667        0.5  \n",
       "\n",
       "[3 rows x 39 columns]"
      ]
     },
     "execution_count": 27,
     "metadata": {},
     "output_type": "execute_result"
    }
   ],
   "source": [
    "pre, pre_original = evaluate.predict_cluster_result(model_save_dict, scaled_together,label_data_pp_man, \"2012-01\", freq=freq)\n",
    "pre"
   ]
  },
  {
   "cell_type": "code",
   "execution_count": 28,
   "metadata": {},
   "outputs": [],
   "source": [
    "# 그림뽑기\n",
    "\n",
    "test = MyKmeans.visualize_3d_with_answer(scaled_together[\"2021-01\"],model_save_dict[\"2021-01\"][\"model\"], answer_data=label_data_pp_man[\"2021-01\"], fig_title=\"{}_관리종목\".format(model_name))"
   ]
  },
  {
   "cell_type": "code",
   "execution_count": 29,
   "metadata": {},
   "outputs": [
    {
     "data": {
      "text/html": [
       "<div>\n",
       "<style scoped>\n",
       "    .dataframe tbody tr th:only-of-type {\n",
       "        vertical-align: middle;\n",
       "    }\n",
       "\n",
       "    .dataframe tbody tr th {\n",
       "        vertical-align: top;\n",
       "    }\n",
       "\n",
       "    .dataframe thead th {\n",
       "        text-align: right;\n",
       "    }\n",
       "</style>\n",
       "<table border=\"1\" class=\"dataframe\">\n",
       "  <thead>\n",
       "    <tr style=\"text-align: right;\">\n",
       "      <th></th>\n",
       "      <th>PC1</th>\n",
       "      <th>PC2</th>\n",
       "      <th>PC3</th>\n",
       "      <th>label</th>\n",
       "      <th>answer</th>\n",
       "    </tr>\n",
       "  </thead>\n",
       "  <tbody>\n",
       "    <tr>\n",
       "      <th>A000020</th>\n",
       "      <td>-0.348330</td>\n",
       "      <td>0.014240</td>\n",
       "      <td>0.097653</td>\n",
       "      <td>2</td>\n",
       "      <td>2.5</td>\n",
       "    </tr>\n",
       "    <tr>\n",
       "      <th>A000040</th>\n",
       "      <td>0.229130</td>\n",
       "      <td>0.464586</td>\n",
       "      <td>0.426906</td>\n",
       "      <td>0</td>\n",
       "      <td>2.5</td>\n",
       "    </tr>\n",
       "    <tr>\n",
       "      <th>A000050</th>\n",
       "      <td>-0.084490</td>\n",
       "      <td>-0.559170</td>\n",
       "      <td>0.351350</td>\n",
       "      <td>1</td>\n",
       "      <td>2.5</td>\n",
       "    </tr>\n",
       "    <tr>\n",
       "      <th>A000070</th>\n",
       "      <td>-0.615122</td>\n",
       "      <td>-0.129701</td>\n",
       "      <td>0.341914</td>\n",
       "      <td>2</td>\n",
       "      <td>2.5</td>\n",
       "    </tr>\n",
       "    <tr>\n",
       "      <th>A000080</th>\n",
       "      <td>-0.701181</td>\n",
       "      <td>0.491332</td>\n",
       "      <td>0.309099</td>\n",
       "      <td>2</td>\n",
       "      <td>2.5</td>\n",
       "    </tr>\n",
       "    <tr>\n",
       "      <th>...</th>\n",
       "      <td>...</td>\n",
       "      <td>...</td>\n",
       "      <td>...</td>\n",
       "      <td>...</td>\n",
       "      <td>...</td>\n",
       "    </tr>\n",
       "    <tr>\n",
       "      <th>A353810</th>\n",
       "      <td>-0.708532</td>\n",
       "      <td>0.746095</td>\n",
       "      <td>-0.293623</td>\n",
       "      <td>2</td>\n",
       "      <td>2.5</td>\n",
       "    </tr>\n",
       "    <tr>\n",
       "      <th>A354200</th>\n",
       "      <td>0.861246</td>\n",
       "      <td>-0.248269</td>\n",
       "      <td>-0.189247</td>\n",
       "      <td>0</td>\n",
       "      <td>2.5</td>\n",
       "    </tr>\n",
       "    <tr>\n",
       "      <th>A357780</th>\n",
       "      <td>-0.873979</td>\n",
       "      <td>-0.232213</td>\n",
       "      <td>-0.293046</td>\n",
       "      <td>2</td>\n",
       "      <td>2.5</td>\n",
       "    </tr>\n",
       "    <tr>\n",
       "      <th>A363280</th>\n",
       "      <td>-0.069484</td>\n",
       "      <td>-0.864551</td>\n",
       "      <td>0.112608</td>\n",
       "      <td>1</td>\n",
       "      <td>2.5</td>\n",
       "    </tr>\n",
       "    <tr>\n",
       "      <th>A375500</th>\n",
       "      <td>-0.550748</td>\n",
       "      <td>-0.332385</td>\n",
       "      <td>0.116507</td>\n",
       "      <td>2</td>\n",
       "      <td>2.5</td>\n",
       "    </tr>\n",
       "  </tbody>\n",
       "</table>\n",
       "<p>2025 rows × 5 columns</p>\n",
       "</div>"
      ],
      "text/plain": [
       "              PC1       PC2       PC3  label  answer\n",
       "A000020 -0.348330  0.014240  0.097653      2     2.5\n",
       "A000040  0.229130  0.464586  0.426906      0     2.5\n",
       "A000050 -0.084490 -0.559170  0.351350      1     2.5\n",
       "A000070 -0.615122 -0.129701  0.341914      2     2.5\n",
       "A000080 -0.701181  0.491332  0.309099      2     2.5\n",
       "...           ...       ...       ...    ...     ...\n",
       "A353810 -0.708532  0.746095 -0.293623      2     2.5\n",
       "A354200  0.861246 -0.248269 -0.189247      0     2.5\n",
       "A357780 -0.873979 -0.232213 -0.293046      2     2.5\n",
       "A363280 -0.069484 -0.864551  0.112608      1     2.5\n",
       "A375500 -0.550748 -0.332385  0.116507      2     2.5\n",
       "\n",
       "[2025 rows x 5 columns]"
      ]
     },
     "execution_count": 29,
     "metadata": {},
     "output_type": "execute_result"
    }
   ],
   "source": [
    "MyKmeans.visualize_3d_with_answer(scaled_together[\"2021-01\"],model_save_dict[\"2021-01\"][\"model\"], answer_data=label_data_pp_war[\"2021-01\"], fig_title=\"{}_투자주의환기\".format(model_name))"
   ]
  },
  {
   "cell_type": "code",
   "execution_count": null,
   "metadata": {},
   "outputs": [],
   "source": []
  }
 ],
 "metadata": {
  "kernelspec": {
   "display_name": "base",
   "language": "python",
   "name": "python3"
  },
  "language_info": {
   "codemirror_mode": {
    "name": "ipython",
    "version": 3
   },
   "file_extension": ".py",
   "mimetype": "text/x-python",
   "name": "python",
   "nbconvert_exporter": "python",
   "pygments_lexer": "ipython3",
   "version": "3.9.12"
  },
  "orig_nbformat": 4,
  "vscode": {
   "interpreter": {
    "hash": "a077222d77dfe082b8f1dd562ad70e458ac2ab76993a0b248ab0476e32e9e8dd"
   }
  }
 },
 "nbformat": 4,
 "nbformat_minor": 2
}
