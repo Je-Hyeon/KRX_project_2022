{
 "cells": [
  {
   "cell_type": "code",
   "execution_count": 1,
   "metadata": {},
   "outputs": [],
   "source": [
    "import os\n",
    "import numpy as np\n",
    "import pandas as pd \n",
    "from krx_fr.preprocess import tools, scaler\n",
    "from krx_fr.cluster import evaluate\n",
    "from krx_fr.cluster.optimize import Optimizer\n",
    "from krx_fr.cluster.kmeans import MyKmeans"
   ]
  },
  {
   "cell_type": "code",
   "execution_count": 2,
   "metadata": {},
   "outputs": [
    {
     "data": {
      "text/plain": [
       "'5호모델의모델_Y_k3'"
      ]
     },
     "execution_count": 2,
     "metadata": {},
     "output_type": "execute_result"
    }
   ],
   "source": [
    "model = \"5호모델의모델\"\n",
    "\n",
    "# 윈도우는 Y로 고정\n",
    "window_size = \"Y\"\n",
    "\n",
    "# 어떻게 윈도우를 밀건지\n",
    "freq = \"Y\"\n",
    "\n",
    "# 클러스터 수\n",
    "num_k = 3\n",
    "\n",
    "# 사용할 스케일러\n",
    "sca = scaler.new_rank\n",
    "sc = \"new_rank\"\n",
    "\n",
    "kospi_listed = tools.load_json(\"..\\\\final_data\\\\코스피_구성종목.json\")\n",
    "kosdaq_listed = tools.load_json(\"..\\\\final_data\\\\코스닥_구성종목.json\")\n",
    "together_listed = tools.aggregate_listed_code(kospi_listed, kosdaq_listed)\n",
    "\n",
    "# 모델명\n",
    "model_name = \"{}_{}_k{}\".format(model, freq, num_k)\n",
    "model_name"
   ]
  },
  {
   "cell_type": "code",
   "execution_count": 3,
   "metadata": {},
   "outputs": [],
   "source": [
    "# 퐅더에서 row_data 불러오기\n",
    "kind_data = tools.read_data_from_folder(\"C:\\\\Jehyeon\\\\2022_Winter_KRX\\\\KRX\\\\final_data\\\\KIND\\\\\")\n",
    "financial_data = tools.read_data_from_folder(\"C:\\\\Jehyeon\\\\2022_Winter_KRX\\\\KRX\\\\final_data\\\\재무\\\\\")\n",
    "\n",
    "# 최대주주비율은 1달 단위의 pct_change\n",
    "financial_data2 = tools.dict_data_calculate_pct(financial_data.copy(), name=\"최대주주비율\", return_original=True)\n",
    "\n",
    "# label_data 불러오기\n",
    "label_data_war = pd.read_csv(\"C:\\\\Jehyeon\\\\2022_Winter_KRX\\\\KRX\\\\final_data\\\\label\\\\투자주의환기종목지정카운트.csv\", index_col=0)\n",
    "label_data_man= pd.read_csv(\"C:\\\\Jehyeon\\\\2022_Winter_KRX\\\\KRX\\\\final_data\\\\label\\\\관리종목카운트.csv\", index_col=0)\n",
    "label_data_emb = pd.read_csv(\"C:\\\\Jehyeon\\\\2022_Winter_KRX\\\\KRX\\\\final_data\\\\label\\\\횡령배임혐의발생카운트.csv\", index_col=0)"
   ]
  },
  {
   "cell_type": "code",
   "execution_count": 4,
   "metadata": {},
   "outputs": [],
   "source": [
    "financial_data2[\"결산기간_주가변동률\"] = financial_data2[\"결산기간_주가변동률\"].fillna(0)"
   ]
  },
  {
   "cell_type": "code",
   "execution_count": 5,
   "metadata": {},
   "outputs": [],
   "source": [
    "# 레이블 데이터 shift시켜주기\n",
    "label_data_man_shift = tools.shift_label_data(label_data_man.copy(),shift_size='Y')\n",
    "label_data_war_shift = tools.shift_label_data(label_data_war.copy(),shift_size='Y')\n",
    "label_data_emb_shift = tools.shift_label_data(label_data_emb.copy(),shift_size='Y')\n",
    "\n",
    "label_data_pp1 = tools.dict_data_preprocess_upgrade(label_data_man_shift.copy(), np.sum, \"Y\", rolling_size=freq)\n",
    "label_data_pp_man = tools.dict_data_scale(label_data_pp1.copy(), scaler.zero_one)\n",
    "\n",
    "label_data_pp2 = tools.dict_data_preprocess_upgrade(label_data_war_shift.copy(), np.sum, \"Y\", rolling_size=freq)\n",
    "label_data_pp_war = tools.dict_data_scale(label_data_pp2.copy(), scaler.zero_one)\n",
    "\n",
    "label_data_pp3 = tools.dict_data_preprocess_upgrade(label_data_emb_shift.copy(), np.sum, \"Y\", rolling_size=freq)\n",
    "label_data_pp_emb = tools.dict_data_scale(label_data_pp3.copy(), scaler.zero_one)"
   ]
  },
  {
   "cell_type": "code",
   "execution_count": 6,
   "metadata": {},
   "outputs": [],
   "source": [
    "# 데이터처리 sum / mean\n",
    "kind_data2 = tools.dict_data_preprocess_upgrade(kind_data.copy(), function=np.sum, window_size=window_size,rolling_size=freq, fillna=True)\n",
    "financial_data3 = tools.dict_data_preprocess_upgrade(financial_data2.copy(), function=np.mean, window_size=window_size, rolling_size=freq,fillna=False)"
   ]
  },
  {
   "cell_type": "code",
   "execution_count": 7,
   "metadata": {},
   "outputs": [],
   "source": [
    "# 재무데이터와 공시데이터 합치기\n",
    "concat_data = tools.dict_data_merge(kind_data2.copy(),financial_data3.copy(), dropna=False)"
   ]
  },
  {
   "cell_type": "code",
   "execution_count": 8,
   "metadata": {},
   "outputs": [],
   "source": [
    "list_data = tools.dict_data_match_listed_upgrade(concat_data.copy(), together_listed.copy(), rolling_size=freq)"
   ]
  },
  {
   "cell_type": "code",
   "execution_count": 9,
   "metadata": {},
   "outputs": [
    {
     "data": {
      "text/plain": [
       "Index(['BW금액+CB금액', '경영권분쟁소송', '불성실공시법인지정카운트', '상호변경카운트', '업종변경카운트', '유상증자금액',\n",
       "       '조회공시요구카운트', '최대주주변경을수반하는주식담보제공금액', '최대주주변경을수반하는주식양수도금액', '최대주주변경카운트',\n",
       "       '타법인주식및출자증권취득결정금액', '특수관계인에대한자금대여금액', '결산기간_거래량증가', '결산기간_주가변동률',\n",
       "       '당기순이익', '매출채권', '매출총이익', '영업이익', '영업현금흐름', '차입금의존도', '총자본', '최대주주비율',\n",
       "       '판매 및 관리비', '최대주주비율_변동성'],\n",
       "      dtype='object')"
      ]
     },
     "execution_count": 9,
     "metadata": {},
     "output_type": "execute_result"
    }
   ],
   "source": [
    "# 컬럼을 더할 경우\n",
    "concat_together1 = tools.dict_data_plus(list_data.copy(),\n",
    "                                  plus_one=\"BW금액\"\n",
    "                                 ,plus_two=\"CB금액\", return_origianl=False)\n",
    "\n",
    "#\n",
    "concat_together1[\"2012-01\"].columns"
   ]
  },
  {
   "cell_type": "code",
   "execution_count": 10,
   "metadata": {},
   "outputs": [
    {
     "data": {
      "text/plain": [
       "Index(['BW금액+CB금액+유상증자금액', '경영권분쟁소송', '불성실공시법인지정카운트', '상호변경카운트', '업종변경카운트',\n",
       "       '조회공시요구카운트', '최대주주변경을수반하는주식담보제공금액', '최대주주변경을수반하는주식양수도금액', '최대주주변경카운트',\n",
       "       '타법인주식및출자증권취득결정금액', '특수관계인에대한자금대여금액', '결산기간_거래량증가', '결산기간_주가변동률',\n",
       "       '당기순이익', '매출채권', '매출총이익', '영업이익', '영업현금흐름', '차입금의존도', '총자본', '최대주주비율',\n",
       "       '판매 및 관리비', '최대주주비율_변동성'],\n",
       "      dtype='object')"
      ]
     },
     "execution_count": 10,
     "metadata": {},
     "output_type": "execute_result"
    }
   ],
   "source": [
    "concat_together2 = tools.dict_data_plus(concat_together1, \n",
    "                                  plus_one=\"BW금액+CB금액\"\n",
    "                                 ,plus_two=\"유상증자금액\", return_origianl=False)\n",
    "#concat_kospi2 = tools.dict_data_plus(concat_kospi1, \n",
    "#                                  plus_one=\"상호변경카운트_전체시장\"\n",
    "#                                 ,plus_two=\"업종변경카운트_전체시장\", return_origianl=False)\n",
    "#concat_kosdaq2 = tools.dict_data_plus(concat_kosdaq1, \n",
    "#                                  plus_one=\"상호변경카운트_전체시장\"\n",
    "#                                 ,plus_two=\"업종변경카운트_전체시장\", return_origianl=False)\n",
    "concat_together2[\"2012-01\"].columns"
   ]
  },
  {
   "cell_type": "code",
   "execution_count": 11,
   "metadata": {},
   "outputs": [
    {
     "data": {
      "text/plain": [
       "Index(['최대주주변경을수반하는주식담보제공금액+최대주주변경을수반하는주식양수도금액', 'BW금액+CB금액+유상증자금액', '경영권분쟁소송',\n",
       "       '불성실공시법인지정카운트', '상호변경카운트', '업종변경카운트', '조회공시요구카운트', '최대주주변경카운트',\n",
       "       '타법인주식및출자증권취득결정금액', '특수관계인에대한자금대여금액', '결산기간_거래량증가', '결산기간_주가변동률',\n",
       "       '당기순이익', '매출채권', '매출총이익', '영업이익', '영업현금흐름', '차입금의존도', '총자본', '최대주주비율',\n",
       "       '판매 및 관리비', '최대주주비율_변동성'],\n",
       "      dtype='object')"
      ]
     },
     "execution_count": 11,
     "metadata": {},
     "output_type": "execute_result"
    }
   ],
   "source": [
    "concat_together3 = tools.dict_data_plus(concat_together2, \n",
    "                                  plus_one=\"최대주주변경을수반하는주식담보제공금액\"\n",
    "                                 ,plus_two=\"최대주주변경을수반하는주식양수도금액\", return_origianl=False)\n",
    "#concat_kospi3 = tools.dict_data_plus(concat_kospi2, \n",
    "#                                  plus_one=\"최대주주변경을수반하는주식담보제공금액_전체시장\"\n",
    "#                                 ,plus_two=\"최대주주변경을수반하는주식양수도금액_전체시장\", return_origianl=False)\n",
    "#concat_kosdaq3 = tools.dict_data_plus(concat_kosdaq2, \n",
    "#                                  plus_one=\"최대주주변경을수반하는주식담보제공금액_전체시장\"\n",
    "#                                 ,plus_two=\"최대주주변경을수반하는주식양수도금액_전체시장\", return_origianl=False)\n",
    "#\n",
    "concat_together3[\"2012-01\"].columns"
   ]
  },
  {
   "cell_type": "code",
   "execution_count": 12,
   "metadata": {},
   "outputs": [
    {
     "data": {
      "text/plain": [
       "Index(['타법인주식및출자증권취득결정금액+특수관계인에대한자금대여금액',\n",
       "       '최대주주변경을수반하는주식담보제공금액+최대주주변경을수반하는주식양수도금액', 'BW금액+CB금액+유상증자금액', '경영권분쟁소송',\n",
       "       '불성실공시법인지정카운트', '상호변경카운트', '업종변경카운트', '조회공시요구카운트', '최대주주변경카운트',\n",
       "       '결산기간_거래량증가', '결산기간_주가변동률', '당기순이익', '매출채권', '매출총이익', '영업이익', '영업현금흐름',\n",
       "       '차입금의존도', '총자본', '최대주주비율', '판매 및 관리비', '최대주주비율_변동성'],\n",
       "      dtype='object')"
      ]
     },
     "execution_count": 12,
     "metadata": {},
     "output_type": "execute_result"
    }
   ],
   "source": [
    "concat_together4 = tools.dict_data_plus(concat_together3, \n",
    "                                  plus_one=\"타법인주식및출자증권취득결정금액\"\n",
    "                                 ,plus_two=\"특수관계인에대한자금대여금액\", return_origianl=False)\n",
    "#concat_kospi4 = tools.dict_data_plus(concat_kospi3, \n",
    "#                                  plus_one=\"자기주식처분결정금액_전체시장\"\n",
    "#                                 ,plus_two=\"특수관계인에대한자금대여금액_전체시장\", return_origianl=False)\n",
    "#concat_kosdaq4 = tools.dict_data_plus(concat_kosdaq3, \n",
    "#                                  plus_one=\"자기주식처분결정금액_전체시장\"\n",
    "#                                 ,plus_two=\"특수관계인에대한자금대여금액_전체시장\", return_origianl=False)\n",
    "concat_together4[\"2012-01\"].columns"
   ]
  },
  {
   "cell_type": "code",
   "execution_count": 13,
   "metadata": {},
   "outputs": [
    {
     "data": {
      "text/plain": [
       "Index(['상호변경카운트+업종변경카운트', '타법인주식및출자증권취득결정금액+특수관계인에대한자금대여금액',\n",
       "       '최대주주변경을수반하는주식담보제공금액+최대주주변경을수반하는주식양수도금액', 'BW금액+CB금액+유상증자금액', '경영권분쟁소송',\n",
       "       '불성실공시법인지정카운트', '조회공시요구카운트', '최대주주변경카운트', '결산기간_거래량증가', '결산기간_주가변동률',\n",
       "       '당기순이익', '매출채권', '매출총이익', '영업이익', '영업현금흐름', '차입금의존도', '총자본', '최대주주비율',\n",
       "       '판매 및 관리비', '최대주주비율_변동성'],\n",
       "      dtype='object')"
      ]
     },
     "execution_count": 13,
     "metadata": {},
     "output_type": "execute_result"
    }
   ],
   "source": [
    "concat_together5 = tools.dict_data_plus(concat_together4,\n",
    "                                  plus_one=\"상호변경카운트\"\n",
    "                                 ,plus_two=\"업종변경카운트\", return_origianl=False)\n",
    "#concat_kospi5 = tools.dict_data_plus(concat_kospi4,\n",
    "#                                  plus_one=\"불성실공시법인지정카운트_전체시장\"\n",
    "#                                 ,plus_two=\"조회공시요구카운트_전체시장\", return_origianl=False)\n",
    "#concat_kosdaq5 = tools.dict_data_plus(concat_kosdaq4,\n",
    "#                                  plus_one=\"불성실공시법인지정카운트_전체시장\"\n",
    "#                                 ,plus_two=\"조회공시요구카운트_전체시장\", return_origianl=False)\n",
    "concat_together5[\"2012-01\"].columns"
   ]
  },
  {
   "cell_type": "code",
   "execution_count": 14,
   "metadata": {},
   "outputs": [
    {
     "data": {
      "text/plain": [
       "Index(['경영권분쟁소송+최대주주변경카운트', '상호변경카운트+업종변경카운트',\n",
       "       '타법인주식및출자증권취득결정금액+특수관계인에대한자금대여금액',\n",
       "       '최대주주변경을수반하는주식담보제공금액+최대주주변경을수반하는주식양수도금액', 'BW금액+CB금액+유상증자금액',\n",
       "       '불성실공시법인지정카운트', '조회공시요구카운트', '결산기간_거래량증가', '결산기간_주가변동률', '당기순이익',\n",
       "       '매출채권', '매출총이익', '영업이익', '영업현금흐름', '차입금의존도', '총자본', '최대주주비율',\n",
       "       '판매 및 관리비', '최대주주비율_변동성'],\n",
       "      dtype='object')"
      ]
     },
     "execution_count": 14,
     "metadata": {},
     "output_type": "execute_result"
    }
   ],
   "source": [
    "concat_together6 = tools.dict_data_plus(concat_together5,\n",
    "                                  plus_one=\"경영권분쟁소송\"\n",
    "                                 ,plus_two=\"최대주주변경카운트\", return_origianl=False)\n",
    "#concat_kospi6 = tools.dict_data_plus(concat_kospi5,\n",
    "#                                  plus_one=\"경영권분쟁소송_전체시장\"\n",
    "#                                 ,plus_two=\"최대주주변경카운트_전체시장\", return_origianl=False)\n",
    "#concat_kosdaq6 = tools.dict_data_plus(concat_kosdaq5,\n",
    "#                                  plus_one=\"경영권분쟁소송_전체시장\"\n",
    "#                                 ,plus_two=\"최대주주변경카운트_전체시장\", return_origianl=False)\n",
    "concat_together6[\"2012-01\"].columns"
   ]
  },
  {
   "cell_type": "code",
   "execution_count": 15,
   "metadata": {},
   "outputs": [
    {
     "data": {
      "text/plain": [
       "Index(['경영권분쟁소송+최대주주변경카운트+불성실공시법인지정카운트', '상호변경카운트+업종변경카운트',\n",
       "       '타법인주식및출자증권취득결정금액+특수관계인에대한자금대여금액',\n",
       "       '최대주주변경을수반하는주식담보제공금액+최대주주변경을수반하는주식양수도금액', 'BW금액+CB금액+유상증자금액',\n",
       "       '조회공시요구카운트', '결산기간_거래량증가', '결산기간_주가변동률', '당기순이익', '매출채권', '매출총이익',\n",
       "       '영업이익', '영업현금흐름', '차입금의존도', '총자본', '최대주주비율', '판매 및 관리비', '최대주주비율_변동성'],\n",
       "      dtype='object')"
      ]
     },
     "execution_count": 15,
     "metadata": {},
     "output_type": "execute_result"
    }
   ],
   "source": [
    "concat_together7 = tools.dict_data_plus(concat_together6,\n",
    "                                  plus_one=\"경영권분쟁소송+최대주주변경카운트\"\n",
    "                                 ,plus_two=\"불성실공시법인지정카운트\", return_origianl=False)\n",
    "#concat_kospi7 = tools.dict_data_plus(concat_kospi6,\n",
    "#                                  plus_one=\"BW금액_전체시장+CB금액_전체시장\"\n",
    "#                                 ,plus_two=\"유상증자금액_전체시장\", return_origianl=False)\n",
    "#concat_kosdaq7 = tools.dict_data_plus(concat_kosdaq6,\n",
    "#                                  plus_one=\"BW금액_전체시장+CB금액_전체시장\"\n",
    "#                                 ,plus_two=\"유상증자금액_전체시장\", return_origianl=False)\n",
    "concat_together7[\"2012-01\"].columns"
   ]
  },
  {
   "cell_type": "code",
   "execution_count": 16,
   "metadata": {},
   "outputs": [
    {
     "data": {
      "text/plain": [
       "Index(['경영권분쟁소송+최대주주변경카운트+불성실공시법인지정카운트+조회공시요구카운트', '상호변경카운트+업종변경카운트',\n",
       "       '타법인주식및출자증권취득결정금액+특수관계인에대한자금대여금액',\n",
       "       '최대주주변경을수반하는주식담보제공금액+최대주주변경을수반하는주식양수도금액', 'BW금액+CB금액+유상증자금액',\n",
       "       '결산기간_거래량증가', '결산기간_주가변동률', '당기순이익', '매출채권', '매출총이익', '영업이익', '영업현금흐름',\n",
       "       '차입금의존도', '총자본', '최대주주비율', '판매 및 관리비', '최대주주비율_변동성'],\n",
       "      dtype='object')"
      ]
     },
     "execution_count": 16,
     "metadata": {},
     "output_type": "execute_result"
    }
   ],
   "source": [
    "concat_together8 = tools.dict_data_plus(concat_together7,\n",
    "                                  plus_one=\"경영권분쟁소송+최대주주변경카운트+불성실공시법인지정카운트\"\n",
    "                                 ,plus_two=\"조회공시요구카운트\", return_origianl=False)\n",
    "#concat_kospi8 = tools.dict_data_plus(concat_kospi7,\n",
    "#                                  plus_one=\"경영권분쟁소송_전체시장+최대주주변경카운트_전체시장\"\n",
    "#                                 ,plus_two=\"상호변경카운트_전체시장+업종변경카운트_전체시장\", return_origianl=False)\n",
    "#concat_kosdaq8 = tools.dict_data_plus(concat_kosdaq7,\n",
    "#                                  plus_one=\"경영권분쟁소송_전체시장+최대주주변경카운트_전체시장\"\n",
    "#                                 ,plus_two=\"상호변경카운트_전체시장+업종변경카운트_전체시장\", return_origianl=False)\n",
    "concat_together8[\"2012-01\"].columns"
   ]
  },
  {
   "cell_type": "code",
   "execution_count": 17,
   "metadata": {},
   "outputs": [
    {
     "data": {
      "text/plain": [
       "Index(['경영권분쟁소송+최대주주변경카운트+불성실공시법인지정카운트+조회공시요구카운트+상호변경카운트+업종변경카운트',\n",
       "       '타법인주식및출자증권취득결정금액+특수관계인에대한자금대여금액',\n",
       "       '최대주주변경을수반하는주식담보제공금액+최대주주변경을수반하는주식양수도금액', 'BW금액+CB금액+유상증자금액',\n",
       "       '결산기간_거래량증가', '결산기간_주가변동률', '당기순이익', '매출채권', '매출총이익', '영업이익', '영업현금흐름',\n",
       "       '차입금의존도', '총자본', '최대주주비율', '판매 및 관리비', '최대주주비율_변동성'],\n",
       "      dtype='object')"
      ]
     },
     "execution_count": 17,
     "metadata": {},
     "output_type": "execute_result"
    }
   ],
   "source": [
    "concat_together9 = tools.dict_data_plus(concat_together8,\n",
    "                                  plus_one=\"경영권분쟁소송+최대주주변경카운트+불성실공시법인지정카운트+조회공시요구카운트\"\n",
    "                                 ,plus_two=\"상호변경카운트+업종변경카운트\", return_origianl=False)\n",
    "concat_together9[\"2012-01\"].columns"
   ]
  },
  {
   "cell_type": "code",
   "execution_count": 18,
   "metadata": {},
   "outputs": [
    {
     "data": {
      "text/plain": [
       "Index(['최대주주변경을수반하는주식담보제공금액+최대주주변경을수반하는주식양수도금액+타법인주식및출자증권취득결정금액+특수관계인에대한자금대여금액',\n",
       "       '경영권분쟁소송+최대주주변경카운트+불성실공시법인지정카운트+조회공시요구카운트+상호변경카운트+업종변경카운트',\n",
       "       'BW금액+CB금액+유상증자금액', '결산기간_거래량증가', '결산기간_주가변동률', '당기순이익', '매출채권',\n",
       "       '매출총이익', '영업이익', '영업현금흐름', '차입금의존도', '총자본', '최대주주비율', '판매 및 관리비',\n",
       "       '최대주주비율_변동성'],\n",
       "      dtype='object')"
      ]
     },
     "execution_count": 18,
     "metadata": {},
     "output_type": "execute_result"
    }
   ],
   "source": [
    "concat_together10 = tools.dict_data_plus(concat_together9,\n",
    "                                  plus_one=\"최대주주변경을수반하는주식담보제공금액+최대주주변경을수반하는주식양수도금액\"\n",
    "                                 ,plus_two=\"타법인주식및출자증권취득결정금액+특수관계인에대한자금대여금액\", return_origianl=False)\n",
    "concat_together10[\"2012-01\"].columns"
   ]
  },
  {
   "cell_type": "code",
   "execution_count": 19,
   "metadata": {},
   "outputs": [
    {
     "name": "stdout",
     "output_type": "stream",
     "text": [
      "(14,)\n"
     ]
    },
    {
     "data": {
      "text/plain": [
       "Index(['최대주주변경을수반하는주식담보제공금액+최대주주변경을수반하는주식양수도금액+타법인주식및출자증권취득결정금액+특수관계인에대한자금대여금액+BW금액+CB금액+유상증자금액',\n",
       "       '경영권분쟁소송+최대주주변경카운트+불성실공시법인지정카운트+조회공시요구카운트+상호변경카운트+업종변경카운트',\n",
       "       '결산기간_거래량증가', '결산기간_주가변동률', '당기순이익', '매출채권', '매출총이익', '영업이익', '영업현금흐름',\n",
       "       '차입금의존도', '총자본', '최대주주비율', '판매 및 관리비', '최대주주비율_변동성'],\n",
       "      dtype='object')"
      ]
     },
     "execution_count": 19,
     "metadata": {},
     "output_type": "execute_result"
    }
   ],
   "source": [
    "concat_together11 = tools.dict_data_plus(concat_together10,\n",
    "                                  plus_one=\"최대주주변경을수반하는주식담보제공금액+최대주주변경을수반하는주식양수도금액+타법인주식및출자증권취득결정금액+특수관계인에대한자금대여금액\"\n",
    "                                 ,plus_two=\"BW금액+CB금액+유상증자금액\", return_origianl=False)\n",
    "print(concat_together11[\"2012-01\"].columns.shape)\n",
    "concat_together11[\"2012-01\"].columns"
   ]
  },
  {
   "cell_type": "code",
   "execution_count": 20,
   "metadata": {},
   "outputs": [
    {
     "data": {
      "text/plain": [
       "Index(['최대주주변경을수반하는주식담보제공금액+최대주주변경을수반하는주식양수도금액+타법인주식및출자증권취득결정금액+특수관계인에대한자금대여금액+BW금액+CB금액+유상증자금액',\n",
       "       '경영권분쟁소송+최대주주변경카운트+불성실공시법인지정카운트+조회공시요구카운트+상호변경카운트+업종변경카운트',\n",
       "       '결산기간_거래량증가', '결산기간_주가변동률', '당기순이익', '매출채권', '매출총이익', '영업이익', '영업현금흐름',\n",
       "       '차입금의존도', '총자본', '최대주주비율', '판매 및 관리비', '최대주주비율_변동성'],\n",
       "      dtype='object')"
      ]
     },
     "execution_count": 20,
     "metadata": {},
     "output_type": "execute_result"
    }
   ],
   "source": [
    "drop_togehter = tools.dict_data_drop(concat_together11.copy(), dropna=True)\n",
    "scaled_together = tools.dict_data_scale(drop_togehter.copy(), scaler=sca)\n",
    "scaled_together[\"2012-01\"].columns"
   ]
  },
  {
   "cell_type": "code",
   "execution_count": 21,
   "metadata": {},
   "outputs": [
    {
     "name": "stderr",
     "output_type": "stream",
     "text": [
      "100%|██████████| 100/100 [00:05<00:00, 19.06it/s]\n",
      "100%|██████████| 100/100 [00:05<00:00, 19.23it/s]\n",
      "100%|██████████| 100/100 [00:05<00:00, 19.84it/s]\n",
      "100%|██████████| 100/100 [00:05<00:00, 18.97it/s]\n",
      "100%|██████████| 100/100 [00:05<00:00, 17.38it/s]\n",
      "100%|██████████| 100/100 [00:06<00:00, 16.30it/s]\n",
      "100%|██████████| 100/100 [00:06<00:00, 15.35it/s]\n",
      "100%|██████████| 100/100 [00:06<00:00, 14.51it/s]\n",
      "100%|██████████| 100/100 [00:07<00:00, 13.92it/s]\n",
      "100%|██████████| 100/100 [00:07<00:00, 13.73it/s]\n",
      "100%|██████████| 100/100 [00:07<00:00, 13.46it/s]\n"
     ]
    }
   ],
   "source": [
    "# 최초 모델을 돌리고\n",
    "model_save_dict = evaluate.run_iter_kmeans(num_k, max_sample=100, raw_data=scaled_together.copy())"
   ]
  },
  {
   "cell_type": "code",
   "execution_count": 22,
   "metadata": {},
   "outputs": [
    {
     "name": "stderr",
     "output_type": "stream",
     "text": [
      "100%|██████████| 100/100 [00:01<00:00, 82.83it/s]\n",
      "100%|██████████| 100/100 [00:01<00:00, 84.09it/s]\n",
      "100%|██████████| 100/100 [00:01<00:00, 85.26it/s]\n",
      "100%|██████████| 100/100 [00:01<00:00, 81.15it/s]\n",
      "100%|██████████| 100/100 [00:01<00:00, 77.67it/s]\n",
      "100%|██████████| 100/100 [00:01<00:00, 78.11it/s]\n",
      "100%|██████████| 100/100 [00:01<00:00, 72.86it/s]\n",
      "100%|██████████| 100/100 [00:01<00:00, 73.35it/s]\n",
      "100%|██████████| 100/100 [00:01<00:00, 64.21it/s]\n",
      "100%|██████████| 100/100 [00:01<00:00, 60.70it/s]\n"
     ]
    }
   ],
   "source": [
    "# 최초모델의 결과\n",
    "eval_one, eval_one_original = evaluate.eval_cluster_result(model_save_dict,\n",
    "                                                            raw_data = scaled_together, \n",
    "                                                            label_data=label_data_pp_man, freq=freq)\n",
    "\n",
    "# 모델의 모델(나쁜놈들도 다시한번 굴림)\n",
    "model2_save_dict, filtered_data = evaluate.cluster_of_cluster_model(model_save=model_save_dict,\n",
    "                                  raw_data=scaled_together,\n",
    "                                  eval_label=eval_one, num_k=3, max_sample=100)"
   ]
  },
  {
   "attachments": {},
   "cell_type": "markdown",
   "metadata": {},
   "source": [
    "### 모델의 모델 평가"
   ]
  },
  {
   "cell_type": "code",
   "execution_count": 23,
   "metadata": {},
   "outputs": [
    {
     "name": "stdout",
     "output_type": "stream",
     "text": [
      "255.0\n",
      "124.0\n"
     ]
    },
    {
     "data": {
      "text/html": [
       "<div>\n",
       "<style scoped>\n",
       "    .dataframe tbody tr th:only-of-type {\n",
       "        vertical-align: middle;\n",
       "    }\n",
       "\n",
       "    .dataframe tbody tr th {\n",
       "        vertical-align: top;\n",
       "    }\n",
       "\n",
       "    .dataframe thead th {\n",
       "        text-align: right;\n",
       "    }\n",
       "</style>\n",
       "<table border=\"1\" class=\"dataframe\">\n",
       "  <thead>\n",
       "    <tr style=\"text-align: right;\">\n",
       "      <th></th>\n",
       "      <th>2012-01</th>\n",
       "      <th>2013-01</th>\n",
       "      <th>2014-01</th>\n",
       "      <th>2015-01</th>\n",
       "      <th>2016-01</th>\n",
       "      <th>2017-01</th>\n",
       "      <th>2018-01</th>\n",
       "      <th>2019-01</th>\n",
       "      <th>2020-01</th>\n",
       "      <th>2021-01</th>\n",
       "    </tr>\n",
       "  </thead>\n",
       "  <tbody>\n",
       "    <tr>\n",
       "      <th>0</th>\n",
       "      <td>203.0</td>\n",
       "      <td>184.0</td>\n",
       "      <td>144.0</td>\n",
       "      <td>188.0</td>\n",
       "      <td>173.0</td>\n",
       "      <td>207.0</td>\n",
       "      <td>233.0</td>\n",
       "      <td>200.0</td>\n",
       "      <td>238.0</td>\n",
       "      <td>219.0</td>\n",
       "    </tr>\n",
       "    <tr>\n",
       "      <th>1</th>\n",
       "      <td>153.0</td>\n",
       "      <td>189.0</td>\n",
       "      <td>176.0</td>\n",
       "      <td>152.0</td>\n",
       "      <td>219.0</td>\n",
       "      <td>192.0</td>\n",
       "      <td>197.0</td>\n",
       "      <td>198.0</td>\n",
       "      <td>199.0</td>\n",
       "      <td>255.0</td>\n",
       "    </tr>\n",
       "    <tr>\n",
       "      <th>2</th>\n",
       "      <td>143.0</td>\n",
       "      <td>124.0</td>\n",
       "      <td>177.0</td>\n",
       "      <td>193.0</td>\n",
       "      <td>181.0</td>\n",
       "      <td>187.0</td>\n",
       "      <td>177.0</td>\n",
       "      <td>173.0</td>\n",
       "      <td>249.0</td>\n",
       "      <td>241.0</td>\n",
       "    </tr>\n",
       "    <tr>\n",
       "      <th>기업수</th>\n",
       "      <td>499.0</td>\n",
       "      <td>497.0</td>\n",
       "      <td>497.0</td>\n",
       "      <td>533.0</td>\n",
       "      <td>573.0</td>\n",
       "      <td>586.0</td>\n",
       "      <td>607.0</td>\n",
       "      <td>571.0</td>\n",
       "      <td>686.0</td>\n",
       "      <td>715.0</td>\n",
       "    </tr>\n",
       "  </tbody>\n",
       "</table>\n",
       "</div>"
      ],
      "text/plain": [
       "     2012-01  2013-01  2014-01  2015-01  2016-01  2017-01  2018-01  2019-01  \\\n",
       "0      203.0    184.0    144.0    188.0    173.0    207.0    233.0    200.0   \n",
       "1      153.0    189.0    176.0    152.0    219.0    192.0    197.0    198.0   \n",
       "2      143.0    124.0    177.0    193.0    181.0    187.0    177.0    173.0   \n",
       "기업수    499.0    497.0    497.0    533.0    573.0    586.0    607.0    571.0   \n",
       "\n",
       "     2020-01  2021-01  \n",
       "0      238.0    219.0  \n",
       "1      199.0    255.0  \n",
       "2      249.0    241.0  \n",
       "기업수    686.0    715.0  "
      ]
     },
     "execution_count": 23,
     "metadata": {},
     "output_type": "execute_result"
    }
   ],
   "source": [
    "size =evaluate.eval_cluster_size(model2_save_dict)\n",
    "size.to_csv(\"{}_클러스터사이즈.csv\".format(model_name))\n",
    "\n",
    "print(size.iloc[:-1,:].max().max())\n",
    "print(size.iloc[:-1,:].min().min())\n",
    "size"
   ]
  },
  {
   "cell_type": "code",
   "execution_count": 24,
   "metadata": {},
   "outputs": [],
   "source": [
    "eval, eval_original = evaluate.eval_cluster_result(model2_save_dict, raw_data = filtered_data,\n",
    "                                                    label_data=label_data_pp_man, freq=freq)\n",
    "\n",
    "eval.to_csv(\"{}_관리종목.csv\".format(model_name))\n",
    "eval_original.to_csv(\"{}_관리종목전체대비.csv\".format(model_name))"
   ]
  },
  {
   "cell_type": "code",
   "execution_count": 25,
   "metadata": {},
   "outputs": [],
   "source": [
    "eval_t,eval_t_ori = evaluate.eval_cluster_result(model2_save_dict, raw_data = filtered_data, \n",
    "                                                 label_data=label_data_pp_war, freq=freq)\n",
    "\n",
    "eval_t.to_csv(\"{}_투자환기종목.csv\".format(model_name))\n",
    "eval_t_ori.to_csv(\"{}_투자환기종목전체대비.csv\".format(model_name))"
   ]
  },
  {
   "cell_type": "code",
   "execution_count": 26,
   "metadata": {},
   "outputs": [
    {
     "name": "stdout",
     "output_type": "stream",
     "text": [
      "0.6045345436926283\n",
      "1.0\n"
     ]
    },
    {
     "data": {
      "text/plain": [
       "0.06625672923032155"
      ]
     },
     "execution_count": 26,
     "metadata": {},
     "output_type": "execute_result"
    }
   ],
   "source": [
    "print(evaluate.calculate_catch_probability(eval, eval_t, None))\n",
    "print(evaluate.calculate_match_probability(eval, eval_t,None))\n",
    "evaluate.calculate_catch_probability(eval_original, eval_t_ori, None)"
   ]
  },
  {
   "cell_type": "code",
   "execution_count": 27,
   "metadata": {},
   "outputs": [
    {
     "data": {
      "text/plain": [
       "경영권분쟁소송+최대주주변경카운트+불성실공시법인지정카운트+조회공시요구카운트+상호변경카운트+업종변경카운트                                   0.216771\n",
       "결산기간_거래량증가                                                                                 0.155465\n",
       "차입금의존도                                                                                     0.143905\n",
       "최대주주비율_변동성                                                                                 0.119584\n",
       "최대주주변경을수반하는주식담보제공금액+최대주주변경을수반하는주식양수도금액+타법인주식및출자증권취득결정금액+특수관계인에대한자금대여금액+BW금액+CB금액+유상증자금액    0.103679\n",
       "최대주주비율                                                                                     0.068131\n",
       "판매 및 관리비                                                                                   0.049613\n",
       "매출채권                                                                                       0.042147\n",
       "당기순이익                                                                                      0.030563\n",
       "결산기간_주가변동률                                                                                 0.026857\n",
       "총자본                                                                                        0.015414\n",
       "영업이익                                                                                       0.013008\n",
       "매출총이익                                                                                      0.008046\n",
       "영업현금흐름                                                                                     0.006817\n",
       "dtype: float64"
      ]
     },
     "execution_count": 27,
     "metadata": {},
     "output_type": "execute_result"
    }
   ],
   "source": [
    "def pct(df):\n",
    "    return df / np.sum(df)\n",
    "\n",
    "dist = evaluate.eval_cluster_distance(eval, filtered_data, model2_save_dict)\n",
    "dist = dist.apply(pct, axis=1)\n",
    "dist2= dist.mean(axis=0).sort_values(ascending=False)\n",
    "\n",
    "dist.to_csv(\"{}_거리분해.csv\".format(model_name))\n",
    "dist2.to_csv(\"{}_거리분해평균.csv\".format(model_name))\n",
    "\n",
    "dist2"
   ]
  },
  {
   "attachments": {},
   "cell_type": "markdown",
   "metadata": {},
   "source": [
    "고위험 클러스터의 평균 재무, 공시 상황 출력\n",
    "\n",
    "* eval_cluster Result의 결과를 받는다 / model_save_dict / raw_data -> drop_together (스케일 전 데이터를 받아야함)"
   ]
  },
  {
   "cell_type": "code",
   "execution_count": 28,
   "metadata": {},
   "outputs": [],
   "source": [
    "# scaled data를 토대로 원본 데이터를 추출한다\n",
    "key = filtered_data.keys()\n",
    "original_data_dict = {}\n",
    "for t in key:\n",
    "    idx = filtered_data[t].index\n",
    "    origianl_data = drop_togehter[t]\n",
    "    original_data_dict[t] = origianl_data.loc[idx]"
   ]
  },
  {
   "cell_type": "code",
   "execution_count": 29,
   "metadata": {},
   "outputs": [
    {
     "data": {
      "text/html": [
       "<div>\n",
       "<style scoped>\n",
       "    .dataframe tbody tr th:only-of-type {\n",
       "        vertical-align: middle;\n",
       "    }\n",
       "\n",
       "    .dataframe tbody tr th {\n",
       "        vertical-align: top;\n",
       "    }\n",
       "\n",
       "    .dataframe thead th {\n",
       "        text-align: right;\n",
       "    }\n",
       "</style>\n",
       "<table border=\"1\" class=\"dataframe\">\n",
       "  <thead>\n",
       "    <tr style=\"text-align: right;\">\n",
       "      <th></th>\n",
       "      <th>최대주주변경을수반하는주식담보제공금액+최대주주변경을수반하는주식양수도금액+타법인주식및출자증권취득결정금액+특수관계인에대한자금대여금액+BW금액+CB금액+유상증자금액</th>\n",
       "      <th>경영권분쟁소송+최대주주변경카운트+불성실공시법인지정카운트+조회공시요구카운트+상호변경카운트+업종변경카운트</th>\n",
       "      <th>결산기간_거래량증가</th>\n",
       "      <th>결산기간_주가변동률</th>\n",
       "      <th>당기순이익</th>\n",
       "      <th>매출채권</th>\n",
       "      <th>매출총이익</th>\n",
       "      <th>영업이익</th>\n",
       "      <th>영업현금흐름</th>\n",
       "      <th>차입금의존도</th>\n",
       "      <th>총자본</th>\n",
       "      <th>최대주주비율</th>\n",
       "      <th>판매 및 관리비</th>\n",
       "      <th>최대주주비율_변동성</th>\n",
       "    </tr>\n",
       "  </thead>\n",
       "  <tbody>\n",
       "    <tr>\n",
       "      <th>2012-01</th>\n",
       "      <td>1.654002e+10</td>\n",
       "      <td>1.196078</td>\n",
       "      <td>1.329681</td>\n",
       "      <td>1.951553</td>\n",
       "      <td>-6.746307e+06</td>\n",
       "      <td>3.454802e+07</td>\n",
       "      <td>-5.762215e+05</td>\n",
       "      <td>-4.787962e+06</td>\n",
       "      <td>-7.890767e+05</td>\n",
       "      <td>43.281193</td>\n",
       "      <td>6.826823e+07</td>\n",
       "      <td>26.069136</td>\n",
       "      <td>4.211740e+06</td>\n",
       "      <td>-0.014554</td>\n",
       "    </tr>\n",
       "    <tr>\n",
       "      <th>2013-01</th>\n",
       "      <td>2.031735e+10</td>\n",
       "      <td>1.411290</td>\n",
       "      <td>1.221427</td>\n",
       "      <td>4.390568</td>\n",
       "      <td>-2.434947e+07</td>\n",
       "      <td>1.092742e+08</td>\n",
       "      <td>-6.129393e+06</td>\n",
       "      <td>-1.433816e+07</td>\n",
       "      <td>-5.738663e+06</td>\n",
       "      <td>45.619738</td>\n",
       "      <td>1.029610e+08</td>\n",
       "      <td>28.927098</td>\n",
       "      <td>8.210083e+06</td>\n",
       "      <td>-0.004517</td>\n",
       "    </tr>\n",
       "    <tr>\n",
       "      <th>2014-01</th>\n",
       "      <td>2.274832e+10</td>\n",
       "      <td>2.368056</td>\n",
       "      <td>2.068829</td>\n",
       "      <td>3.596152</td>\n",
       "      <td>-1.779983e+07</td>\n",
       "      <td>3.020803e+07</td>\n",
       "      <td>-5.223987e+06</td>\n",
       "      <td>-8.013657e+06</td>\n",
       "      <td>-3.609888e+06</td>\n",
       "      <td>30.829913</td>\n",
       "      <td>5.919321e+06</td>\n",
       "      <td>24.250851</td>\n",
       "      <td>2.789670e+06</td>\n",
       "      <td>inf</td>\n",
       "    </tr>\n",
       "    <tr>\n",
       "      <th>2015-01</th>\n",
       "      <td>2.060649e+10</td>\n",
       "      <td>2.138158</td>\n",
       "      <td>1.151989</td>\n",
       "      <td>2.068483</td>\n",
       "      <td>-6.244506e+06</td>\n",
       "      <td>3.344949e+07</td>\n",
       "      <td>-1.399430e+06</td>\n",
       "      <td>-4.321868e+06</td>\n",
       "      <td>-1.639472e+06</td>\n",
       "      <td>32.684688</td>\n",
       "      <td>3.657043e+07</td>\n",
       "      <td>25.094616</td>\n",
       "      <td>2.922438e+06</td>\n",
       "      <td>inf</td>\n",
       "    </tr>\n",
       "    <tr>\n",
       "      <th>2016-01</th>\n",
       "      <td>1.423145e+10</td>\n",
       "      <td>1.922652</td>\n",
       "      <td>inf</td>\n",
       "      <td>0.793543</td>\n",
       "      <td>-1.305338e+06</td>\n",
       "      <td>1.131377e+07</td>\n",
       "      <td>1.766077e+06</td>\n",
       "      <td>-6.844295e+05</td>\n",
       "      <td>-2.477429e+05</td>\n",
       "      <td>25.928854</td>\n",
       "      <td>3.557186e+07</td>\n",
       "      <td>28.539759</td>\n",
       "      <td>2.450506e+06</td>\n",
       "      <td>-0.023327</td>\n",
       "    </tr>\n",
       "    <tr>\n",
       "      <th>2017-01</th>\n",
       "      <td>3.223311e+10</td>\n",
       "      <td>2.416667</td>\n",
       "      <td>inf</td>\n",
       "      <td>1.186597</td>\n",
       "      <td>-1.955092e+07</td>\n",
       "      <td>2.096177e+07</td>\n",
       "      <td>5.617642e+05</td>\n",
       "      <td>-3.366167e+06</td>\n",
       "      <td>2.702154e+04</td>\n",
       "      <td>31.743047</td>\n",
       "      <td>3.404551e+07</td>\n",
       "      <td>18.081104</td>\n",
       "      <td>3.927931e+06</td>\n",
       "      <td>inf</td>\n",
       "    </tr>\n",
       "    <tr>\n",
       "      <th>2018-01</th>\n",
       "      <td>4.424966e+10</td>\n",
       "      <td>1.858369</td>\n",
       "      <td>inf</td>\n",
       "      <td>1.071338</td>\n",
       "      <td>-4.213075e+06</td>\n",
       "      <td>1.873886e+07</td>\n",
       "      <td>1.696640e+06</td>\n",
       "      <td>-2.220785e+06</td>\n",
       "      <td>-1.779292e+06</td>\n",
       "      <td>34.030923</td>\n",
       "      <td>5.552423e+07</td>\n",
       "      <td>20.918990</td>\n",
       "      <td>3.917425e+06</td>\n",
       "      <td>0.005981</td>\n",
       "    </tr>\n",
       "    <tr>\n",
       "      <th>2019-01</th>\n",
       "      <td>3.439317e+10</td>\n",
       "      <td>2.575000</td>\n",
       "      <td>1.735226</td>\n",
       "      <td>0.515285</td>\n",
       "      <td>-3.909257e+06</td>\n",
       "      <td>1.156527e+07</td>\n",
       "      <td>2.066872e+06</td>\n",
       "      <td>-1.342674e+06</td>\n",
       "      <td>-7.748843e+05</td>\n",
       "      <td>34.229988</td>\n",
       "      <td>4.546267e+07</td>\n",
       "      <td>19.565421</td>\n",
       "      <td>3.409539e+06</td>\n",
       "      <td>inf</td>\n",
       "    </tr>\n",
       "    <tr>\n",
       "      <th>2020-01</th>\n",
       "      <td>3.357250e+10</td>\n",
       "      <td>1.610442</td>\n",
       "      <td>inf</td>\n",
       "      <td>0.624480</td>\n",
       "      <td>-9.330883e+06</td>\n",
       "      <td>1.743279e+07</td>\n",
       "      <td>5.634536e+05</td>\n",
       "      <td>-4.956890e+06</td>\n",
       "      <td>-2.330407e+06</td>\n",
       "      <td>41.334488</td>\n",
       "      <td>7.873014e+07</td>\n",
       "      <td>20.574489</td>\n",
       "      <td>5.516598e+06</td>\n",
       "      <td>inf</td>\n",
       "    </tr>\n",
       "    <tr>\n",
       "      <th>2021-01</th>\n",
       "      <td>2.914067e+10</td>\n",
       "      <td>1.867580</td>\n",
       "      <td>inf</td>\n",
       "      <td>0.499985</td>\n",
       "      <td>-2.426894e+06</td>\n",
       "      <td>6.912510e+06</td>\n",
       "      <td>1.267869e+06</td>\n",
       "      <td>-1.136530e+06</td>\n",
       "      <td>-7.483508e+05</td>\n",
       "      <td>25.808961</td>\n",
       "      <td>4.651702e+07</td>\n",
       "      <td>20.628501</td>\n",
       "      <td>2.408825e+06</td>\n",
       "      <td>inf</td>\n",
       "    </tr>\n",
       "  </tbody>\n",
       "</table>\n",
       "</div>"
      ],
      "text/plain": [
       "         최대주주변경을수반하는주식담보제공금액+최대주주변경을수반하는주식양수도금액+타법인주식및출자증권취득결정금액+특수관계인에대한자금대여금액+BW금액+CB금액+유상증자금액  \\\n",
       "2012-01                                       1.654002e+10                                         \n",
       "2013-01                                       2.031735e+10                                         \n",
       "2014-01                                       2.274832e+10                                         \n",
       "2015-01                                       2.060649e+10                                         \n",
       "2016-01                                       1.423145e+10                                         \n",
       "2017-01                                       3.223311e+10                                         \n",
       "2018-01                                       4.424966e+10                                         \n",
       "2019-01                                       3.439317e+10                                         \n",
       "2020-01                                       3.357250e+10                                         \n",
       "2021-01                                       2.914067e+10                                         \n",
       "\n",
       "         경영권분쟁소송+최대주주변경카운트+불성실공시법인지정카운트+조회공시요구카운트+상호변경카운트+업종변경카운트  결산기간_거래량증가  \\\n",
       "2012-01                                           1.196078           1.329681   \n",
       "2013-01                                           1.411290           1.221427   \n",
       "2014-01                                           2.368056           2.068829   \n",
       "2015-01                                           2.138158           1.151989   \n",
       "2016-01                                           1.922652                inf   \n",
       "2017-01                                           2.416667                inf   \n",
       "2018-01                                           1.858369                inf   \n",
       "2019-01                                           2.575000           1.735226   \n",
       "2020-01                                           1.610442                inf   \n",
       "2021-01                                           1.867580                inf   \n",
       "\n",
       "         결산기간_주가변동률         당기순이익          매출채권         매출총이익          영업이익  \\\n",
       "2012-01    1.951553 -6.746307e+06  3.454802e+07 -5.762215e+05 -4.787962e+06   \n",
       "2013-01    4.390568 -2.434947e+07  1.092742e+08 -6.129393e+06 -1.433816e+07   \n",
       "2014-01    3.596152 -1.779983e+07  3.020803e+07 -5.223987e+06 -8.013657e+06   \n",
       "2015-01    2.068483 -6.244506e+06  3.344949e+07 -1.399430e+06 -4.321868e+06   \n",
       "2016-01    0.793543 -1.305338e+06  1.131377e+07  1.766077e+06 -6.844295e+05   \n",
       "2017-01    1.186597 -1.955092e+07  2.096177e+07  5.617642e+05 -3.366167e+06   \n",
       "2018-01    1.071338 -4.213075e+06  1.873886e+07  1.696640e+06 -2.220785e+06   \n",
       "2019-01    0.515285 -3.909257e+06  1.156527e+07  2.066872e+06 -1.342674e+06   \n",
       "2020-01    0.624480 -9.330883e+06  1.743279e+07  5.634536e+05 -4.956890e+06   \n",
       "2021-01    0.499985 -2.426894e+06  6.912510e+06  1.267869e+06 -1.136530e+06   \n",
       "\n",
       "               영업현금흐름     차입금의존도           총자본     최대주주비율      판매 및 관리비  \\\n",
       "2012-01 -7.890767e+05  43.281193  6.826823e+07  26.069136  4.211740e+06   \n",
       "2013-01 -5.738663e+06  45.619738  1.029610e+08  28.927098  8.210083e+06   \n",
       "2014-01 -3.609888e+06  30.829913  5.919321e+06  24.250851  2.789670e+06   \n",
       "2015-01 -1.639472e+06  32.684688  3.657043e+07  25.094616  2.922438e+06   \n",
       "2016-01 -2.477429e+05  25.928854  3.557186e+07  28.539759  2.450506e+06   \n",
       "2017-01  2.702154e+04  31.743047  3.404551e+07  18.081104  3.927931e+06   \n",
       "2018-01 -1.779292e+06  34.030923  5.552423e+07  20.918990  3.917425e+06   \n",
       "2019-01 -7.748843e+05  34.229988  4.546267e+07  19.565421  3.409539e+06   \n",
       "2020-01 -2.330407e+06  41.334488  7.873014e+07  20.574489  5.516598e+06   \n",
       "2021-01 -7.483508e+05  25.808961  4.651702e+07  20.628501  2.408825e+06   \n",
       "\n",
       "         최대주주비율_변동성  \n",
       "2012-01   -0.014554  \n",
       "2013-01   -0.004517  \n",
       "2014-01         inf  \n",
       "2015-01         inf  \n",
       "2016-01   -0.023327  \n",
       "2017-01         inf  \n",
       "2018-01    0.005981  \n",
       "2019-01         inf  \n",
       "2020-01         inf  \n",
       "2021-01         inf  "
      ]
     },
     "execution_count": 29,
     "metadata": {},
     "output_type": "execute_result"
    }
   ],
   "source": [
    "dict = evaluate.see_cluster_info(model2_save_dict, eval, original_data_dict)\n",
    "data = pd.DataFrame()\n",
    "col = dict.keys()\n",
    "\n",
    "for t, df in dict.items():\n",
    "    data = pd.concat([data, df], axis=1)\n",
    "\n",
    "data.columns = col\n",
    "data.T.to_csv(\"{}_평균정보.csv\".format(model_name))\n",
    "data.T"
   ]
  },
  {
   "cell_type": "code",
   "execution_count": 30,
   "metadata": {},
   "outputs": [],
   "source": [
    "data.T.mean().to_csv(\"{}_평균정보의평균.csv\".format(model_name))"
   ]
  },
  {
   "cell_type": "code",
   "execution_count": 31,
   "metadata": {},
   "outputs": [],
   "source": [
    "# 그림뽑기\n",
    "\n",
    "test = MyKmeans.visualize_3d_with_answer(filtered_data[\"2020-01\"],\n",
    "                                        model2_save_dict[\"2020-01\"][\"model\"],\n",
    "                                         answer_data=label_data_pp_man[\"2020-01\"],\n",
    "                                         fig_title=\"{}_관리종목\".format(model_name))"
   ]
  },
  {
   "cell_type": "code",
   "execution_count": 32,
   "metadata": {},
   "outputs": [
    {
     "data": {
      "text/html": [
       "<div>\n",
       "<style scoped>\n",
       "    .dataframe tbody tr th:only-of-type {\n",
       "        vertical-align: middle;\n",
       "    }\n",
       "\n",
       "    .dataframe tbody tr th {\n",
       "        vertical-align: top;\n",
       "    }\n",
       "\n",
       "    .dataframe thead th {\n",
       "        text-align: right;\n",
       "    }\n",
       "</style>\n",
       "<table border=\"1\" class=\"dataframe\">\n",
       "  <thead>\n",
       "    <tr style=\"text-align: right;\">\n",
       "      <th></th>\n",
       "      <th>PC1</th>\n",
       "      <th>PC2</th>\n",
       "      <th>PC3</th>\n",
       "      <th>label</th>\n",
       "      <th>answer</th>\n",
       "    </tr>\n",
       "  </thead>\n",
       "  <tbody>\n",
       "    <tr>\n",
       "      <th>A000040</th>\n",
       "      <td>0.315993</td>\n",
       "      <td>0.093533</td>\n",
       "      <td>-0.324416</td>\n",
       "      <td>2</td>\n",
       "      <td>2.5</td>\n",
       "    </tr>\n",
       "    <tr>\n",
       "      <th>A000440</th>\n",
       "      <td>-0.570949</td>\n",
       "      <td>0.135473</td>\n",
       "      <td>-0.254692</td>\n",
       "      <td>0</td>\n",
       "      <td>2.5</td>\n",
       "    </tr>\n",
       "    <tr>\n",
       "      <th>A000650</th>\n",
       "      <td>-0.462358</td>\n",
       "      <td>-0.139028</td>\n",
       "      <td>0.119666</td>\n",
       "      <td>1</td>\n",
       "      <td>2.5</td>\n",
       "    </tr>\n",
       "    <tr>\n",
       "      <th>A000890</th>\n",
       "      <td>0.288320</td>\n",
       "      <td>0.241414</td>\n",
       "      <td>-0.259987</td>\n",
       "      <td>2</td>\n",
       "      <td>2.5</td>\n",
       "    </tr>\n",
       "    <tr>\n",
       "      <th>A000950</th>\n",
       "      <td>0.456446</td>\n",
       "      <td>-0.309818</td>\n",
       "      <td>0.151462</td>\n",
       "      <td>2</td>\n",
       "      <td>2.5</td>\n",
       "    </tr>\n",
       "    <tr>\n",
       "      <th>...</th>\n",
       "      <td>...</td>\n",
       "      <td>...</td>\n",
       "      <td>...</td>\n",
       "      <td>...</td>\n",
       "      <td>...</td>\n",
       "    </tr>\n",
       "    <tr>\n",
       "      <th>A317850</th>\n",
       "      <td>-0.002634</td>\n",
       "      <td>-0.369613</td>\n",
       "      <td>-0.195786</td>\n",
       "      <td>1</td>\n",
       "      <td>2.5</td>\n",
       "    </tr>\n",
       "    <tr>\n",
       "      <th>A317870</th>\n",
       "      <td>-0.318887</td>\n",
       "      <td>0.057784</td>\n",
       "      <td>-0.493458</td>\n",
       "      <td>0</td>\n",
       "      <td>2.5</td>\n",
       "    </tr>\n",
       "    <tr>\n",
       "      <th>A318000</th>\n",
       "      <td>-0.811293</td>\n",
       "      <td>0.393391</td>\n",
       "      <td>-0.136025</td>\n",
       "      <td>0</td>\n",
       "      <td>2.5</td>\n",
       "    </tr>\n",
       "    <tr>\n",
       "      <th>A322510</th>\n",
       "      <td>0.140256</td>\n",
       "      <td>-0.186774</td>\n",
       "      <td>0.096634</td>\n",
       "      <td>1</td>\n",
       "      <td>2.5</td>\n",
       "    </tr>\n",
       "    <tr>\n",
       "      <th>A327260</th>\n",
       "      <td>-0.665435</td>\n",
       "      <td>0.371338</td>\n",
       "      <td>-0.122511</td>\n",
       "      <td>0</td>\n",
       "      <td>2.5</td>\n",
       "    </tr>\n",
       "  </tbody>\n",
       "</table>\n",
       "<p>686 rows × 5 columns</p>\n",
       "</div>"
      ],
      "text/plain": [
       "              PC1       PC2       PC3  label  answer\n",
       "A000040  0.315993  0.093533 -0.324416      2     2.5\n",
       "A000440 -0.570949  0.135473 -0.254692      0     2.5\n",
       "A000650 -0.462358 -0.139028  0.119666      1     2.5\n",
       "A000890  0.288320  0.241414 -0.259987      2     2.5\n",
       "A000950  0.456446 -0.309818  0.151462      2     2.5\n",
       "...           ...       ...       ...    ...     ...\n",
       "A317850 -0.002634 -0.369613 -0.195786      1     2.5\n",
       "A317870 -0.318887  0.057784 -0.493458      0     2.5\n",
       "A318000 -0.811293  0.393391 -0.136025      0     2.5\n",
       "A322510  0.140256 -0.186774  0.096634      1     2.5\n",
       "A327260 -0.665435  0.371338 -0.122511      0     2.5\n",
       "\n",
       "[686 rows x 5 columns]"
      ]
     },
     "execution_count": 32,
     "metadata": {},
     "output_type": "execute_result"
    }
   ],
   "source": [
    "MyKmeans.visualize_3d_with_answer(filtered_data[\"2020-01\"],\n",
    "                                  model2_save_dict[\"2020-01\"][\"model\"],\n",
    "                                 answer_data=label_data_pp_war[\"2020-01\"],\n",
    "                                 fig_title=\"{}_투자주의환기\".format(model_name))"
   ]
  },
  {
   "cell_type": "code",
   "execution_count": null,
   "metadata": {},
   "outputs": [],
   "source": []
  }
 ],
 "metadata": {
  "kernelspec": {
   "display_name": "base",
   "language": "python",
   "name": "python3"
  },
  "language_info": {
   "codemirror_mode": {
    "name": "ipython",
    "version": 3
   },
   "file_extension": ".py",
   "mimetype": "text/x-python",
   "name": "python",
   "nbconvert_exporter": "python",
   "pygments_lexer": "ipython3",
   "version": "3.9.12"
  },
  "orig_nbformat": 4,
  "vscode": {
   "interpreter": {
    "hash": "a077222d77dfe082b8f1dd562ad70e458ac2ab76993a0b248ab0476e32e9e8dd"
   }
  }
 },
 "nbformat": 4,
 "nbformat_minor": 2
}
