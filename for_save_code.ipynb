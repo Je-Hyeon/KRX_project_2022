{
 "cells": [
  {
   "attachments": {},
   "cell_type": "markdown",
   "metadata": {},
   "source": [
    "엑셀에 코드저장을 위해서 만들었음"
   ]
  },
  {
   "cell_type": "code",
   "execution_count": 13,
   "metadata": {},
   "outputs": [],
   "source": [
    "import os\n",
    "import numpy as np\n",
    "import pandas as pd \n",
    "from krx_fr.preprocess import tools, scaler\n",
    "from krx_fr.cluster.kmeans import MyKmeans\n",
    "from sklearn.cluster import KMeans"
   ]
  },
  {
   "cell_type": "code",
   "execution_count": 42,
   "metadata": {},
   "outputs": [],
   "source": [
    "kind_data = tools.read_data_from_folder(\"C:\\\\Jehyeon\\\\2022_Winter_KRX\\\\KRX\\\\Use_data\\\\KIND\\\\\")\n",
    "financial_data = tools.read_data_from_folder(\"C:\\\\Jehyeon\\\\2022_Winter_KRX\\\\KRX\\\\Use_data\\\\재무\\\\\")\n",
    "\n",
    "kind_data = tools.dict_data_preprocess(kind_data, function=np.sum, window_size='M',fillna=True)\n",
    "financial_data = tools.dict_data_preprocess(financial_data, function=np.mean, window_size='M',fillna=False)"
   ]
  },
  {
   "cell_type": "code",
   "execution_count": 43,
   "metadata": {},
   "outputs": [
    {
     "name": "stderr",
     "output_type": "stream",
     "text": [
      "c:\\Jehyeon\\2022_Winter_KRX\\KRX\\krx_fr\\preprocess\\scaler.py:37: RuntimeWarning: All-NaN slice encountered\n",
      "  min = np.nanmin(arr)\n",
      "c:\\Jehyeon\\2022_Winter_KRX\\KRX\\krx_fr\\preprocess\\scaler.py:38: RuntimeWarning: All-NaN slice encountered\n",
      "  max = np.nanmax(arr)\n",
      "c:\\Jehyeon\\2022_Winter_KRX\\KRX\\krx_fr\\preprocess\\scaler.py:39: RuntimeWarning: invalid value encountered in true_divide\n",
      "  return (arr-min) / (max - min)\n"
     ]
    }
   ],
   "source": [
    "concat_data = tools.dict_data_concat(kind_data,financial_data, dropna=False)\n",
    "plus_data = tools.dict_data_plus(concat_data, plus_one=\"BW금액_전체시장\",plus_two=\"CB금액_전체시장\", return_origianl=False)\n",
    "plus_data2 = tools.dict_data_plus(plus_data, plus_one=\"상호변경카운트_전체시장\",plus_two=\"업종변경카운트_전체시장\", return_origianl=False)\n",
    "plus_data3 = tools.dict_data_plus(plus_data2, plus_one=\"타법인주식및출자증권취득결정금액_전체시장\",plus_two=\"특수관계인에대한자금대여금액_전체시장\", return_origianl=False)\n",
    "plus_data4 = tools.dict_data_plus(plus_data3, plus_one=\"투자환기종목지정카운트_전체시장\",plus_two=\"투자주의카운트_전체시장\", return_origianl=False)\n",
    "plus_data5 = tools.dict_data_plus(plus_data4, plus_one=\"조회공시요구카운트_전체시장\",plus_two=\"최대주주변경카운트_전체시장\", return_origianl=False)\n",
    "divide_data = tools.dict_data_divide(plus_data5,divide_what=[\"타법인주식및출자증권취득결정금액_전체시장+특수관계인에대한자금대여금액_전체시장\",\n",
    "                                                             \"BW금액_전체시장+CB금액_전체시장\", \"자기주식처분결정금액_전체시장\",\"당기순이익\",\n",
    "                                                             \"매출채권\",'매출총이익', '영업이익', '영업현금흐름','판매 및 관리비'],\n",
    "                                                               divide_into=\"총자본\", return_origianl=False)\n",
    "scaled_data = tools.dict_data_scale(divide_data, scaler=scaler.minmax)\n",
    "drop_data = tools.dict_data_drop(scaled_data, dropna=True)     "
   ]
  },
  {
   "cell_type": "code",
   "execution_count": 48,
   "metadata": {},
   "outputs": [
    {
     "data": {
      "text/plain": [
       "Index(['BW금액_전체시장', 'CB금액_전체시장', '불성실공시법인지정카운트_전체시장', '상호변경카운트_전체시장',\n",
       "       '업종변경카운트_전체시장', '자기주식처분결정금액_전체시장', '조회공시요구카운트_전체시장', '최대주주변경카운트_전체시장',\n",
       "       '타법인주식및출자증권취득결정금액_전체시장', '투자주의카운트_전체시장', '투자환기종목지정카운트_전체시장',\n",
       "       '특수관계인에대한자금대여금액_전체시장', '당기순이익', '매출채권', '매출총이익', '영업이익', '영업현금흐름',\n",
       "       '차입금의존도', '총자본', '최대주주비율', '판매 및 관리비'],\n",
       "      dtype='object')"
      ]
     },
     "execution_count": 48,
     "metadata": {},
     "output_type": "execute_result"
    }
   ],
   "source": [
    "concat_data[\"2012-01-01\"].columns"
   ]
  },
  {
   "cell_type": "code",
   "execution_count": 44,
   "metadata": {},
   "outputs": [
    {
     "data": {
      "text/plain": [
       "Index(['타법인주식및출자증권취득결정금액_전체시장+특수관계인에대한자금대여금액_전체시장/총자본',\n",
       "       'BW금액_전체시장+CB금액_전체시장/총자본', '자기주식처분결정금액_전체시장/총자본', '당기순이익/총자본',\n",
       "       '매출채권/총자본', '매출총이익/총자본', '영업이익/총자본', '영업현금흐름/총자본', '판매 및 관리비/총자본',\n",
       "       '조회공시요구카운트_전체시장+최대주주변경카운트_전체시장', '투자환기종목지정카운트_전체시장+투자주의카운트_전체시장',\n",
       "       '상호변경카운트_전체시장+업종변경카운트_전체시장', '불성실공시법인지정카운트_전체시장', '차입금의존도', '최대주주비율'],\n",
       "      dtype='object')"
      ]
     },
     "execution_count": 44,
     "metadata": {},
     "output_type": "execute_result"
    }
   ],
   "source": [
    "drop_data[\"2012-01-01\"].columns"
   ]
  },
  {
   "cell_type": "code",
   "execution_count": 47,
   "metadata": {},
   "outputs": [
    {
     "data": {
      "text/plain": [
       "1    785\n",
       "4    612\n",
       "2    579\n",
       "3    331\n",
       "0     39\n",
       "Name: 클러스터, dtype: int64"
      ]
     },
     "execution_count": 47,
     "metadata": {},
     "output_type": "execute_result"
    }
   ],
   "source": [
    "# 클러스터링 할 sample data 하나 생성\n",
    "sample_2022 = drop_data[\"2022-01-01\"]\n",
    "company = drop_data[\"2022-01-01\"].index.to_list()\n",
    "\n",
    "kmeans = KMeans(n_clusters=5, n_init=100, max_iter=10000)\n",
    "kmeans.fit(sample_2022)\n",
    "\n",
    "cluster_df = pd.DataFrame(data=np.c_[company,kmeans.labels_], columns=[\"기업공시코드\",\"클러스터\"])\n",
    "cluster_df[\"클러스터\"].value_counts()"
   ]
  },
  {
   "cell_type": "code",
   "execution_count": null,
   "metadata": {},
   "outputs": [],
   "source": []
  }
 ],
 "metadata": {
  "kernelspec": {
   "display_name": "base",
   "language": "python",
   "name": "python3"
  },
  "language_info": {
   "codemirror_mode": {
    "name": "ipython",
    "version": 3
   },
   "file_extension": ".py",
   "mimetype": "text/x-python",
   "name": "python",
   "nbconvert_exporter": "python",
   "pygments_lexer": "ipython3",
   "version": "3.9.12 (main, Apr  4 2022, 05:22:27) [MSC v.1916 64 bit (AMD64)]"
  },
  "orig_nbformat": 4,
  "vscode": {
   "interpreter": {
    "hash": "a077222d77dfe082b8f1dd562ad70e458ac2ab76993a0b248ab0476e32e9e8dd"
   }
  }
 },
 "nbformat": 4,
 "nbformat_minor": 2
}
