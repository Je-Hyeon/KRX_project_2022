{
 "cells": [
  {
   "attachments": {},
   "cell_type": "markdown",
   "metadata": {},
   "source": [
    "# 다트API\n",
    "\n",
    "*api key는 본인이 발급받은 key가 필요함"
   ]
  },
  {
   "cell_type": "code",
   "execution_count": 1,
   "metadata": {},
   "outputs": [],
   "source": [
    "import requests\n",
    "import tqdm\n",
    "\n",
    "api_key = '3ca9004a926faf0344572c21df9df1107c2f626b'"
   ]
  },
  {
   "attachments": {},
   "cell_type": "markdown",
   "metadata": {},
   "source": [
    "### 기업명-기업코드 읽어오기"
   ]
  },
  {
   "cell_type": "code",
   "execution_count": 2,
   "metadata": {},
   "outputs": [],
   "source": [
    "# 고유번호\n",
    "import zipfile\n",
    "from io import BytesIO\n",
    "\n",
    "url_unique = \"https://opendart.fss.or.kr/api/corpCode.xml?crtfc_key={}\"\n",
    "resq = requests.get(url_unique.format(api_key))\n",
    "z = zipfile.ZipFile(BytesIO(resq.content))"
   ]
  },
  {
   "cell_type": "code",
   "execution_count": 3,
   "metadata": {},
   "outputs": [
    {
     "data": {
      "text/plain": [
       "['CORPCODE.xml']"
      ]
     },
     "execution_count": 3,
     "metadata": {},
     "output_type": "execute_result"
    }
   ],
   "source": [
    "z.namelist()"
   ]
  },
  {
   "cell_type": "code",
   "execution_count": 4,
   "metadata": {},
   "outputs": [],
   "source": [
    "import xmltodict\n",
    "import json\n",
    "\n",
    "data_xml = z.read('CORPCODE.xml').decode('utf-8')\n",
    "data_odict = xmltodict.parse(data_xml)\n",
    "data_dict = json.loads(json.dumps(data_odict))\n",
    "data = data_dict.get('result', {}).get('list')"
   ]
  },
  {
   "cell_type": "code",
   "execution_count": 5,
   "metadata": {},
   "outputs": [],
   "source": [
    "# 상장사만 #code_dict에 저장되어 있음\n",
    "code_list = []\n",
    "for d in data:\n",
    "    if d['stock_code'] != None:\n",
    "        code_list.append([d['corp_code'], d['corp_name'],d['stock_code']])\n",
    "\n",
    "import pandas as pd\n",
    "\n",
    "df_corp = pd.DataFrame(data=code_list)\n",
    "df_corp.columns = ['corp_code','corp_name','stock_code']"
   ]
  },
  {
   "cell_type": "code",
   "execution_count": 6,
   "metadata": {},
   "outputs": [],
   "source": [
    "df_corp['stock_code'] = \"A\" + df_corp['stock_code'].apply(lambda x: x.zfill(6))\n",
    "df_corp.columns = [\"Dart코드\",\"회사명\",\"기업공시코드\"]\n",
    "df_corp = df_corp.sort_values(\"기업공시코드\").reset_index(drop=True)"
   ]
  },
  {
   "cell_type": "code",
   "execution_count": 7,
   "metadata": {},
   "outputs": [
    {
     "data": {
      "text/html": [
       "<div>\n",
       "<style scoped>\n",
       "    .dataframe tbody tr th:only-of-type {\n",
       "        vertical-align: middle;\n",
       "    }\n",
       "\n",
       "    .dataframe tbody tr th {\n",
       "        vertical-align: top;\n",
       "    }\n",
       "\n",
       "    .dataframe thead th {\n",
       "        text-align: right;\n",
       "    }\n",
       "</style>\n",
       "<table border=\"1\" class=\"dataframe\">\n",
       "  <thead>\n",
       "    <tr style=\"text-align: right;\">\n",
       "      <th></th>\n",
       "      <th>Dart코드</th>\n",
       "      <th>회사명</th>\n",
       "      <th>기업공시코드</th>\n",
       "    </tr>\n",
       "  </thead>\n",
       "  <tbody>\n",
       "    <tr>\n",
       "      <th>0</th>\n",
       "      <td>00149293</td>\n",
       "      <td>신한은행</td>\n",
       "      <td>A000010</td>\n",
       "    </tr>\n",
       "    <tr>\n",
       "      <th>1</th>\n",
       "      <td>00119195</td>\n",
       "      <td>동화약품</td>\n",
       "      <td>A000020</td>\n",
       "    </tr>\n",
       "    <tr>\n",
       "      <th>2</th>\n",
       "      <td>00254045</td>\n",
       "      <td>우리은행</td>\n",
       "      <td>A000030</td>\n",
       "    </tr>\n",
       "    <tr>\n",
       "      <th>3</th>\n",
       "      <td>00112378</td>\n",
       "      <td>KR모터스</td>\n",
       "      <td>A000040</td>\n",
       "    </tr>\n",
       "    <tr>\n",
       "      <th>4</th>\n",
       "      <td>00101628</td>\n",
       "      <td>경방</td>\n",
       "      <td>A000050</td>\n",
       "    </tr>\n",
       "  </tbody>\n",
       "</table>\n",
       "</div>"
      ],
      "text/plain": [
       "     Dart코드    회사명   기업공시코드\n",
       "0  00149293   신한은행  A000010\n",
       "1  00119195   동화약품  A000020\n",
       "2  00254045   우리은행  A000030\n",
       "3  00112378  KR모터스  A000040\n",
       "4  00101628     경방  A000050"
      ]
     },
     "execution_count": 7,
     "metadata": {},
     "output_type": "execute_result"
    }
   ],
   "source": [
    "df_corp.to_csv(\"기업명_기업코드.csv\")\n",
    "df_corp.head()"
   ]
  },
  {
   "attachments": {},
   "cell_type": "markdown",
   "metadata": {},
   "source": [
    "### 날짜 인덱스 생성"
   ]
  },
  {
   "cell_type": "code",
   "execution_count": 8,
   "metadata": {},
   "outputs": [],
   "source": [
    "## 날짜 인덱스 생성하기 (3달 window로 생성)\n",
    "\n",
    "# 시작 인덱스\n",
    "date_list = pd.date_range('20150101', '20160101', freq='3MS').astype('str').tolist()\n",
    "start_date_list = []\n",
    "for d in date_list:\n",
    "    start_date_list.append(d.replace('-',''))\n",
    "\n",
    "# 종료 인덱스\n",
    "date_list2= pd.date_range('20150301', '20160101', freq='3M').astype('str').tolist()\n",
    "end_date_list = []\n",
    "for d in date_list2:\n",
    "    end_date_list.append(d.replace('-',''))\n",
    "end_date_list.append('20160331') # 맨 끝 하나 추가\n",
    "\n",
    "final_date_list = list(zip(start_date_list, end_date_list))"
   ]
  },
  {
   "attachments": {},
   "cell_type": "markdown",
   "metadata": {},
   "source": [
    "### 공시검색 개발가이드\n",
    "\n",
    "* 모든 공시를 다가져온다"
   ]
  },
  {
   "cell_type": "code",
   "execution_count": 9,
   "metadata": {},
   "outputs": [
    {
     "name": "stderr",
     "output_type": "stream",
     "text": [
      "100%|██████████| 5/5 [00:01<00:00,  3.48it/s]\n"
     ]
    },
    {
     "data": {
      "text/plain": [
       "[['00260611', '크로바하이텍', '043590', '20150309', '[첨부추가]주요사항보고서(자기주식취득신탁계약체결결정)'],\n",
       " ['00121686', '엠케이전자', '033160', '20150127', '[첨부추가]주요사항보고서(자기주식취득신탁계약체결결정)'],\n",
       " ['00136642', '엠벤처투자', '019590', '20150331', '[기재정정]주요사항보고서(전환사채권발행결정)'],\n",
       " ['01046708', '바디텍메드', '206640', '20150331', '주요사항보고서(합병결정)'],\n",
       " ['00370200', '와이오엠', '066430', '20150331', '[기재정정]주요사항보고서(중요한자산양수도결정)']]"
      ]
     },
     "execution_count": 9,
     "metadata": {},
     "output_type": "execute_result"
    }
   ],
   "source": [
    "# 공시검색 개발가이드 (공시정보)\n",
    "url = \"https://opendart.fss.or.kr/api/list.json\"\n",
    "l_data = []\n",
    "\n",
    "for start, end in tqdm.tqdm(final_date_list):\n",
    "    param_dict = {'crtfc_key': api_key,\n",
    "              'bgn_de' : start, 'end_de': end,\n",
    "              'pblntf_ty': 'B',\n",
    "              'pblntf_detail_ty':'B001', 'corp_cls':'K',\n",
    "              'page_count':'100'}\n",
    "\n",
    "    req = requests.get(url, params=param_dict)\n",
    "    data_json = req.json()\n",
    "    # print(data_json)\n",
    "\n",
    "    for dict in data_json['list']:\n",
    "       l_data.append([dict['corp_code'], dict['corp_name'], dict['stock_code'], dict['rcept_dt'], dict['report_nm']])\n",
    "\n",
    "l_data[:5]"
   ]
  },
  {
   "cell_type": "code",
   "execution_count": 11,
   "metadata": {},
   "outputs": [],
   "source": [
    "from tqdm.contrib import tzip\n",
    "import time"
   ]
  },
  {
   "cell_type": "code",
   "execution_count": 12,
   "metadata": {},
   "outputs": [
    {
     "name": "stdout",
     "output_type": "stream",
     "text": [
      "{'status': '000', 'message': '정상', 'page_no': 1, 'page_count': 10, 'total_count': 25, 'total_page': 3, 'list': [{'corp_code': '00552859', 'corp_name': 'HLB테라퓨틱스', 'stock_code': '115450', 'corp_cls': 'K', 'report_nm': '주요사항보고서(유상증자결정)', 'rcept_no': '20230104000128', 'flr_nm': 'HLB테라퓨틱스', 'rcept_dt': '20230104', 'rm': '정'}, {'corp_code': '00552859', 'corp_name': 'HLB테라퓨틱스', 'stock_code': '115450', 'corp_cls': 'K', 'report_nm': '전환청구권행사(제14회차)', 'rcept_no': '20230102900801', 'flr_nm': 'HLB테라퓨틱스', 'rcept_dt': '20230102', 'rm': '코정'}, {'corp_code': '00552859', 'corp_name': 'HLB테라퓨틱스', 'stock_code': '115450', 'corp_cls': 'K', 'report_nm': '[기재정정]주식배당결정', 'rcept_no': '20221228900344', 'flr_nm': 'HLB테라퓨틱스', 'rcept_dt': '20221228', 'rm': '코'}, {'corp_code': '00552859', 'corp_name': 'HLB테라퓨틱스', 'stock_code': '115450', 'corp_cls': 'K', 'report_nm': '배당락(주식배당)', 'rcept_no': '20221227900898', 'flr_nm': '코스닥시장본부', 'rcept_dt': '20221227', 'rm': '코'}, {'corp_code': '00552859', 'corp_name': 'HLB테라퓨틱스', 'stock_code': '115450', 'corp_cls': 'K', 'report_nm': '임원ㆍ주요주주특정증권등소유상황보고서', 'rcept_no': '20221221000471', 'flr_nm': '노마드 제1호 조합', 'rcept_dt': '20221221', 'rm': ''}, {'corp_code': '00552859', 'corp_name': 'HLB테라퓨틱스', 'stock_code': '115450', 'corp_cls': 'K', 'report_nm': '단일판매ㆍ공급계약체결', 'rcept_no': '20221219900192', 'flr_nm': 'HLB테라퓨틱스', 'rcept_dt': '20221219', 'rm': '코'}, {'corp_code': '00552859', 'corp_name': 'HLB테라퓨틱스', 'stock_code': '115450', 'corp_cls': 'K', 'report_nm': '주식배당결정', 'rcept_no': '20221216900679', 'flr_nm': 'HLB테라퓨틱스', 'rcept_dt': '20221216', 'rm': '코정'}, {'corp_code': '00552859', 'corp_name': 'HLB테라퓨틱스', 'stock_code': '115450', 'corp_cls': 'K', 'report_nm': '주주명부폐쇄기간또는기준일설정', 'rcept_no': '20221215900460', 'flr_nm': 'HLB테라퓨틱스', 'rcept_dt': '20221215', 'rm': '코'}, {'corp_code': '00552859', 'corp_name': 'HLB테라퓨틱스', 'stock_code': '115450', 'corp_cls': 'K', 'report_nm': '주식등의대량보유상황보고서(일반)', 'rcept_no': '20221214000300', 'flr_nm': '노마드 제1호 조합', 'rcept_dt': '20221214', 'rm': ''}, {'corp_code': '00552859', 'corp_name': 'HLB테라퓨틱스', 'stock_code': '115450', 'corp_cls': 'K', 'report_nm': '분기보고서 (2022.09)', 'rcept_no': '20221114001658', 'flr_nm': 'HLB테라퓨틱스', 'rcept_dt': '20221114', 'rm': ''}]}\n"
     ]
    }
   ],
   "source": [
    "# 특정회사의 기간동안의 모든 공시 다 가져오기\n",
    "param = {\"crtfc_key\":api_key,\n",
    "         \"corp_code\":\"115450\",\n",
    "         \"bgn_de\":\"20220101\",\n",
    "         \"end_de\":\"20230107\"}\n",
    "\n",
    "req = requests.get(url, params=param)\n",
    "data_json = req.json()\n",
    "\n",
    "print(data_json)"
   ]
  },
  {
   "attachments": {},
   "cell_type": "markdown",
   "metadata": {},
   "source": [
    "### 유상증자 개발가이드"
   ]
  },
  {
   "cell_type": "code",
   "execution_count": 15,
   "metadata": {},
   "outputs": [],
   "source": [
    "stock_code_list = df_corp[\"Dart코드\"].values"
   ]
  },
  {
   "cell_type": "code",
   "execution_count": 16,
   "metadata": {},
   "outputs": [
    {
     "data": {
      "application/vnd.jupyter.widget-view+json": {
       "model_id": "986b026ba3204c1696fa8cc530b06780",
       "version_major": 2,
       "version_minor": 0
      },
      "text/plain": [
       "  0%|          | 0/100 [00:00<?, ?it/s]"
      ]
     },
     "metadata": {},
     "output_type": "display_data"
    },
    {
     "name": "stdout",
     "output_type": "stream",
     "text": [
      "{'status': '000', 'message': '정상', 'list': [{'rcept_no': '20221031000397', 'corp_cls': 'Y', 'corp_code': '00156150', 'corp_name': '하이트론씨스템즈', 'nstk_ostk_cnt': '2,148,995', 'nstk_estk_cnt': '-', 'fv_ps': '2,500', 'bfic_tisstk_ostk': '9,611,224', 'bfic_tisstk_estk': '-', 'fdpp_fclt': '-', 'fdpp_bsninh': '-', 'fdpp_op': '-', 'fdpp_dtrp': '-', 'fdpp_ocsa': '5,999,994,040', 'fdpp_etc': '-', 'ic_mthn': '제3자배정증자', 'ssl_at': 'N', 'ssl_bgd': '-', 'ssl_edd': '-'}]}\n",
      "{'status': '000', 'message': '정상', 'list': [{'rcept_no': '20230117000277', 'corp_cls': 'K', 'corp_code': '00110750', 'corp_name': '리더스 기술투자', 'nstk_ostk_cnt': '23,000,000', 'nstk_estk_cnt': '-', 'fv_ps': '500', 'bfic_tisstk_ostk': '130,043,703', 'bfic_tisstk_estk': '-', 'fdpp_fclt': '-', 'fdpp_bsninh': '-', 'fdpp_op': '11,500,000,000', 'fdpp_dtrp': '-', 'fdpp_ocsa': '-', 'fdpp_etc': '-', 'ic_mthn': '제3자배정증자', 'ssl_at': 'N', 'ssl_bgd': '-', 'ssl_edd': '-'}]}\n",
      "{'status': '000', 'message': '정상', 'list': [{'rcept_no': '20221208000503', 'corp_cls': 'K', 'corp_code': '00159731', 'corp_name': '글로본', 'nstk_ostk_cnt': '-', 'nstk_estk_cnt': '-', 'fv_ps': '500', 'bfic_tisstk_ostk': '34,323,675', 'bfic_tisstk_estk': '-', 'fdpp_fclt': '-', 'fdpp_bsninh': '-', 'fdpp_op': '-', 'fdpp_dtrp': '-', 'fdpp_ocsa': '-', 'fdpp_etc': '-', 'ic_mthn': '제3자배정증자', 'ssl_at': 'N', 'ssl_bgd': '-', 'ssl_edd': '-'}, {'rcept_no': '20221201000348', 'corp_cls': 'K', 'corp_code': '00159731', 'corp_name': '글로본', 'nstk_ostk_cnt': '467,071', 'nstk_estk_cnt': '-', 'fv_ps': '500', 'bfic_tisstk_ostk': '34,323,675', 'bfic_tisstk_estk': '-', 'fdpp_fclt': '-', 'fdpp_bsninh': '-', 'fdpp_op': '999,999,011', 'fdpp_dtrp': '-', 'fdpp_ocsa': '-', 'fdpp_etc': '-', 'ic_mthn': '제3자배정증자', 'ssl_at': 'N', 'ssl_bgd': '-', 'ssl_edd': '-'}]}\n",
      "{'status': '000', 'message': '정상', 'list': [{'rcept_no': '20220121000292', 'corp_cls': 'Y', 'corp_code': '00140131', 'corp_name': '키다리스튜디오', 'nstk_ostk_cnt': '1,378,600', 'nstk_estk_cnt': '-', 'fv_ps': '500', 'bfic_tisstk_ostk': '34,709,306', 'bfic_tisstk_estk': '-', 'fdpp_fclt': '-', 'fdpp_bsninh': '-', 'fdpp_op': '23,835,994,000', 'fdpp_dtrp': '-', 'fdpp_ocsa': '-', 'fdpp_etc': '-', 'ic_mthn': '제3자배정증자', 'ssl_at': 'N', 'ssl_bgd': '-', 'ssl_edd': '-'}]}\n",
      "{'status': '000', 'message': '정상', 'list': [{'rcept_no': '20220825000513', 'corp_cls': 'K', 'corp_code': '00148531', 'corp_name': '제이스코홀딩스', 'nstk_ostk_cnt': '584,795', 'nstk_estk_cnt': '-', 'fv_ps': '500', 'bfic_tisstk_ostk': '36,355,237', 'bfic_tisstk_estk': '-', 'fdpp_fclt': '-', 'fdpp_bsninh': '-', 'fdpp_op': '999,999,450', 'fdpp_dtrp': '-', 'fdpp_ocsa': '-', 'fdpp_etc': '-', 'ic_mthn': '제3자배정증자', 'ssl_at': 'N', 'ssl_bgd': '-', 'ssl_edd': '-'}, {'rcept_no': '20221227000254', 'corp_cls': 'K', 'corp_code': '00148531', 'corp_name': '제이스코홀딩스', 'nstk_ostk_cnt': '3,904,555', 'nstk_estk_cnt': '-', 'fv_ps': '500', 'bfic_tisstk_ostk': '40,028,446', 'bfic_tisstk_estk': '-', 'fdpp_fclt': '-', 'fdpp_bsninh': '-', 'fdpp_op': '8,999,999,275', 'fdpp_dtrp': '-', 'fdpp_ocsa': '-', 'fdpp_etc': '-', 'ic_mthn': '제3자배정증자', 'ssl_at': 'N', 'ssl_bgd': '-', 'ssl_edd': '-'}]}\n"
     ]
    }
   ],
   "source": [
    "url = \"https://opendart.fss.or.kr/api/piicDecsn.json\"\n",
    "l = []\n",
    "\n",
    "for code, count in tzip(stock_code_list[700:800], range(len(stock_code_list[700:800]))):\n",
    "    param = {\"crtfc_key\":api_key,\n",
    "             \"corp_code\":code,\n",
    "             \"bgn_de\":\"20220101\",\n",
    "             \"end_de\":\"20221231\"}\n",
    "    \n",
    "    req = requests.get(url, params=param)\n",
    "    data_json = req.json()\n",
    "\n",
    "    if data_json['status'] == '000':\n",
    "        l.append(data_json[\"list\"])\n",
    "        print(data_json)\n",
    "    if int(count) == 20:\n",
    "        time.sleep(1)"
   ]
  },
  {
   "attachments": {},
   "cell_type": "markdown",
   "metadata": {},
   "source": [
    "### 종목코드 불러오기"
   ]
  },
  {
   "cell_type": "code",
   "execution_count": 8,
   "metadata": {},
   "outputs": [
    {
     "data": {
      "text/html": [
       "<div>\n",
       "<style scoped>\n",
       "    .dataframe tbody tr th:only-of-type {\n",
       "        vertical-align: middle;\n",
       "    }\n",
       "\n",
       "    .dataframe tbody tr th {\n",
       "        vertical-align: top;\n",
       "    }\n",
       "\n",
       "    .dataframe thead th {\n",
       "        text-align: right;\n",
       "    }\n",
       "</style>\n",
       "<table border=\"1\" class=\"dataframe\">\n",
       "  <thead>\n",
       "    <tr style=\"text-align: right;\">\n",
       "      <th></th>\n",
       "      <th>Dart코드</th>\n",
       "      <th>회사명</th>\n",
       "      <th>기업공시코드</th>\n",
       "    </tr>\n",
       "  </thead>\n",
       "  <tbody>\n",
       "    <tr>\n",
       "      <th>0</th>\n",
       "      <td>00149293</td>\n",
       "      <td>신한은행</td>\n",
       "      <td>A000010</td>\n",
       "    </tr>\n",
       "    <tr>\n",
       "      <th>1</th>\n",
       "      <td>00119195</td>\n",
       "      <td>동화약품</td>\n",
       "      <td>A000020</td>\n",
       "    </tr>\n",
       "    <tr>\n",
       "      <th>2</th>\n",
       "      <td>00254045</td>\n",
       "      <td>우리은행</td>\n",
       "      <td>A000030</td>\n",
       "    </tr>\n",
       "    <tr>\n",
       "      <th>3</th>\n",
       "      <td>00112378</td>\n",
       "      <td>KR모터스</td>\n",
       "      <td>A000040</td>\n",
       "    </tr>\n",
       "    <tr>\n",
       "      <th>4</th>\n",
       "      <td>00101628</td>\n",
       "      <td>경방</td>\n",
       "      <td>A000050</td>\n",
       "    </tr>\n",
       "  </tbody>\n",
       "</table>\n",
       "</div>"
      ],
      "text/plain": [
       "     Dart코드    회사명   기업공시코드\n",
       "0  00149293   신한은행  A000010\n",
       "1  00119195   동화약품  A000020\n",
       "2  00254045   우리은행  A000030\n",
       "3  00112378  KR모터스  A000040\n",
       "4  00101628     경방  A000050"
      ]
     },
     "execution_count": 8,
     "metadata": {},
     "output_type": "execute_result"
    }
   ],
   "source": [
    "df_corp.head()"
   ]
  },
  {
   "cell_type": "code",
   "execution_count": 9,
   "metadata": {},
   "outputs": [
    {
     "name": "stderr",
     "output_type": "stream",
     "text": [
      "100%|██████████| 3534/3534 [12:52<00:00,  4.57it/s]\n"
     ]
    }
   ],
   "source": [
    "import time\n",
    "import pandas as pd\n",
    "from tqdm import tqdm\n",
    "\n",
    "url_code = \"https://opendart.fss.or.kr/api/company.json\"\n",
    "return_dict = {}\n",
    "\n",
    "for i,key in enumerate(tqdm(df_corp[\"Dart코드\"].values)):\n",
    "    param = {\"crtfc_key\":api_key,\n",
    "             \"corp_code\":key}\n",
    "    if i%20 == 0:\n",
    "        time.sleep(2)\n",
    "    req = requests.get(url=url_code, \n",
    "                       params=param).json()\n",
    "    if req[\"status\"] != \"000\":\n",
    "        print(i, key, \"오류발생!!\")\n",
    "    return_dict[req[\"stock_code\"]] = req[\"corp_cls\"]\n",
    "\n",
    "pd.Series(return_dict).to_csv(\"기업코드_시장.csv\")"
   ]
  },
  {
   "cell_type": "code",
   "execution_count": 23,
   "metadata": {},
   "outputs": [],
   "source": [
    "s = pd.read_csv(\"기업코드_시장.csv\")\n",
    "\n",
    "s.columns = [\"기업공시코드\",\"시장\"]\n",
    "\n",
    "s[\"기업공시코드\"] = s[\"기업공시코드\"].apply(lambda x:\"A\" + str(x).zfill(6))\n",
    "\n",
    "s1 = s.loc[s[\"시장\"] == \"Y\"]\n",
    "s2 = s.loc[s[\"시장\"] == \"K\"]\n",
    "\n",
    "pd.concat([s1,s2]).sort_values(\"기업공시코드\").reset_index(drop=True).to_csv(\"기업코드_시장.csv\")"
   ]
  }
 ],
 "metadata": {
  "kernelspec": {
   "display_name": "Python 3.9.12 ('base')",
   "language": "python",
   "name": "python3"
  },
  "language_info": {
   "codemirror_mode": {
    "name": "ipython",
    "version": 3
   },
   "file_extension": ".py",
   "mimetype": "text/x-python",
   "name": "python",
   "nbconvert_exporter": "python",
   "pygments_lexer": "ipython3",
   "version": "3.9.12 (main, Apr  4 2022, 05:22:27) [MSC v.1916 64 bit (AMD64)]"
  },
  "orig_nbformat": 4,
  "vscode": {
   "interpreter": {
    "hash": "a077222d77dfe082b8f1dd562ad70e458ac2ab76993a0b248ab0476e32e9e8dd"
   }
  }
 },
 "nbformat": 4,
 "nbformat_minor": 2
}
