{
 "cells": [
  {
   "attachments": {},
   "cell_type": "markdown",
   "metadata": {},
   "source": [
    "# 데이터를 합쳐보자!\n",
    "\n",
    "*2012~2022 까지 존재하는 11개의 csv파일을 하나로 합쳐보자"
   ]
  },
  {
   "cell_type": "code",
   "execution_count": 1,
   "metadata": {},
   "outputs": [],
   "source": [
    "import pandas as pd \n",
    "import numpy as np"
   ]
  },
  {
   "cell_type": "code",
   "execution_count": 48,
   "metadata": {},
   "outputs": [],
   "source": [
    "what = \"횡령배임사실확인\"\n",
    "for year in range(2012,2023):\n",
    "    globals()[\"df\"+str(year)] = pd.read_csv(\"{}_코스피_{}-01-01-{}-12-31.csv\".format(what,year,year), index_col=0)\n",
    "full_df = pd.concat([df2022,df2021,df2020,df2019,df2018,df2017,df2016,df2015,df2014,df2013,df2012]).reset_index(drop=True)"
   ]
  },
  {
   "cell_type": "code",
   "execution_count": 49,
   "metadata": {},
   "outputs": [],
   "source": [
    "for year in range(2012,2023):\n",
    "    globals()[\"df\"+str(year)] = pd.read_csv(\"{}_코스닥_{}-01-01-{}-12-31.csv\".format(what,year,year), index_col=0)\n",
    "full_df2 = pd.concat([df2022,df2021,df2020,df2019,df2018,df2017,df2016,df2015,df2014,df2013,df2012]).reset_index(drop=True)\n",
    "\n",
    "#full_df[\"공시일\"] = pd.to_datetime(full_df[\"공시일\"])\n",
    "#full_df.sort_values(\"공시일\").reset_index(drop=True).to_csv(\"횡령배임혐의발생_코스닥.csv\")"
   ]
  },
  {
   "cell_type": "code",
   "execution_count": 53,
   "metadata": {},
   "outputs": [],
   "source": [
    "full_df.to_csv(\"횡령배임사실확인_코스피.csv\")\n",
    "full_df2.to_csv(\"횡령배임사실확인_코스닥.csv\")"
   ]
  },
  {
   "cell_type": "code",
   "execution_count": 54,
   "metadata": {},
   "outputs": [],
   "source": [
    "# 코스피와 코스닥을 합치자\n",
    "full = pd.concat([full_df,full_df2])\n",
    "full[\"공시일\"] = pd.to_datetime(full[\"공시일\"])\n",
    "full.sort_values(\"공시일\").reset_index(drop=True).to_csv(\"횡령배임사실확인_전체시장.csv\".format(what))"
   ]
  },
  {
   "attachments": {},
   "cell_type": "markdown",
   "metadata": {},
   "source": [
    "# Crosstab을 만들어보자\n",
    "\n",
    "* 금융시계열 형태의 데이터로 변경해주자"
   ]
  },
  {
   "cell_type": "code",
   "execution_count": 1,
   "metadata": {},
   "outputs": [],
   "source": [
    "import numpy as np\n",
    "import pandas as pd"
   ]
  },
  {
   "cell_type": "code",
   "execution_count": 9,
   "metadata": {},
   "outputs": [],
   "source": [
    "what = \"투자주의\"\n",
    "\n",
    "df1 = pd.read_csv(\"Data/KIND데이터/{}/{}_코스닥_2012-2022.csv\".format(what,what), index_col=0)#, encoding='euc-kr')\n",
    "df2 = pd.read_csv(\"Data/KIND데이터/{}/{}_코스피_2012-2022.csv\".format(what,what), index_col=0)#, encoding='euc-kr')\n",
    "\n",
    "full_df = pd.concat([df1,df2])\n",
    "full_df[\"공시일\"] = pd.to_datetime(full_df[\"공시일\"])\n",
    "full_df = full_df.sort_values(\"공시일\").reset_index(drop=True)\n",
    "full_df.columns = ['회사명', '기업공시코드', '공시일', '보고서명', '정정공시코드', '현재공시코드']"
   ]
  },
  {
   "cell_type": "code",
   "execution_count": 4,
   "metadata": {},
   "outputs": [],
   "source": [
    "#pd.set_option('display.max_rows', 436)\n",
    "\n",
    "#full_df = full_df.drop(83, axis=0).reset_index(drop=True)"
   ]
  },
  {
   "cell_type": "code",
   "execution_count": 5,
   "metadata": {},
   "outputs": [],
   "source": [
    "# 숫자의 쉼표제거하기 (정수변환)\n",
    "#full_df[\"거래금액(백만 원)\"] = full_df[\"거래금액(백만 원)\"].apply(lambda x: str(x).replace(',','')).astype(\"int64\")\n",
    "\n",
    "# 소수로 변환하기\n",
    "#full_df[\"자기자본대비(%)\"] = full_df[\"자기자본대비(%)\"].astype(\"float64\")"
   ]
  },
  {
   "cell_type": "code",
   "execution_count": 11,
   "metadata": {},
   "outputs": [
    {
     "data": {
      "text/html": [
       "<div>\n",
       "<style scoped>\n",
       "    .dataframe tbody tr th:only-of-type {\n",
       "        vertical-align: middle;\n",
       "    }\n",
       "\n",
       "    .dataframe tbody tr th {\n",
       "        vertical-align: top;\n",
       "    }\n",
       "\n",
       "    .dataframe thead th {\n",
       "        text-align: right;\n",
       "    }\n",
       "</style>\n",
       "<table border=\"1\" class=\"dataframe\">\n",
       "  <thead>\n",
       "    <tr style=\"text-align: right;\">\n",
       "      <th></th>\n",
       "      <th>회사명</th>\n",
       "      <th>기업공시코드</th>\n",
       "      <th>공시일</th>\n",
       "      <th>보고서명</th>\n",
       "      <th>정정공시코드</th>\n",
       "      <th>현재공시코드</th>\n",
       "    </tr>\n",
       "  </thead>\n",
       "  <tbody>\n",
       "    <tr>\n",
       "      <th>0</th>\n",
       "      <td>범양건영</td>\n",
       "      <td>A002410</td>\n",
       "      <td>2012-01-02</td>\n",
       "      <td>[투자주의]종가급변 종목</td>\n",
       "      <td>없음</td>\n",
       "      <td>20120102000705</td>\n",
       "    </tr>\n",
       "    <tr>\n",
       "      <th>1</th>\n",
       "      <td>범양건영</td>\n",
       "      <td>A002410</td>\n",
       "      <td>2012-01-02</td>\n",
       "      <td>[투자주의]종가급변 종목</td>\n",
       "      <td>없음</td>\n",
       "      <td>20120102000705</td>\n",
       "    </tr>\n",
       "    <tr>\n",
       "      <th>2</th>\n",
       "      <td>진흥기업</td>\n",
       "      <td>A002780</td>\n",
       "      <td>2012-01-03</td>\n",
       "      <td>[투자주의]종가급변 종목(진흥기업2우B)</td>\n",
       "      <td>없음</td>\n",
       "      <td>20120103000812</td>\n",
       "    </tr>\n",
       "    <tr>\n",
       "      <th>3</th>\n",
       "      <td>덕양산업</td>\n",
       "      <td>A024900</td>\n",
       "      <td>2012-01-03</td>\n",
       "      <td>[투자주의]15일간 상승종목의 당일 소수계좌 매수관여 과다종목</td>\n",
       "      <td>없음</td>\n",
       "      <td>20120103000811</td>\n",
       "    </tr>\n",
       "    <tr>\n",
       "      <th>4</th>\n",
       "      <td>덕양산업</td>\n",
       "      <td>A024900</td>\n",
       "      <td>2012-01-03</td>\n",
       "      <td>[투자주의]15일간 상승종목의 당일 소수계좌 매수관여 과다종목</td>\n",
       "      <td>없음</td>\n",
       "      <td>20120103000811</td>\n",
       "    </tr>\n",
       "  </tbody>\n",
       "</table>\n",
       "</div>"
      ],
      "text/plain": [
       "    회사명   기업공시코드        공시일                                보고서명 정정공시코드  \\\n",
       "0  범양건영  A002410 2012-01-02                       [투자주의]종가급변 종목     없음   \n",
       "1  범양건영  A002410 2012-01-02                       [투자주의]종가급변 종목     없음   \n",
       "2  진흥기업  A002780 2012-01-03              [투자주의]종가급변 종목(진흥기업2우B)     없음   \n",
       "3  덕양산업  A024900 2012-01-03  [투자주의]15일간 상승종목의 당일 소수계좌 매수관여 과다종목     없음   \n",
       "4  덕양산업  A024900 2012-01-03  [투자주의]15일간 상승종목의 당일 소수계좌 매수관여 과다종목     없음   \n",
       "\n",
       "           현재공시코드  \n",
       "0  20120102000705  \n",
       "1  20120102000705  \n",
       "2  20120103000812  \n",
       "3  20120103000811  \n",
       "4  20120103000811  "
      ]
     },
     "execution_count": 11,
     "metadata": {},
     "output_type": "execute_result"
    }
   ],
   "source": [
    "full_df.head()"
   ]
  },
  {
   "cell_type": "code",
   "execution_count": 14,
   "metadata": {},
   "outputs": [],
   "source": [
    "# 저장해보자\n",
    "count_df = pd.crosstab(full_df[\"공시일\"], full_df[\"기업공시코드\"])\n",
    "count_df.to_csv(\"{}카운트_전체시장.csv\".format(what))"
   ]
  },
  {
   "cell_type": "code",
   "execution_count": 55,
   "metadata": {},
   "outputs": [],
   "source": [
    "sum_df = pd.crosstab(full_df[\"공시일\"], full_df[\"기업공시코드\"], values=full_df[\"거래금액(백만 원)\"], aggfunc=sum).fillna(0)\n",
    "sum_df.to_csv(\"{}금액_전체시장.csv\".format(what), encoding='euc-kr')"
   ]
  },
  {
   "cell_type": "code",
   "execution_count": 31,
   "metadata": {},
   "outputs": [],
   "source": [
    "sum2_df = pd.crosstab(full_df[\"공시일\"], full_df[\"기업공시코드\"], values=full_df[\"자기자본대비(%)\"], aggfunc=sum).fillna(0)\n",
    "sum2_df.to_csv(\"{}자기자본대비_전체시장.csv\".format(what), encoding='euc-kr')"
   ]
  }
 ],
 "metadata": {
  "kernelspec": {
   "display_name": "base",
   "language": "python",
   "name": "python3"
  },
  "language_info": {
   "codemirror_mode": {
    "name": "ipython",
    "version": 3
   },
   "file_extension": ".py",
   "mimetype": "text/x-python",
   "name": "python",
   "nbconvert_exporter": "python",
   "pygments_lexer": "ipython3",
   "version": "3.9.12 (main, Apr  4 2022, 05:22:27) [MSC v.1916 64 bit (AMD64)]"
  },
  "orig_nbformat": 4,
  "vscode": {
   "interpreter": {
    "hash": "a077222d77dfe082b8f1dd562ad70e458ac2ab76993a0b248ab0476e32e9e8dd"
   }
  }
 },
 "nbformat": 4,
 "nbformat_minor": 2
}
