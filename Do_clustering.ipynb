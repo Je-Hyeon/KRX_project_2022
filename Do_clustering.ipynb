{
 "cells": [
  {
   "attachments": {},
   "cell_type": "markdown",
   "metadata": {},
   "source": [
    "# 라이브러리를 사용해서 클러스터링을 해보자\n",
    "\n",
    "read_data_from_folder"
   ]
  },
  {
   "cell_type": "code",
   "execution_count": 1,
   "metadata": {},
   "outputs": [],
   "source": [
    "import os\n",
    "import numpy as np\n",
    "import pandas as pd \n",
    "from krx_fr.preprocess import tools, scaler\n",
    "from krx_fr.cluster.kmeans import MyKmeans"
   ]
  },
  {
   "cell_type": "code",
   "execution_count": 4,
   "metadata": {},
   "outputs": [
    {
     "name": "stderr",
     "output_type": "stream",
     "text": [
      "c:\\Jehyeon\\2022_Winter_KRX\\KRX\\krx_fr\\preprocess\\tools.py:25: DtypeWarning: Columns (3,4,27,31,36,40,63,65,71,103,104,105,115,121,132,160,179,180,182,187,197,199,204,207,214,217,224,225,226,240,248,257,261,265,275,279,282,301,307,309,312,314,319,324,328,338,347,352,353,360,364,369,372,373,381,387,390,392,393,398,407,412,416,438,443,456,467,468,474,480,484,494,507,509,512,513,525,529,537,540,543,547,558,560,565,579,591,592,594,600,601,606,612,620,634,637,641,647,657,663,667,675,688,690,692,695,702,720,722,731,747,749,768,772,780,787,788,801,825,827,828,829,836,837,839,843,844,854,861,863,880,890,891,896,904,906,910,930,931,932,940,946,948,949,952,956,960,961,978,994,1007,1008,1014,1032,1038,1039,1047,1049,1050,1063,1074,1075,1090,1092,1099,1105,1113,1123,1131,1141,1144,1148,1153,1170,1173,1180,1188,1195,1202,1205,1206,1209,1210,1212,1222,1225,1226,1227,1237,1241,1244,1246,1247,1286,1289,1296,1304,1309,1311,1316,1318,1325,1326,1330,1346,1347,1351,1362,1384,1388,1389,1391,1392,1394,1397,1398,1399,1402,1409,1411,1426,1433,1435,1448,1457,1458,1460,1463,1464,1465,1472,1473,1476,1484,1497,1503,1507,1512,1522,1525,1531,1532,1534,1535,1538,1543,1553,1564,1566,1569,1570,1574,1579,1589,1594,1600,1602,1605,1607,1610,1620,1623,1624,1630,1631,1632,1642,1648,1652,1653,1656,1669,1670,1673,1675,1677,1678,1679,1682,1691,1693,1695,1698,1709,1713,1721,1722,1725,1729,1734,1743,1746,1748,1752,1761,1767,1771,1780,1786,1792,1794,1800,1804,1805,1813,1814,1817,1818,1819,1825,1827,1828,1838,1839,1841,1846,1850,1851,1852,1855,1863,1864,1869,1874,1876,1880,1881,1891,1892,1893,1898,1902,1905,1907,1908,1913,1926,1927,1935,1947,1952,1956,1959,1964,1966,1973,1977,1978,1979,1980,1983,1998,2001,2003,2010,2017,2026,2028,2029,2030,2033,2036,2040,2049,2055,2056,2058,2065,2067,2069,2070,2071,2072,2073,2074,2077,2079,2084,2087,2088,2090,2097,2099,2100,2103,2107,2108,2109,2117,2119,2129,2132,2136,2137,2138,2139,2140,2149,2150,2154,2155,2156,2161,2181,2183,2190,2191,2192,2195,2196,2197,2209,2211,2213,2218,2223,2224,2225,2227,2230,2233,2238,2239,2247,2254,2260,2261,2272,2273,2275,2276,2290,2295,2296,2298,2300,2304,2307,2311,2314,2319,2330,2331,2332,2334,2338,2341,2343,2347,2352,2353,2359,2361,2362,2367,2368,2369,2370,2371,2377,2380,2382,2385,2387,2390,2392,2393,2396,2398,2401,2402,2403,2407,2411,2412,2413,2414,2415,2421,2423,2425,2426,2429,2438,2439,2450,2451,2453,2455,2459,2464,2467,2473,2475,2480,2485,2487,2491,2494,2497,2499,2502,2503,2504,2511,2514,2516,2517,2523,2525,2527,2532,2533,2535,2537,2538,2542,2544,2548,2549,2550,2551,2555,2556,2559,2561,2569,2571,2576,2578,2582,2586,2587,2588,2589,2590,2591,2592,2593,2594,2595,2597,2598,2600,2601,2602,2603,2609,2611,2612,2614,2621,2624,2627,2628,2629,2630,2635,2643,2644,2645,2648,2650,2654,2656,2657,2665,2667,2668,2669,2670,2671,2676,2677,2680,2681,2682,2687,2688,2689,2693,2695,2703,2704,2705,2706,2709,2710,2712,2717,2718,2719,2720,2724,2725,2726,2728,2730,2732,2736,2737,2739,2740,2741,2743,2744,2745,2746,2747,2748,2750,2752,2753,2754,2755,2756,2757,2758,2760,2761,2763,2764,2765,2766,2767,2768,2769,2770,2771,2772,2773,2774,2775,2776,2777,2778,2779,2780,2781,2782,2783,2784,2785,2786,2787,2788,2789,2790,2791,2792,2793,2794,2795,2796,2797,2798,2799,2800,2801,2802,2803,2804,2805,2806,2807,2808,2809,2810,2811,2812,2813,2814,2815,2816,2817,2818,2819,2820,2821,2822,2823,2824,2825,2826,2827,2828,2829,2830,2831,2832,2833,2834,2835,2836,2837,2838,2839,2840,2841,2842,2843,2844,2845,2846,2847,2848,2849,2850,2851,2852,2853,2854,2855,2856,2857,2858,2859,2860,2861,2862,2863,2864,2865,2866,2867,2868,2869,2870,2871,2872,2873,2874,2875,2876,2877,2878,2879,2880,2881,2882,2883,2884,2885,2886,2887,2888,2889,2890,2891,2892,2893,2894,2895,2896,2897,2898,2899,2900,2901,2902,2903,2904,2905,2906,2907,2908,2909,2910,2911,2912,2913,2914,2915,2916,2917,2918,2919,2920,2921,2922,2923,2924,2925,2926,2927,2928,2929,2930,2931,2932,2933,2934,2935,2936,2937,2938,2939,2940,2941,2942,2943,2944,2945,2946,2947,2948,2949,2950,2951,2952,2953,2954,2955,2956,2957,2958,2959,2960,2961,2962,2963,2964,2965,2966,2967,2968,2969,2970,2971,2972,2973,2974,2975,2976,2977,2978,2979,2980,2981,2982,2983,2984,2985,2986,2987,2988,2989,2990,2991,2992,2993,2994,2995,2996,2997,2998,2999,3000,3001,3002,3003,3004,3005,3006,3007,3008,3009,3010,3011,3012,3013,3014,3015,3016,3017,3018,3019,3020,3021,3022,3023,3024,3025,3026,3027,3028,3029,3030,3031,3032,3033,3034,3035,3036,3037,3038,3039,3040,3041,3042,3043,3044,3045,3046,3047,3048,3049,3050,3051,3052,3053,3054,3055,3056,3057,3058,3059,3060,3061,3062,3063,3064,3065,3066,3067,3068,3069,3070,3071,3072,3073,3074,3075,3076,3077,3078,3079,3080,3081,3082,3083,3084,3085,3086,3087,3088,3089,3090,3091,3092,3093,3094,3095,3096,3097,3098,3099,3100,3101,3102,3103,3104,3105,3106,3107,3108,3109,3110,3111,3112,3113,3114,3115,3116,3117,3118,3119,3120,3121,3122,3123,3124,3125,3126,3127,3128,3129,3130,3131,3132,3133,3134,3135,3136,3137,3138,3139,3140,3141,3142,3143,3144,3145,3146,3147,3148,3149,3150,3151,3152,3153,3154,3155,3156,3157,3158,3159,3160,3161,3162,3163,3164,3165,3166,3167,3168,3169,3170,3171,3172,3173,3174,3175,3176,3177,3178,3179,3180,3181,3182,3183,3184,3185,3186,3187,3188,3189,3190,3191,3192,3193,3194,3195,3196,3197,3198,3199,3200,3201,3202,3203,3204,3205,3206,3207,3208,3209,3210,3211,3212,3213,3214,3215,3216,3217,3218,3219,3220,3221,3222,3223,3224,3225,3227,3228,3229,3230,3231,3232,3233,3234,3235,3236,3237,3238,3239,3240,3241,3242,3243,3244,3245,3246,3247,3248,3249,3250,3251,3252,3253,3254,3255,3256,3257,3258,3259,3260,3261,3262,3263,3264,3265,3266,3267,3268,3269,3270,3271,3272,3273,3274,3275,3276,3277,3278,3279,3280,3281,3282,3283,3284,3285,3286,3287,3288,3289,3290,3291,3292,3293,3294,3295,3296,3297,3298,3299,3300,3301,3302,3303,3304,3305,3306,3307,3308,3309,3310,3311,3312,3313,3314,3315,3316,3317,3318,3319,3320,3321,3322,3323,3324,3325,3326,3327,3328,3329,3330,3331,3332,3333,3334,3335,3336,3337,3338,3339,3340,3341,3342,3343,3344,3345,3346,3347,3348,3349,3350,3351,3352,3353,3354,3355,3356,3357,3358,3359,3360,3361,3362,3363,3364,3365,3366,3367,3368,3369,3370,3371,3372,3373,3374,3375,3376,3377,3378,3379,3380,3381,3382,3383,3384,3385,3386,3387,3388,3389,3390,3391,3392,3393,3394,3395,3396,3397,3398,3399,3400,3401,3402,3403,3404,3405,3406,3407,3408,3409,3410,3411,3412,3413,3414,3415,3416,3417,3418,3419,3420,3421,3422,3423,3424,3425,3426,3427,3428,3429,3430,3431,3432,3433,3434,3435,3436,3437,3438,3439,3440,3441,3442,3443,3444,3445,3446,3447,3448,3449,3450,3451,3452,3453,3455,3456,3457,3459,3460,3461,3462,3463,3464,3465,3466,3467,3468,3469,3470,3471,3472,3473,3474,3475,3476,3477,3478,3479,3480,3481,3482) have mixed types. Specify dtype option on import or set low_memory=False.\n",
      "  result[filename.split('.')[0]] = pd.read_csv(folder+filename, index_col=0)\n"
     ]
    },
    {
     "ename": "KeyError",
     "evalue": "Timestamp('2012-01-01 00:00:00', freq='AS-JAN')",
     "output_type": "error",
     "traceback": [
      "\u001b[1;31m---------------------------------------------------------------------------\u001b[0m",
      "\u001b[1;31mKeyError\u001b[0m                                  Traceback (most recent call last)",
      "File \u001b[1;32mc:\\Users\\user\\anaconda3\\lib\\site-packages\\pandas\\core\\indexes\\base.py:3621\u001b[0m, in \u001b[0;36mIndex.get_loc\u001b[1;34m(self, key, method, tolerance)\u001b[0m\n\u001b[0;32m   3620\u001b[0m \u001b[39mtry\u001b[39;00m:\n\u001b[1;32m-> 3621\u001b[0m     \u001b[39mreturn\u001b[39;00m \u001b[39mself\u001b[39;49m\u001b[39m.\u001b[39;49m_engine\u001b[39m.\u001b[39;49mget_loc(casted_key)\n\u001b[0;32m   3622\u001b[0m \u001b[39mexcept\u001b[39;00m \u001b[39mKeyError\u001b[39;00m \u001b[39mas\u001b[39;00m err:\n",
      "File \u001b[1;32mc:\\Users\\user\\anaconda3\\lib\\site-packages\\pandas\\_libs\\index.pyx:513\u001b[0m, in \u001b[0;36mpandas._libs.index.DatetimeEngine.get_loc\u001b[1;34m()\u001b[0m\n",
      "File \u001b[1;32mc:\\Users\\user\\anaconda3\\lib\\site-packages\\pandas\\_libs\\index.pyx:542\u001b[0m, in \u001b[0;36mpandas._libs.index.DatetimeEngine.get_loc\u001b[1;34m()\u001b[0m\n",
      "File \u001b[1;32mc:\\Users\\user\\anaconda3\\lib\\site-packages\\pandas\\_libs\\index.pyx:201\u001b[0m, in \u001b[0;36mpandas._libs.index.IndexEngine._get_loc_duplicates\u001b[1;34m()\u001b[0m\n",
      "File \u001b[1;32mc:\\Users\\user\\anaconda3\\lib\\site-packages\\pandas\\_libs\\index.pyx:209\u001b[0m, in \u001b[0;36mpandas._libs.index.IndexEngine._maybe_get_bool_indexer\u001b[1;34m()\u001b[0m\n",
      "File \u001b[1;32mc:\\Users\\user\\anaconda3\\lib\\site-packages\\pandas\\_libs\\index.pyx:107\u001b[0m, in \u001b[0;36mpandas._libs.index._unpack_bool_indexer\u001b[1;34m()\u001b[0m\n",
      "\u001b[1;31mKeyError\u001b[0m: 1325376000000000000",
      "\nThe above exception was the direct cause of the following exception:\n",
      "\u001b[1;31mKeyError\u001b[0m                                  Traceback (most recent call last)",
      "File \u001b[1;32mc:\\Users\\user\\anaconda3\\lib\\site-packages\\pandas\\core\\indexes\\datetimes.py:679\u001b[0m, in \u001b[0;36mDatetimeIndex.get_loc\u001b[1;34m(self, key, method, tolerance)\u001b[0m\n\u001b[0;32m    678\u001b[0m \u001b[39mtry\u001b[39;00m:\n\u001b[1;32m--> 679\u001b[0m     \u001b[39mreturn\u001b[39;00m Index\u001b[39m.\u001b[39;49mget_loc(\u001b[39mself\u001b[39;49m, key, method, tolerance)\n\u001b[0;32m    680\u001b[0m \u001b[39mexcept\u001b[39;00m \u001b[39mKeyError\u001b[39;00m \u001b[39mas\u001b[39;00m err:\n",
      "File \u001b[1;32mc:\\Users\\user\\anaconda3\\lib\\site-packages\\pandas\\core\\indexes\\base.py:3623\u001b[0m, in \u001b[0;36mIndex.get_loc\u001b[1;34m(self, key, method, tolerance)\u001b[0m\n\u001b[0;32m   3622\u001b[0m \u001b[39mexcept\u001b[39;00m \u001b[39mKeyError\u001b[39;00m \u001b[39mas\u001b[39;00m err:\n\u001b[1;32m-> 3623\u001b[0m     \u001b[39mraise\u001b[39;00m \u001b[39mKeyError\u001b[39;00m(key) \u001b[39mfrom\u001b[39;00m \u001b[39merr\u001b[39;00m\n\u001b[0;32m   3624\u001b[0m \u001b[39mexcept\u001b[39;00m \u001b[39mTypeError\u001b[39;00m:\n\u001b[0;32m   3625\u001b[0m     \u001b[39m# If we have a listlike key, _check_indexing_error will raise\u001b[39;00m\n\u001b[0;32m   3626\u001b[0m     \u001b[39m#  InvalidIndexError. Otherwise we fall through and re-raise\u001b[39;00m\n\u001b[0;32m   3627\u001b[0m     \u001b[39m#  the TypeError.\u001b[39;00m\n",
      "\u001b[1;31mKeyError\u001b[0m: Timestamp('2012-01-01 00:00:00', freq='AS-JAN')",
      "\nThe above exception was the direct cause of the following exception:\n",
      "\u001b[1;31mKeyError\u001b[0m                                  Traceback (most recent call last)",
      "\u001b[1;32mc:\\Jehyeon\\2022_Winter_KRX\\KRX\\Do_clustering.ipynb Cell 3\u001b[0m in \u001b[0;36m<cell line: 5>\u001b[1;34m()\u001b[0m\n\u001b[0;32m      <a href='vscode-notebook-cell:/c%3A/Jehyeon/2022_Winter_KRX/KRX/Do_clustering.ipynb#W2sZmlsZQ%3D%3D?line=1'>2</a>\u001b[0m financial_data \u001b[39m=\u001b[39m tools\u001b[39m.\u001b[39mread_data_from_folder(\u001b[39m\"\u001b[39m\u001b[39mC:\u001b[39m\u001b[39m\\\\\u001b[39;00m\u001b[39mJehyeon\u001b[39m\u001b[39m\\\\\u001b[39;00m\u001b[39m2022_Winter_KRX\u001b[39m\u001b[39m\\\\\u001b[39;00m\u001b[39mKRX\u001b[39m\u001b[39m\\\\\u001b[39;00m\u001b[39mfinal_data\u001b[39m\u001b[39m\\\\\u001b[39;00m\u001b[39m재무\u001b[39m\u001b[39m\\\\\u001b[39;00m\u001b[39m\"\u001b[39m)\n\u001b[0;32m      <a href='vscode-notebook-cell:/c%3A/Jehyeon/2022_Winter_KRX/KRX/Do_clustering.ipynb#W2sZmlsZQ%3D%3D?line=3'>4</a>\u001b[0m \u001b[39m#kind_data2 = tools.dict_data_preprocess(kind_data, function=np.sum, window_size='Y',fillna=True)\u001b[39;00m\n\u001b[1;32m----> <a href='vscode-notebook-cell:/c%3A/Jehyeon/2022_Winter_KRX/KRX/Do_clustering.ipynb#W2sZmlsZQ%3D%3D?line=4'>5</a>\u001b[0m financial_data2 \u001b[39m=\u001b[39m tools\u001b[39m.\u001b[39;49mdict_data_preprocess(financial_data, function\u001b[39m=\u001b[39;49mnp\u001b[39m.\u001b[39;49mmean, window_size\u001b[39m=\u001b[39;49m\u001b[39m'\u001b[39;49m\u001b[39mY\u001b[39;49m\u001b[39m'\u001b[39;49m,fillna\u001b[39m=\u001b[39;49m\u001b[39mFalse\u001b[39;49;00m)\n",
      "File \u001b[1;32mc:\\Jehyeon\\2022_Winter_KRX\\KRX\\krx_fr\\preprocess\\tools.py:58\u001b[0m, in \u001b[0;36mdict_data_preprocess\u001b[1;34m(input_data_dict, function, window_size, fillna, start_date, end_date)\u001b[0m\n\u001b[0;32m     56\u001b[0m         concat_df \u001b[39m=\u001b[39m pd\u001b[39m.\u001b[39mconcat([first_df, function(df\u001b[39m.\u001b[39mloc[start_idx:end_idx], axis\u001b[39m=\u001b[39m\u001b[39m0\u001b[39m)], axis\u001b[39m=\u001b[39m\u001b[39m1\u001b[39m, ignore_index\u001b[39m=\u001b[39m\u001b[39mTrue\u001b[39;00m)\n\u001b[0;32m     57\u001b[0m     \u001b[39melse\u001b[39;00m:\n\u001b[1;32m---> 58\u001b[0m         concat_df \u001b[39m=\u001b[39m pd\u001b[39m.\u001b[39mconcat([concat_df, function(df\u001b[39m.\u001b[39;49mloc[start_idx:end_idx], axis\u001b[39m=\u001b[39m\u001b[39m0\u001b[39m)], axis\u001b[39m=\u001b[39m\u001b[39m1\u001b[39m, ignore_index\u001b[39m=\u001b[39m\u001b[39mTrue\u001b[39;00m)    \n\u001b[0;32m     59\u001b[0m concat_df\u001b[39m.\u001b[39mcolumns \u001b[39m=\u001b[39m column_list\n\u001b[0;32m     60\u001b[0m concat_df\u001b[39m.\u001b[39msort_index(inplace\u001b[39m=\u001b[39m\u001b[39mTrue\u001b[39;00m)\n",
      "File \u001b[1;32mc:\\Users\\user\\anaconda3\\lib\\site-packages\\pandas\\core\\indexing.py:967\u001b[0m, in \u001b[0;36m_LocationIndexer.__getitem__\u001b[1;34m(self, key)\u001b[0m\n\u001b[0;32m    964\u001b[0m axis \u001b[39m=\u001b[39m \u001b[39mself\u001b[39m\u001b[39m.\u001b[39maxis \u001b[39mor\u001b[39;00m \u001b[39m0\u001b[39m\n\u001b[0;32m    966\u001b[0m maybe_callable \u001b[39m=\u001b[39m com\u001b[39m.\u001b[39mapply_if_callable(key, \u001b[39mself\u001b[39m\u001b[39m.\u001b[39mobj)\n\u001b[1;32m--> 967\u001b[0m \u001b[39mreturn\u001b[39;00m \u001b[39mself\u001b[39;49m\u001b[39m.\u001b[39;49m_getitem_axis(maybe_callable, axis\u001b[39m=\u001b[39;49maxis)\n",
      "File \u001b[1;32mc:\\Users\\user\\anaconda3\\lib\\site-packages\\pandas\\core\\indexing.py:1180\u001b[0m, in \u001b[0;36m_LocIndexer._getitem_axis\u001b[1;34m(self, key, axis)\u001b[0m\n\u001b[0;32m   1178\u001b[0m \u001b[39mif\u001b[39;00m \u001b[39misinstance\u001b[39m(key, \u001b[39mslice\u001b[39m):\n\u001b[0;32m   1179\u001b[0m     \u001b[39mself\u001b[39m\u001b[39m.\u001b[39m_validate_key(key, axis)\n\u001b[1;32m-> 1180\u001b[0m     \u001b[39mreturn\u001b[39;00m \u001b[39mself\u001b[39;49m\u001b[39m.\u001b[39;49m_get_slice_axis(key, axis\u001b[39m=\u001b[39;49maxis)\n\u001b[0;32m   1181\u001b[0m \u001b[39melif\u001b[39;00m com\u001b[39m.\u001b[39mis_bool_indexer(key):\n\u001b[0;32m   1182\u001b[0m     \u001b[39mreturn\u001b[39;00m \u001b[39mself\u001b[39m\u001b[39m.\u001b[39m_getbool_axis(key, axis\u001b[39m=\u001b[39maxis)\n",
      "File \u001b[1;32mc:\\Users\\user\\anaconda3\\lib\\site-packages\\pandas\\core\\indexing.py:1214\u001b[0m, in \u001b[0;36m_LocIndexer._get_slice_axis\u001b[1;34m(self, slice_obj, axis)\u001b[0m\n\u001b[0;32m   1211\u001b[0m     \u001b[39mreturn\u001b[39;00m obj\u001b[39m.\u001b[39mcopy(deep\u001b[39m=\u001b[39m\u001b[39mFalse\u001b[39;00m)\n\u001b[0;32m   1213\u001b[0m labels \u001b[39m=\u001b[39m obj\u001b[39m.\u001b[39m_get_axis(axis)\n\u001b[1;32m-> 1214\u001b[0m indexer \u001b[39m=\u001b[39m labels\u001b[39m.\u001b[39;49mslice_indexer(slice_obj\u001b[39m.\u001b[39;49mstart, slice_obj\u001b[39m.\u001b[39;49mstop, slice_obj\u001b[39m.\u001b[39;49mstep)\n\u001b[0;32m   1216\u001b[0m \u001b[39mif\u001b[39;00m \u001b[39misinstance\u001b[39m(indexer, \u001b[39mslice\u001b[39m):\n\u001b[0;32m   1217\u001b[0m     \u001b[39mreturn\u001b[39;00m \u001b[39mself\u001b[39m\u001b[39m.\u001b[39mobj\u001b[39m.\u001b[39m_slice(indexer, axis\u001b[39m=\u001b[39maxis)\n",
      "File \u001b[1;32mc:\\Users\\user\\anaconda3\\lib\\site-packages\\pandas\\core\\indexes\\datetimes.py:743\u001b[0m, in \u001b[0;36mDatetimeIndex.slice_indexer\u001b[1;34m(self, start, end, step, kind)\u001b[0m\n\u001b[0;32m    735\u001b[0m \u001b[39m# GH#33146 if start and end are combinations of str and None and Index is not\u001b[39;00m\n\u001b[0;32m    736\u001b[0m \u001b[39m# monotonic, we can not use Index.slice_indexer because it does not honor the\u001b[39;00m\n\u001b[0;32m    737\u001b[0m \u001b[39m# actual elements, is only searching for start and end\u001b[39;00m\n\u001b[0;32m    738\u001b[0m \u001b[39mif\u001b[39;00m (\n\u001b[0;32m    739\u001b[0m     check_str_or_none(start)\n\u001b[0;32m    740\u001b[0m     \u001b[39mor\u001b[39;00m check_str_or_none(end)\n\u001b[0;32m    741\u001b[0m     \u001b[39mor\u001b[39;00m \u001b[39mself\u001b[39m\u001b[39m.\u001b[39mis_monotonic_increasing\n\u001b[0;32m    742\u001b[0m ):\n\u001b[1;32m--> 743\u001b[0m     \u001b[39mreturn\u001b[39;00m Index\u001b[39m.\u001b[39;49mslice_indexer(\u001b[39mself\u001b[39;49m, start, end, step, kind\u001b[39m=\u001b[39;49mkind)\n\u001b[0;32m    745\u001b[0m mask \u001b[39m=\u001b[39m np\u001b[39m.\u001b[39marray(\u001b[39mTrue\u001b[39;00m)\n\u001b[0;32m    746\u001b[0m deprecation_mask \u001b[39m=\u001b[39m np\u001b[39m.\u001b[39marray(\u001b[39mTrue\u001b[39;00m)\n",
      "File \u001b[1;32mc:\\Users\\user\\anaconda3\\lib\\site-packages\\pandas\\core\\indexes\\base.py:6274\u001b[0m, in \u001b[0;36mIndex.slice_indexer\u001b[1;34m(self, start, end, step, kind)\u001b[0m\n\u001b[0;32m   6231\u001b[0m \u001b[39m\"\"\"\u001b[39;00m\n\u001b[0;32m   6232\u001b[0m \u001b[39mCompute the slice indexer for input labels and step.\u001b[39;00m\n\u001b[0;32m   6233\u001b[0m \n\u001b[1;32m   (...)\u001b[0m\n\u001b[0;32m   6270\u001b[0m \u001b[39mslice(1, 3, None)\u001b[39;00m\n\u001b[0;32m   6271\u001b[0m \u001b[39m\"\"\"\u001b[39;00m\n\u001b[0;32m   6272\u001b[0m \u001b[39mself\u001b[39m\u001b[39m.\u001b[39m_deprecated_arg(kind, \u001b[39m\"\u001b[39m\u001b[39mkind\u001b[39m\u001b[39m\"\u001b[39m, \u001b[39m\"\u001b[39m\u001b[39mslice_indexer\u001b[39m\u001b[39m\"\u001b[39m)\n\u001b[1;32m-> 6274\u001b[0m start_slice, end_slice \u001b[39m=\u001b[39m \u001b[39mself\u001b[39;49m\u001b[39m.\u001b[39;49mslice_locs(start, end, step\u001b[39m=\u001b[39;49mstep)\n\u001b[0;32m   6276\u001b[0m \u001b[39m# return a slice\u001b[39;00m\n\u001b[0;32m   6277\u001b[0m \u001b[39mif\u001b[39;00m \u001b[39mnot\u001b[39;00m is_scalar(start_slice):\n",
      "File \u001b[1;32mc:\\Users\\user\\anaconda3\\lib\\site-packages\\pandas\\core\\indexes\\base.py:6484\u001b[0m, in \u001b[0;36mIndex.slice_locs\u001b[1;34m(self, start, end, step, kind)\u001b[0m\n\u001b[0;32m   6482\u001b[0m start_slice \u001b[39m=\u001b[39m \u001b[39mNone\u001b[39;00m\n\u001b[0;32m   6483\u001b[0m \u001b[39mif\u001b[39;00m start \u001b[39mis\u001b[39;00m \u001b[39mnot\u001b[39;00m \u001b[39mNone\u001b[39;00m:\n\u001b[1;32m-> 6484\u001b[0m     start_slice \u001b[39m=\u001b[39m \u001b[39mself\u001b[39;49m\u001b[39m.\u001b[39;49mget_slice_bound(start, \u001b[39m\"\u001b[39;49m\u001b[39mleft\u001b[39;49m\u001b[39m\"\u001b[39;49m)\n\u001b[0;32m   6485\u001b[0m \u001b[39mif\u001b[39;00m start_slice \u001b[39mis\u001b[39;00m \u001b[39mNone\u001b[39;00m:\n\u001b[0;32m   6486\u001b[0m     start_slice \u001b[39m=\u001b[39m \u001b[39m0\u001b[39m\n",
      "File \u001b[1;32mc:\\Users\\user\\anaconda3\\lib\\site-packages\\pandas\\core\\indexes\\datetimes.py:778\u001b[0m, in \u001b[0;36mDatetimeIndex.get_slice_bound\u001b[1;34m(self, label, side, kind)\u001b[0m\n\u001b[0;32m    776\u001b[0m \u001b[39mif\u001b[39;00m \u001b[39misinstance\u001b[39m(label, date) \u001b[39mand\u001b[39;00m \u001b[39mnot\u001b[39;00m \u001b[39misinstance\u001b[39m(label, datetime):\n\u001b[0;32m    777\u001b[0m     label \u001b[39m=\u001b[39m Timestamp(label)\u001b[39m.\u001b[39mto_pydatetime()\n\u001b[1;32m--> 778\u001b[0m \u001b[39mreturn\u001b[39;00m \u001b[39msuper\u001b[39;49m()\u001b[39m.\u001b[39;49mget_slice_bound(label, side\u001b[39m=\u001b[39;49mside, kind\u001b[39m=\u001b[39;49mkind)\n",
      "File \u001b[1;32mc:\\Users\\user\\anaconda3\\lib\\site-packages\\pandas\\core\\indexes\\base.py:6403\u001b[0m, in \u001b[0;36mIndex.get_slice_bound\u001b[1;34m(self, label, side, kind)\u001b[0m\n\u001b[0;32m   6400\u001b[0m         \u001b[39mreturn\u001b[39;00m \u001b[39mself\u001b[39m\u001b[39m.\u001b[39m_searchsorted_monotonic(label, side)\n\u001b[0;32m   6401\u001b[0m     \u001b[39mexcept\u001b[39;00m \u001b[39mValueError\u001b[39;00m:\n\u001b[0;32m   6402\u001b[0m         \u001b[39m# raise the original KeyError\u001b[39;00m\n\u001b[1;32m-> 6403\u001b[0m         \u001b[39mraise\u001b[39;00m err\n\u001b[0;32m   6405\u001b[0m \u001b[39mif\u001b[39;00m \u001b[39misinstance\u001b[39m(slc, np\u001b[39m.\u001b[39mndarray):\n\u001b[0;32m   6406\u001b[0m     \u001b[39m# get_loc may return a boolean array, which\u001b[39;00m\n\u001b[0;32m   6407\u001b[0m     \u001b[39m# is OK as long as they are representable by a slice.\u001b[39;00m\n\u001b[0;32m   6408\u001b[0m     \u001b[39massert\u001b[39;00m is_bool_dtype(slc\u001b[39m.\u001b[39mdtype)\n",
      "File \u001b[1;32mc:\\Users\\user\\anaconda3\\lib\\site-packages\\pandas\\core\\indexes\\base.py:6397\u001b[0m, in \u001b[0;36mIndex.get_slice_bound\u001b[1;34m(self, label, side, kind)\u001b[0m\n\u001b[0;32m   6395\u001b[0m \u001b[39m# we need to look up the label\u001b[39;00m\n\u001b[0;32m   6396\u001b[0m \u001b[39mtry\u001b[39;00m:\n\u001b[1;32m-> 6397\u001b[0m     slc \u001b[39m=\u001b[39m \u001b[39mself\u001b[39;49m\u001b[39m.\u001b[39;49mget_loc(label)\n\u001b[0;32m   6398\u001b[0m \u001b[39mexcept\u001b[39;00m \u001b[39mKeyError\u001b[39;00m \u001b[39mas\u001b[39;00m err:\n\u001b[0;32m   6399\u001b[0m     \u001b[39mtry\u001b[39;00m:\n",
      "File \u001b[1;32mc:\\Users\\user\\anaconda3\\lib\\site-packages\\pandas\\core\\indexes\\datetimes.py:681\u001b[0m, in \u001b[0;36mDatetimeIndex.get_loc\u001b[1;34m(self, key, method, tolerance)\u001b[0m\n\u001b[0;32m    679\u001b[0m     \u001b[39mreturn\u001b[39;00m Index\u001b[39m.\u001b[39mget_loc(\u001b[39mself\u001b[39m, key, method, tolerance)\n\u001b[0;32m    680\u001b[0m \u001b[39mexcept\u001b[39;00m \u001b[39mKeyError\u001b[39;00m \u001b[39mas\u001b[39;00m err:\n\u001b[1;32m--> 681\u001b[0m     \u001b[39mraise\u001b[39;00m \u001b[39mKeyError\u001b[39;00m(orig_key) \u001b[39mfrom\u001b[39;00m \u001b[39merr\u001b[39;00m\n",
      "\u001b[1;31mKeyError\u001b[0m: Timestamp('2012-01-01 00:00:00', freq='AS-JAN')"
     ]
    }
   ],
   "source": [
    "#kind_data = tools.read_data_from_folder(\"C:\\\\Jehyeon\\\\2022_Winter_KRX\\\\KRX\\\\final_data\\\\KIND\\\\\")\n",
    "financial_data = tools.read_data_from_folder(\"C:\\\\Jehyeon\\\\2022_Winter_KRX\\\\KRX\\\\final_data\\\\재무\\\\\")\n",
    "\n",
    "#kind_data2 = tools.dict_data_preprocess(kind_data, function=np.sum, window_size='Y',fillna=True)\n",
    "financial_data2 = tools.dict_data_preprocess(financial_data, function=np.mean, window_size='Y',fillna=False)"
   ]
  },
  {
   "cell_type": "code",
   "execution_count": null,
   "metadata": {},
   "outputs": [],
   "source": [
    "kind_data"
   ]
  },
  {
   "cell_type": "code",
   "execution_count": null,
   "metadata": {},
   "outputs": [],
   "source": [
    "dl = tools.dict_data_calculate_vol(financial_data, name=\"최대주주비율\", return_original=True)"
   ]
  },
  {
   "cell_type": "code",
   "execution_count": null,
   "metadata": {},
   "outputs": [],
   "source": [
    "concat_data = tools.dict_data_concat(kind_data2,financial_data2, dropna=False)\n",
    "\n",
    "print(len(concat_data[\"2012-01-01\"].columns))"
   ]
  },
  {
   "cell_type": "code",
   "execution_count": null,
   "metadata": {},
   "outputs": [],
   "source": [
    "tools.dict_data_calculate_vol(concat_data, \"최대주주비율\", return_original=True)[\"2012-01-01\"]"
   ]
  },
  {
   "cell_type": "code",
   "execution_count": null,
   "metadata": {},
   "outputs": [],
   "source": [
    "plus_data = tools.dict_data_plus(concat_data, plus_one=\"BW금액_전체시장\",plus_two=\"CB금액_전체시장\", return_origianl=False)\n",
    "\n",
    "plus_data[\"2012-01-01\"].columns"
   ]
  },
  {
   "cell_type": "code",
   "execution_count": null,
   "metadata": {},
   "outputs": [],
   "source": [
    "plus_data2 = tools.dict_data_plus(plus_data, plus_one=\"상호변경카운트_전체시장\",plus_two=\"업종변경카운트_전체시장\", return_origianl=False)\n",
    "plus_data2[\"2012-01-01\"].columns"
   ]
  },
  {
   "cell_type": "code",
   "execution_count": null,
   "metadata": {},
   "outputs": [],
   "source": [
    "plus_data3 = tools.dict_data_plus(plus_data2, plus_one=\"불성실공시법인지정카운트_전체시장\",plus_two=\"조회공시요구카운트_전체시장\", return_origianl=False)\n",
    "plus_data3[\"2012-01-01\"].columns"
   ]
  },
  {
   "cell_type": "code",
   "execution_count": null,
   "metadata": {},
   "outputs": [],
   "source": [
    "plus_data4 = tools.dict_data_plus(plus_data3, plus_one=\"불성실공시법인지정카운트_전체시장+조회공시요구카운트_전체시장\",plus_two=\"최대주주변경카운트_전체시장\", return_origianl=False)\n",
    "plus_data4[\"2012-01-01\"].columns"
   ]
  },
  {
   "cell_type": "code",
   "execution_count": null,
   "metadata": {},
   "outputs": [],
   "source": [
    "plus_data5 = tools.dict_data_plus(plus_data4, plus_one=\"자기주식처분결정금액_전체시장\",plus_two=\"특수관계인에대한자금대여금액_전체시장\", return_origianl=False)\n",
    "plus_data5[\"2012-01-01\"].columns"
   ]
  },
  {
   "cell_type": "code",
   "execution_count": null,
   "metadata": {},
   "outputs": [],
   "source": [
    "divide_data = tools.dict_data_divide(plus_data5,divide_what=['자기주식처분결정금액_전체시장+특수관계인에대한자금대여금액_전체시장',\n",
    "       'BW금액_전체시장+CB금액_전체시장', '당기순이익', '매출채권', '매출총이익',\n",
    "       '영업이익', '영업현금흐름', '판매 및 관리비'], divide_into=\"총자본\", return_origianl=False)\n",
    "print(len(divide_data[\"2012-01-01\"].columns))\n",
    "divide_data[\"2012-01-01\"].columns"
   ]
  },
  {
   "cell_type": "code",
   "execution_count": null,
   "metadata": {},
   "outputs": [],
   "source": [
    "drop_data = tools.dict_data_drop(divide_data, dropna=True)\n",
    "scaled_data = tools.dict_data_scale(drop_data, scaler=scaler.sklearn_maxabs)"
   ]
  },
  {
   "cell_type": "code",
   "execution_count": null,
   "metadata": {},
   "outputs": [],
   "source": [
    "scaled_data[\"2022-01-01\"].shape"
   ]
  },
  {
   "cell_type": "code",
   "execution_count": null,
   "metadata": {},
   "outputs": [],
   "source": [
    "# 클러스터링 할 sample data 하나 생성\n",
    "sample_2022 = scaled_data[\"2022-01-01\"]\n",
    "company = scaled_data[\"2022-01-01\"].index.to_list()"
   ]
  },
  {
   "cell_type": "code",
   "execution_count": null,
   "metadata": {},
   "outputs": [],
   "source": [
    "sample_2022.columns"
   ]
  },
  {
   "cell_type": "code",
   "execution_count": null,
   "metadata": {},
   "outputs": [],
   "source": [
    "import pandas as pd\n",
    "df = pd.DataFrame({\"a\":[1,2,3,4,5], \"b\":[10,20,30,40,50], \"c\":[0,0,0,0,0]})\n",
    "scaler.sklearn_minmax(df)"
   ]
  },
  {
   "cell_type": "code",
   "execution_count": null,
   "metadata": {},
   "outputs": [],
   "source": [
    "import matplotlib.pyplot as plt \n",
    "\n",
    "plt.figure(figsize=(20,12))\n",
    "plt.scatter(range(len(sample_2022[\"최대주주비율\"].values)),sample_2022[\"최대주주비율\"].values);"
   ]
  },
  {
   "cell_type": "code",
   "execution_count": null,
   "metadata": {},
   "outputs": [],
   "source": [
    "from sklearn.cluster import KMeans\n",
    "\n",
    "kmeans = KMeans(n_clusters=4, n_init=100, max_iter=10000)\n",
    "kmeans.fit(sample_2022)\n",
    "\n",
    "cluster_df = pd.DataFrame(data=np.c_[company,kmeans.labels_], columns=[\"기업공시코드\",\"클러스터\"])\n",
    "cluster_df[\"클러스터\"].value_counts()"
   ]
  },
  {
   "attachments": {},
   "cell_type": "markdown",
   "metadata": {},
   "source": [
    "거리요소로 분해하기 위해선 kmeans를 써주는 게 중요하다"
   ]
  },
  {
   "attachments": {},
   "cell_type": "markdown",
   "metadata": {},
   "source": [
    "## 클러스터링 라이브러리"
   ]
  },
  {
   "cell_type": "code",
   "execution_count": null,
   "metadata": {},
   "outputs": [],
   "source": [
    "cluster_model = MyKmeans(sample_2022)\n",
    "cluster_model.set_params()\n",
    "cluster_model.find_optimal_k(max_k=10, max_sample=20, optimize_method=\"silhouette\")\n",
    "#cluster_model.run_kmean(5,)\n",
    "#cluster_model."
   ]
  },
  {
   "cell_type": "code",
   "execution_count": null,
   "metadata": {},
   "outputs": [],
   "source": [
    "cluster_model.find_optimal_initp(5,20, \"silhouette\")"
   ]
  },
  {
   "cell_type": "code",
   "execution_count": null,
   "metadata": {},
   "outputs": [],
   "source": [
    "k_mean_dict = cluster_model.run_kmean()"
   ]
  },
  {
   "cell_type": "code",
   "execution_count": null,
   "metadata": {},
   "outputs": [],
   "source": [
    "cluster_model.distance_decomposition(k_mean_dict[\"model\"])[0][1]"
   ]
  },
  {
   "cell_type": "code",
   "execution_count": null,
   "metadata": {},
   "outputs": [],
   "source": [
    "for i, score_list in dict_sil.items():\n",
    "    if i == 0:\n",
    "        start_ar = np.array(score_list)\n",
    "    elif i ==1:\n",
    "        concat_ar = np.c_[start_ar, score_list]\n",
    "    else:\n",
    "        concat_ar = np.c_[concat_ar,score_list]\n",
    "\n",
    "mean_ar = concat_ar.mean(axis=1)\n",
    "print(mean_ar)\n",
    "print(\"최고 점수의 인덱스는: \", mean_ar.argmax())"
   ]
  },
  {
   "cell_type": "code",
   "execution_count": null,
   "metadata": {},
   "outputs": [],
   "source": [
    "for i, score in dict_sil.items():\n",
    "    ar = np.array(score)\n",
    "    print(\"{}번째 최대값의 인덱스는 \")"
   ]
  },
  {
   "cell_type": "code",
   "execution_count": null,
   "metadata": {},
   "outputs": [],
   "source": []
  },
  {
   "cell_type": "code",
   "execution_count": null,
   "metadata": {},
   "outputs": [],
   "source": [
    "test = MyKmeans.distance_decomposition(kmeans)"
   ]
  },
  {
   "cell_type": "code",
   "execution_count": null,
   "metadata": {},
   "outputs": [],
   "source": [
    "test[0][1]"
   ]
  },
  {
   "cell_type": "code",
   "execution_count": null,
   "metadata": {},
   "outputs": [],
   "source": [
    "MyKmeans.visualize(sample_2022,kmeans)"
   ]
  },
  {
   "cell_type": "code",
   "execution_count": null,
   "metadata": {},
   "outputs": [],
   "source": [
    "# 클러스터링을 해보자\n",
    "from sklearn.cluster import AgglomerativeClustering\n",
    "\n",
    "agg = AgglomerativeClustering(n_clusters=5)\n",
    "agg.fit(sample_2022)\n",
    "\n",
    "clus = pd.DataFrame(np.c_[company,agg.labels_], columns= [\"기업공시코드\",\"클러스터\"])\n",
    "clus[\"클러스터\"].value_counts()"
   ]
  },
  {
   "cell_type": "code",
   "execution_count": null,
   "metadata": {},
   "outputs": [],
   "source": [
    "from sklearn.cluster import KMeans\n",
    "\n",
    "kmeans = KMeans(n_clusters=5, n_init=100, max_iter=10000)\n",
    "kmeans.fit(sample_2022)\n",
    "\n",
    "cluster_df = pd.DataFrame(data=np.c_[company,kmeans.labels_], columns=[\"기업공시코드\",\"클러스터\"])\n",
    "cluster_df[\"클러스터\"].value_counts()"
   ]
  },
  {
   "cell_type": "code",
   "execution_count": null,
   "metadata": {},
   "outputs": [],
   "source": [
    "from sklearn.cluster import DBSCAN\n",
    "\n",
    "db = DBSCAN(min_samples=40, n_jobs=-1)\n",
    "db.fit(sample_2022)\n",
    "\n",
    "label_db = db.labels_\n",
    "cluster_db = pd.DataFrame(data=np.c_[company, label_db], columns=[\"기업공시코드\",\"클러스터\"])\n",
    "cluster_db[\"클러스터\"].value_counts()"
   ]
  },
  {
   "cell_type": "code",
   "execution_count": null,
   "metadata": {},
   "outputs": [],
   "source": []
  }
 ],
 "metadata": {
  "kernelspec": {
   "display_name": "base",
   "language": "python",
   "name": "python3"
  },
  "language_info": {
   "codemirror_mode": {
    "name": "ipython",
    "version": 3
   },
   "file_extension": ".py",
   "mimetype": "text/x-python",
   "name": "python",
   "nbconvert_exporter": "python",
   "pygments_lexer": "ipython3",
   "version": "3.9.12 (main, Apr  4 2022, 05:22:27) [MSC v.1916 64 bit (AMD64)]"
  },
  "orig_nbformat": 4,
  "vscode": {
   "interpreter": {
    "hash": "a077222d77dfe082b8f1dd562ad70e458ac2ab76993a0b248ab0476e32e9e8dd"
   }
  }
 },
 "nbformat": 4,
 "nbformat_minor": 2
}
