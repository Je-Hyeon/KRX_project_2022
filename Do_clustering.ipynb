{
 "cells": [
  {
   "attachments": {},
   "cell_type": "markdown",
   "metadata": {},
   "source": [
    "# 라이브러리를 사용해서 클러스터링을 해보자\n",
    "\n",
    "read_data_from_folder"
   ]
  },
  {
   "cell_type": "code",
   "execution_count": 1,
   "metadata": {},
   "outputs": [],
   "source": [
    "import os\n",
    "import numpy as np\n",
    "import pandas as pd \n",
    "from krx_fr.preprocess import tools, scaler\n",
    "from krx_fr.cluster.kmeans import MyKmeans"
   ]
  },
  {
   "cell_type": "code",
   "execution_count": 2,
   "metadata": {},
   "outputs": [],
   "source": [
    "kind_data = tools.read_data_from_folder(\"C:\\\\Jehyeon\\\\2022_Winter_KRX\\\\KRX\\\\Use_data\\\\KIND\\\\\")\n",
    "financial_data = tools.read_data_from_folder(\"C:\\\\Jehyeon\\\\2022_Winter_KRX\\\\KRX\\\\Use_data\\\\재무\\\\\")\n",
    "\n",
    "kind_data = tools.dict_data_preprocess(kind_data, function=np.sum, window_size='Y',fillna=True)\n",
    "financial_data = tools.dict_data_preprocess(financial_data, function=np.mean, window_size='Y',fillna=False)"
   ]
  },
  {
   "cell_type": "code",
   "execution_count": 3,
   "metadata": {},
   "outputs": [
    {
     "name": "stdout",
     "output_type": "stream",
     "text": [
      "21\n"
     ]
    },
    {
     "data": {
      "text/plain": [
       "Index(['BW금액_전체시장', 'CB금액_전체시장', '불성실공시법인지정카운트_전체시장', '상호변경카운트_전체시장',\n",
       "       '업종변경카운트_전체시장', '자기주식처분결정금액_전체시장', '조회공시요구카운트_전체시장', '최대주주변경카운트_전체시장',\n",
       "       '타법인주식및출자증권취득결정금액_전체시장', '투자주의카운트_전체시장', '투자환기종목지정카운트_전체시장',\n",
       "       '특수관계인에대한자금대여금액_전체시장', '당기순이익', '매출채권', '매출총이익', '영업이익', '영업현금흐름',\n",
       "       '차입금의존도', '총자본', '최대주주비율', '판매 및 관리비'],\n",
       "      dtype='object')"
      ]
     },
     "execution_count": 3,
     "metadata": {},
     "output_type": "execute_result"
    }
   ],
   "source": [
    "concat_data = tools.dict_data_concat(kind_data,financial_data, dropna=False)\n",
    "\n",
    "print(len(concat_data[\"2012-01-01\"].columns))\n",
    "concat_data[\"2012-01-01\"].columns"
   ]
  },
  {
   "cell_type": "code",
   "execution_count": 4,
   "metadata": {},
   "outputs": [
    {
     "data": {
      "text/plain": [
       "Index(['BW금액_전체시장+CB금액_전체시장', '불성실공시법인지정카운트_전체시장', '상호변경카운트_전체시장',\n",
       "       '업종변경카운트_전체시장', '자기주식처분결정금액_전체시장', '조회공시요구카운트_전체시장', '최대주주변경카운트_전체시장',\n",
       "       '타법인주식및출자증권취득결정금액_전체시장', '투자주의카운트_전체시장', '투자환기종목지정카운트_전체시장',\n",
       "       '특수관계인에대한자금대여금액_전체시장', '당기순이익', '매출채권', '매출총이익', '영업이익', '영업현금흐름',\n",
       "       '차입금의존도', '총자본', '최대주주비율', '판매 및 관리비'],\n",
       "      dtype='object')"
      ]
     },
     "execution_count": 4,
     "metadata": {},
     "output_type": "execute_result"
    }
   ],
   "source": [
    "plus_data = tools.dict_data_plus(concat_data, plus_one=\"BW금액_전체시장\",plus_two=\"CB금액_전체시장\", return_origianl=False)\n",
    "\n",
    "plus_data[\"2012-01-01\"].columns"
   ]
  },
  {
   "cell_type": "code",
   "execution_count": 5,
   "metadata": {},
   "outputs": [
    {
     "data": {
      "text/plain": [
       "Index(['상호변경카운트_전체시장+업종변경카운트_전체시장', 'BW금액_전체시장+CB금액_전체시장', '불성실공시법인지정카운트_전체시장',\n",
       "       '자기주식처분결정금액_전체시장', '조회공시요구카운트_전체시장', '최대주주변경카운트_전체시장',\n",
       "       '타법인주식및출자증권취득결정금액_전체시장', '투자주의카운트_전체시장', '투자환기종목지정카운트_전체시장',\n",
       "       '특수관계인에대한자금대여금액_전체시장', '당기순이익', '매출채권', '매출총이익', '영업이익', '영업현금흐름',\n",
       "       '차입금의존도', '총자본', '최대주주비율', '판매 및 관리비'],\n",
       "      dtype='object')"
      ]
     },
     "execution_count": 5,
     "metadata": {},
     "output_type": "execute_result"
    }
   ],
   "source": [
    "plus_data2 = tools.dict_data_plus(plus_data, plus_one=\"상호변경카운트_전체시장\",plus_two=\"업종변경카운트_전체시장\", return_origianl=False)\n",
    "plus_data2[\"2012-01-01\"].columns"
   ]
  },
  {
   "cell_type": "code",
   "execution_count": 6,
   "metadata": {},
   "outputs": [
    {
     "data": {
      "text/plain": [
       "Index(['타법인주식및출자증권취득결정금액_전체시장+특수관계인에대한자금대여금액_전체시장',\n",
       "       '상호변경카운트_전체시장+업종변경카운트_전체시장', 'BW금액_전체시장+CB금액_전체시장', '불성실공시법인지정카운트_전체시장',\n",
       "       '자기주식처분결정금액_전체시장', '조회공시요구카운트_전체시장', '최대주주변경카운트_전체시장', '투자주의카운트_전체시장',\n",
       "       '투자환기종목지정카운트_전체시장', '당기순이익', '매출채권', '매출총이익', '영업이익', '영업현금흐름',\n",
       "       '차입금의존도', '총자본', '최대주주비율', '판매 및 관리비'],\n",
       "      dtype='object')"
      ]
     },
     "execution_count": 6,
     "metadata": {},
     "output_type": "execute_result"
    }
   ],
   "source": [
    "plus_data3 = tools.dict_data_plus(plus_data2, plus_one=\"타법인주식및출자증권취득결정금액_전체시장\",plus_two=\"특수관계인에대한자금대여금액_전체시장\", return_origianl=False)\n",
    "plus_data3[\"2012-01-01\"].columns"
   ]
  },
  {
   "cell_type": "code",
   "execution_count": 7,
   "metadata": {},
   "outputs": [
    {
     "data": {
      "text/plain": [
       "Index(['투자환기종목지정카운트_전체시장+투자주의카운트_전체시장',\n",
       "       '타법인주식및출자증권취득결정금액_전체시장+특수관계인에대한자금대여금액_전체시장',\n",
       "       '상호변경카운트_전체시장+업종변경카운트_전체시장', 'BW금액_전체시장+CB금액_전체시장', '불성실공시법인지정카운트_전체시장',\n",
       "       '자기주식처분결정금액_전체시장', '조회공시요구카운트_전체시장', '최대주주변경카운트_전체시장', '당기순이익', '매출채권',\n",
       "       '매출총이익', '영업이익', '영업현금흐름', '차입금의존도', '총자본', '최대주주비율', '판매 및 관리비'],\n",
       "      dtype='object')"
      ]
     },
     "execution_count": 7,
     "metadata": {},
     "output_type": "execute_result"
    }
   ],
   "source": [
    "plus_data4 = tools.dict_data_plus(plus_data3, plus_one=\"투자환기종목지정카운트_전체시장\",plus_two=\"투자주의카운트_전체시장\", return_origianl=False)\n",
    "plus_data4[\"2012-01-01\"].columns"
   ]
  },
  {
   "cell_type": "code",
   "execution_count": 8,
   "metadata": {},
   "outputs": [
    {
     "data": {
      "text/plain": [
       "Index(['조회공시요구카운트_전체시장+최대주주변경카운트_전체시장', '투자환기종목지정카운트_전체시장+투자주의카운트_전체시장',\n",
       "       '타법인주식및출자증권취득결정금액_전체시장+특수관계인에대한자금대여금액_전체시장',\n",
       "       '상호변경카운트_전체시장+업종변경카운트_전체시장', 'BW금액_전체시장+CB금액_전체시장', '불성실공시법인지정카운트_전체시장',\n",
       "       '자기주식처분결정금액_전체시장', '당기순이익', '매출채권', '매출총이익', '영업이익', '영업현금흐름', '차입금의존도',\n",
       "       '총자본', '최대주주비율', '판매 및 관리비'],\n",
       "      dtype='object')"
      ]
     },
     "execution_count": 8,
     "metadata": {},
     "output_type": "execute_result"
    }
   ],
   "source": [
    "plus_data5 = tools.dict_data_plus(plus_data4, plus_one=\"조회공시요구카운트_전체시장\",plus_two=\"최대주주변경카운트_전체시장\", return_origianl=False)\n",
    "plus_data5[\"2012-01-01\"].columns"
   ]
  },
  {
   "cell_type": "code",
   "execution_count": 10,
   "metadata": {},
   "outputs": [
    {
     "name": "stdout",
     "output_type": "stream",
     "text": [
      "15\n"
     ]
    },
    {
     "data": {
      "text/plain": [
       "Index(['타법인주식및출자증권취득결정금액_전체시장+특수관계인에대한자금대여금액_전체시장/총자본',\n",
       "       'BW금액_전체시장+CB금액_전체시장/총자본', '자기주식처분결정금액_전체시장/총자본', '당기순이익/총자본',\n",
       "       '매출채권/총자본', '매출총이익/총자본', '영업이익/총자본', '영업현금흐름/총자본', '판매 및 관리비/총자본',\n",
       "       '조회공시요구카운트_전체시장+최대주주변경카운트_전체시장', '투자환기종목지정카운트_전체시장+투자주의카운트_전체시장',\n",
       "       '상호변경카운트_전체시장+업종변경카운트_전체시장', '불성실공시법인지정카운트_전체시장', '차입금의존도', '최대주주비율'],\n",
       "      dtype='object')"
      ]
     },
     "execution_count": 10,
     "metadata": {},
     "output_type": "execute_result"
    }
   ],
   "source": [
    "divide_data = tools.dict_data_divide(plus_data5,divide_what=[\"타법인주식및출자증권취득결정금액_전체시장+특수관계인에대한자금대여금액_전체시장\",\n",
    "                                                             \"BW금액_전체시장+CB금액_전체시장\", \"자기주식처분결정금액_전체시장\",\"당기순이익\",\n",
    "                                                             \"매출채권\",'매출총이익', '영업이익', '영업현금흐름','판매 및 관리비'],\n",
    "                                                               divide_into=\"총자본\", return_origianl=False)\n",
    "print(len(divide_data[\"2012-01-01\"].columns))\n",
    "divide_data[\"2012-01-01\"].columns"
   ]
  },
  {
   "cell_type": "code",
   "execution_count": 11,
   "metadata": {},
   "outputs": [
    {
     "name": "stderr",
     "output_type": "stream",
     "text": [
      "c:\\Jehyeon\\2022_Winter_KRX\\KRX\\krx_fr\\preprocess\\scaler.py:13: RuntimeWarning: Mean of empty slice\n",
      "  result = np.apply_along_axis(lambda arr: (arr - np.nanmean(arr))/np.nanstd(arr), 1, df_value)\n",
      "c:\\Users\\user\\anaconda3\\lib\\site-packages\\numpy\\lib\\nanfunctions.py:1670: RuntimeWarning: Degrees of freedom <= 0 for slice.\n",
      "  var = nanvar(a, axis=axis, dtype=dtype, out=out, ddof=ddof,\n",
      "c:\\Jehyeon\\2022_Winter_KRX\\KRX\\krx_fr\\preprocess\\scaler.py:13: RuntimeWarning: invalid value encountered in true_divide\n",
      "  result = np.apply_along_axis(lambda arr: (arr - np.nanmean(arr))/np.nanstd(arr), 1, df_value)\n",
      "c:\\Jehyeon\\2022_Winter_KRX\\KRX\\krx_fr\\preprocess\\scaler.py:13: RuntimeWarning: invalid value encountered in subtract\n",
      "  result = np.apply_along_axis(lambda arr: (arr - np.nanmean(arr))/np.nanstd(arr), 1, df_value)\n",
      "c:\\Users\\user\\anaconda3\\lib\\site-packages\\numpy\\lib\\nanfunctions.py:1545: RuntimeWarning: invalid value encountered in subtract\n",
      "  np.subtract(arr, avg, out=arr, casting='unsafe')\n"
     ]
    }
   ],
   "source": [
    "scaled_data = tools.dict_data_scale(divide_data, scaler=scaler.zscore)\n",
    "drop_data = tools.dict_data_drop(scaled_data, dropna=True)"
   ]
  },
  {
   "cell_type": "code",
   "execution_count": 12,
   "metadata": {},
   "outputs": [
    {
     "data": {
      "text/plain": [
       "(2377, 15)"
      ]
     },
     "execution_count": 12,
     "metadata": {},
     "output_type": "execute_result"
    }
   ],
   "source": [
    "drop_data[\"2022-01-01\"].shape"
   ]
  },
  {
   "cell_type": "code",
   "execution_count": 13,
   "metadata": {},
   "outputs": [],
   "source": [
    "# 클러스터링 할 sample data 하나 생성\n",
    "sample_2022 = drop_data[\"2022-01-01\"]\n",
    "company = drop_data[\"2022-01-01\"].index.to_list()"
   ]
  },
  {
   "cell_type": "code",
   "execution_count": 14,
   "metadata": {},
   "outputs": [
    {
     "data": {
      "text/plain": [
       "4    824\n",
       "0    737\n",
       "3    378\n",
       "1    257\n",
       "2    181\n",
       "Name: 클러스터, dtype: int64"
      ]
     },
     "execution_count": 14,
     "metadata": {},
     "output_type": "execute_result"
    }
   ],
   "source": [
    "from sklearn.cluster import KMeans\n",
    "\n",
    "kmeans = KMeans(n_clusters=5, n_init=100, max_iter=10000)\n",
    "kmeans.fit(sample_2022)\n",
    "\n",
    "cluster_df = pd.DataFrame(data=np.c_[company,kmeans.labels_], columns=[\"기업공시코드\",\"클러스터\"])\n",
    "cluster_df[\"클러스터\"].value_counts()"
   ]
  },
  {
   "attachments": {},
   "cell_type": "markdown",
   "metadata": {},
   "source": [
    "거리요소로 분해하기 위해선 kmeans를 써주는 게 중요하다"
   ]
  },
  {
   "attachments": {},
   "cell_type": "markdown",
   "metadata": {},
   "source": [
    "## 클러스터링 라이브러리"
   ]
  },
  {
   "cell_type": "code",
   "execution_count": null,
   "metadata": {},
   "outputs": [],
   "source": [
    "cluster_model = MyKmeans(sample_2022)\n",
    "cluster_model.set_params()\n",
    "cluster_model.find_optimal_k(max_k=10, max_sample=20, optimize_method=\"silhouette\")\n",
    "#cluster_model.run_kmean(5,)\n",
    "#cluster_model."
   ]
  },
  {
   "cell_type": "code",
   "execution_count": null,
   "metadata": {},
   "outputs": [],
   "source": [
    "cluster_model.find_optimal_initp(5,20, \"silhouette\")"
   ]
  },
  {
   "cell_type": "code",
   "execution_count": null,
   "metadata": {},
   "outputs": [],
   "source": []
  },
  {
   "cell_type": "code",
   "execution_count": null,
   "metadata": {},
   "outputs": [],
   "source": [
    "for i, score_list in dict_sil.items():\n",
    "    if i == 0:\n",
    "        start_ar = np.array(score_list)\n",
    "    elif i ==1:\n",
    "        concat_ar = np.c_[start_ar, score_list]\n",
    "    else:\n",
    "        concat_ar = np.c_[concat_ar,score_list]\n",
    "\n",
    "mean_ar = concat_ar.mean(axis=1)\n",
    "print(mean_ar)\n",
    "print(\"최고 점수의 인덱스는: \", mean_ar.argmax())"
   ]
  },
  {
   "cell_type": "code",
   "execution_count": null,
   "metadata": {},
   "outputs": [],
   "source": [
    "for i, score in dict_sil.items():\n",
    "    ar = np.array(score)\n",
    "    print(\"{}번째 최대값의 인덱스는 \")"
   ]
  },
  {
   "cell_type": "code",
   "execution_count": null,
   "metadata": {},
   "outputs": [],
   "source": []
  },
  {
   "cell_type": "code",
   "execution_count": null,
   "metadata": {},
   "outputs": [],
   "source": [
    "test = MyKmeans.distance_decomposition(kmeans)"
   ]
  },
  {
   "cell_type": "code",
   "execution_count": null,
   "metadata": {},
   "outputs": [],
   "source": [
    "test[0][1]"
   ]
  },
  {
   "cell_type": "code",
   "execution_count": null,
   "metadata": {},
   "outputs": [],
   "source": [
    "MyKmeans.visualize(sample_2022,kmeans)"
   ]
  },
  {
   "cell_type": "code",
   "execution_count": null,
   "metadata": {},
   "outputs": [],
   "source": [
    "# 클러스터링을 해보자\n",
    "from sklearn.cluster import AgglomerativeClustering\n",
    "\n",
    "agg = AgglomerativeClustering(n_clusters=5)\n",
    "agg.fit(sample_2022)\n",
    "\n",
    "clus = pd.DataFrame(np.c_[company,agg.labels_], columns= [\"기업공시코드\",\"클러스터\"])\n",
    "clus[\"클러스터\"].value_counts()"
   ]
  },
  {
   "cell_type": "code",
   "execution_count": null,
   "metadata": {},
   "outputs": [],
   "source": [
    "from sklearn.cluster import KMeans\n",
    "\n",
    "kmeans = KMeans(n_clusters=5, n_init=100, max_iter=10000)\n",
    "kmeans.fit(sample_2022)\n",
    "\n",
    "cluster_df = pd.DataFrame(data=np.c_[company,kmeans.labels_], columns=[\"기업공시코드\",\"클러스터\"])\n",
    "cluster_df[\"클러스터\"].value_counts()"
   ]
  },
  {
   "cell_type": "code",
   "execution_count": null,
   "metadata": {},
   "outputs": [],
   "source": [
    "from sklearn.cluster import DBSCAN\n",
    "\n",
    "db = DBSCAN(min_samples=40, n_jobs=-1)\n",
    "db.fit(sample_2022)\n",
    "\n",
    "label_db = db.labels_\n",
    "cluster_db = pd.DataFrame(data=np.c_[company, label_db], columns=[\"기업공시코드\",\"클러스터\"])\n",
    "cluster_db[\"클러스터\"].value_counts()"
   ]
  },
  {
   "cell_type": "code",
   "execution_count": null,
   "metadata": {},
   "outputs": [],
   "source": []
  }
 ],
 "metadata": {
  "kernelspec": {
   "display_name": "base",
   "language": "python",
   "name": "python3"
  },
  "language_info": {
   "codemirror_mode": {
    "name": "ipython",
    "version": 3
   },
   "file_extension": ".py",
   "mimetype": "text/x-python",
   "name": "python",
   "nbconvert_exporter": "python",
   "pygments_lexer": "ipython3",
   "version": "3.9.12"
  },
  "orig_nbformat": 4,
  "vscode": {
   "interpreter": {
    "hash": "a077222d77dfe082b8f1dd562ad70e458ac2ab76993a0b248ab0476e32e9e8dd"
   }
  }
 },
 "nbformat": 4,
 "nbformat_minor": 2
}
